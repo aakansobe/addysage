{
  "nbformat": 4,
  "nbformat_minor": 0,
  "metadata": {
    "colab": {
      "provenance": [],
      "include_colab_link": true
    },
    "kernelspec": {
      "name": "python3",
      "display_name": "Python 3"
    },
    "language_info": {
      "name": "python"
    },
    "widgets": {
      "application/vnd.jupyter.widget-state+json": {
        "d143251feb474394a8032ed1958bd402": {
          "model_module": "jupyter-leaflet",
          "model_name": "LeafletMapModel",
          "model_module_version": "^0.18",
          "state": {
            "_dom_classes": [],
            "_model_module": "jupyter-leaflet",
            "_model_module_version": "^0.18",
            "_model_name": "LeafletMapModel",
            "_view_count": null,
            "_view_module": "jupyter-leaflet",
            "_view_module_version": "^0.18",
            "_view_name": "LeafletMapView",
            "bottom": 124644,
            "bounce_at_zoom_limits": true,
            "box_zoom": true,
            "center": [
              9.2,
              -0.2
            ],
            "close_popup_on_click": true,
            "controls": [
              "IPY_MODEL_af8fb0e3f59c41a08e8026a66b2b274f",
              "IPY_MODEL_f2eee3eb2d3d483a81d83f650f8531f1",
              "IPY_MODEL_7c2f5de838fc423880e363481704a3b1",
              "IPY_MODEL_ff1d53ee328840859c1d5cdea735221e",
              "IPY_MODEL_2d53db4dc37844b58d0342a428459b2b",
              "IPY_MODEL_ec0fef46183d41cb88d225f4bb3e6682",
              "IPY_MODEL_ce8878b8b3d84d8ea5e412608be968cc",
              "IPY_MODEL_681860040d7c49b0b93aa16e051e3d0a"
            ],
            "crs": {
              "name": "EPSG3857",
              "custom": false
            },
            "default_style": "IPY_MODEL_629121a322fd4a698ab46f922f9a611b",
            "double_click_zoom": true,
            "dragging": true,
            "dragging_style": "IPY_MODEL_69990d22445e4c868e4b8393f57c99db",
            "east": 0.42846679687500006,
            "fullscreen": false,
            "inertia": true,
            "inertia_deceleration": 3000,
            "inertia_max_speed": 1500,
            "interpolation": "bilinear",
            "keyboard": true,
            "keyboard_pan_offset": 80,
            "keyboard_zoom_offset": 1,
            "layers": [
              "IPY_MODEL_bc168143f4054b70a07d2601c4f8a7f0",
              "IPY_MODEL_06a048f1a0f74efb9d1c829d78e5d200"
            ],
            "layout": "IPY_MODEL_dcd00622aaf4414cbd462038262e6f3e",
            "left": 130468,
            "max_zoom": 24,
            "min_zoom": null,
            "modisdate": "2024-04-17",
            "north": 9.606166114941981,
            "options": [
              "bounce_at_zoom_limits",
              "box_zoom",
              "center",
              "close_popup_on_click",
              "double_click_zoom",
              "dragging",
              "fullscreen",
              "inertia",
              "inertia_deceleration",
              "inertia_max_speed",
              "interpolation",
              "keyboard",
              "keyboard_pan_offset",
              "keyboard_zoom_offset",
              "max_zoom",
              "min_zoom",
              "prefer_canvas",
              "scroll_wheel_zoom",
              "tap",
              "tap_tolerance",
              "touch_zoom",
              "world_copy_jump",
              "zoom",
              "zoom_animation_threshold",
              "zoom_delta",
              "zoom_snap"
            ],
            "panes": {},
            "prefer_canvas": false,
            "right": 131384,
            "scroll_wheel_zoom": true,
            "south": 8.792796892565562,
            "style": "IPY_MODEL_a1accf750e9741fc8f0acc0553b125da",
            "tap": true,
            "tap_tolerance": 15,
            "top": 124044,
            "touch_zoom": true,
            "west": -0.8294677734375001,
            "window_url": "https://rxwn0smaqf-496ff2e9c6d22116-0-colab.googleusercontent.com/outputframe.html?vrz=colab_20240417-060106_RC00_625638038",
            "world_copy_jump": false,
            "zoom": 9.5,
            "zoom_animation_threshold": 4,
            "zoom_delta": 1,
            "zoom_snap": 1
          }
        },
        "af8fb0e3f59c41a08e8026a66b2b274f": {
          "model_module": "jupyter-leaflet",
          "model_name": "LeafletWidgetControlModel",
          "model_module_version": "^0.18",
          "state": {
            "_model_module": "jupyter-leaflet",
            "_model_module_version": "^0.18",
            "_model_name": "LeafletWidgetControlModel",
            "_view_count": null,
            "_view_module": "jupyter-leaflet",
            "_view_module_version": "^0.18",
            "_view_name": "LeafletWidgetControlView",
            "max_height": null,
            "max_width": null,
            "min_height": null,
            "min_width": null,
            "options": [
              "position",
              "transparent_bg"
            ],
            "position": "topleft",
            "transparent_bg": false,
            "widget": "IPY_MODEL_2fba94870aa74fa8a7f9053164f49a27"
          }
        },
        "f2eee3eb2d3d483a81d83f650f8531f1": {
          "model_module": "jupyter-leaflet",
          "model_name": "LeafletZoomControlModel",
          "model_module_version": "^0.18",
          "state": {
            "_model_module": "jupyter-leaflet",
            "_model_module_version": "^0.18",
            "_model_name": "LeafletZoomControlModel",
            "_view_count": null,
            "_view_module": "jupyter-leaflet",
            "_view_module_version": "^0.18",
            "_view_name": "LeafletZoomControlView",
            "options": [
              "position",
              "zoom_in_text",
              "zoom_in_title",
              "zoom_out_text",
              "zoom_out_title"
            ],
            "position": "topleft",
            "zoom_in_text": "+",
            "zoom_in_title": "Zoom in",
            "zoom_out_text": "-",
            "zoom_out_title": "Zoom out"
          }
        },
        "7c2f5de838fc423880e363481704a3b1": {
          "model_module": "jupyter-leaflet",
          "model_name": "LeafletFullScreenControlModel",
          "model_module_version": "^0.18",
          "state": {
            "_model_module": "jupyter-leaflet",
            "_model_module_version": "^0.18",
            "_model_name": "LeafletFullScreenControlModel",
            "_view_count": null,
            "_view_module": "jupyter-leaflet",
            "_view_module_version": "^0.18",
            "_view_name": "LeafletFullScreenControlView",
            "options": [
              "position"
            ],
            "position": "topleft"
          }
        },
        "ff1d53ee328840859c1d5cdea735221e": {
          "model_module": "jupyter-leaflet",
          "model_name": "LeafletDrawControlModel",
          "model_module_version": "^0.18",
          "state": {
            "_model_module": "jupyter-leaflet",
            "_model_module_version": "^0.18",
            "_model_name": "LeafletDrawControlModel",
            "_view_count": null,
            "_view_module": "jupyter-leaflet",
            "_view_module_version": "^0.18",
            "_view_name": "LeafletDrawControlView",
            "circle": {},
            "circlemarker": {},
            "data": [],
            "edit": true,
            "marker": {
              "shapeOptions": {
                "color": "#3388ff"
              }
            },
            "options": [
              "position"
            ],
            "polygon": {
              "shapeOptions": {}
            },
            "polyline": {
              "shapeOptions": {}
            },
            "position": "topleft",
            "rectangle": {
              "shapeOptions": {
                "color": "#3388ff"
              }
            },
            "remove": true
          }
        },
        "2d53db4dc37844b58d0342a428459b2b": {
          "model_module": "jupyter-leaflet",
          "model_name": "LeafletScaleControlModel",
          "model_module_version": "^0.18",
          "state": {
            "_model_module": "jupyter-leaflet",
            "_model_module_version": "^0.18",
            "_model_name": "LeafletScaleControlModel",
            "_view_count": null,
            "_view_module": "jupyter-leaflet",
            "_view_module_version": "^0.18",
            "_view_name": "LeafletScaleControlView",
            "imperial": true,
            "max_width": 100,
            "metric": true,
            "options": [
              "imperial",
              "max_width",
              "metric",
              "position",
              "update_when_idle"
            ],
            "position": "bottomleft",
            "update_when_idle": false
          }
        },
        "ec0fef46183d41cb88d225f4bb3e6682": {
          "model_module": "jupyter-leaflet",
          "model_name": "LeafletMeasureControlModel",
          "model_module_version": "^0.18",
          "state": {
            "_custom_units": {},
            "_model_module": "jupyter-leaflet",
            "_model_module_version": "^0.18",
            "_model_name": "LeafletMeasureControlModel",
            "_view_count": null,
            "_view_module": "jupyter-leaflet",
            "_view_module_version": "^0.18",
            "_view_name": "LeafletMeasureControlView",
            "active_color": "orange",
            "capture_z_index": 10000,
            "completed_color": "#C8F2BE",
            "options": [
              "active_color",
              "capture_z_index",
              "completed_color",
              "popup_options",
              "position",
              "primary_area_unit",
              "primary_length_unit",
              "secondary_area_unit",
              "secondary_length_unit"
            ],
            "popup_options": {
              "className": "leaflet-measure-resultpopup",
              "autoPanPadding": [
                10,
                10
              ]
            },
            "position": "bottomleft",
            "primary_area_unit": "acres",
            "primary_length_unit": "kilometers",
            "secondary_area_unit": null,
            "secondary_length_unit": null
          }
        },
        "ce8878b8b3d84d8ea5e412608be968cc": {
          "model_module": "jupyter-leaflet",
          "model_name": "LeafletWidgetControlModel",
          "model_module_version": "^0.18",
          "state": {
            "_model_module": "jupyter-leaflet",
            "_model_module_version": "^0.18",
            "_model_name": "LeafletWidgetControlModel",
            "_view_count": null,
            "_view_module": "jupyter-leaflet",
            "_view_module_version": "^0.18",
            "_view_name": "LeafletWidgetControlView",
            "max_height": null,
            "max_width": null,
            "min_height": null,
            "min_width": null,
            "options": [
              "position",
              "transparent_bg"
            ],
            "position": "topright",
            "transparent_bg": false,
            "widget": "IPY_MODEL_952f4c5b79c04c1f934f6fd7a0fe5ba9"
          }
        },
        "681860040d7c49b0b93aa16e051e3d0a": {
          "model_module": "jupyter-leaflet",
          "model_name": "LeafletAttributionControlModel",
          "model_module_version": "^0.18",
          "state": {
            "_model_module": "jupyter-leaflet",
            "_model_module_version": "^0.18",
            "_model_name": "LeafletAttributionControlModel",
            "_view_count": null,
            "_view_module": "jupyter-leaflet",
            "_view_module_version": "^0.18",
            "_view_name": "LeafletAttributionControlView",
            "options": [
              "position",
              "prefix"
            ],
            "position": "bottomright",
            "prefix": "ipyleaflet"
          }
        },
        "629121a322fd4a698ab46f922f9a611b": {
          "model_module": "jupyter-leaflet",
          "model_name": "LeafletMapStyleModel",
          "model_module_version": "^0.18",
          "state": {
            "_model_module": "jupyter-leaflet",
            "_model_module_version": "^0.18",
            "_model_name": "LeafletMapStyleModel",
            "_view_count": null,
            "_view_module": "@jupyter-widgets/base",
            "_view_module_version": "1.2.0",
            "_view_name": "StyleView",
            "cursor": "grab"
          }
        },
        "69990d22445e4c868e4b8393f57c99db": {
          "model_module": "jupyter-leaflet",
          "model_name": "LeafletMapStyleModel",
          "model_module_version": "^0.18",
          "state": {
            "_model_module": "jupyter-leaflet",
            "_model_module_version": "^0.18",
            "_model_name": "LeafletMapStyleModel",
            "_view_count": null,
            "_view_module": "@jupyter-widgets/base",
            "_view_module_version": "1.2.0",
            "_view_name": "StyleView",
            "cursor": "move"
          }
        },
        "bc168143f4054b70a07d2601c4f8a7f0": {
          "model_module": "jupyter-leaflet",
          "model_name": "LeafletTileLayerModel",
          "model_module_version": "^0.18",
          "state": {
            "_model_module": "jupyter-leaflet",
            "_model_module_version": "^0.18",
            "_model_name": "LeafletTileLayerModel",
            "_view_count": null,
            "_view_module": "jupyter-leaflet",
            "_view_module_version": "^0.18",
            "_view_name": "LeafletTileLayerView",
            "attribution": "&copy; <a href=\"https://www.openstreetmap.org/copyright\">OpenStreetMap</a> contributors",
            "base": true,
            "bottom": true,
            "bounds": null,
            "detect_retina": false,
            "loading": false,
            "max_native_zoom": null,
            "max_zoom": 19,
            "min_native_zoom": null,
            "min_zoom": 1,
            "name": "OpenStreetMap.Mapnik",
            "no_wrap": false,
            "opacity": 1,
            "options": [
              "attribution",
              "bounds",
              "detect_retina",
              "max_native_zoom",
              "max_zoom",
              "min_native_zoom",
              "min_zoom",
              "no_wrap",
              "tile_size",
              "tms",
              "zoom_offset"
            ],
            "pane": "",
            "popup": null,
            "popup_max_height": null,
            "popup_max_width": 300,
            "popup_min_width": 50,
            "show_loading": false,
            "subitems": [],
            "tile_size": 256,
            "tms": false,
            "url": "https://tile.openstreetmap.org/{z}/{x}/{y}.png",
            "visible": true,
            "zoom_offset": 0
          }
        },
        "06a048f1a0f74efb9d1c829d78e5d200": {
          "model_module": "jupyter-leaflet",
          "model_name": "LeafletTileLayerModel",
          "model_module_version": "^0.18",
          "state": {
            "_model_module": "jupyter-leaflet",
            "_model_module_version": "^0.18",
            "_model_name": "LeafletTileLayerModel",
            "_view_count": null,
            "_view_module": "jupyter-leaflet",
            "_view_module_version": "^0.18",
            "_view_name": "LeafletTileLayerView",
            "attribution": "Google Earth Engine",
            "base": false,
            "bottom": true,
            "bounds": null,
            "detect_retina": false,
            "loading": false,
            "max_native_zoom": null,
            "max_zoom": 24,
            "min_native_zoom": null,
            "min_zoom": 0,
            "name": "My AOI",
            "no_wrap": false,
            "opacity": 1,
            "options": [
              "attribution",
              "bounds",
              "detect_retina",
              "max_native_zoom",
              "max_zoom",
              "min_native_zoom",
              "min_zoom",
              "no_wrap",
              "tile_size",
              "tms",
              "zoom_offset"
            ],
            "pane": "",
            "popup": null,
            "popup_max_height": null,
            "popup_max_width": 300,
            "popup_min_width": 50,
            "show_loading": false,
            "subitems": [],
            "tile_size": 256,
            "tms": false,
            "url": "https://earthengine.googleapis.com/v1/projects/ee-addy/maps/9546141e18743a601e533c9f7a178b20-55ba28482c05c9c9b5b98dfb6157b9fd/tiles/{z}/{x}/{y}",
            "visible": true,
            "zoom_offset": 0
          }
        },
        "dcd00622aaf4414cbd462038262e6f3e": {
          "model_module": "@jupyter-widgets/base",
          "model_name": "LayoutModel",
          "model_module_version": "1.2.0",
          "state": {
            "_model_module": "@jupyter-widgets/base",
            "_model_module_version": "1.2.0",
            "_model_name": "LayoutModel",
            "_view_count": null,
            "_view_module": "@jupyter-widgets/base",
            "_view_module_version": "1.2.0",
            "_view_name": "LayoutView",
            "align_content": null,
            "align_items": null,
            "align_self": null,
            "border": null,
            "bottom": null,
            "display": null,
            "flex": null,
            "flex_flow": null,
            "grid_area": null,
            "grid_auto_columns": null,
            "grid_auto_flow": null,
            "grid_auto_rows": null,
            "grid_column": null,
            "grid_gap": null,
            "grid_row": null,
            "grid_template_areas": null,
            "grid_template_columns": null,
            "grid_template_rows": null,
            "height": "600px",
            "justify_content": null,
            "justify_items": null,
            "left": null,
            "margin": null,
            "max_height": null,
            "max_width": null,
            "min_height": null,
            "min_width": null,
            "object_fit": null,
            "object_position": null,
            "order": null,
            "overflow": null,
            "overflow_x": null,
            "overflow_y": null,
            "padding": null,
            "right": null,
            "top": null,
            "visibility": null,
            "width": null
          }
        },
        "a1accf750e9741fc8f0acc0553b125da": {
          "model_module": "jupyter-leaflet",
          "model_name": "LeafletMapStyleModel",
          "model_module_version": "^0.18",
          "state": {
            "_model_module": "jupyter-leaflet",
            "_model_module_version": "^0.18",
            "_model_name": "LeafletMapStyleModel",
            "_view_count": null,
            "_view_module": "@jupyter-widgets/base",
            "_view_module_version": "1.2.0",
            "_view_name": "StyleView",
            "cursor": "grab"
          }
        },
        "2fba94870aa74fa8a7f9053164f49a27": {
          "model_module": "@jupyter-widgets/controls",
          "model_name": "HBoxModel",
          "model_module_version": "1.5.0",
          "state": {
            "_dom_classes": [
              "geemap-colab"
            ],
            "_model_module": "@jupyter-widgets/controls",
            "_model_module_version": "1.5.0",
            "_model_name": "HBoxModel",
            "_view_count": null,
            "_view_module": "@jupyter-widgets/controls",
            "_view_module_version": "1.5.0",
            "_view_name": "HBoxView",
            "box_style": "",
            "children": [
              "IPY_MODEL_d8a6e2fa3ea44e2490dac58d3a0771eb"
            ],
            "layout": "IPY_MODEL_6c7d468d2de44850889c2583354032af"
          }
        },
        "952f4c5b79c04c1f934f6fd7a0fe5ba9": {
          "model_module": "@jupyter-widgets/controls",
          "model_name": "VBoxModel",
          "model_module_version": "1.5.0",
          "state": {
            "_dom_classes": [
              "geemap-colab"
            ],
            "_model_module": "@jupyter-widgets/controls",
            "_model_module_version": "1.5.0",
            "_model_name": "VBoxModel",
            "_view_count": null,
            "_view_module": "@jupyter-widgets/controls",
            "_view_module_version": "1.5.0",
            "_view_name": "VBoxView",
            "box_style": "",
            "children": [
              "IPY_MODEL_654f8d4bd49448289234cfcd3c779677"
            ],
            "layout": "IPY_MODEL_bf0866f90bf64e2c8175b3ee30543dce"
          }
        },
        "d8a6e2fa3ea44e2490dac58d3a0771eb": {
          "model_module": "@jupyter-widgets/controls",
          "model_name": "ToggleButtonModel",
          "model_module_version": "1.5.0",
          "state": {
            "_dom_classes": [],
            "_model_module": "@jupyter-widgets/controls",
            "_model_module_version": "1.5.0",
            "_model_name": "ToggleButtonModel",
            "_view_count": null,
            "_view_module": "@jupyter-widgets/controls",
            "_view_module_version": "1.5.0",
            "_view_name": "ToggleButtonView",
            "button_style": "",
            "description": "",
            "description_tooltip": null,
            "disabled": false,
            "icon": "globe",
            "layout": "IPY_MODEL_c3425c16d1d94ef68646212b4c1e0df0",
            "style": "IPY_MODEL_8b452f3382a942cd8754317cdc69bb4c",
            "tooltip": "Search location/data",
            "value": false
          }
        },
        "6c7d468d2de44850889c2583354032af": {
          "model_module": "@jupyter-widgets/base",
          "model_name": "LayoutModel",
          "model_module_version": "1.2.0",
          "state": {
            "_model_module": "@jupyter-widgets/base",
            "_model_module_version": "1.2.0",
            "_model_name": "LayoutModel",
            "_view_count": null,
            "_view_module": "@jupyter-widgets/base",
            "_view_module_version": "1.2.0",
            "_view_name": "LayoutView",
            "align_content": null,
            "align_items": null,
            "align_self": null,
            "border": null,
            "bottom": null,
            "display": null,
            "flex": null,
            "flex_flow": null,
            "grid_area": null,
            "grid_auto_columns": null,
            "grid_auto_flow": null,
            "grid_auto_rows": null,
            "grid_column": null,
            "grid_gap": null,
            "grid_row": null,
            "grid_template_areas": null,
            "grid_template_columns": null,
            "grid_template_rows": null,
            "height": null,
            "justify_content": null,
            "justify_items": null,
            "left": null,
            "margin": null,
            "max_height": null,
            "max_width": null,
            "min_height": null,
            "min_width": null,
            "object_fit": null,
            "object_position": null,
            "order": null,
            "overflow": null,
            "overflow_x": null,
            "overflow_y": null,
            "padding": null,
            "right": null,
            "top": null,
            "visibility": null,
            "width": null
          }
        },
        "654f8d4bd49448289234cfcd3c779677": {
          "model_module": "@jupyter-widgets/controls",
          "model_name": "ToggleButtonModel",
          "model_module_version": "1.5.0",
          "state": {
            "_dom_classes": [],
            "_model_module": "@jupyter-widgets/controls",
            "_model_module_version": "1.5.0",
            "_model_name": "ToggleButtonModel",
            "_view_count": null,
            "_view_module": "@jupyter-widgets/controls",
            "_view_module_version": "1.5.0",
            "_view_name": "ToggleButtonView",
            "button_style": "",
            "description": "",
            "description_tooltip": null,
            "disabled": false,
            "icon": "wrench",
            "layout": "IPY_MODEL_957141bc0e2f4e37afb8a98ef0a057db",
            "style": "IPY_MODEL_cfb46fc9d5ed448199103d099b05d240",
            "tooltip": "Toolbar",
            "value": false
          }
        },
        "bf0866f90bf64e2c8175b3ee30543dce": {
          "model_module": "@jupyter-widgets/base",
          "model_name": "LayoutModel",
          "model_module_version": "1.2.0",
          "state": {
            "_model_module": "@jupyter-widgets/base",
            "_model_module_version": "1.2.0",
            "_model_name": "LayoutModel",
            "_view_count": null,
            "_view_module": "@jupyter-widgets/base",
            "_view_module_version": "1.2.0",
            "_view_name": "LayoutView",
            "align_content": null,
            "align_items": null,
            "align_self": null,
            "border": null,
            "bottom": null,
            "display": null,
            "flex": null,
            "flex_flow": null,
            "grid_area": null,
            "grid_auto_columns": null,
            "grid_auto_flow": null,
            "grid_auto_rows": null,
            "grid_column": null,
            "grid_gap": null,
            "grid_row": null,
            "grid_template_areas": null,
            "grid_template_columns": null,
            "grid_template_rows": null,
            "height": null,
            "justify_content": null,
            "justify_items": null,
            "left": null,
            "margin": null,
            "max_height": null,
            "max_width": null,
            "min_height": null,
            "min_width": null,
            "object_fit": null,
            "object_position": null,
            "order": null,
            "overflow": null,
            "overflow_x": null,
            "overflow_y": null,
            "padding": null,
            "right": null,
            "top": null,
            "visibility": null,
            "width": null
          }
        },
        "c3425c16d1d94ef68646212b4c1e0df0": {
          "model_module": "@jupyter-widgets/base",
          "model_name": "LayoutModel",
          "model_module_version": "1.2.0",
          "state": {
            "_model_module": "@jupyter-widgets/base",
            "_model_module_version": "1.2.0",
            "_model_name": "LayoutModel",
            "_view_count": null,
            "_view_module": "@jupyter-widgets/base",
            "_view_module_version": "1.2.0",
            "_view_name": "LayoutView",
            "align_content": null,
            "align_items": null,
            "align_self": null,
            "border": null,
            "bottom": null,
            "display": null,
            "flex": null,
            "flex_flow": null,
            "grid_area": null,
            "grid_auto_columns": null,
            "grid_auto_flow": null,
            "grid_auto_rows": null,
            "grid_column": null,
            "grid_gap": null,
            "grid_row": null,
            "grid_template_areas": null,
            "grid_template_columns": null,
            "grid_template_rows": null,
            "height": "28px",
            "justify_content": null,
            "justify_items": null,
            "left": null,
            "margin": null,
            "max_height": null,
            "max_width": null,
            "min_height": null,
            "min_width": null,
            "object_fit": null,
            "object_position": null,
            "order": null,
            "overflow": null,
            "overflow_x": null,
            "overflow_y": null,
            "padding": "0px 0px 0px 4px",
            "right": null,
            "top": null,
            "visibility": null,
            "width": "28px"
          }
        },
        "8b452f3382a942cd8754317cdc69bb4c": {
          "model_module": "@jupyter-widgets/controls",
          "model_name": "DescriptionStyleModel",
          "model_module_version": "1.5.0",
          "state": {
            "_model_module": "@jupyter-widgets/controls",
            "_model_module_version": "1.5.0",
            "_model_name": "DescriptionStyleModel",
            "_view_count": null,
            "_view_module": "@jupyter-widgets/base",
            "_view_module_version": "1.2.0",
            "_view_name": "StyleView",
            "description_width": ""
          }
        },
        "957141bc0e2f4e37afb8a98ef0a057db": {
          "model_module": "@jupyter-widgets/base",
          "model_name": "LayoutModel",
          "model_module_version": "1.2.0",
          "state": {
            "_model_module": "@jupyter-widgets/base",
            "_model_module_version": "1.2.0",
            "_model_name": "LayoutModel",
            "_view_count": null,
            "_view_module": "@jupyter-widgets/base",
            "_view_module_version": "1.2.0",
            "_view_name": "LayoutView",
            "align_content": null,
            "align_items": null,
            "align_self": null,
            "border": null,
            "bottom": null,
            "display": null,
            "flex": null,
            "flex_flow": null,
            "grid_area": null,
            "grid_auto_columns": null,
            "grid_auto_flow": null,
            "grid_auto_rows": null,
            "grid_column": null,
            "grid_gap": null,
            "grid_row": null,
            "grid_template_areas": null,
            "grid_template_columns": null,
            "grid_template_rows": null,
            "height": "28px",
            "justify_content": null,
            "justify_items": null,
            "left": null,
            "margin": null,
            "max_height": null,
            "max_width": null,
            "min_height": null,
            "min_width": null,
            "object_fit": null,
            "object_position": null,
            "order": null,
            "overflow": null,
            "overflow_x": null,
            "overflow_y": null,
            "padding": "0px 0px 0px 4px",
            "right": null,
            "top": null,
            "visibility": null,
            "width": "28px"
          }
        },
        "cfb46fc9d5ed448199103d099b05d240": {
          "model_module": "@jupyter-widgets/controls",
          "model_name": "DescriptionStyleModel",
          "model_module_version": "1.5.0",
          "state": {
            "_model_module": "@jupyter-widgets/controls",
            "_model_module_version": "1.5.0",
            "_model_name": "DescriptionStyleModel",
            "_view_count": null,
            "_view_module": "@jupyter-widgets/base",
            "_view_module_version": "1.2.0",
            "_view_name": "StyleView",
            "description_width": ""
          }
        },
        "5f8e530f9c70453f8bda9615fae8ace9": {
          "model_module": "jupyter-leaflet",
          "model_name": "LeafletMapModel",
          "model_module_version": "^0.18",
          "state": {
            "_dom_classes": [],
            "_model_module": "jupyter-leaflet",
            "_model_module_version": "^0.18",
            "_model_name": "LeafletMapModel",
            "_view_count": null,
            "_view_module": "jupyter-leaflet",
            "_view_module_version": "^0.18",
            "_view_name": "LeafletMapView",
            "bottom": 248681,
            "bounce_at_zoom_limits": true,
            "box_zoom": true,
            "center": [
              9.407786028104447,
              -0.26535540771279714
            ],
            "close_popup_on_click": true,
            "controls": [
              "IPY_MODEL_7c341dd1de2f4e9e8a72b9ddb4f641a8",
              "IPY_MODEL_e535945e1c764e049eb43f4dd300af5a",
              "IPY_MODEL_a0fdb6157ab84437b13f056d071b2663",
              "IPY_MODEL_ec79d2334fc04b20af5912d4a8338bbe",
              "IPY_MODEL_6e683c4057f94be69cccd049fb479f1a",
              "IPY_MODEL_dd1b6a93df2544349af995241bdd1118",
              "IPY_MODEL_cfa0552287714a4db598fc78e9ae4715",
              "IPY_MODEL_a9d7418274854effa68480faecbdeeaa"
            ],
            "crs": {
              "name": "EPSG3857",
              "custom": false
            },
            "default_style": "IPY_MODEL_9a7d2473341b4c318f221ab3decdfc7d",
            "double_click_zoom": true,
            "dragging": true,
            "dragging_style": "IPY_MODEL_d0e7d39a609a489698c5f388b5029ffd",
            "east": 0.04943847656250001,
            "fullscreen": false,
            "inertia": true,
            "inertia_deceleration": 3000,
            "inertia_max_speed": 1500,
            "interpolation": "bilinear",
            "keyboard": true,
            "keyboard_pan_offset": 80,
            "keyboard_zoom_offset": 1,
            "layers": [
              "IPY_MODEL_a2d57030ccae4d8dbb48de7ba363fcfa",
              "IPY_MODEL_7482a61f3f0140e78ec38b71f23f251c",
              "IPY_MODEL_77d199e50ab843a68987d288ffe1b9eb",
              "IPY_MODEL_0ab9fd7e8b3f48f9b85366647d4386fa",
              "IPY_MODEL_53aacc6263d249a9b6729f718d81959f"
            ],
            "layout": "IPY_MODEL_8bff5c230f9e41a09c9f689eb269a105",
            "left": 261300,
            "max_zoom": 24,
            "min_zoom": null,
            "modisdate": "2024-04-17",
            "north": 9.61090520371976,
            "options": [
              "bounce_at_zoom_limits",
              "box_zoom",
              "center",
              "close_popup_on_click",
              "double_click_zoom",
              "dragging",
              "fullscreen",
              "inertia",
              "inertia_deceleration",
              "inertia_max_speed",
              "interpolation",
              "keyboard",
              "keyboard_pan_offset",
              "keyboard_zoom_offset",
              "max_zoom",
              "min_zoom",
              "prefer_canvas",
              "scroll_wheel_zoom",
              "tap",
              "tap_tolerance",
              "touch_zoom",
              "world_copy_jump",
              "zoom",
              "zoom_animation_threshold",
              "zoom_delta",
              "zoom_snap"
            ],
            "panes": {},
            "prefer_canvas": false,
            "right": 262216,
            "scroll_wheel_zoom": true,
            "south": 9.204459923053262,
            "style": "IPY_MODEL_c8883585f9c448909079313c349e967f",
            "tap": true,
            "tap_tolerance": 15,
            "top": 248081,
            "touch_zoom": true,
            "west": -0.5795288085937501,
            "window_url": "https://rxwn0smaqf-496ff2e9c6d22116-0-colab.googleusercontent.com/outputframe.html?vrz=colab_20240417-060106_RC00_625638038",
            "world_copy_jump": false,
            "zoom": 11,
            "zoom_animation_threshold": 4,
            "zoom_delta": 1,
            "zoom_snap": 1
          }
        },
        "7c341dd1de2f4e9e8a72b9ddb4f641a8": {
          "model_module": "jupyter-leaflet",
          "model_name": "LeafletWidgetControlModel",
          "model_module_version": "^0.18",
          "state": {
            "_model_module": "jupyter-leaflet",
            "_model_module_version": "^0.18",
            "_model_name": "LeafletWidgetControlModel",
            "_view_count": null,
            "_view_module": "jupyter-leaflet",
            "_view_module_version": "^0.18",
            "_view_name": "LeafletWidgetControlView",
            "max_height": null,
            "max_width": null,
            "min_height": null,
            "min_width": null,
            "options": [
              "position",
              "transparent_bg"
            ],
            "position": "topleft",
            "transparent_bg": false,
            "widget": "IPY_MODEL_3afd44edc0e947cbadf33d3be3a8aa23"
          }
        },
        "e535945e1c764e049eb43f4dd300af5a": {
          "model_module": "jupyter-leaflet",
          "model_name": "LeafletZoomControlModel",
          "model_module_version": "^0.18",
          "state": {
            "_model_module": "jupyter-leaflet",
            "_model_module_version": "^0.18",
            "_model_name": "LeafletZoomControlModel",
            "_view_count": null,
            "_view_module": "jupyter-leaflet",
            "_view_module_version": "^0.18",
            "_view_name": "LeafletZoomControlView",
            "options": [
              "position",
              "zoom_in_text",
              "zoom_in_title",
              "zoom_out_text",
              "zoom_out_title"
            ],
            "position": "topleft",
            "zoom_in_text": "+",
            "zoom_in_title": "Zoom in",
            "zoom_out_text": "-",
            "zoom_out_title": "Zoom out"
          }
        },
        "a0fdb6157ab84437b13f056d071b2663": {
          "model_module": "jupyter-leaflet",
          "model_name": "LeafletFullScreenControlModel",
          "model_module_version": "^0.18",
          "state": {
            "_model_module": "jupyter-leaflet",
            "_model_module_version": "^0.18",
            "_model_name": "LeafletFullScreenControlModel",
            "_view_count": null,
            "_view_module": "jupyter-leaflet",
            "_view_module_version": "^0.18",
            "_view_name": "LeafletFullScreenControlView",
            "options": [
              "position"
            ],
            "position": "topleft"
          }
        },
        "ec79d2334fc04b20af5912d4a8338bbe": {
          "model_module": "jupyter-leaflet",
          "model_name": "LeafletDrawControlModel",
          "model_module_version": "^0.18",
          "state": {
            "_model_module": "jupyter-leaflet",
            "_model_module_version": "^0.18",
            "_model_name": "LeafletDrawControlModel",
            "_view_count": null,
            "_view_module": "jupyter-leaflet",
            "_view_module_version": "^0.18",
            "_view_name": "LeafletDrawControlView",
            "circle": {},
            "circlemarker": {},
            "data": [],
            "edit": true,
            "marker": {
              "shapeOptions": {
                "color": "#3388ff"
              }
            },
            "options": [
              "position"
            ],
            "polygon": {
              "shapeOptions": {}
            },
            "polyline": {
              "shapeOptions": {}
            },
            "position": "topleft",
            "rectangle": {
              "shapeOptions": {
                "color": "#3388ff"
              }
            },
            "remove": true
          }
        },
        "6e683c4057f94be69cccd049fb479f1a": {
          "model_module": "jupyter-leaflet",
          "model_name": "LeafletScaleControlModel",
          "model_module_version": "^0.18",
          "state": {
            "_model_module": "jupyter-leaflet",
            "_model_module_version": "^0.18",
            "_model_name": "LeafletScaleControlModel",
            "_view_count": null,
            "_view_module": "jupyter-leaflet",
            "_view_module_version": "^0.18",
            "_view_name": "LeafletScaleControlView",
            "imperial": true,
            "max_width": 100,
            "metric": true,
            "options": [
              "imperial",
              "max_width",
              "metric",
              "position",
              "update_when_idle"
            ],
            "position": "bottomleft",
            "update_when_idle": false
          }
        },
        "dd1b6a93df2544349af995241bdd1118": {
          "model_module": "jupyter-leaflet",
          "model_name": "LeafletMeasureControlModel",
          "model_module_version": "^0.18",
          "state": {
            "_custom_units": {},
            "_model_module": "jupyter-leaflet",
            "_model_module_version": "^0.18",
            "_model_name": "LeafletMeasureControlModel",
            "_view_count": null,
            "_view_module": "jupyter-leaflet",
            "_view_module_version": "^0.18",
            "_view_name": "LeafletMeasureControlView",
            "active_color": "orange",
            "capture_z_index": 10000,
            "completed_color": "#C8F2BE",
            "options": [
              "active_color",
              "capture_z_index",
              "completed_color",
              "popup_options",
              "position",
              "primary_area_unit",
              "primary_length_unit",
              "secondary_area_unit",
              "secondary_length_unit"
            ],
            "popup_options": {
              "className": "leaflet-measure-resultpopup",
              "autoPanPadding": [
                10,
                10
              ]
            },
            "position": "bottomleft",
            "primary_area_unit": "acres",
            "primary_length_unit": "kilometers",
            "secondary_area_unit": null,
            "secondary_length_unit": null
          }
        },
        "cfa0552287714a4db598fc78e9ae4715": {
          "model_module": "jupyter-leaflet",
          "model_name": "LeafletWidgetControlModel",
          "model_module_version": "^0.18",
          "state": {
            "_model_module": "jupyter-leaflet",
            "_model_module_version": "^0.18",
            "_model_name": "LeafletWidgetControlModel",
            "_view_count": null,
            "_view_module": "jupyter-leaflet",
            "_view_module_version": "^0.18",
            "_view_name": "LeafletWidgetControlView",
            "max_height": null,
            "max_width": null,
            "min_height": null,
            "min_width": null,
            "options": [
              "position",
              "transparent_bg"
            ],
            "position": "topright",
            "transparent_bg": false,
            "widget": "IPY_MODEL_93d1a827829f44c49638c2c507452354"
          }
        },
        "a9d7418274854effa68480faecbdeeaa": {
          "model_module": "jupyter-leaflet",
          "model_name": "LeafletAttributionControlModel",
          "model_module_version": "^0.18",
          "state": {
            "_model_module": "jupyter-leaflet",
            "_model_module_version": "^0.18",
            "_model_name": "LeafletAttributionControlModel",
            "_view_count": null,
            "_view_module": "jupyter-leaflet",
            "_view_module_version": "^0.18",
            "_view_name": "LeafletAttributionControlView",
            "options": [
              "position",
              "prefix"
            ],
            "position": "bottomright",
            "prefix": "ipyleaflet"
          }
        },
        "9a7d2473341b4c318f221ab3decdfc7d": {
          "model_module": "jupyter-leaflet",
          "model_name": "LeafletMapStyleModel",
          "model_module_version": "^0.18",
          "state": {
            "_model_module": "jupyter-leaflet",
            "_model_module_version": "^0.18",
            "_model_name": "LeafletMapStyleModel",
            "_view_count": null,
            "_view_module": "@jupyter-widgets/base",
            "_view_module_version": "1.2.0",
            "_view_name": "StyleView",
            "cursor": "grab"
          }
        },
        "d0e7d39a609a489698c5f388b5029ffd": {
          "model_module": "jupyter-leaflet",
          "model_name": "LeafletMapStyleModel",
          "model_module_version": "^0.18",
          "state": {
            "_model_module": "jupyter-leaflet",
            "_model_module_version": "^0.18",
            "_model_name": "LeafletMapStyleModel",
            "_view_count": null,
            "_view_module": "@jupyter-widgets/base",
            "_view_module_version": "1.2.0",
            "_view_name": "StyleView",
            "cursor": "move"
          }
        },
        "a2d57030ccae4d8dbb48de7ba363fcfa": {
          "model_module": "jupyter-leaflet",
          "model_name": "LeafletTileLayerModel",
          "model_module_version": "^0.18",
          "state": {
            "_model_module": "jupyter-leaflet",
            "_model_module_version": "^0.18",
            "_model_name": "LeafletTileLayerModel",
            "_view_count": null,
            "_view_module": "jupyter-leaflet",
            "_view_module_version": "^0.18",
            "_view_name": "LeafletTileLayerView",
            "attribution": "&copy; <a href=\"https://www.openstreetmap.org/copyright\">OpenStreetMap</a> contributors",
            "base": true,
            "bottom": true,
            "bounds": null,
            "detect_retina": false,
            "loading": false,
            "max_native_zoom": null,
            "max_zoom": 19,
            "min_native_zoom": null,
            "min_zoom": 1,
            "name": "OpenStreetMap.Mapnik",
            "no_wrap": false,
            "opacity": 1,
            "options": [
              "attribution",
              "bounds",
              "detect_retina",
              "max_native_zoom",
              "max_zoom",
              "min_native_zoom",
              "min_zoom",
              "no_wrap",
              "tile_size",
              "tms",
              "zoom_offset"
            ],
            "pane": "",
            "popup": null,
            "popup_max_height": null,
            "popup_max_width": 300,
            "popup_min_width": 50,
            "show_loading": false,
            "subitems": [],
            "tile_size": 256,
            "tms": false,
            "url": "https://tile.openstreetmap.org/{z}/{x}/{y}.png",
            "visible": true,
            "zoom_offset": 0
          }
        },
        "7482a61f3f0140e78ec38b71f23f251c": {
          "model_module": "jupyter-leaflet",
          "model_name": "LeafletTileLayerModel",
          "model_module_version": "^0.18",
          "state": {
            "_model_module": "jupyter-leaflet",
            "_model_module_version": "^0.18",
            "_model_name": "LeafletTileLayerModel",
            "_view_count": null,
            "_view_module": "jupyter-leaflet",
            "_view_module_version": "^0.18",
            "_view_name": "LeafletTileLayerView",
            "attribution": "Google Earth Engine",
            "base": false,
            "bottom": true,
            "bounds": null,
            "detect_retina": false,
            "loading": false,
            "max_native_zoom": null,
            "max_zoom": 24,
            "min_native_zoom": null,
            "min_zoom": 0,
            "name": "10th Sentinel 2 image",
            "no_wrap": false,
            "opacity": 1,
            "options": [
              "attribution",
              "bounds",
              "detect_retina",
              "max_native_zoom",
              "max_zoom",
              "min_native_zoom",
              "min_zoom",
              "no_wrap",
              "tile_size",
              "tms",
              "zoom_offset"
            ],
            "pane": "",
            "popup": null,
            "popup_max_height": null,
            "popup_max_width": 300,
            "popup_min_width": 50,
            "show_loading": false,
            "subitems": [],
            "tile_size": 256,
            "tms": false,
            "url": "https://earthengine.googleapis.com/v1/projects/ee-addy/maps/528bae4431972ac4c8da98a1b02d0fcb-4433df3f809906dba116307916587ca8/tiles/{z}/{x}/{y}",
            "visible": true,
            "zoom_offset": 0
          }
        },
        "77d199e50ab843a68987d288ffe1b9eb": {
          "model_module": "jupyter-leaflet",
          "model_name": "LeafletTileLayerModel",
          "model_module_version": "^0.18",
          "state": {
            "_model_module": "jupyter-leaflet",
            "_model_module_version": "^0.18",
            "_model_name": "LeafletTileLayerModel",
            "_view_count": null,
            "_view_module": "jupyter-leaflet",
            "_view_module_version": "^0.18",
            "_view_name": "LeafletTileLayerView",
            "attribution": "Google Earth Engine",
            "base": false,
            "bottom": true,
            "bounds": null,
            "detect_retina": false,
            "loading": false,
            "max_native_zoom": null,
            "max_zoom": 24,
            "min_native_zoom": null,
            "min_zoom": 0,
            "name": "Sentinel-2 Median EVI",
            "no_wrap": false,
            "opacity": 1,
            "options": [
              "attribution",
              "bounds",
              "detect_retina",
              "max_native_zoom",
              "max_zoom",
              "min_native_zoom",
              "min_zoom",
              "no_wrap",
              "tile_size",
              "tms",
              "zoom_offset"
            ],
            "pane": "",
            "popup": null,
            "popup_max_height": null,
            "popup_max_width": 300,
            "popup_min_width": 50,
            "show_loading": false,
            "subitems": [],
            "tile_size": 256,
            "tms": false,
            "url": "https://earthengine.googleapis.com/v1/projects/ee-addy/maps/a3485b209500509bd469e90e96e60c4b-fbd668b86e16ff32f516a53b8d693751/tiles/{z}/{x}/{y}",
            "visible": true,
            "zoom_offset": 0
          }
        },
        "0ab9fd7e8b3f48f9b85366647d4386fa": {
          "model_module": "jupyter-leaflet",
          "model_name": "LeafletTileLayerModel",
          "model_module_version": "^0.18",
          "state": {
            "_model_module": "jupyter-leaflet",
            "_model_module_version": "^0.18",
            "_model_name": "LeafletTileLayerModel",
            "_view_count": null,
            "_view_module": "jupyter-leaflet",
            "_view_module_version": "^0.18",
            "_view_name": "LeafletTileLayerView",
            "attribution": "Google Earth Engine",
            "base": false,
            "bottom": true,
            "bounds": null,
            "detect_retina": false,
            "loading": false,
            "max_native_zoom": null,
            "max_zoom": 24,
            "min_native_zoom": null,
            "min_zoom": 0,
            "name": "Seasonality",
            "no_wrap": false,
            "opacity": 1,
            "options": [
              "attribution",
              "bounds",
              "detect_retina",
              "max_native_zoom",
              "max_zoom",
              "min_native_zoom",
              "min_zoom",
              "no_wrap",
              "tile_size",
              "tms",
              "zoom_offset"
            ],
            "pane": "",
            "popup": null,
            "popup_max_height": null,
            "popup_max_width": 300,
            "popup_min_width": 50,
            "show_loading": false,
            "subitems": [],
            "tile_size": 256,
            "tms": false,
            "url": "https://earthengine.googleapis.com/v1/projects/ee-addy/maps/51f390b3939f0a86a252804d56127e97-6a0b8e2026096e7a8f3c00b4ac2b0df5/tiles/{z}/{x}/{y}",
            "visible": true,
            "zoom_offset": 0
          }
        },
        "53aacc6263d249a9b6729f718d81959f": {
          "model_module": "jupyter-leaflet",
          "model_name": "LeafletTileLayerModel",
          "model_module_version": "^0.18",
          "state": {
            "_model_module": "jupyter-leaflet",
            "_model_module_version": "^0.18",
            "_model_name": "LeafletTileLayerModel",
            "_view_count": null,
            "_view_module": "jupyter-leaflet",
            "_view_module_version": "^0.18",
            "_view_name": "LeafletTileLayerView",
            "attribution": "Google Earth Engine",
            "base": false,
            "bottom": true,
            "bounds": null,
            "detect_retina": false,
            "loading": false,
            "max_native_zoom": null,
            "max_zoom": 24,
            "min_native_zoom": null,
            "min_zoom": 0,
            "name": "My Area of interest",
            "no_wrap": false,
            "opacity": 1,
            "options": [
              "attribution",
              "bounds",
              "detect_retina",
              "max_native_zoom",
              "max_zoom",
              "min_native_zoom",
              "min_zoom",
              "no_wrap",
              "tile_size",
              "tms",
              "zoom_offset"
            ],
            "pane": "",
            "popup": null,
            "popup_max_height": null,
            "popup_max_width": 300,
            "popup_min_width": 50,
            "show_loading": false,
            "subitems": [],
            "tile_size": 256,
            "tms": false,
            "url": "https://earthengine.googleapis.com/v1/projects/ee-addy/maps/7326640c365b06f35a0f1a93628381d3-ebae9fd242544af962583bf8eb31ecb9/tiles/{z}/{x}/{y}",
            "visible": true,
            "zoom_offset": 0
          }
        },
        "8bff5c230f9e41a09c9f689eb269a105": {
          "model_module": "@jupyter-widgets/base",
          "model_name": "LayoutModel",
          "model_module_version": "1.2.0",
          "state": {
            "_model_module": "@jupyter-widgets/base",
            "_model_module_version": "1.2.0",
            "_model_name": "LayoutModel",
            "_view_count": null,
            "_view_module": "@jupyter-widgets/base",
            "_view_module_version": "1.2.0",
            "_view_name": "LayoutView",
            "align_content": null,
            "align_items": null,
            "align_self": null,
            "border": null,
            "bottom": null,
            "display": null,
            "flex": null,
            "flex_flow": null,
            "grid_area": null,
            "grid_auto_columns": null,
            "grid_auto_flow": null,
            "grid_auto_rows": null,
            "grid_column": null,
            "grid_gap": null,
            "grid_row": null,
            "grid_template_areas": null,
            "grid_template_columns": null,
            "grid_template_rows": null,
            "height": "600px",
            "justify_content": null,
            "justify_items": null,
            "left": null,
            "margin": null,
            "max_height": null,
            "max_width": null,
            "min_height": null,
            "min_width": null,
            "object_fit": null,
            "object_position": null,
            "order": null,
            "overflow": null,
            "overflow_x": null,
            "overflow_y": null,
            "padding": null,
            "right": null,
            "top": null,
            "visibility": null,
            "width": null
          }
        },
        "c8883585f9c448909079313c349e967f": {
          "model_module": "jupyter-leaflet",
          "model_name": "LeafletMapStyleModel",
          "model_module_version": "^0.18",
          "state": {
            "_model_module": "jupyter-leaflet",
            "_model_module_version": "^0.18",
            "_model_name": "LeafletMapStyleModel",
            "_view_count": null,
            "_view_module": "@jupyter-widgets/base",
            "_view_module_version": "1.2.0",
            "_view_name": "StyleView",
            "cursor": "grab"
          }
        },
        "3afd44edc0e947cbadf33d3be3a8aa23": {
          "model_module": "@jupyter-widgets/controls",
          "model_name": "HBoxModel",
          "model_module_version": "1.5.0",
          "state": {
            "_dom_classes": [
              "geemap-colab"
            ],
            "_model_module": "@jupyter-widgets/controls",
            "_model_module_version": "1.5.0",
            "_model_name": "HBoxModel",
            "_view_count": null,
            "_view_module": "@jupyter-widgets/controls",
            "_view_module_version": "1.5.0",
            "_view_name": "HBoxView",
            "box_style": "",
            "children": [
              "IPY_MODEL_06b5b35c900e43418792356055190875"
            ],
            "layout": "IPY_MODEL_22d4862e928a41428b2cab77942caa1e"
          }
        },
        "93d1a827829f44c49638c2c507452354": {
          "model_module": "@jupyter-widgets/controls",
          "model_name": "VBoxModel",
          "model_module_version": "1.5.0",
          "state": {
            "_dom_classes": [
              "geemap-colab"
            ],
            "_model_module": "@jupyter-widgets/controls",
            "_model_module_version": "1.5.0",
            "_model_name": "VBoxModel",
            "_view_count": null,
            "_view_module": "@jupyter-widgets/controls",
            "_view_module_version": "1.5.0",
            "_view_name": "VBoxView",
            "box_style": "",
            "children": [
              "IPY_MODEL_8cc0d4538aad415da255f8deb093ca1e"
            ],
            "layout": "IPY_MODEL_a4ed84cc8dea43e1b5c30797c2d07eb0"
          }
        },
        "06b5b35c900e43418792356055190875": {
          "model_module": "@jupyter-widgets/controls",
          "model_name": "ToggleButtonModel",
          "model_module_version": "1.5.0",
          "state": {
            "_dom_classes": [],
            "_model_module": "@jupyter-widgets/controls",
            "_model_module_version": "1.5.0",
            "_model_name": "ToggleButtonModel",
            "_view_count": null,
            "_view_module": "@jupyter-widgets/controls",
            "_view_module_version": "1.5.0",
            "_view_name": "ToggleButtonView",
            "button_style": "",
            "description": "",
            "description_tooltip": null,
            "disabled": false,
            "icon": "globe",
            "layout": "IPY_MODEL_a11c1d75b5ac40099fa133697d842952",
            "style": "IPY_MODEL_6715f257de6f4172a3e425addd4793e8",
            "tooltip": "Search location/data",
            "value": false
          }
        },
        "22d4862e928a41428b2cab77942caa1e": {
          "model_module": "@jupyter-widgets/base",
          "model_name": "LayoutModel",
          "model_module_version": "1.2.0",
          "state": {
            "_model_module": "@jupyter-widgets/base",
            "_model_module_version": "1.2.0",
            "_model_name": "LayoutModel",
            "_view_count": null,
            "_view_module": "@jupyter-widgets/base",
            "_view_module_version": "1.2.0",
            "_view_name": "LayoutView",
            "align_content": null,
            "align_items": null,
            "align_self": null,
            "border": null,
            "bottom": null,
            "display": null,
            "flex": null,
            "flex_flow": null,
            "grid_area": null,
            "grid_auto_columns": null,
            "grid_auto_flow": null,
            "grid_auto_rows": null,
            "grid_column": null,
            "grid_gap": null,
            "grid_row": null,
            "grid_template_areas": null,
            "grid_template_columns": null,
            "grid_template_rows": null,
            "height": null,
            "justify_content": null,
            "justify_items": null,
            "left": null,
            "margin": null,
            "max_height": null,
            "max_width": null,
            "min_height": null,
            "min_width": null,
            "object_fit": null,
            "object_position": null,
            "order": null,
            "overflow": null,
            "overflow_x": null,
            "overflow_y": null,
            "padding": null,
            "right": null,
            "top": null,
            "visibility": null,
            "width": null
          }
        },
        "8cc0d4538aad415da255f8deb093ca1e": {
          "model_module": "@jupyter-widgets/controls",
          "model_name": "ToggleButtonModel",
          "model_module_version": "1.5.0",
          "state": {
            "_dom_classes": [],
            "_model_module": "@jupyter-widgets/controls",
            "_model_module_version": "1.5.0",
            "_model_name": "ToggleButtonModel",
            "_view_count": null,
            "_view_module": "@jupyter-widgets/controls",
            "_view_module_version": "1.5.0",
            "_view_name": "ToggleButtonView",
            "button_style": "",
            "description": "",
            "description_tooltip": null,
            "disabled": false,
            "icon": "wrench",
            "layout": "IPY_MODEL_b21c0f8eccff42728e47389b03a2ab91",
            "style": "IPY_MODEL_8fb6d0a9ed9d4329af16bda802d1d0b5",
            "tooltip": "Toolbar",
            "value": false
          }
        },
        "a4ed84cc8dea43e1b5c30797c2d07eb0": {
          "model_module": "@jupyter-widgets/base",
          "model_name": "LayoutModel",
          "model_module_version": "1.2.0",
          "state": {
            "_model_module": "@jupyter-widgets/base",
            "_model_module_version": "1.2.0",
            "_model_name": "LayoutModel",
            "_view_count": null,
            "_view_module": "@jupyter-widgets/base",
            "_view_module_version": "1.2.0",
            "_view_name": "LayoutView",
            "align_content": null,
            "align_items": null,
            "align_self": null,
            "border": null,
            "bottom": null,
            "display": null,
            "flex": null,
            "flex_flow": null,
            "grid_area": null,
            "grid_auto_columns": null,
            "grid_auto_flow": null,
            "grid_auto_rows": null,
            "grid_column": null,
            "grid_gap": null,
            "grid_row": null,
            "grid_template_areas": null,
            "grid_template_columns": null,
            "grid_template_rows": null,
            "height": null,
            "justify_content": null,
            "justify_items": null,
            "left": null,
            "margin": null,
            "max_height": null,
            "max_width": null,
            "min_height": null,
            "min_width": null,
            "object_fit": null,
            "object_position": null,
            "order": null,
            "overflow": null,
            "overflow_x": null,
            "overflow_y": null,
            "padding": null,
            "right": null,
            "top": null,
            "visibility": null,
            "width": null
          }
        },
        "a11c1d75b5ac40099fa133697d842952": {
          "model_module": "@jupyter-widgets/base",
          "model_name": "LayoutModel",
          "model_module_version": "1.2.0",
          "state": {
            "_model_module": "@jupyter-widgets/base",
            "_model_module_version": "1.2.0",
            "_model_name": "LayoutModel",
            "_view_count": null,
            "_view_module": "@jupyter-widgets/base",
            "_view_module_version": "1.2.0",
            "_view_name": "LayoutView",
            "align_content": null,
            "align_items": null,
            "align_self": null,
            "border": null,
            "bottom": null,
            "display": null,
            "flex": null,
            "flex_flow": null,
            "grid_area": null,
            "grid_auto_columns": null,
            "grid_auto_flow": null,
            "grid_auto_rows": null,
            "grid_column": null,
            "grid_gap": null,
            "grid_row": null,
            "grid_template_areas": null,
            "grid_template_columns": null,
            "grid_template_rows": null,
            "height": "28px",
            "justify_content": null,
            "justify_items": null,
            "left": null,
            "margin": null,
            "max_height": null,
            "max_width": null,
            "min_height": null,
            "min_width": null,
            "object_fit": null,
            "object_position": null,
            "order": null,
            "overflow": null,
            "overflow_x": null,
            "overflow_y": null,
            "padding": "0px 0px 0px 4px",
            "right": null,
            "top": null,
            "visibility": null,
            "width": "28px"
          }
        },
        "6715f257de6f4172a3e425addd4793e8": {
          "model_module": "@jupyter-widgets/controls",
          "model_name": "DescriptionStyleModel",
          "model_module_version": "1.5.0",
          "state": {
            "_model_module": "@jupyter-widgets/controls",
            "_model_module_version": "1.5.0",
            "_model_name": "DescriptionStyleModel",
            "_view_count": null,
            "_view_module": "@jupyter-widgets/base",
            "_view_module_version": "1.2.0",
            "_view_name": "StyleView",
            "description_width": ""
          }
        },
        "b21c0f8eccff42728e47389b03a2ab91": {
          "model_module": "@jupyter-widgets/base",
          "model_name": "LayoutModel",
          "model_module_version": "1.2.0",
          "state": {
            "_model_module": "@jupyter-widgets/base",
            "_model_module_version": "1.2.0",
            "_model_name": "LayoutModel",
            "_view_count": null,
            "_view_module": "@jupyter-widgets/base",
            "_view_module_version": "1.2.0",
            "_view_name": "LayoutView",
            "align_content": null,
            "align_items": null,
            "align_self": null,
            "border": null,
            "bottom": null,
            "display": null,
            "flex": null,
            "flex_flow": null,
            "grid_area": null,
            "grid_auto_columns": null,
            "grid_auto_flow": null,
            "grid_auto_rows": null,
            "grid_column": null,
            "grid_gap": null,
            "grid_row": null,
            "grid_template_areas": null,
            "grid_template_columns": null,
            "grid_template_rows": null,
            "height": "28px",
            "justify_content": null,
            "justify_items": null,
            "left": null,
            "margin": null,
            "max_height": null,
            "max_width": null,
            "min_height": null,
            "min_width": null,
            "object_fit": null,
            "object_position": null,
            "order": null,
            "overflow": null,
            "overflow_x": null,
            "overflow_y": null,
            "padding": "0px 0px 0px 4px",
            "right": null,
            "top": null,
            "visibility": null,
            "width": "28px"
          }
        },
        "8fb6d0a9ed9d4329af16bda802d1d0b5": {
          "model_module": "@jupyter-widgets/controls",
          "model_name": "DescriptionStyleModel",
          "model_module_version": "1.5.0",
          "state": {
            "_model_module": "@jupyter-widgets/controls",
            "_model_module_version": "1.5.0",
            "_model_name": "DescriptionStyleModel",
            "_view_count": null,
            "_view_module": "@jupyter-widgets/base",
            "_view_module_version": "1.2.0",
            "_view_name": "StyleView",
            "description_width": ""
          }
        }
      }
    }
  },
  "cells": [
    {
      "cell_type": "markdown",
      "metadata": {
        "id": "view-in-github",
        "colab_type": "text"
      },
      "source": [
        "<a href=\"https://colab.research.google.com/github/aakansobe/addysage/blob/main/EVI_Time_series_analysis.ipynb\" target=\"_parent\"><img src=\"https://colab.research.google.com/assets/colab-badge.svg\" alt=\"Open In Colab\"/></a>"
      ]
    },
    {
      "cell_type": "markdown",
      "source": [
        "# Time series analysis for area in Northern Ghana\n",
        "\n",
        "Creating Sentinel 2 EVI and sentinel 2 smoothed EVI Time series.\n"
      ],
      "metadata": {
        "id": "ZwXSasQpuWxg"
      }
    },
    {
      "cell_type": "markdown",
      "source": [
        "## Import and authenticate the Earth Engine Python API\n",
        "\n",
        "Along with the [`geemap`](https://geemap.org/) library."
      ],
      "metadata": {
        "id": "OaUz6J-ivL6V"
      }
    },
    {
      "cell_type": "code",
      "source": [
        "import ee\n",
        "import geemap\n",
        "import math\n",
        "import pandas as pd\n",
        "import matplotlib.pyplot as plt\n",
        "import numpy as np\n",
        "from datetime import datetime, timedelta\n",
        "from matplotlib.dates import date2num\n"
      ],
      "metadata": {
        "id": "hBoad3UnFf1f"
      },
      "execution_count": 1,
      "outputs": []
    },
    {
      "cell_type": "code",
      "source": [
        "ee.Authenticate()\n",
        "\n",
        "# Initialize the Earth Engine API with the project name\n",
        "ee.Initialize(project='ee-addy')\n"
      ],
      "metadata": {
        "colab": {
          "base_uri": "https://localhost:8080/",
          "height": 17
        },
        "id": "zy1qz25C_ShQ",
        "outputId": "ba4ed1fe-2a55-4fa3-b560-fd0c8b5293ed"
      },
      "execution_count": 2,
      "outputs": [
        {
          "output_type": "display_data",
          "data": {
            "text/plain": [
              "<IPython.core.display.HTML object>"
            ],
            "text/html": [
              "\n",
              "            <style>\n",
              "                .geemap-dark {\n",
              "                    --jp-widgets-color: white;\n",
              "                    --jp-widgets-label-color: white;\n",
              "                    --jp-ui-font-color1: white;\n",
              "                    --jp-layout-color2: #454545;\n",
              "                    background-color: #383838;\n",
              "                }\n",
              "\n",
              "                .geemap-dark .jupyter-button {\n",
              "                    --jp-layout-color3: #383838;\n",
              "                }\n",
              "\n",
              "                .geemap-colab {\n",
              "                    background-color: var(--colab-primary-surface-color, white);\n",
              "                }\n",
              "\n",
              "                .geemap-colab .jupyter-button {\n",
              "                    --jp-layout-color3: var(--colab-primary-surface-color, white);\n",
              "                }\n",
              "            </style>\n",
              "            "
            ]
          },
          "metadata": {}
        }
      ]
    },
    {
      "cell_type": "markdown",
      "source": [
        "## Crearing Area of Interest (aoi)\n",
        "myaoi"
      ],
      "metadata": {
        "id": "QhXX3ot6lOa8"
      }
    },
    {
      "cell_type": "code",
      "source": [
        "# Create an AOI in northern Ghana (Tamale)\n",
        "myaoi = ee.Geometry.Polygon(\n",
        "    [[[-0.3436329956054607, 9.48094283485201],\n",
        "      [-0.3436329956054607, 9.334622294426413],\n",
        "      [-0.18707781982421068, 9.334622294426413],\n",
        "      [-0.18707781982421068, 9.48094283485201]\n",
        "    ]]\n",
        ")\n",
        "# Create an instance of geemap\n",
        "map = geemap.Map()\n",
        "map.setCenter(-0.2, 9.2, 9.5)\n",
        "map.addLayer(myaoi, {'color': 'red'}, 'My AOI')\n",
        "map"
      ],
      "metadata": {
        "id": "CLzKaSRpGVMY",
        "colab": {
          "base_uri": "https://localhost:8080/",
          "height": 621,
          "referenced_widgets": [
            "d143251feb474394a8032ed1958bd402",
            "af8fb0e3f59c41a08e8026a66b2b274f",
            "f2eee3eb2d3d483a81d83f650f8531f1",
            "7c2f5de838fc423880e363481704a3b1",
            "ff1d53ee328840859c1d5cdea735221e",
            "2d53db4dc37844b58d0342a428459b2b",
            "ec0fef46183d41cb88d225f4bb3e6682",
            "ce8878b8b3d84d8ea5e412608be968cc",
            "681860040d7c49b0b93aa16e051e3d0a",
            "629121a322fd4a698ab46f922f9a611b",
            "69990d22445e4c868e4b8393f57c99db",
            "bc168143f4054b70a07d2601c4f8a7f0",
            "06a048f1a0f74efb9d1c829d78e5d200",
            "dcd00622aaf4414cbd462038262e6f3e",
            "a1accf750e9741fc8f0acc0553b125da",
            "2fba94870aa74fa8a7f9053164f49a27",
            "952f4c5b79c04c1f934f6fd7a0fe5ba9",
            "d8a6e2fa3ea44e2490dac58d3a0771eb",
            "6c7d468d2de44850889c2583354032af",
            "654f8d4bd49448289234cfcd3c779677",
            "bf0866f90bf64e2c8175b3ee30543dce",
            "c3425c16d1d94ef68646212b4c1e0df0",
            "8b452f3382a942cd8754317cdc69bb4c",
            "957141bc0e2f4e37afb8a98ef0a057db",
            "cfb46fc9d5ed448199103d099b05d240"
          ]
        },
        "outputId": "99ed7c52-6cfb-418a-adff-9642699d654b"
      },
      "execution_count": 3,
      "outputs": [
        {
          "output_type": "display_data",
          "data": {
            "text/plain": [
              "<IPython.core.display.HTML object>"
            ],
            "text/html": [
              "\n",
              "            <style>\n",
              "                .geemap-dark {\n",
              "                    --jp-widgets-color: white;\n",
              "                    --jp-widgets-label-color: white;\n",
              "                    --jp-ui-font-color1: white;\n",
              "                    --jp-layout-color2: #454545;\n",
              "                    background-color: #383838;\n",
              "                }\n",
              "\n",
              "                .geemap-dark .jupyter-button {\n",
              "                    --jp-layout-color3: #383838;\n",
              "                }\n",
              "\n",
              "                .geemap-colab {\n",
              "                    background-color: var(--colab-primary-surface-color, white);\n",
              "                }\n",
              "\n",
              "                .geemap-colab .jupyter-button {\n",
              "                    --jp-layout-color3: var(--colab-primary-surface-color, white);\n",
              "                }\n",
              "            </style>\n",
              "            "
            ]
          },
          "metadata": {}
        },
        {
          "output_type": "display_data",
          "data": {
            "text/plain": [
              "Map(center=[9.2, -0.2], controls=(WidgetControl(options=['position', 'transparent_bg'], widget=SearchDataGUI(c…"
            ],
            "application/vnd.jupyter.widget-view+json": {
              "version_major": 2,
              "version_minor": 0,
              "model_id": "d143251feb474394a8032ed1958bd402"
            }
          },
          "metadata": {
            "application/vnd.jupyter.widget-view+json": {
              "colab": {
                "custom_widget_manager": {
                  "url": "https://ssl.gstatic.com/colaboratory-static/widgets/colab-cdn-widget-manager/2b70e893a8ba7c0f/manager.min.js"
                }
              }
            }
          }
        }
      ]
    },
    {
      "cell_type": "markdown",
      "source": [
        "## Functions\n",
        "functions for image collection, evi and harmonics"
      ],
      "metadata": {
        "id": "eUSx-MWq5R7j"
      }
    },
    {
      "cell_type": "code",
      "source": [
        "\n",
        " # Sentinel 2 cloud mask\n",
        "def cloud_mask(image):\n",
        "  qa = image.select('QA60')\n",
        "  return image.updateMask(qa.lt(1))\n",
        "\n",
        "\n",
        "# EVI function\n",
        "def add_evi(image):\n",
        "  # Select the ban used for evi (B8,B4,B2)\n",
        "  nir = image.select('B8')\n",
        "  red = image.select('B4')\n",
        "  blue = image.select('B2')\n",
        "  # calculating EVI .  formaula adaptored from chatgpt\n",
        "  evi = ee.Image(2.5).multiply(\n",
        "        nir.subtract(red).divide(nir.add(red.multiply(6.0)).subtract(blue.multiply(7.5)).add(1.0))\n",
        "    ).rename('EVI')\n",
        "  return image.addBands(evi)\n",
        "\n",
        "\n",
        "# Cropping image to AOI\n",
        "def cropper(image, cropshape=myaoi):\n",
        "  return image.clip(cropshape)\n",
        "\n",
        "\n",
        "# Display a single image from a collection\n",
        "def display_image(collection, index, vis_params, layer_name, map):\n",
        "  collection_list = collection.toList(collection.size())\n",
        "  scene = ee.Image(collection_list.get(index))\n",
        "  return map.addLayer(scene, vis_params, layer_name)\n",
        "\n",
        "\n",
        "#FUNCTIONS FOR HARMONICS\n",
        "# Function to get a sequence of band names for harmonic terms.\n",
        "def construct_band_names(base, list):\n",
        "    return ee.List(list).map(\n",
        "        lambda i: ee.String(base).cat(ee.Number(i).int().format())\n",
        "    )\n",
        "\n",
        "def add_dependents(image, date_string=\"2021-07-01\"):\n",
        "    # Compute time in fractional years since the epoch.\n",
        "    years = image.date().difference(date_string, 'year')\n",
        "    timeRadians = ee.Image(years.multiply(2 * math.pi)).rename('t')\n",
        "    constant = ee.Image(1)\n",
        "    return image.addBands(constant).addBands(timeRadians.float())\n",
        "\n",
        "\n",
        "def add_harmonics(image, freqs):\n",
        "    # Make an image of frequencies\n",
        "    frequencies = ee.Image.constant(freqs)\n",
        "    # This band should represent time in radians\n",
        "    time = ee.Image(image).select('t')\n",
        "    # Get the cosine terms\n",
        "    cosines = time.multiply(frequencies).cos().rename(cos_names)\n",
        "    # Get the sin terms\n",
        "    sines = time.multiply(frequencies).sin().rename(sin_names)\n",
        "    return image.addBands(cosines).addBands(sines)\n"
      ],
      "metadata": {
        "id": "BACODsGt5T9N",
        "colab": {
          "base_uri": "https://localhost:8080/",
          "height": 17
        },
        "outputId": "a5c6c633-99ed-4e51-f4cd-3562b2f7dcb8"
      },
      "execution_count": 4,
      "outputs": [
        {
          "output_type": "display_data",
          "data": {
            "text/plain": [
              "<IPython.core.display.HTML object>"
            ],
            "text/html": [
              "\n",
              "            <style>\n",
              "                .geemap-dark {\n",
              "                    --jp-widgets-color: white;\n",
              "                    --jp-widgets-label-color: white;\n",
              "                    --jp-ui-font-color1: white;\n",
              "                    --jp-layout-color2: #454545;\n",
              "                    background-color: #383838;\n",
              "                }\n",
              "\n",
              "                .geemap-dark .jupyter-button {\n",
              "                    --jp-layout-color3: #383838;\n",
              "                }\n",
              "\n",
              "                .geemap-colab {\n",
              "                    background-color: var(--colab-primary-surface-color, white);\n",
              "                }\n",
              "\n",
              "                .geemap-colab .jupyter-button {\n",
              "                    --jp-layout-color3: var(--colab-primary-surface-color, white);\n",
              "                }\n",
              "            </style>\n",
              "            "
            ]
          },
          "metadata": {}
        }
      ]
    },
    {
      "cell_type": "markdown",
      "source": [
        "## Harmonic variables and inputs"
      ],
      "metadata": {
        "id": "fHV-Q4SBLy_d"
      }
    },
    {
      "cell_type": "code",
      "source": [
        "# The dependent variable we are modeling.\n",
        "dependent = 'EVI'\n",
        "\n",
        "# The number of cycles per year to model.\n",
        "harmonics = 1\n",
        "\n",
        "# Make a list of harmonic frequencies to model.These also serve as band name suffixes.\n",
        "harmonic_frequencies = ee.List.sequence(1, harmonics)\n",
        "\n",
        "# Construct lists of names for the harmonic terms.\n",
        "cos_names = construct_band_names('cos_', harmonic_frequencies)\n",
        "sin_names = construct_band_names('sin_', harmonic_frequencies)\n",
        "\n",
        "# Independent variables.\n",
        "independents = ee.List(['constant', 't'])\\\n",
        "    .cat(cos_names).cat(sin_names)"
      ],
      "metadata": {
        "colab": {
          "base_uri": "https://localhost:8080/",
          "height": 17
        },
        "id": "p9kpCGbwL3PD",
        "outputId": "c13be0d2-e1ea-4388-aeb5-812bea68fb8e"
      },
      "execution_count": 5,
      "outputs": [
        {
          "output_type": "display_data",
          "data": {
            "text/plain": [
              "<IPython.core.display.HTML object>"
            ],
            "text/html": [
              "\n",
              "            <style>\n",
              "                .geemap-dark {\n",
              "                    --jp-widgets-color: white;\n",
              "                    --jp-widgets-label-color: white;\n",
              "                    --jp-ui-font-color1: white;\n",
              "                    --jp-layout-color2: #454545;\n",
              "                    background-color: #383838;\n",
              "                }\n",
              "\n",
              "                .geemap-dark .jupyter-button {\n",
              "                    --jp-layout-color3: #383838;\n",
              "                }\n",
              "\n",
              "                .geemap-colab {\n",
              "                    background-color: var(--colab-primary-surface-color, white);\n",
              "                }\n",
              "\n",
              "                .geemap-colab .jupyter-button {\n",
              "                    --jp-layout-color3: var(--colab-primary-surface-color, white);\n",
              "                }\n",
              "            </style>\n",
              "            "
            ]
          },
          "metadata": {}
        }
      ]
    },
    {
      "cell_type": "markdown",
      "source": [
        "## Filter, mask, ndvi, crop a Sentinel Collection\n",
        "\n",
        "Using the AOI to spatially and temporally filter data."
      ],
      "metadata": {
        "id": "WZquUlL9ntyL"
      }
    },
    {
      "cell_type": "code",
      "source": [
        "# spatial and temporal filtering of sentinel 2 collection\n",
        "s2_filtered = ee.ImageCollection(\"COPERNICUS/S2_SR\")\\\n",
        ".filterBounds(myaoi)\\\n",
        "  .filterDate('2021-07-01', '2021-12-31')\\\n",
        "  .filter(ee.Filter.lt('CLOUDY_PIXEL_PERCENTAGE', 20))\n",
        "\n",
        "# maping the collection with cloud mask, cropped aoi, evi function and others\n",
        "s2_masked =s2_filtered\\\n",
        "  .map(cloud_mask)\\\n",
        "  .map(cropper)\n",
        "\n",
        "s2_EVI = s2_masked\\\n",
        "  .map(add_evi).select('EVI')\\\n",
        "  .map(add_dependents)\\\n",
        "  .map(lambda image: add_harmonics(image, harmonic_frequencies))\n"
      ],
      "metadata": {
        "id": "QMykCFedn_8e",
        "colab": {
          "base_uri": "https://localhost:8080/",
          "height": 17
        },
        "outputId": "ab7b9e7c-5835-464d-b679-56a929bc13e9"
      },
      "execution_count": 6,
      "outputs": [
        {
          "output_type": "display_data",
          "data": {
            "text/plain": [
              "<IPython.core.display.HTML object>"
            ],
            "text/html": [
              "\n",
              "            <style>\n",
              "                .geemap-dark {\n",
              "                    --jp-widgets-color: white;\n",
              "                    --jp-widgets-label-color: white;\n",
              "                    --jp-ui-font-color1: white;\n",
              "                    --jp-layout-color2: #454545;\n",
              "                    background-color: #383838;\n",
              "                }\n",
              "\n",
              "                .geemap-dark .jupyter-button {\n",
              "                    --jp-layout-color3: #383838;\n",
              "                }\n",
              "\n",
              "                .geemap-colab {\n",
              "                    background-color: var(--colab-primary-surface-color, white);\n",
              "                }\n",
              "\n",
              "                .geemap-colab .jupyter-button {\n",
              "                    --jp-layout-color3: var(--colab-primary-surface-color, white);\n",
              "                }\n",
              "            </style>\n",
              "            "
            ]
          },
          "metadata": {}
        }
      ]
    },
    {
      "cell_type": "markdown",
      "source": [
        "## Smoothing function"
      ],
      "metadata": {
        "id": "1SQmwOEMOqvK"
      }
    },
    {
      "cell_type": "code",
      "source": [
        "# Smoothing function # from chatgpt\n",
        "def smooth_evi(image):\n",
        "    date = image.date()\n",
        "    smoothed = (s2_EVI\n",
        "                .filterDate(date.advance(-5, 'day'), date.advance(5, 'day'))\n",
        "                .select('EVI')\n",
        "                .mean()\n",
        "                .rename('smoothed_evi'))\n",
        "    return image.addBands(smoothed)\n",
        "\n",
        "# Map the smoothing function over the s2 EVI time series\n",
        "smoothed_s2_EVI = s2_EVI.map(smooth_evi)\n"
      ],
      "metadata": {
        "colab": {
          "base_uri": "https://localhost:8080/",
          "height": 17
        },
        "id": "0EuCGiFsAqd_",
        "outputId": "94bf6358-da70-45c0-c350-a5f278ef0e53"
      },
      "execution_count": 7,
      "outputs": [
        {
          "output_type": "display_data",
          "data": {
            "text/plain": [
              "<IPython.core.display.HTML object>"
            ],
            "text/html": [
              "\n",
              "            <style>\n",
              "                .geemap-dark {\n",
              "                    --jp-widgets-color: white;\n",
              "                    --jp-widgets-label-color: white;\n",
              "                    --jp-ui-font-color1: white;\n",
              "                    --jp-layout-color2: #454545;\n",
              "                    background-color: #383838;\n",
              "                }\n",
              "\n",
              "                .geemap-dark .jupyter-button {\n",
              "                    --jp-layout-color3: #383838;\n",
              "                }\n",
              "\n",
              "                .geemap-colab {\n",
              "                    background-color: var(--colab-primary-surface-color, white);\n",
              "                }\n",
              "\n",
              "                .geemap-colab .jupyter-button {\n",
              "                    --jp-layout-color3: var(--colab-primary-surface-color, white);\n",
              "                }\n",
              "            </style>\n",
              "            "
            ]
          },
          "metadata": {}
        }
      ]
    },
    {
      "cell_type": "markdown",
      "source": [
        "## Median composites of Sentinel 2 EVI and smoothed EVI series\n",
        "\n"
      ],
      "metadata": {
        "id": "TDq-2KFRvHt8"
      }
    },
    {
      "cell_type": "code",
      "source": [
        "# median composite for s2_EVI\n",
        "s2_EVI_median = s2_EVI.select('EVI').median()\n",
        "\n",
        "# median composite for smoothed s2_EVI\n",
        "smoothed_s2_EVI_median = smoothed_s2_EVI.select('smoothed_evi').median()\n",
        "\n",
        "\n"
      ],
      "metadata": {
        "id": "6PW_hzzCs5Oq",
        "colab": {
          "base_uri": "https://localhost:8080/",
          "height": 17
        },
        "outputId": "c8f38c65-3946-44a8-e17f-903f46fbd796"
      },
      "execution_count": 8,
      "outputs": [
        {
          "output_type": "display_data",
          "data": {
            "text/plain": [
              "<IPython.core.display.HTML object>"
            ],
            "text/html": [
              "\n",
              "            <style>\n",
              "                .geemap-dark {\n",
              "                    --jp-widgets-color: white;\n",
              "                    --jp-widgets-label-color: white;\n",
              "                    --jp-ui-font-color1: white;\n",
              "                    --jp-layout-color2: #454545;\n",
              "                    background-color: #383838;\n",
              "                }\n",
              "\n",
              "                .geemap-dark .jupyter-button {\n",
              "                    --jp-layout-color3: #383838;\n",
              "                }\n",
              "\n",
              "                .geemap-colab {\n",
              "                    background-color: var(--colab-primary-surface-color, white);\n",
              "                }\n",
              "\n",
              "                .geemap-colab .jupyter-button {\n",
              "                    --jp-layout-color3: var(--colab-primary-surface-color, white);\n",
              "                }\n",
              "            </style>\n",
              "            "
            ]
          },
          "metadata": {}
        }
      ]
    },
    {
      "cell_type": "markdown",
      "source": [
        "## Harmonics"
      ],
      "metadata": {
        "id": "xW8fGD_DhXAT"
      }
    },
    {
      "cell_type": "code",
      "source": [
        "# The output of the regression reduction is a 4x1 array image.\n",
        "harmonic_trend = s2_EVI\\\n",
        "    .select(independents.add(dependent))\\\n",
        "    .reduce(ee.Reducer.linearRegression(independents.length(), 1))\n",
        "\n",
        "# Turn the array image into a multi-band image of coefficients.\n",
        "harmonic_trend_coefficients = harmonic_trend\\\n",
        "    .select('coefficients')\\\n",
        "    .arrayProject([0])\\\n",
        "    .arrayFlatten([independents])\n",
        "\n",
        "# Compute fitted values and setting it as band in the image\n",
        "def fit_values(image):\n",
        "  fitted = image.select(independents) \\\n",
        "    .multiply(harmonic_trend_coefficients) \\\n",
        "    .reduce('sum') \\\n",
        "    .rename('fitted')\n",
        "  return image.addBands(fitted)\n",
        "\n",
        "# Map fitted values to s2_EVi\n",
        "fitted_Harmonic_UNSMOOTH = s2_EVI.map(fit_values)\n",
        "\n",
        "# Map fitted values to smoothed s2_EVi\n",
        "fitted_Harmonic_SMOOTH = smoothed_s2_EVI.map(fit_values)\n",
        "\n",
        "################################################\n",
        "# Pull out the three bands to be visualized.\n",
        "sin = harmonic_trend_coefficients.select('sin_1')\n",
        "cos = harmonic_trend_coefficients.select('cos_1')\n",
        "\n",
        "# Do some math to turn the first-order Fourier model into\n",
        "# hue, saturation, and value in the range[0,1].\n",
        "magnitude = cos.hypot(sin).multiply(5)\n",
        "phase = sin.atan2(cos).unitScale(-math.pi, math.pi)\n",
        "val = s2_EVI.select('EVI').reduce('mean')\n",
        "\n",
        "# Turn the HSV data into an RGB image and add it to the map.\n",
        "seasonality = ee.Image.cat(phase, magnitude, val).hsvToRgb()\n"
      ],
      "metadata": {
        "colab": {
          "base_uri": "https://localhost:8080/",
          "height": 17
        },
        "id": "ITKQ-55uhWPq",
        "outputId": "2a1bf8d6-5f29-4886-e47a-fb2c1791e6de"
      },
      "execution_count": 9,
      "outputs": [
        {
          "output_type": "display_data",
          "data": {
            "text/plain": [
              "<IPython.core.display.HTML object>"
            ],
            "text/html": [
              "\n",
              "            <style>\n",
              "                .geemap-dark {\n",
              "                    --jp-widgets-color: white;\n",
              "                    --jp-widgets-label-color: white;\n",
              "                    --jp-ui-font-color1: white;\n",
              "                    --jp-layout-color2: #454545;\n",
              "                    background-color: #383838;\n",
              "                }\n",
              "\n",
              "                .geemap-dark .jupyter-button {\n",
              "                    --jp-layout-color3: #383838;\n",
              "                }\n",
              "\n",
              "                .geemap-colab {\n",
              "                    background-color: var(--colab-primary-surface-color, white);\n",
              "                }\n",
              "\n",
              "                .geemap-colab .jupyter-button {\n",
              "                    --jp-layout-color3: var(--colab-primary-surface-color, white);\n",
              "                }\n",
              "            </style>\n",
              "            "
            ]
          },
          "metadata": {}
        }
      ]
    },
    {
      "cell_type": "markdown",
      "source": [
        "## Funtions to collect values and fitted values for plotting"
      ],
      "metadata": {
        "id": "Af4pR-Nqh9W0"
      }
    },
    {
      "cell_type": "code",
      "source": [
        "#fitted_Harmonic_UNSMOOTH"
      ],
      "metadata": {
        "colab": {
          "base_uri": "https://localhost:8080/",
          "height": 17
        },
        "id": "H3lC9E2Y8nAG",
        "outputId": "1333f172-9cb3-4e91-fbe9-842097457a54"
      },
      "execution_count": 14,
      "outputs": [
        {
          "output_type": "display_data",
          "data": {
            "text/plain": [
              "<IPython.core.display.HTML object>"
            ],
            "text/html": [
              "\n",
              "            <style>\n",
              "                .geemap-dark {\n",
              "                    --jp-widgets-color: white;\n",
              "                    --jp-widgets-label-color: white;\n",
              "                    --jp-ui-font-color1: white;\n",
              "                    --jp-layout-color2: #454545;\n",
              "                    background-color: #383838;\n",
              "                }\n",
              "\n",
              "                .geemap-dark .jupyter-button {\n",
              "                    --jp-layout-color3: #383838;\n",
              "                }\n",
              "\n",
              "                .geemap-colab {\n",
              "                    background-color: var(--colab-primary-surface-color, white);\n",
              "                }\n",
              "\n",
              "                .geemap-colab .jupyter-button {\n",
              "                    --jp-layout-color3: var(--colab-primary-surface-color, white);\n",
              "                }\n",
              "            </style>\n",
              "            "
            ]
          },
          "metadata": {}
        }
      ]
    },
    {
      "cell_type": "code",
      "source": [
        "def reduce_evi(image, geom=myaoi, scale=30):\n",
        "  # evi values\n",
        "    unsmooth_evi = image.reduceRegion(\n",
        "        reducer=ee.Reducer.mean(),\n",
        "        geometry=geom,\n",
        "        scale=scale,\n",
        "        maxPixels=1e8\n",
        "    ).get('EVI')\n",
        "  # fitted values\n",
        "    fitted = image.reduceRegion(\n",
        "        reducer=ee.Reducer.mean(),\n",
        "        geometry=geom,\n",
        "        scale=scale,\n",
        "        maxPixels=1e8\n",
        "    ).get(\"fitted\")\n",
        "    return image.set('date', image.date().format()).set('EVI', unsmooth_evi).set('fitted', fitted)\n",
        "\n",
        "def reduce_smoothevi(image, geom=myaoi, scale=30):\n",
        "    smooth_evi = image.reduceRegion(\n",
        "        reducer=ee.Reducer.mean(),\n",
        "        geometry=geom,\n",
        "        scale=scale,\n",
        "        maxPixels=1e8\n",
        "    ).get('smoothed_evi')\n",
        "    return image.set('date', image.date().format()).set('smoothed_evi', smooth_evi)\n",
        "\n",
        "# fitted harmonics for evi and smooth\n",
        "fH_UNSMOOTH_pt = fitted_Harmonic_UNSMOOTH.select(['EVI', 'fitted'])\\\n",
        "    .map(reduce_evi)\n",
        "\n",
        "fH_SMOOTH_pt = fitted_Harmonic_SMOOTH.select('smoothed_evi')\\\n",
        "    .map(reduce_smoothevi)\n",
        "\n",
        "fH_SMOOTH_pt"
      ],
      "metadata": {
        "colab": {
          "base_uri": "https://localhost:8080/",
          "height": 67
        },
        "id": "JjsPkIsUiB81",
        "outputId": "bde6024b-5282-4478-d5b0-27710fbf73ef"
      },
      "execution_count": 11,
      "outputs": [
        {
          "output_type": "display_data",
          "data": {
            "text/plain": [
              "<IPython.core.display.HTML object>"
            ],
            "text/html": [
              "\n",
              "            <style>\n",
              "                .geemap-dark {\n",
              "                    --jp-widgets-color: white;\n",
              "                    --jp-widgets-label-color: white;\n",
              "                    --jp-ui-font-color1: white;\n",
              "                    --jp-layout-color2: #454545;\n",
              "                    background-color: #383838;\n",
              "                }\n",
              "\n",
              "                .geemap-dark .jupyter-button {\n",
              "                    --jp-layout-color3: #383838;\n",
              "                }\n",
              "\n",
              "                .geemap-colab {\n",
              "                    background-color: var(--colab-primary-surface-color, white);\n",
              "                }\n",
              "\n",
              "                .geemap-colab .jupyter-button {\n",
              "                    --jp-layout-color3: var(--colab-primary-surface-color, white);\n",
              "                }\n",
              "            </style>\n",
              "            "
            ]
          },
          "metadata": {}
        },
        {
          "output_type": "execute_result",
          "data": {
            "text/plain": [
              "<ee.imagecollection.ImageCollection at 0x7d74840b3b20>"
            ],
            "text/html": [
              "<div><style>:root {\n",
              "  --font-color-primary: var(--jp-content-font-color0, rgba(0, 0, 0, 1));\n",
              "  --font-color-secondary: var(--jp-content-font-color2, rgba(0, 0, 0, 0.6));\n",
              "  --font-color-accent: rgba(123, 31, 162, 1);\n",
              "  --border-color: var(--jp-border-color2, #e0e0e0);\n",
              "  --background-color: var(--jp-layout-color0, white);\n",
              "  --background-color-row-even: var(--jp-layout-color1, white);\n",
              "  --background-color-row-odd: var(--jp-layout-color2, #eeeeee);\n",
              "}\n",
              "\n",
              "html[theme=\"dark\"],\n",
              "body[data-theme=\"dark\"],\n",
              "body.vscode-dark {\n",
              "  --font-color-primary: rgba(255, 255, 255, 1);\n",
              "  --font-color-secondary: rgba(255, 255, 255, 0.6);\n",
              "  --font-color-accent: rgb(173, 132, 190);\n",
              "  --border-color: #2e2e2e;\n",
              "  --background-color: #111111;\n",
              "  --background-color-row-even: #111111;\n",
              "  --background-color-row-odd: #313131;\n",
              "}\n",
              "\n",
              ".ee {\n",
              "  padding: 1em;\n",
              "  line-height: 1.5em;\n",
              "  min-width: 300px;\n",
              "  max-width: 1200px;\n",
              "  overflow-y: scroll;\n",
              "  max-height: 600px;\n",
              "  border: 1px solid var(--border-color);\n",
              "  font-family: monospace;\n",
              "}\n",
              "\n",
              ".ee li {\n",
              "  list-style-type: none;\n",
              "}\n",
              "\n",
              ".ee ul {\n",
              "  padding-left: 1.5em !important;\n",
              "  margin: 0;\n",
              "}\n",
              "\n",
              ".ee > ul {\n",
              "  padding-left: 0 !important;\n",
              "}\n",
              "\n",
              ".ee-open,\n",
              ".ee-shut {\n",
              "  color: var(--font-color-secondary);\n",
              "  cursor: pointer;\n",
              "  margin: 0;\n",
              "}\n",
              "\n",
              ".ee-open:hover,\n",
              ".ee-shut:hover {\n",
              "  color: var(--font-color-primary);\n",
              "}\n",
              "\n",
              ".ee-k {\n",
              "  color: var(--font-color-accent);\n",
              "  margin-right: 6px;\n",
              "}\n",
              "\n",
              ".ee-v {\n",
              "  color: var(--font-color-primary);\n",
              "}\n",
              "\n",
              ".ee-toggle {\n",
              "  display: none;\n",
              "}\n",
              "\n",
              ".ee-shut + ul {\n",
              "  display: none;\n",
              "}\n",
              "\n",
              ".ee-open + ul {\n",
              "  display: block;\n",
              "}\n",
              "\n",
              ".ee-shut::before {\n",
              "  display: inline-block;\n",
              "  content: \"▼\";\n",
              "  margin-right: 6px;\n",
              "  transform: rotate(-90deg);\n",
              "  transition: transform 0.2s;\n",
              "}\n",
              "\n",
              ".ee-open::before {\n",
              "  transform: rotate(0deg);\n",
              "  display: inline-block;\n",
              "  content: \"▼\";\n",
              "  margin-right: 6px;\n",
              "  transition: transform 0.2s;\n",
              "}\n",
              "</style><div class='ee'><ul><li><label class='ee-shut'>ImageCollection COPERNICUS/S2_SR  (20 elements)<input type='checkbox' class='ee-toggle'></label><ul><li><span class='ee-k'>type:</span><span class='ee-v'>ImageCollection</span></li><li><span class='ee-k'>id:</span><span class='ee-v'>COPERNICUS/S2_SR</span></li><li><span class='ee-k'>version:</span><span class='ee-v'>1713471918742329</span></li><li><label class='ee-shut'>bands: []<input type='checkbox' class='ee-toggle'></label><ul></ul></li><li><label class='ee-shut'>properties: Object (21 properties)<input type='checkbox' class='ee-toggle'></label><ul><li><label class='ee-shut'>date_range: [1490659200000, 1647907200000]<input type='checkbox' class='ee-toggle'></label><ul><li><span class='ee-k'>0:</span><span class='ee-v'>1490659200000</span></li><li><span class='ee-k'>1:</span><span class='ee-v'>1647907200000</span></li></ul></li><li><span class='ee-k'>description:</span><span class='ee-v'><p>Sentinel-2 is a wide-swath, high-resolution, multi-spectral\n",
              "imaging mission supporting Copernicus Land Monitoring studies,\n",
              "including the monitoring of vegetation, soil and water cover,\n",
              "as well as observation of inland waterways and coastal areas.</p><p>The Sentinel-2 L2 data are downloaded from scihub. They were\n",
              "computed by running sen2cor. WARNING: ESA did not produce L2 data\n",
              "for all L1 assets, and earlier L2 coverage is not global.</p><p>The assets contain\n",
              "12 UINT16 spectral bands representing SR scaled by 10000 (unlike in L1 data,\n",
              "there is no B10). There are also several more L2-specific bands (see band\n",
              "list for details). See the\n",
              "<a href=\"https://sentinel.esa.int/documents/247904/685211/Sentinel-2_User_Handbook\">Sentinel-2 User Handbook</a>\n",
              "for details. In addition, three QA bands are present where one\n",
              "(QA60) is a bitmask band with cloud mask information. For more\n",
              "details, <a href=\"https://sentinel.esa.int/web/sentinel/technical-guides/sentinel-2-msi/level-1c/cloud-masks\">see the full explanation of how cloud masks are computed.</a></p><p>EE asset ids for Sentinel-2 L2 assets have the following format:\n",
              "COPERNICUS/S2_SR/20151128T002653_20151128T102149_T56MNN. Here the\n",
              "first numeric part represents the sensing date and time, the\n",
              "second numeric part represents the product generation date and\n",
              "time, and the final 6-character string is a unique granule identifier\n",
              "indicating its UTM grid reference (see <a href=\"https://en.wikipedia.org/wiki/Military_Grid_Reference_System\">MGRS</a>).</p><p>Clouds can be removed by using\n",
              "<a href=\"COPERNICUS_S2_CLOUD_PROBABILITY\">COPERNICUS/S2_CLOUD_PROBABILITY</a>.\n",
              "See\n",
              "<a href=\"https://developers.google.com/earth-engine/tutorials/community/sentinel-2-s2cloudless\">this tutorial</a>\n",
              "explaining how to apply the cloud mask.</p><p>For more details on Sentinel-2 radiometric resolution, <a href=\"https://earth.esa.int/web/sentinel/user-guides/sentinel-2-msi/resolutions/radiometric\">see this page</a>.</p><p><b>Provider: <a href=\"https://earth.esa.int/web/sentinel/user-guides/sentinel-2-msi/product-types/level-2a\">European Union/ESA/Copernicus</a></b><br><p><b>Revisit Interval</b><br>\n",
              "  5 days\n",
              "</p><p><b>Bands</b><table class=\"eecat\"><tr><th scope=\"col\">Name</th><th scope=\"col\">Description</th></tr><tr><td>B1</td><td><p>Aerosols</p></td></tr><tr><td>B2</td><td><p>Blue</p></td></tr><tr><td>B3</td><td><p>Green</p></td></tr><tr><td>B4</td><td><p>Red</p></td></tr><tr><td>B5</td><td><p>Red Edge 1</p></td></tr><tr><td>B6</td><td><p>Red Edge 2</p></td></tr><tr><td>B7</td><td><p>Red Edge 3</p></td></tr><tr><td>B8</td><td><p>NIR</p></td></tr><tr><td>B8A</td><td><p>Red Edge 4</p></td></tr><tr><td>B9</td><td><p>Water vapor</p></td></tr><tr><td>B11</td><td><p>SWIR 1</p></td></tr><tr><td>B12</td><td><p>SWIR 2</p></td></tr><tr><td>AOT</td><td><p>Aerosol Optical Thickness</p></td></tr><tr><td>WVP</td><td><p>Water Vapor Pressure. The height the water would occupy if the vapor were condensed into\n",
              "liquid and spread evenly across the column.</p></td></tr><tr><td>SCL</td><td><p>Scene Classification Map (The &quot;No Data&quot; value of 0 is masked out)</p></td></tr><tr><td>TCI_R</td><td><p>True Color Image, Red channel</p></td></tr><tr><td>TCI_G</td><td><p>True Color Image, Green channel</p></td></tr><tr><td>TCI_B</td><td><p>True Color Image, Blue channel</p></td></tr><tr><td>MSK_CLDPRB</td><td><p>Cloud Probability Map (missing in some products)</p></td></tr><tr><td>MSK_SNWPRB</td><td><p>Snow Probability Map (missing in some products)</p></td></tr><tr><td>QA10</td><td><p>Always empty</p></td></tr><tr><td>QA20</td><td><p>Always empty</p></td></tr><tr><td>QA60</td><td><p>Cloud mask</p></td></tr><tr><td colspan=100>\n",
              "      Bitmask for QA60\n",
              "<ul><li>\n",
              "          Bit 10: Opaque clouds\n",
              "<ul><li>0: No opaque clouds</li><li>1: Opaque clouds present</li></ul></li><li>\n",
              "          Bit 11: Cirrus clouds\n",
              "<ul><li>0: No cirrus clouds</li><li>1: Cirrus clouds present</li></ul></li></ul></td></tr></table><p><b>Image Properties</b><table class=\"eecat\"><tr><th scope=\"col\">Name</th><th scope=\"col\">Type</th><th scope=\"col\">Description</th></tr><tr><td>AOT_RETRIEVAL_ACCURACY</td><td>DOUBLE</td><td><p>Accuracy of Aerosol Optical thickness model</p></td></tr><tr><td>CLOUDY_PIXEL_PERCENTAGE</td><td>DOUBLE</td><td><p>Granule-specific cloudy pixel percentage taken from the original metadata</p></td></tr><tr><td>CLOUD_COVERAGE_ASSESSMENT</td><td>DOUBLE</td><td><p>Cloudy pixel percentage for the whole archive that\n",
              "contains this granule. Taken from the original metadata</p></td></tr><tr><td>CLOUDY_SHADOW_PERCENTAGE</td><td>DOUBLE</td><td><p>Percentage of pixels classified as cloud shadow</p></td></tr><tr><td>DARK_FEATURES_PERCENTAGE</td><td>DOUBLE</td><td><p>Percentage of pixels classified as dark features or shadows</p></td></tr><tr><td>DATASTRIP_ID</td><td>STRING</td><td><p>Unique identifier of the datastrip Product Data Item (PDI)</p></td></tr><tr><td>DATATAKE_IDENTIFIER</td><td>STRING</td><td><p>Uniquely identifies a given Datatake. The ID contains\n",
              "the Sentinel-2 satellite, start date and time, absolute orbit\n",
              "number, and processing baseline.</p></td></tr><tr><td>DATATAKE_TYPE</td><td>STRING</td><td><p>MSI operation mode</p></td></tr><tr><td>DEGRADED_MSI_DATA_PERCENTAGE</td><td>DOUBLE</td><td><p>Percentage of degraded MSI and ancillary data</p></td></tr><tr><td>FORMAT_CORRECTNESS</td><td>STRING</td><td><p>Synthesis of the On-Line Quality Control (OLQC) checks\n",
              "performed at granule (Product_Syntax) and datastrip (Product\n",
              "Syntax and DS_Consistency) levels</p></td></tr><tr><td>GENERAL_QUALITY</td><td>STRING</td><td><p>Synthesis of the OLQC checks performed at the datastrip level (Relative_Orbit_Number)</p></td></tr><tr><td>GENERATION_TIME</td><td>DOUBLE</td><td><p>Product generation time</p></td></tr><tr><td>GEOMETRIC_QUALITY</td><td>STRING</td><td><p>Synthesis of the OLQC checks performed at the datastrip level (Attitude_Quality_Indicator)</p></td></tr><tr><td>GRANULE_ID</td><td>STRING</td><td><p>Unique identifier of the granule PDI (PDI_ID)</p></td></tr><tr><td>HIGH_PROBA_CLOUDS_PERCENTAGE</td><td>DOUBLE</td><td><p>Percentage of pixels classified as high probability clouds</p></td></tr><tr><td>MEAN_INCIDENCE_AZIMUTH_ANGLE_B1</td><td>DOUBLE</td><td><p>Mean value containing viewing incidence azimuth angle average for band B1 and for all detectors</p></td></tr><tr><td>MEAN_INCIDENCE_AZIMUTH_ANGLE_B2</td><td>DOUBLE</td><td><p>Mean value containing viewing incidence azimuth angle average for band B2 and for all detectors</p></td></tr><tr><td>MEAN_INCIDENCE_AZIMUTH_ANGLE_B3</td><td>DOUBLE</td><td><p>Mean value containing viewing incidence azimuth angle average for band B3 and for all detectors</p></td></tr><tr><td>MEAN_INCIDENCE_AZIMUTH_ANGLE_B4</td><td>DOUBLE</td><td><p>Mean value containing viewing incidence azimuth angle average for band B4 and for all detectors</p></td></tr><tr><td>MEAN_INCIDENCE_AZIMUTH_ANGLE_B5</td><td>DOUBLE</td><td><p>Mean value containing viewing incidence azimuth angle average for band B5 and for all detectors</p></td></tr><tr><td>MEAN_INCIDENCE_AZIMUTH_ANGLE_B6</td><td>DOUBLE</td><td><p>Mean value containing viewing incidence azimuth angle average for band B6 and for all detectors</p></td></tr><tr><td>MEAN_INCIDENCE_AZIMUTH_ANGLE_B7</td><td>DOUBLE</td><td><p>Mean value containing viewing incidence azimuth angle average for band B7 and for all detectors</p></td></tr><tr><td>MEAN_INCIDENCE_AZIMUTH_ANGLE_B8</td><td>DOUBLE</td><td><p>Mean value containing viewing incidence azimuth angle average for band B8 and for all detectors</p></td></tr><tr><td>MEAN_INCIDENCE_AZIMUTH_ANGLE_B8A</td><td>DOUBLE</td><td><p>Mean value containing viewing incidence azimuth angle average for band B8a and for all detectors</p></td></tr><tr><td>MEAN_INCIDENCE_AZIMUTH_ANGLE_B9</td><td>DOUBLE</td><td><p>Mean value containing viewing incidence azimuth angle average for band B9 and for all detectors</p></td></tr><tr><td>MEAN_INCIDENCE_AZIMUTH_ANGLE_B10</td><td>DOUBLE</td><td><p>Mean value containing viewing incidence azimuth angle average for band B10 and for all detectors</p></td></tr><tr><td>MEAN_INCIDENCE_AZIMUTH_ANGLE_B11</td><td>DOUBLE</td><td><p>Mean value containing viewing incidence azimuth angle average for band B11 and for all detectors</p></td></tr><tr><td>MEAN_INCIDENCE_AZIMUTH_ANGLE_B12</td><td>DOUBLE</td><td><p>Mean value containing viewing incidence azimuth angle average for band B12 and for all detectors</p></td></tr><tr><td>MEAN_INCIDENCE_ZENITH_ANGLE_B1</td><td>DOUBLE</td><td><p>Mean value containing viewing incidence zenith angle average for band B1 and for all detectors</p></td></tr><tr><td>MEAN_INCIDENCE_ZENITH_ANGLE_B2</td><td>DOUBLE</td><td><p>Mean value containing viewing incidence zenith angle average for band B2 and for all detectors</p></td></tr><tr><td>MEAN_INCIDENCE_ZENITH_ANGLE_B3</td><td>DOUBLE</td><td><p>Mean value containing viewing incidence zenith angle average for band B3 and for all detectors</p></td></tr><tr><td>MEAN_INCIDENCE_ZENITH_ANGLE_B4</td><td>DOUBLE</td><td><p>Mean value containing viewing incidence zenith angle average for band B4 and for all detectors</p></td></tr><tr><td>MEAN_INCIDENCE_ZENITH_ANGLE_B5</td><td>DOUBLE</td><td><p>Mean value containing viewing incidence zenith angle average for band B5 and for all detectors</p></td></tr><tr><td>MEAN_INCIDENCE_ZENITH_ANGLE_B6</td><td>DOUBLE</td><td><p>Mean value containing viewing incidence zenith angle average for band B6 and for all detectors</p></td></tr><tr><td>MEAN_INCIDENCE_ZENITH_ANGLE_B7</td><td>DOUBLE</td><td><p>Mean value containing viewing incidence zenith angle average for band B7 and for all detectors</p></td></tr><tr><td>MEAN_INCIDENCE_ZENITH_ANGLE_B8</td><td>DOUBLE</td><td><p>Mean value containing viewing incidence zenith angle average for band B8 and for all detectors</p></td></tr><tr><td>MEAN_INCIDENCE_ZENITH_ANGLE_B8A</td><td>DOUBLE</td><td><p>Mean value containing viewing incidence zenith angle average for band B8a and for all detectors</p></td></tr><tr><td>MEAN_INCIDENCE_ZENITH_ANGLE_B9</td><td>DOUBLE</td><td><p>Mean value containing viewing incidence zenith angle average for band B9 and for all detectors</p></td></tr><tr><td>MEAN_INCIDENCE_ZENITH_ANGLE_B10</td><td>DOUBLE</td><td><p>Mean value containing viewing incidence zenith angle average for band B10 and for all detectors</p></td></tr><tr><td>MEAN_INCIDENCE_ZENITH_ANGLE_B11</td><td>DOUBLE</td><td><p>Mean value containing viewing incidence zenith angle average for band B11 and for all detectors</p></td></tr><tr><td>MEAN_INCIDENCE_ZENITH_ANGLE_B12</td><td>DOUBLE</td><td><p>Mean value containing viewing incidence zenith angle average for band B12 and for all detectors</p></td></tr><tr><td>MEAN_SOLAR_AZIMUTH_ANGLE</td><td>DOUBLE</td><td><p>Mean value containing sun azimuth angle average for all bands and detectors</p></td></tr><tr><td>MEAN_SOLAR_ZENITH_ANGLE</td><td>DOUBLE</td><td><p>Mean value containing sun zenith angle average for all bands and detectors</p></td></tr><tr><td>MEDIUM_PROBA_CLOUDS_PERCENTAGE</td><td>DOUBLE</td><td><p>Percentage of pixels classified as medium probability clouds</p></td></tr><tr><td>MGRS_TILE</td><td>STRING</td><td><p>US-Military Grid Reference System (MGRS) tile</p></td></tr><tr><td>NODATA_PIXEL_PERCENTAGE</td><td>DOUBLE</td><td><p>Percentage of No Data pixels</p></td></tr><tr><td>NOT_VEGETATED_PERCENTAGE</td><td>DOUBLE</td><td><p>Percentage of pixels classified as non-vegetated</p></td></tr><tr><td>PROCESSING_BASELINE</td><td>STRING</td><td><p>Configuration baseline used at the time of the product\n",
              "generation in terms of processor software version and major Ground\n",
              "Image Processing Parameters (GIPP) version</p></td></tr><tr><td>PRODUCT_ID</td><td>STRING</td><td><p>The full id of the original Sentinel-2 product</p></td></tr><tr><td>RADIATIVE_TRANSFER_ACCURACY</td><td>DOUBLE</td><td><p>Accuracy of radiative transfer model</p></td></tr><tr><td>RADIOMETRIC_QUALITY</td><td>STRING</td><td><p>Based on the OLQC reports contained in the Datastrips/QI_DATA with RADIOMETRIC_QUALITY checklist name</p></td></tr><tr><td>REFLECTANCE_CONVERSION_CORRECTION</td><td>DOUBLE</td><td><p>Earth-Sun distance correction factor</p></td></tr><tr><td>SATURATED_DEFECTIVE_PIXEL_PERCENTAGE</td><td>DOUBLE</td><td><p>Percentage of saturated or defective pixels</p></td></tr><tr><td>SENSING_ORBIT_DIRECTION</td><td>STRING</td><td><p>Imaging orbit direction</p></td></tr><tr><td>SENSING_ORBIT_NUMBER</td><td>DOUBLE</td><td><p>Imaging orbit number</p></td></tr><tr><td>SENSOR_QUALITY</td><td>STRING</td><td><p>Synthesis of the OLQC checks performed at granule\n",
              "(Missing_Lines, Corrupted_ISP, and Sensing_Time) and datastrip\n",
              "(Degraded_SAD and Datation_Model) levels</p></td></tr><tr><td>SOLAR_IRRADIANCE_B1</td><td>DOUBLE</td><td><p>Mean solar exoatmospheric irradiance for band B1</p></td></tr><tr><td>SOLAR_IRRADIANCE_B2</td><td>DOUBLE</td><td><p>Mean solar exoatmospheric irradiance for band B2</p></td></tr><tr><td>SOLAR_IRRADIANCE_B3</td><td>DOUBLE</td><td><p>Mean solar exoatmospheric irradiance for band B3</p></td></tr><tr><td>SOLAR_IRRADIANCE_B4</td><td>DOUBLE</td><td><p>Mean solar exoatmospheric irradiance for band B4</p></td></tr><tr><td>SOLAR_IRRADIANCE_B5</td><td>DOUBLE</td><td><p>Mean solar exoatmospheric irradiance for band B5</p></td></tr><tr><td>SOLAR_IRRADIANCE_B6</td><td>DOUBLE</td><td><p>Mean solar exoatmospheric irradiance for band B6</p></td></tr><tr><td>SOLAR_IRRADIANCE_B7</td><td>DOUBLE</td><td><p>Mean solar exoatmospheric irradiance for band B7</p></td></tr><tr><td>SOLAR_IRRADIANCE_B8</td><td>DOUBLE</td><td><p>Mean solar exoatmospheric irradiance for band B8</p></td></tr><tr><td>SOLAR_IRRADIANCE_B8A</td><td>DOUBLE</td><td><p>Mean solar exoatmospheric irradiance for band B8a</p></td></tr><tr><td>SOLAR_IRRADIANCE_B9</td><td>DOUBLE</td><td><p>Mean solar exoatmospheric irradiance for band B9</p></td></tr><tr><td>SOLAR_IRRADIANCE_B10</td><td>DOUBLE</td><td><p>Mean solar exoatmospheric irradiance for band B10</p></td></tr><tr><td>SOLAR_IRRADIANCE_B11</td><td>DOUBLE</td><td><p>Mean solar exoatmospheric irradiance for band B11</p></td></tr><tr><td>SOLAR_IRRADIANCE_B12</td><td>DOUBLE</td><td><p>Mean solar exoatmospheric irradiance for band B12</p></td></tr><tr><td>SNOW_ICE_PERCENTAGE</td><td>DOUBLE</td><td><p>Percentage of pixels classified as snow or ice</p></td></tr><tr><td>SPACECRAFT_NAME</td><td>STRING</td><td><p>Sentinel-2 spacecraft name: Sentinel-2A, Sentinel-2B</p></td></tr><tr><td>THIN_CIRRUS_PERCENTAGE</td><td>DOUBLE</td><td><p>Percentage of pixels classified as thin cirrus clouds</p></td></tr><tr><td>UNCLASSIFIED_PERCENTAGE</td><td>DOUBLE</td><td><p>Percentage of unclassified pixels</p></td></tr><tr><td>VEGETATION_PERCENTAGE</td><td>DOUBLE</td><td><p>Percentage of pixels classified as vegetation</p></td></tr><tr><td>WATER_PERCENTAGE</td><td>DOUBLE</td><td><p>Percentage of pixels classified as water</p></td></tr><tr><td>WATER_VAPOUR_RETRIEVAL_ACCURACY</td><td>DOUBLE</td><td><p>Declared accuracy of the Water Vapor model</p></td></tr></table><p><b>Terms of Use</b><br><p>The use of Sentinel data is governed by the <a href=\"https://scihub.copernicus.eu/twiki/pub/SciHubWebPortal/TermsConditions/Sentinel_Data_Terms_and_Conditions.pdf\">Copernicus\n",
              "Sentinel Data Terms and Conditions.</a></p><style>\n",
              "  table.eecat {\n",
              "  border: 1px solid black;\n",
              "  border-collapse: collapse;\n",
              "  font-size: 13px;\n",
              "  }\n",
              "  table.eecat td, tr, th {\n",
              "  text-align: left; vertical-align: top;\n",
              "  border: 1px solid gray; padding: 3px;\n",
              "  }\n",
              "  td.nobreak { white-space: nowrap; }\n",
              "</style></span></li><li><label class='ee-shut'>keywords: List (7 elements)<input type='checkbox' class='ee-toggle'></label><ul><li><span class='ee-k'>0:</span><span class='ee-v'>copernicus</span></li><li><span class='ee-k'>1:</span><span class='ee-v'>esa</span></li><li><span class='ee-k'>2:</span><span class='ee-v'>eu</span></li><li><span class='ee-k'>3:</span><span class='ee-v'>msi</span></li><li><span class='ee-k'>4:</span><span class='ee-v'>reflectance</span></li><li><span class='ee-k'>5:</span><span class='ee-v'>sentinel</span></li><li><span class='ee-k'>6:</span><span class='ee-v'>sr</span></li></ul></li><li><span class='ee-k'>period:</span><span class='ee-v'>0</span></li><li><label class='ee-shut'>product_tags: ['msi', 'sr', 'reflectance']<input type='checkbox' class='ee-toggle'></label><ul><li><span class='ee-k'>0:</span><span class='ee-v'>msi</span></li><li><span class='ee-k'>1:</span><span class='ee-v'>sr</span></li><li><span class='ee-k'>2:</span><span class='ee-v'>reflectance</span></li></ul></li><li><span class='ee-k'>provider:</span><span class='ee-v'>European Union/ESA/Copernicus</span></li><li><span class='ee-k'>provider_url:</span><span class='ee-v'>https://earth.esa.int/web/sentinel/user-guides/sentinel-2-msi/product-types/level-2a</span></li><li><span class='ee-k'>sample:</span><span class='ee-v'>https://mw1.google.com/ges/dd/images/COPERNICUS_S2_SR_sample.png</span></li><li><label class='ee-shut'>source_tags: ['eu', 'esa', 'copernicus', 'sentinel']<input type='checkbox' class='ee-toggle'></label><ul><li><span class='ee-k'>0:</span><span class='ee-v'>eu</span></li><li><span class='ee-k'>1:</span><span class='ee-v'>esa</span></li><li><span class='ee-k'>2:</span><span class='ee-v'>copernicus</span></li><li><span class='ee-k'>3:</span><span class='ee-v'>sentinel</span></li></ul></li><li><span class='ee-k'>system:visualization_0_bands:</span><span class='ee-v'>B4,B3,B2</span></li><li><span class='ee-k'>system:visualization_0_max:</span><span class='ee-v'>3000.0</span></li><li><span class='ee-k'>system:visualization_0_min:</span><span class='ee-v'>0.0</span></li><li><span class='ee-k'>system:visualization_0_name:</span><span class='ee-v'>RGB</span></li><li><label class='ee-shut'>tags: List (7 elements)<input type='checkbox' class='ee-toggle'></label><ul><li><span class='ee-k'>0:</span><span class='ee-v'>copernicus</span></li><li><span class='ee-k'>1:</span><span class='ee-v'>esa</span></li><li><span class='ee-k'>2:</span><span class='ee-v'>eu</span></li><li><span class='ee-k'>3:</span><span class='ee-v'>msi</span></li><li><span class='ee-k'>4:</span><span class='ee-v'>reflectance</span></li><li><span class='ee-k'>5:</span><span class='ee-v'>sentinel</span></li><li><span class='ee-k'>6:</span><span class='ee-v'>sr</span></li></ul></li><li><span class='ee-k'>thumb:</span><span class='ee-v'>https://mw1.google.com/ges/dd/images/COPERNICUS_S2_SR_thumb.png</span></li><li><span class='ee-k'>title:</span><span class='ee-v'>Sentinel-2 MSI: MultiSpectral Instrument, Level-2A</span></li><li><span class='ee-k'>type_name:</span><span class='ee-v'>ImageCollection</span></li><li><span class='ee-k'>visualization_0_bands:</span><span class='ee-v'>B4,B3,B2</span></li><li><span class='ee-k'>visualization_0_max:</span><span class='ee-v'>3000.0</span></li><li><span class='ee-k'>visualization_0_min:</span><span class='ee-v'>0.0</span></li><li><span class='ee-k'>visualization_0_name:</span><span class='ee-v'>RGB</span></li></ul></li><li><label class='ee-shut'>features: List (20 elements)<input type='checkbox' class='ee-toggle'></label><ul><li><label class='ee-shut'>0: Image COPERNICUS/S2_SR/20210918T101639_20210918T102550_T30PYR (1 band)<input type='checkbox' class='ee-toggle'></label><ul><li><span class='ee-k'>type:</span><span class='ee-v'>Image</span></li><li><span class='ee-k'>id:</span><span class='ee-v'>COPERNICUS/S2_SR/20210918T101639_20210918T102550_T30PYR</span></li><li><span class='ee-k'>version:</span><span class='ee-v'>1636411921749869</span></li><li><label class='ee-shut'>bands: List (1 element)<input type='checkbox' class='ee-toggle'></label><ul><li><label class='ee-shut'>0: \"smoothed_evi\", double, EPSG:4326<input type='checkbox' class='ee-toggle'></label><ul><li><span class='ee-k'>id:</span><span class='ee-v'>smoothed_evi</span></li><li><span class='ee-k'>crs:</span><span class='ee-v'>EPSG:4326</span></li><li><label class='ee-shut'>crs_transform: [1, 0, 0, 0, 1, 0]<input type='checkbox' class='ee-toggle'></label><ul><li><span class='ee-k'>0:</span><span class='ee-v'>1</span></li><li><span class='ee-k'>1:</span><span class='ee-v'>0</span></li><li><span class='ee-k'>2:</span><span class='ee-v'>0</span></li><li><span class='ee-k'>3:</span><span class='ee-v'>0</span></li><li><span class='ee-k'>4:</span><span class='ee-v'>1</span></li><li><span class='ee-k'>5:</span><span class='ee-v'>0</span></li></ul></li><li><label class='ee-shut'>data_type: double<input type='checkbox' class='ee-toggle'></label><ul><li><span class='ee-k'>type:</span><span class='ee-v'>PixelType</span></li><li><span class='ee-k'>precision:</span><span class='ee-v'>double</span></li></ul></li></ul></li></ul></li><li><label class='ee-shut'>properties: Object (83 properties)<input type='checkbox' class='ee-toggle'></label><ul><li><span class='ee-k'>AOT_RETRIEVAL_ACCURACY:</span><span class='ee-v'>0</span></li><li><span class='ee-k'>CLOUDY_PIXEL_PERCENTAGE:</span><span class='ee-v'>14.625506</span></li><li><span class='ee-k'>CLOUD_COVERAGE_ASSESSMENT:</span><span class='ee-v'>14.625506</span></li><li><span class='ee-k'>CLOUD_SHADOW_PERCENTAGE:</span><span class='ee-v'>1.605609</span></li><li><span class='ee-k'>DARK_FEATURES_PERCENTAGE:</span><span class='ee-v'>0.914718</span></li><li><span class='ee-k'>DATASTRIP_ID:</span><span class='ee-v'>S2B_OPER_MSI_L2A_DS_VGS4_20210918T135151_S20210918T102550_N03.01</span></li><li><span class='ee-k'>DATATAKE_IDENTIFIER:</span><span class='ee-v'>GS2B_20210918T101639_023686_N03.01</span></li><li><span class='ee-k'>DATATAKE_TYPE:</span><span class='ee-v'>INS-NOBS</span></li><li><span class='ee-k'>DEGRADED_MSI_DATA_PERCENTAGE:</span><span class='ee-v'>0</span></li><li><span class='ee-k'>FORMAT_CORRECTNESS:</span><span class='ee-v'>PASSED</span></li><li><span class='ee-k'>GENERAL_QUALITY:</span><span class='ee-v'>PASSED</span></li><li><span class='ee-k'>GENERATION_TIME:</span><span class='ee-v'>1631973111000</span></li><li><span class='ee-k'>GEOMETRIC_QUALITY:</span><span class='ee-v'>PASSED</span></li><li><span class='ee-k'>GRANULE_ID:</span><span class='ee-v'>L2A_T30PYR_A023686_20210918T102550</span></li><li><span class='ee-k'>HIGH_PROBA_CLOUDS_PERCENTAGE:</span><span class='ee-v'>10.921716</span></li><li><span class='ee-k'>MEAN_INCIDENCE_AZIMUTH_ANGLE_B1:</span><span class='ee-v'>172.771299293624</span></li><li><span class='ee-k'>MEAN_INCIDENCE_AZIMUTH_ANGLE_B10:</span><span class='ee-v'>174.291434457538</span></li><li><span class='ee-k'>MEAN_INCIDENCE_AZIMUTH_ANGLE_B11:</span><span class='ee-v'>173.356149886701</span></li><li><span class='ee-k'>MEAN_INCIDENCE_AZIMUTH_ANGLE_B12:</span><span class='ee-v'>172.918120606104</span></li><li><span class='ee-k'>MEAN_INCIDENCE_AZIMUTH_ANGLE_B2:</span><span class='ee-v'>177.35019372486</span></li><li><span class='ee-k'>MEAN_INCIDENCE_AZIMUTH_ANGLE_B3:</span><span class='ee-v'>175.27752907169</span></li><li><span class='ee-k'>MEAN_INCIDENCE_AZIMUTH_ANGLE_B4:</span><span class='ee-v'>174.013096756497</span></li><li><span class='ee-k'>MEAN_INCIDENCE_AZIMUTH_ANGLE_B5:</span><span class='ee-v'>173.609873401003</span></li><li><span class='ee-k'>MEAN_INCIDENCE_AZIMUTH_ANGLE_B6:</span><span class='ee-v'>173.312239957105</span></li><li><span class='ee-k'>MEAN_INCIDENCE_AZIMUTH_ANGLE_B7:</span><span class='ee-v'>173.096519232313</span></li><li><span class='ee-k'>MEAN_INCIDENCE_AZIMUTH_ANGLE_B8:</span><span class='ee-v'>176.174455145405</span></li><li><span class='ee-k'>MEAN_INCIDENCE_AZIMUTH_ANGLE_B8A:</span><span class='ee-v'>172.944138357443</span></li><li><span class='ee-k'>MEAN_INCIDENCE_AZIMUTH_ANGLE_B9:</span><span class='ee-v'>172.706317046418</span></li><li><span class='ee-k'>MEAN_INCIDENCE_ZENITH_ANGLE_B1:</span><span class='ee-v'>3.07318833940718</span></li><li><span class='ee-k'>MEAN_INCIDENCE_ZENITH_ANGLE_B10:</span><span class='ee-v'>2.62091260950666</span></li><li><span class='ee-k'>MEAN_INCIDENCE_ZENITH_ANGLE_B11:</span><span class='ee-v'>2.79889520938555</span></li><li><span class='ee-k'>MEAN_INCIDENCE_ZENITH_ANGLE_B12:</span><span class='ee-v'>3.0010332946399</span></li><li><span class='ee-k'>MEAN_INCIDENCE_ZENITH_ANGLE_B2:</span><span class='ee-v'>2.42609737992008</span></li><li><span class='ee-k'>MEAN_INCIDENCE_ZENITH_ANGLE_B3:</span><span class='ee-v'>2.53505996882397</span></li><li><span class='ee-k'>MEAN_INCIDENCE_ZENITH_ANGLE_B4:</span><span class='ee-v'>2.65804102212397</span></li><li><span class='ee-k'>MEAN_INCIDENCE_ZENITH_ANGLE_B5:</span><span class='ee-v'>2.73208671257224</span></li><li><span class='ee-k'>MEAN_INCIDENCE_ZENITH_ANGLE_B6:</span><span class='ee-v'>2.81076228458203</span></li><li><span class='ee-k'>MEAN_INCIDENCE_ZENITH_ANGLE_B7:</span><span class='ee-v'>2.89369415782816</span></li><li><span class='ee-k'>MEAN_INCIDENCE_ZENITH_ANGLE_B8:</span><span class='ee-v'>2.47704288656448</span></li><li><span class='ee-k'>MEAN_INCIDENCE_ZENITH_ANGLE_B8A:</span><span class='ee-v'>2.98037992786133</span></li><li><span class='ee-k'>MEAN_INCIDENCE_ZENITH_ANGLE_B9:</span><span class='ee-v'>3.16919124175398</span></li><li><span class='ee-k'>MEAN_SOLAR_AZIMUTH_ANGLE:</span><span class='ee-v'>110.517738259606</span></li><li><span class='ee-k'>MEAN_SOLAR_ZENITH_ANGLE:</span><span class='ee-v'>20.9719557827674</span></li><li><span class='ee-k'>MEDIUM_PROBA_CLOUDS_PERCENTAGE:</span><span class='ee-v'>3.70379</span></li><li><span class='ee-k'>MGRS_TILE:</span><span class='ee-v'>30PYR</span></li><li><span class='ee-k'>NODATA_PIXEL_PERCENTAGE:</span><span class='ee-v'>7e-06</span></li><li><span class='ee-k'>NOT_VEGETATED_PERCENTAGE:</span><span class='ee-v'>5.555105</span></li><li><span class='ee-k'>PROCESSING_BASELINE:</span><span class='ee-v'>03.01</span></li><li><span class='ee-k'>PRODUCT_ID:</span><span class='ee-v'>S2B_MSIL2A_20210918T101639_N0301_R065_T30PYR_20210918T135151</span></li><li><span class='ee-k'>RADIATIVE_TRANSFER_ACCURACY:</span><span class='ee-v'>0</span></li><li><span class='ee-k'>RADIOMETRIC_QUALITY:</span><span class='ee-v'>PASSED</span></li><li><span class='ee-k'>REFLECTANCE_CONVERSION_CORRECTION:</span><span class='ee-v'>0.989102531563089</span></li><li><span class='ee-k'>SATURATED_DEFECTIVE_PIXEL_PERCENTAGE:</span><span class='ee-v'>0</span></li><li><span class='ee-k'>SENSING_ORBIT_DIRECTION:</span><span class='ee-v'>DESCENDING</span></li><li><span class='ee-k'>SENSING_ORBIT_NUMBER:</span><span class='ee-v'>65</span></li><li><span class='ee-k'>SENSOR_QUALITY:</span><span class='ee-v'>PASSED</span></li><li><span class='ee-k'>SNOW_ICE_PERCENTAGE:</span><span class='ee-v'>0</span></li><li><span class='ee-k'>SOLAR_IRRADIANCE_B1:</span><span class='ee-v'>1874.3</span></li><li><span class='ee-k'>SOLAR_IRRADIANCE_B10:</span><span class='ee-v'>365.41</span></li><li><span class='ee-k'>SOLAR_IRRADIANCE_B11:</span><span class='ee-v'>247.08</span></li><li><span class='ee-k'>SOLAR_IRRADIANCE_B12:</span><span class='ee-v'>87.75</span></li><li><span class='ee-k'>SOLAR_IRRADIANCE_B2:</span><span class='ee-v'>1959.75</span></li><li><span class='ee-k'>SOLAR_IRRADIANCE_B3:</span><span class='ee-v'>1824.93</span></li><li><span class='ee-k'>SOLAR_IRRADIANCE_B4:</span><span class='ee-v'>1512.79</span></li><li><span class='ee-k'>SOLAR_IRRADIANCE_B5:</span><span class='ee-v'>1425.78</span></li><li><span class='ee-k'>SOLAR_IRRADIANCE_B6:</span><span class='ee-v'>1291.13</span></li><li><span class='ee-k'>SOLAR_IRRADIANCE_B7:</span><span class='ee-v'>1175.57</span></li><li><span class='ee-k'>SOLAR_IRRADIANCE_B8:</span><span class='ee-v'>1041.28</span></li><li><span class='ee-k'>SOLAR_IRRADIANCE_B8A:</span><span class='ee-v'>953.93</span></li><li><span class='ee-k'>SOLAR_IRRADIANCE_B9:</span><span class='ee-v'>817.58</span></li><li><span class='ee-k'>SPACECRAFT_NAME:</span><span class='ee-v'>Sentinel-2B</span></li><li><span class='ee-k'>THIN_CIRRUS_PERCENTAGE:</span><span class='ee-v'>0</span></li><li><span class='ee-k'>UNCLASSIFIED_PERCENTAGE:</span><span class='ee-v'>4.468154</span></li><li><span class='ee-k'>VEGETATION_PERCENTAGE:</span><span class='ee-v'>72.082567</span></li><li><span class='ee-k'>WATER_PERCENTAGE:</span><span class='ee-v'>0.748342</span></li><li><span class='ee-k'>WATER_VAPOUR_RETRIEVAL_ACCURACY:</span><span class='ee-v'>0</span></li><li><span class='ee-k'>date:</span><span class='ee-v'>2021-09-18T10:38:24</span></li><li><span class='ee-k'>smoothed_evi:</span><span class='ee-v'>1.6967004685611595</span></li><li><span class='ee-k'>system:asset_size:</span><span class='ee-v'>1846749280</span></li><li><label class='ee-shut'>system:footprint: Polygon (5 vertices)<input type='checkbox' class='ee-toggle'></label><ul><li><span class='ee-k'>type:</span><span class='ee-v'>Polygon</span></li><li><label class='ee-shut'>coordinates: List (1 element)<input type='checkbox' class='ee-toggle'></label><ul><li><label class='ee-shut'>0: List (5 elements)<input type='checkbox' class='ee-toggle'></label><ul><li><label class='ee-shut'>0: [-0.3436329956054607, 9.334622294426413]<input type='checkbox' class='ee-toggle'></label><ul><li><span class='ee-k'>0:</span><span class='ee-v'>-0.3436329956054607</span></li><li><span class='ee-k'>1:</span><span class='ee-v'>9.334622294426413</span></li></ul></li><li><label class='ee-shut'>1: [-0.1870778198242107, 9.334622294426413]<input type='checkbox' class='ee-toggle'></label><ul><li><span class='ee-k'>0:</span><span class='ee-v'>-0.1870778198242107</span></li><li><span class='ee-k'>1:</span><span class='ee-v'>9.334622294426413</span></li></ul></li><li><label class='ee-shut'>2: [-0.1870778198242107, 9.480942834852012]<input type='checkbox' class='ee-toggle'></label><ul><li><span class='ee-k'>0:</span><span class='ee-v'>-0.1870778198242107</span></li><li><span class='ee-k'>1:</span><span class='ee-v'>9.480942834852012</span></li></ul></li><li><label class='ee-shut'>3: [-0.3436329956054606, 9.48094283485201]<input type='checkbox' class='ee-toggle'></label><ul><li><span class='ee-k'>0:</span><span class='ee-v'>-0.3436329956054606</span></li><li><span class='ee-k'>1:</span><span class='ee-v'>9.48094283485201</span></li></ul></li><li><label class='ee-shut'>4: [-0.3436329956054607, 9.334622294426413]<input type='checkbox' class='ee-toggle'></label><ul><li><span class='ee-k'>0:</span><span class='ee-v'>-0.3436329956054607</span></li><li><span class='ee-k'>1:</span><span class='ee-v'>9.334622294426413</span></li></ul></li></ul></li></ul></li></ul></li><li><span class='ee-k'>system:index:</span><span class='ee-v'>20210918T101639_20210918T102550_T30PYR</span></li><li><span class='ee-k'>system:time_end:</span><span class='ee-v'>1631961504537</span></li><li><span class='ee-k'>system:time_start:</span><span class='ee-v'>1631961504537</span></li></ul></li></ul></li><li><label class='ee-shut'>1: Image COPERNICUS/S2_SR/20210918T101639_20210918T102550_T30PZR (1 band)<input type='checkbox' class='ee-toggle'></label><ul><li><span class='ee-k'>type:</span><span class='ee-v'>Image</span></li><li><span class='ee-k'>id:</span><span class='ee-v'>COPERNICUS/S2_SR/20210918T101639_20210918T102550_T30PZR</span></li><li><span class='ee-k'>version:</span><span class='ee-v'>1636512060634503</span></li><li><label class='ee-shut'>bands: List (1 element)<input type='checkbox' class='ee-toggle'></label><ul><li><label class='ee-shut'>0: \"smoothed_evi\", double, EPSG:4326<input type='checkbox' class='ee-toggle'></label><ul><li><span class='ee-k'>id:</span><span class='ee-v'>smoothed_evi</span></li><li><span class='ee-k'>crs:</span><span class='ee-v'>EPSG:4326</span></li><li><label class='ee-shut'>crs_transform: [1, 0, 0, 0, 1, 0]<input type='checkbox' class='ee-toggle'></label><ul><li><span class='ee-k'>0:</span><span class='ee-v'>1</span></li><li><span class='ee-k'>1:</span><span class='ee-v'>0</span></li><li><span class='ee-k'>2:</span><span class='ee-v'>0</span></li><li><span class='ee-k'>3:</span><span class='ee-v'>0</span></li><li><span class='ee-k'>4:</span><span class='ee-v'>1</span></li><li><span class='ee-k'>5:</span><span class='ee-v'>0</span></li></ul></li><li><label class='ee-shut'>data_type: double<input type='checkbox' class='ee-toggle'></label><ul><li><span class='ee-k'>type:</span><span class='ee-v'>PixelType</span></li><li><span class='ee-k'>precision:</span><span class='ee-v'>double</span></li></ul></li></ul></li></ul></li><li><label class='ee-shut'>properties: Object (83 properties)<input type='checkbox' class='ee-toggle'></label><ul><li><span class='ee-k'>AOT_RETRIEVAL_ACCURACY:</span><span class='ee-v'>0</span></li><li><span class='ee-k'>CLOUDY_PIXEL_PERCENTAGE:</span><span class='ee-v'>14.091317</span></li><li><span class='ee-k'>CLOUD_COVERAGE_ASSESSMENT:</span><span class='ee-v'>14.091317000000002</span></li><li><span class='ee-k'>CLOUD_SHADOW_PERCENTAGE:</span><span class='ee-v'>1.233921</span></li><li><span class='ee-k'>DARK_FEATURES_PERCENTAGE:</span><span class='ee-v'>0.431019</span></li><li><span class='ee-k'>DATASTRIP_ID:</span><span class='ee-v'>S2B_OPER_MSI_L2A_DS_VGS4_20210918T135151_S20210918T102550_N03.01</span></li><li><span class='ee-k'>DATATAKE_IDENTIFIER:</span><span class='ee-v'>GS2B_20210918T101639_023686_N03.01</span></li><li><span class='ee-k'>DATATAKE_TYPE:</span><span class='ee-v'>INS-NOBS</span></li><li><span class='ee-k'>DEGRADED_MSI_DATA_PERCENTAGE:</span><span class='ee-v'>0</span></li><li><span class='ee-k'>FORMAT_CORRECTNESS:</span><span class='ee-v'>PASSED</span></li><li><span class='ee-k'>GENERAL_QUALITY:</span><span class='ee-v'>PASSED</span></li><li><span class='ee-k'>GENERATION_TIME:</span><span class='ee-v'>1631973111000</span></li><li><span class='ee-k'>GEOMETRIC_QUALITY:</span><span class='ee-v'>PASSED</span></li><li><span class='ee-k'>GRANULE_ID:</span><span class='ee-v'>L2A_T30PZR_A023686_20210918T102550</span></li><li><span class='ee-k'>HIGH_PROBA_CLOUDS_PERCENTAGE:</span><span class='ee-v'>8.72693</span></li><li><span class='ee-k'>MEAN_INCIDENCE_AZIMUTH_ANGLE_B1:</span><span class='ee-v'>283.337386591924</span></li><li><span class='ee-k'>MEAN_INCIDENCE_AZIMUTH_ANGLE_B10:</span><span class='ee-v'>282.983763562415</span></li><li><span class='ee-k'>MEAN_INCIDENCE_AZIMUTH_ANGLE_B11:</span><span class='ee-v'>283.173509513221</span></li><li><span class='ee-k'>MEAN_INCIDENCE_AZIMUTH_ANGLE_B12:</span><span class='ee-v'>283.322815889885</span></li><li><span class='ee-k'>MEAN_INCIDENCE_AZIMUTH_ANGLE_B2:</span><span class='ee-v'>282.911369549741</span></li><li><span class='ee-k'>MEAN_INCIDENCE_AZIMUTH_ANGLE_B3:</span><span class='ee-v'>283.0035127253</span></li><li><span class='ee-k'>MEAN_INCIDENCE_AZIMUTH_ANGLE_B4:</span><span class='ee-v'>283.12913632649</span></li><li><span class='ee-k'>MEAN_INCIDENCE_AZIMUTH_ANGLE_B5:</span><span class='ee-v'>283.17721343793</span></li><li><span class='ee-k'>MEAN_INCIDENCE_AZIMUTH_ANGLE_B6:</span><span class='ee-v'>283.206806496653</span></li><li><span class='ee-k'>MEAN_INCIDENCE_AZIMUTH_ANGLE_B7:</span><span class='ee-v'>283.254805489272</span></li><li><span class='ee-k'>MEAN_INCIDENCE_AZIMUTH_ANGLE_B8:</span><span class='ee-v'>282.95115086023</span></li><li><span class='ee-k'>MEAN_INCIDENCE_AZIMUTH_ANGLE_B8A:</span><span class='ee-v'>283.39505132596</span></li><li><span class='ee-k'>MEAN_INCIDENCE_AZIMUTH_ANGLE_B9:</span><span class='ee-v'>283.423421293193</span></li><li><span class='ee-k'>MEAN_INCIDENCE_ZENITH_ANGLE_B1:</span><span class='ee-v'>7.72984902872901</span></li><li><span class='ee-k'>MEAN_INCIDENCE_ZENITH_ANGLE_B10:</span><span class='ee-v'>7.56972716659658</span></li><li><span class='ee-k'>MEAN_INCIDENCE_ZENITH_ANGLE_B11:</span><span class='ee-v'>7.62382755613157</span></li><li><span class='ee-k'>MEAN_INCIDENCE_ZENITH_ANGLE_B12:</span><span class='ee-v'>7.69580516278931</span></li><li><span class='ee-k'>MEAN_INCIDENCE_ZENITH_ANGLE_B2:</span><span class='ee-v'>7.5198092290832</span></li><li><span class='ee-k'>MEAN_INCIDENCE_ZENITH_ANGLE_B3:</span><span class='ee-v'>7.552704698181</span></li><li><span class='ee-k'>MEAN_INCIDENCE_ZENITH_ANGLE_B4:</span><span class='ee-v'>7.58666553308707</span></li><li><span class='ee-k'>MEAN_INCIDENCE_ZENITH_ANGLE_B5:</span><span class='ee-v'>7.61120953751092</span></li><li><span class='ee-k'>MEAN_INCIDENCE_ZENITH_ANGLE_B6:</span><span class='ee-v'>7.63487595691949</span></li><li><span class='ee-k'>MEAN_INCIDENCE_ZENITH_ANGLE_B7:</span><span class='ee-v'>7.66513242311454</span></li><li><span class='ee-k'>MEAN_INCIDENCE_ZENITH_ANGLE_B8:</span><span class='ee-v'>7.53642243784348</span></li><li><span class='ee-k'>MEAN_INCIDENCE_ZENITH_ANGLE_B8A:</span><span class='ee-v'>7.68796393823638</span></li><li><span class='ee-k'>MEAN_INCIDENCE_ZENITH_ANGLE_B9:</span><span class='ee-v'>7.76985503457994</span></li><li><span class='ee-k'>MEAN_SOLAR_AZIMUTH_ANGLE:</span><span class='ee-v'>111.49581888073</span></li><li><span class='ee-k'>MEAN_SOLAR_ZENITH_ANGLE:</span><span class='ee-v'>20.1409779261426</span></li><li><span class='ee-k'>MEDIUM_PROBA_CLOUDS_PERCENTAGE:</span><span class='ee-v'>2.301492</span></li><li><span class='ee-k'>MGRS_TILE:</span><span class='ee-v'>30PZR</span></li><li><span class='ee-k'>NODATA_PIXEL_PERCENTAGE:</span><span class='ee-v'>4.02711</span></li><li><span class='ee-k'>NOT_VEGETATED_PERCENTAGE:</span><span class='ee-v'>7.731615</span></li><li><span class='ee-k'>PROCESSING_BASELINE:</span><span class='ee-v'>03.01</span></li><li><span class='ee-k'>PRODUCT_ID:</span><span class='ee-v'>S2B_MSIL2A_20210918T101639_N0301_R065_T30PZR_20210918T135151</span></li><li><span class='ee-k'>RADIATIVE_TRANSFER_ACCURACY:</span><span class='ee-v'>0</span></li><li><span class='ee-k'>RADIOMETRIC_QUALITY:</span><span class='ee-v'>PASSED</span></li><li><span class='ee-k'>REFLECTANCE_CONVERSION_CORRECTION:</span><span class='ee-v'>0.989102531563089</span></li><li><span class='ee-k'>SATURATED_DEFECTIVE_PIXEL_PERCENTAGE:</span><span class='ee-v'>0</span></li><li><span class='ee-k'>SENSING_ORBIT_DIRECTION:</span><span class='ee-v'>DESCENDING</span></li><li><span class='ee-k'>SENSING_ORBIT_NUMBER:</span><span class='ee-v'>65</span></li><li><span class='ee-k'>SENSOR_QUALITY:</span><span class='ee-v'>PASSED</span></li><li><span class='ee-k'>SNOW_ICE_PERCENTAGE:</span><span class='ee-v'>0</span></li><li><span class='ee-k'>SOLAR_IRRADIANCE_B1:</span><span class='ee-v'>1874.3</span></li><li><span class='ee-k'>SOLAR_IRRADIANCE_B10:</span><span class='ee-v'>365.41</span></li><li><span class='ee-k'>SOLAR_IRRADIANCE_B11:</span><span class='ee-v'>247.08</span></li><li><span class='ee-k'>SOLAR_IRRADIANCE_B12:</span><span class='ee-v'>87.75</span></li><li><span class='ee-k'>SOLAR_IRRADIANCE_B2:</span><span class='ee-v'>1959.75</span></li><li><span class='ee-k'>SOLAR_IRRADIANCE_B3:</span><span class='ee-v'>1824.93</span></li><li><span class='ee-k'>SOLAR_IRRADIANCE_B4:</span><span class='ee-v'>1512.79</span></li><li><span class='ee-k'>SOLAR_IRRADIANCE_B5:</span><span class='ee-v'>1425.78</span></li><li><span class='ee-k'>SOLAR_IRRADIANCE_B6:</span><span class='ee-v'>1291.13</span></li><li><span class='ee-k'>SOLAR_IRRADIANCE_B7:</span><span class='ee-v'>1175.57</span></li><li><span class='ee-k'>SOLAR_IRRADIANCE_B8:</span><span class='ee-v'>1041.28</span></li><li><span class='ee-k'>SOLAR_IRRADIANCE_B8A:</span><span class='ee-v'>953.93</span></li><li><span class='ee-k'>SOLAR_IRRADIANCE_B9:</span><span class='ee-v'>817.58</span></li><li><span class='ee-k'>SPACECRAFT_NAME:</span><span class='ee-v'>Sentinel-2B</span></li><li><span class='ee-k'>THIN_CIRRUS_PERCENTAGE:</span><span class='ee-v'>3.062895</span></li><li><span class='ee-k'>UNCLASSIFIED_PERCENTAGE:</span><span class='ee-v'>3.903113</span></li><li><span class='ee-k'>VEGETATION_PERCENTAGE:</span><span class='ee-v'>72.538012</span></li><li><span class='ee-k'>WATER_PERCENTAGE:</span><span class='ee-v'>0.071008</span></li><li><span class='ee-k'>WATER_VAPOUR_RETRIEVAL_ACCURACY:</span><span class='ee-v'>0</span></li><li><span class='ee-k'>date:</span><span class='ee-v'>2021-09-18T10:38:20</span></li><li><span class='ee-k'>smoothed_evi:</span><span class='ee-v'>1.6967004685611595</span></li><li><span class='ee-k'>system:asset_size:</span><span class='ee-v'>1743588894</span></li><li><label class='ee-shut'>system:footprint: Polygon (6 vertices)<input type='checkbox' class='ee-toggle'></label><ul><li><span class='ee-k'>type:</span><span class='ee-v'>Polygon</span></li><li><label class='ee-shut'>coordinates: List (1 element)<input type='checkbox' class='ee-toggle'></label><ul><li><label class='ee-shut'>0: List (6 elements)<input type='checkbox' class='ee-toggle'></label><ul><li><label class='ee-shut'>0: [-0.26814381866412906, 9.480951511322822]<input type='checkbox' class='ee-toggle'></label><ul><li><span class='ee-k'>0:</span><span class='ee-v'>-0.26814381866412906</span></li><li><span class='ee-k'>1:</span><span class='ee-v'>9.480951511322822</span></li></ul></li><li><label class='ee-shut'>1: [-0.26843640767326354, 9.444324152065583]<input type='checkbox' class='ee-toggle'></label><ul><li><span class='ee-k'>0:</span><span class='ee-v'>-0.26843640767326354</span></li><li><span class='ee-k'>1:</span><span class='ee-v'>9.444324152065583</span></li></ul></li><li><label class='ee-shut'>2: [-0.26928977486125355, 9.334630831044018]<input type='checkbox' class='ee-toggle'></label><ul><li><span class='ee-k'>0:</span><span class='ee-v'>-0.26928977486125355</span></li><li><span class='ee-k'>1:</span><span class='ee-v'>9.334630831044018</span></li></ul></li><li><label class='ee-shut'>3: [-0.1870778198242107, 9.334622294426413]<input type='checkbox' class='ee-toggle'></label><ul><li><span class='ee-k'>0:</span><span class='ee-v'>-0.1870778198242107</span></li><li><span class='ee-k'>1:</span><span class='ee-v'>9.334622294426413</span></li></ul></li><li><label class='ee-shut'>4: [-0.1870778198242107, 9.480942834852012]<input type='checkbox' class='ee-toggle'></label><ul><li><span class='ee-k'>0:</span><span class='ee-v'>-0.1870778198242107</span></li><li><span class='ee-k'>1:</span><span class='ee-v'>9.480942834852012</span></li></ul></li><li><label class='ee-shut'>5: [-0.26814381866412906, 9.480951511322822]<input type='checkbox' class='ee-toggle'></label><ul><li><span class='ee-k'>0:</span><span class='ee-v'>-0.26814381866412906</span></li><li><span class='ee-k'>1:</span><span class='ee-v'>9.480951511322822</span></li></ul></li></ul></li></ul></li></ul></li><li><span class='ee-k'>system:index:</span><span class='ee-v'>20210918T101639_20210918T102550_T30PZR</span></li><li><span class='ee-k'>system:time_end:</span><span class='ee-v'>1631961500989</span></li><li><span class='ee-k'>system:time_start:</span><span class='ee-v'>1631961500989</span></li></ul></li></ul></li><li><label class='ee-shut'>2: Image COPERNICUS/S2_SR/20211003T101851_20211003T103109_T30PZR (1 band)<input type='checkbox' class='ee-toggle'></label><ul><li><span class='ee-k'>type:</span><span class='ee-v'>Image</span></li><li><span class='ee-k'>id:</span><span class='ee-v'>COPERNICUS/S2_SR/20211003T101851_20211003T103109_T30PZR</span></li><li><span class='ee-k'>version:</span><span class='ee-v'>1633387044418391</span></li><li><label class='ee-shut'>bands: List (1 element)<input type='checkbox' class='ee-toggle'></label><ul><li><label class='ee-shut'>0: \"smoothed_evi\", double, EPSG:4326<input type='checkbox' class='ee-toggle'></label><ul><li><span class='ee-k'>id:</span><span class='ee-v'>smoothed_evi</span></li><li><span class='ee-k'>crs:</span><span class='ee-v'>EPSG:4326</span></li><li><label class='ee-shut'>crs_transform: [1, 0, 0, 0, 1, 0]<input type='checkbox' class='ee-toggle'></label><ul><li><span class='ee-k'>0:</span><span class='ee-v'>1</span></li><li><span class='ee-k'>1:</span><span class='ee-v'>0</span></li><li><span class='ee-k'>2:</span><span class='ee-v'>0</span></li><li><span class='ee-k'>3:</span><span class='ee-v'>0</span></li><li><span class='ee-k'>4:</span><span class='ee-v'>1</span></li><li><span class='ee-k'>5:</span><span class='ee-v'>0</span></li></ul></li><li><label class='ee-shut'>data_type: double<input type='checkbox' class='ee-toggle'></label><ul><li><span class='ee-k'>type:</span><span class='ee-v'>PixelType</span></li><li><span class='ee-k'>precision:</span><span class='ee-v'>double</span></li></ul></li></ul></li></ul></li><li><label class='ee-shut'>properties: Object (83 properties)<input type='checkbox' class='ee-toggle'></label><ul><li><span class='ee-k'>AOT_RETRIEVAL_ACCURACY:</span><span class='ee-v'>0</span></li><li><span class='ee-k'>CLOUDY_PIXEL_PERCENTAGE:</span><span class='ee-v'>2.586034</span></li><li><span class='ee-k'>CLOUD_COVERAGE_ASSESSMENT:</span><span class='ee-v'>2.586034</span></li><li><span class='ee-k'>CLOUD_SHADOW_PERCENTAGE:</span><span class='ee-v'>0.389319</span></li><li><span class='ee-k'>DARK_FEATURES_PERCENTAGE:</span><span class='ee-v'>0.206038</span></li><li><span class='ee-k'>DATASTRIP_ID:</span><span class='ee-v'>S2A_OPER_MSI_L2A_DS_VGS2_20211003T150545_S20211003T103109_N03.01</span></li><li><span class='ee-k'>DATATAKE_IDENTIFIER:</span><span class='ee-v'>GS2A_20211003T101851_032809_N03.01</span></li><li><span class='ee-k'>DATATAKE_TYPE:</span><span class='ee-v'>INS-NOBS</span></li><li><span class='ee-k'>DEGRADED_MSI_DATA_PERCENTAGE:</span><span class='ee-v'>0</span></li><li><span class='ee-k'>FORMAT_CORRECTNESS:</span><span class='ee-v'>PASSED</span></li><li><span class='ee-k'>GENERAL_QUALITY:</span><span class='ee-v'>PASSED</span></li><li><span class='ee-k'>GENERATION_TIME:</span><span class='ee-v'>1633273545000</span></li><li><span class='ee-k'>GEOMETRIC_QUALITY:</span><span class='ee-v'>PASSED</span></li><li><span class='ee-k'>GRANULE_ID:</span><span class='ee-v'>L2A_T30PZR_A032809_20211003T103109</span></li><li><span class='ee-k'>HIGH_PROBA_CLOUDS_PERCENTAGE:</span><span class='ee-v'>0.986617</span></li><li><span class='ee-k'>MEAN_INCIDENCE_AZIMUTH_ANGLE_B1:</span><span class='ee-v'>284.015741941693</span></li><li><span class='ee-k'>MEAN_INCIDENCE_AZIMUTH_ANGLE_B10:</span><span class='ee-v'>283.796823784147</span></li><li><span class='ee-k'>MEAN_INCIDENCE_AZIMUTH_ANGLE_B11:</span><span class='ee-v'>283.894210768326</span></li><li><span class='ee-k'>MEAN_INCIDENCE_AZIMUTH_ANGLE_B12:</span><span class='ee-v'>283.923222672688</span></li><li><span class='ee-k'>MEAN_INCIDENCE_AZIMUTH_ANGLE_B2:</span><span class='ee-v'>283.766877824038</span></li><li><span class='ee-k'>MEAN_INCIDENCE_AZIMUTH_ANGLE_B3:</span><span class='ee-v'>283.811771442961</span></li><li><span class='ee-k'>MEAN_INCIDENCE_AZIMUTH_ANGLE_B4:</span><span class='ee-v'>283.865436154215</span></li><li><span class='ee-k'>MEAN_INCIDENCE_AZIMUTH_ANGLE_B5:</span><span class='ee-v'>283.914254390213</span></li><li><span class='ee-k'>MEAN_INCIDENCE_AZIMUTH_ANGLE_B6:</span><span class='ee-v'>283.953822300141</span></li><li><span class='ee-k'>MEAN_INCIDENCE_AZIMUTH_ANGLE_B7:</span><span class='ee-v'>283.978987955747</span></li><li><span class='ee-k'>MEAN_INCIDENCE_AZIMUTH_ANGLE_B8:</span><span class='ee-v'>283.795190781691</span></li><li><span class='ee-k'>MEAN_INCIDENCE_AZIMUTH_ANGLE_B8A:</span><span class='ee-v'>284.018842090872</span></li><li><span class='ee-k'>MEAN_INCIDENCE_AZIMUTH_ANGLE_B9:</span><span class='ee-v'>283.99681044828</span></li><li><span class='ee-k'>MEAN_INCIDENCE_ZENITH_ANGLE_B1:</span><span class='ee-v'>7.77195474929138</span></li><li><span class='ee-k'>MEAN_INCIDENCE_ZENITH_ANGLE_B10:</span><span class='ee-v'>7.6174492824769</span></li><li><span class='ee-k'>MEAN_INCIDENCE_ZENITH_ANGLE_B11:</span><span class='ee-v'>7.68112932198312</span></li><li><span class='ee-k'>MEAN_INCIDENCE_ZENITH_ANGLE_B12:</span><span class='ee-v'>7.74940984056902</span></li><li><span class='ee-k'>MEAN_INCIDENCE_ZENITH_ANGLE_B2:</span><span class='ee-v'>7.5614929238077</span></li><li><span class='ee-k'>MEAN_INCIDENCE_ZENITH_ANGLE_B3:</span><span class='ee-v'>7.59147156738261</span></li><li><span class='ee-k'>MEAN_INCIDENCE_ZENITH_ANGLE_B4:</span><span class='ee-v'>7.62907391604392</span></li><li><span class='ee-k'>MEAN_INCIDENCE_ZENITH_ANGLE_B5:</span><span class='ee-v'>7.64994464911746</span></li><li><span class='ee-k'>MEAN_INCIDENCE_ZENITH_ANGLE_B6:</span><span class='ee-v'>7.67730014262111</span></li><li><span class='ee-k'>MEAN_INCIDENCE_ZENITH_ANGLE_B7:</span><span class='ee-v'>7.70744495529331</span></li><li><span class='ee-k'>MEAN_INCIDENCE_ZENITH_ANGLE_B8:</span><span class='ee-v'>7.57486029822269</span></li><li><span class='ee-k'>MEAN_INCIDENCE_ZENITH_ANGLE_B8A:</span><span class='ee-v'>7.74027071208451</span></li><li><span class='ee-k'>MEAN_INCIDENCE_ZENITH_ANGLE_B9:</span><span class='ee-v'>7.81031468899533</span></li><li><span class='ee-k'>MEAN_SOLAR_AZIMUTH_ANGLE:</span><span class='ee-v'>127.334091371211</span></li><li><span class='ee-k'>MEAN_SOLAR_ZENITH_ANGLE:</span><span class='ee-v'>22.0076571407834</span></li><li><span class='ee-k'>MEDIUM_PROBA_CLOUDS_PERCENTAGE:</span><span class='ee-v'>0.585193</span></li><li><span class='ee-k'>MGRS_TILE:</span><span class='ee-v'>30PZR</span></li><li><span class='ee-k'>NODATA_PIXEL_PERCENTAGE:</span><span class='ee-v'>4.815067</span></li><li><span class='ee-k'>NOT_VEGETATED_PERCENTAGE:</span><span class='ee-v'>3.421398</span></li><li><span class='ee-k'>PROCESSING_BASELINE:</span><span class='ee-v'>03.01</span></li><li><span class='ee-k'>PRODUCT_ID:</span><span class='ee-v'>S2A_MSIL2A_20211003T101851_N0301_R065_T30PZR_20211003T150545</span></li><li><span class='ee-k'>RADIATIVE_TRANSFER_ACCURACY:</span><span class='ee-v'>0</span></li><li><span class='ee-k'>RADIOMETRIC_QUALITY:</span><span class='ee-v'>PASSED</span></li><li><span class='ee-k'>REFLECTANCE_CONVERSION_CORRECTION:</span><span class='ee-v'>0.997445908486734</span></li><li><span class='ee-k'>SATURATED_DEFECTIVE_PIXEL_PERCENTAGE:</span><span class='ee-v'>0</span></li><li><span class='ee-k'>SENSING_ORBIT_DIRECTION:</span><span class='ee-v'>DESCENDING</span></li><li><span class='ee-k'>SENSING_ORBIT_NUMBER:</span><span class='ee-v'>65</span></li><li><span class='ee-k'>SENSOR_QUALITY:</span><span class='ee-v'>PASSED</span></li><li><span class='ee-k'>SNOW_ICE_PERCENTAGE:</span><span class='ee-v'>0</span></li><li><span class='ee-k'>SOLAR_IRRADIANCE_B1:</span><span class='ee-v'>1884.69</span></li><li><span class='ee-k'>SOLAR_IRRADIANCE_B10:</span><span class='ee-v'>367.15</span></li><li><span class='ee-k'>SOLAR_IRRADIANCE_B11:</span><span class='ee-v'>245.59</span></li><li><span class='ee-k'>SOLAR_IRRADIANCE_B12:</span><span class='ee-v'>85.25</span></li><li><span class='ee-k'>SOLAR_IRRADIANCE_B2:</span><span class='ee-v'>1959.66</span></li><li><span class='ee-k'>SOLAR_IRRADIANCE_B3:</span><span class='ee-v'>1823.24</span></li><li><span class='ee-k'>SOLAR_IRRADIANCE_B4:</span><span class='ee-v'>1512.06</span></li><li><span class='ee-k'>SOLAR_IRRADIANCE_B5:</span><span class='ee-v'>1424.64</span></li><li><span class='ee-k'>SOLAR_IRRADIANCE_B6:</span><span class='ee-v'>1287.61</span></li><li><span class='ee-k'>SOLAR_IRRADIANCE_B7:</span><span class='ee-v'>1162.08</span></li><li><span class='ee-k'>SOLAR_IRRADIANCE_B8:</span><span class='ee-v'>1041.63</span></li><li><span class='ee-k'>SOLAR_IRRADIANCE_B8A:</span><span class='ee-v'>955.32</span></li><li><span class='ee-k'>SOLAR_IRRADIANCE_B9:</span><span class='ee-v'>812.92</span></li><li><span class='ee-k'>SPACECRAFT_NAME:</span><span class='ee-v'>Sentinel-2A</span></li><li><span class='ee-k'>THIN_CIRRUS_PERCENTAGE:</span><span class='ee-v'>1.014224</span></li><li><span class='ee-k'>UNCLASSIFIED_PERCENTAGE:</span><span class='ee-v'>1.059771</span></li><li><span class='ee-k'>VEGETATION_PERCENTAGE:</span><span class='ee-v'>92.240626</span></li><li><span class='ee-k'>WATER_PERCENTAGE:</span><span class='ee-v'>0.096815</span></li><li><span class='ee-k'>WATER_VAPOUR_RETRIEVAL_ACCURACY:</span><span class='ee-v'>0</span></li><li><span class='ee-k'>date:</span><span class='ee-v'>2021-10-03T10:38:29</span></li><li><span class='ee-k'>smoothed_evi:</span><span class='ee-v'>1.7214559987048141</span></li><li><span class='ee-k'>system:asset_size:</span><span class='ee-v'>1683103839</span></li><li><label class='ee-shut'>system:footprint: Polygon (6 vertices)<input type='checkbox' class='ee-toggle'></label><ul><li><span class='ee-k'>type:</span><span class='ee-v'>Polygon</span></li><li><label class='ee-shut'>coordinates: List (1 element)<input type='checkbox' class='ee-toggle'></label><ul><li><label class='ee-shut'>0: List (6 elements)<input type='checkbox' class='ee-toggle'></label><ul><li><label class='ee-shut'>0: [-0.26814381866412906, 9.480951511322822]<input type='checkbox' class='ee-toggle'></label><ul><li><span class='ee-k'>0:</span><span class='ee-v'>-0.26814381866412906</span></li><li><span class='ee-k'>1:</span><span class='ee-v'>9.480951511322822</span></li></ul></li><li><label class='ee-shut'>1: [-0.26843640767326354, 9.444324152065583]<input type='checkbox' class='ee-toggle'></label><ul><li><span class='ee-k'>0:</span><span class='ee-v'>-0.26843640767326354</span></li><li><span class='ee-k'>1:</span><span class='ee-v'>9.444324152065583</span></li></ul></li><li><label class='ee-shut'>2: [-0.26928977486125355, 9.334630831044018]<input type='checkbox' class='ee-toggle'></label><ul><li><span class='ee-k'>0:</span><span class='ee-v'>-0.26928977486125355</span></li><li><span class='ee-k'>1:</span><span class='ee-v'>9.334630831044018</span></li></ul></li><li><label class='ee-shut'>3: [-0.1870778198242107, 9.334622294426413]<input type='checkbox' class='ee-toggle'></label><ul><li><span class='ee-k'>0:</span><span class='ee-v'>-0.1870778198242107</span></li><li><span class='ee-k'>1:</span><span class='ee-v'>9.334622294426413</span></li></ul></li><li><label class='ee-shut'>4: [-0.1870778198242107, 9.480942834852012]<input type='checkbox' class='ee-toggle'></label><ul><li><span class='ee-k'>0:</span><span class='ee-v'>-0.1870778198242107</span></li><li><span class='ee-k'>1:</span><span class='ee-v'>9.480942834852012</span></li></ul></li><li><label class='ee-shut'>5: [-0.26814381866412906, 9.480951511322822]<input type='checkbox' class='ee-toggle'></label><ul><li><span class='ee-k'>0:</span><span class='ee-v'>-0.26814381866412906</span></li><li><span class='ee-k'>1:</span><span class='ee-v'>9.480951511322822</span></li></ul></li></ul></li></ul></li></ul></li><li><span class='ee-k'>system:index:</span><span class='ee-v'>20211003T101851_20211003T103109_T30PZR</span></li><li><span class='ee-k'>system:time_end:</span><span class='ee-v'>1633257509179</span></li><li><span class='ee-k'>system:time_start:</span><span class='ee-v'>1633257509179</span></li></ul></li></ul></li><li><label class='ee-shut'>3: Image COPERNICUS/S2_SR/20211013T101951_20211013T102746_T30PYR (1 band)<input type='checkbox' class='ee-toggle'></label><ul><li><span class='ee-k'>type:</span><span class='ee-v'>Image</span></li><li><span class='ee-k'>id:</span><span class='ee-v'>COPERNICUS/S2_SR/20211013T101951_20211013T102746_T30PYR</span></li><li><span class='ee-k'>version:</span><span class='ee-v'>1634325074185281</span></li><li><label class='ee-shut'>bands: List (1 element)<input type='checkbox' class='ee-toggle'></label><ul><li><label class='ee-shut'>0: \"smoothed_evi\", double, EPSG:4326<input type='checkbox' class='ee-toggle'></label><ul><li><span class='ee-k'>id:</span><span class='ee-v'>smoothed_evi</span></li><li><span class='ee-k'>crs:</span><span class='ee-v'>EPSG:4326</span></li><li><label class='ee-shut'>crs_transform: [1, 0, 0, 0, 1, 0]<input type='checkbox' class='ee-toggle'></label><ul><li><span class='ee-k'>0:</span><span class='ee-v'>1</span></li><li><span class='ee-k'>1:</span><span class='ee-v'>0</span></li><li><span class='ee-k'>2:</span><span class='ee-v'>0</span></li><li><span class='ee-k'>3:</span><span class='ee-v'>0</span></li><li><span class='ee-k'>4:</span><span class='ee-v'>1</span></li><li><span class='ee-k'>5:</span><span class='ee-v'>0</span></li></ul></li><li><label class='ee-shut'>data_type: double<input type='checkbox' class='ee-toggle'></label><ul><li><span class='ee-k'>type:</span><span class='ee-v'>PixelType</span></li><li><span class='ee-k'>precision:</span><span class='ee-v'>double</span></li></ul></li></ul></li></ul></li><li><label class='ee-shut'>properties: Object (83 properties)<input type='checkbox' class='ee-toggle'></label><ul><li><span class='ee-k'>AOT_RETRIEVAL_ACCURACY:</span><span class='ee-v'>0</span></li><li><span class='ee-k'>CLOUDY_PIXEL_PERCENTAGE:</span><span class='ee-v'>15.41979</span></li><li><span class='ee-k'>CLOUD_COVERAGE_ASSESSMENT:</span><span class='ee-v'>15.41979</span></li><li><span class='ee-k'>CLOUD_SHADOW_PERCENTAGE:</span><span class='ee-v'>1.607115</span></li><li><span class='ee-k'>DARK_FEATURES_PERCENTAGE:</span><span class='ee-v'>0.52682</span></li><li><span class='ee-k'>DATASTRIP_ID:</span><span class='ee-v'>S2A_OPER_MSI_L2A_DS_VGS2_20211013T132717_S20211013T102746_N03.01</span></li><li><span class='ee-k'>DATATAKE_IDENTIFIER:</span><span class='ee-v'>GS2A_20211013T101951_032952_N03.01</span></li><li><span class='ee-k'>DATATAKE_TYPE:</span><span class='ee-v'>INS-NOBS</span></li><li><span class='ee-k'>DEGRADED_MSI_DATA_PERCENTAGE:</span><span class='ee-v'>0</span></li><li><span class='ee-k'>FORMAT_CORRECTNESS:</span><span class='ee-v'>PASSED</span></li><li><span class='ee-k'>GENERAL_QUALITY:</span><span class='ee-v'>PASSED</span></li><li><span class='ee-k'>GENERATION_TIME:</span><span class='ee-v'>1634131637000</span></li><li><span class='ee-k'>GEOMETRIC_QUALITY:</span><span class='ee-v'>PASSED</span></li><li><span class='ee-k'>GRANULE_ID:</span><span class='ee-v'>L2A_T30PYR_A032952_20211013T102746</span></li><li><span class='ee-k'>HIGH_PROBA_CLOUDS_PERCENTAGE:</span><span class='ee-v'>11.598313</span></li><li><span class='ee-k'>MEAN_INCIDENCE_AZIMUTH_ANGLE_B1:</span><span class='ee-v'>175.649660210849</span></li><li><span class='ee-k'>MEAN_INCIDENCE_AZIMUTH_ANGLE_B10:</span><span class='ee-v'>177.01469177029</span></li><li><span class='ee-k'>MEAN_INCIDENCE_AZIMUTH_ANGLE_B11:</span><span class='ee-v'>175.845442176026</span></li><li><span class='ee-k'>MEAN_INCIDENCE_AZIMUTH_ANGLE_B12:</span><span class='ee-v'>175.407009638581</span></li><li><span class='ee-k'>MEAN_INCIDENCE_AZIMUTH_ANGLE_B2:</span><span class='ee-v'>179.578988742302</span></li><li><span class='ee-k'>MEAN_INCIDENCE_AZIMUTH_ANGLE_B3:</span><span class='ee-v'>177.554159524968</span></li><li><span class='ee-k'>MEAN_INCIDENCE_AZIMUTH_ANGLE_B4:</span><span class='ee-v'>176.454136347361</span></li><li><span class='ee-k'>MEAN_INCIDENCE_AZIMUTH_ANGLE_B5:</span><span class='ee-v'>176.057084029708</span></li><li><span class='ee-k'>MEAN_INCIDENCE_AZIMUTH_ANGLE_B6:</span><span class='ee-v'>175.766616206854</span></li><li><span class='ee-k'>MEAN_INCIDENCE_AZIMUTH_ANGLE_B7:</span><span class='ee-v'>175.551698822474</span></li><li><span class='ee-k'>MEAN_INCIDENCE_AZIMUTH_ANGLE_B8:</span><span class='ee-v'>178.429804798206</span></li><li><span class='ee-k'>MEAN_INCIDENCE_AZIMUTH_ANGLE_B8A:</span><span class='ee-v'>175.379818420595</span></li><li><span class='ee-k'>MEAN_INCIDENCE_AZIMUTH_ANGLE_B9:</span><span class='ee-v'>175.582577052373</span></li><li><span class='ee-k'>MEAN_INCIDENCE_ZENITH_ANGLE_B1:</span><span class='ee-v'>3.0705981366052</span></li><li><span class='ee-k'>MEAN_INCIDENCE_ZENITH_ANGLE_B10:</span><span class='ee-v'>2.61719811463154</span></li><li><span class='ee-k'>MEAN_INCIDENCE_ZENITH_ANGLE_B11:</span><span class='ee-v'>2.79681412532796</span></li><li><span class='ee-k'>MEAN_INCIDENCE_ZENITH_ANGLE_B12:</span><span class='ee-v'>2.99968556331801</span></li><li><span class='ee-k'>MEAN_INCIDENCE_ZENITH_ANGLE_B2:</span><span class='ee-v'>2.41906761531503</span></li><li><span class='ee-k'>MEAN_INCIDENCE_ZENITH_ANGLE_B3:</span><span class='ee-v'>2.52891405521765</span></li><li><span class='ee-k'>MEAN_INCIDENCE_ZENITH_ANGLE_B4:</span><span class='ee-v'>2.65210985202688</span></li><li><span class='ee-k'>MEAN_INCIDENCE_ZENITH_ANGLE_B5:</span><span class='ee-v'>2.7266055241183</span></li><li><span class='ee-k'>MEAN_INCIDENCE_ZENITH_ANGLE_B6:</span><span class='ee-v'>2.80555226999942</span></li><li><span class='ee-k'>MEAN_INCIDENCE_ZENITH_ANGLE_B7:</span><span class='ee-v'>2.88899423615029</span></li><li><span class='ee-k'>MEAN_INCIDENCE_ZENITH_ANGLE_B8:</span><span class='ee-v'>2.47049154634485</span></li><li><span class='ee-k'>MEAN_INCIDENCE_ZENITH_ANGLE_B8A:</span><span class='ee-v'>2.97831523312841</span></li><li><span class='ee-k'>MEAN_INCIDENCE_ZENITH_ANGLE_B9:</span><span class='ee-v'>3.1665715083282</span></li><li><span class='ee-k'>MEAN_SOLAR_AZIMUTH_ANGLE:</span><span class='ee-v'>134.22187678907</span></li><li><span class='ee-k'>MEAN_SOLAR_ZENITH_ANGLE:</span><span class='ee-v'>24.6818508380854</span></li><li><span class='ee-k'>MEDIUM_PROBA_CLOUDS_PERCENTAGE:</span><span class='ee-v'>3.821477</span></li><li><span class='ee-k'>MGRS_TILE:</span><span class='ee-v'>30PYR</span></li><li><span class='ee-k'>NODATA_PIXEL_PERCENTAGE:</span><span class='ee-v'>0</span></li><li><span class='ee-k'>NOT_VEGETATED_PERCENTAGE:</span><span class='ee-v'>6.37399</span></li><li><span class='ee-k'>PROCESSING_BASELINE:</span><span class='ee-v'>03.01</span></li><li><span class='ee-k'>PRODUCT_ID:</span><span class='ee-v'>S2A_MSIL2A_20211013T101951_N0301_R065_T30PYR_20211013T132717</span></li><li><span class='ee-k'>RADIATIVE_TRANSFER_ACCURACY:</span><span class='ee-v'>0</span></li><li><span class='ee-k'>RADIOMETRIC_QUALITY:</span><span class='ee-v'>PASSED</span></li><li><span class='ee-k'>REFLECTANCE_CONVERSION_CORRECTION:</span><span class='ee-v'>1.00319681977373</span></li><li><span class='ee-k'>SATURATED_DEFECTIVE_PIXEL_PERCENTAGE:</span><span class='ee-v'>0</span></li><li><span class='ee-k'>SENSING_ORBIT_DIRECTION:</span><span class='ee-v'>DESCENDING</span></li><li><span class='ee-k'>SENSING_ORBIT_NUMBER:</span><span class='ee-v'>65</span></li><li><span class='ee-k'>SENSOR_QUALITY:</span><span class='ee-v'>PASSED</span></li><li><span class='ee-k'>SNOW_ICE_PERCENTAGE:</span><span class='ee-v'>0</span></li><li><span class='ee-k'>SOLAR_IRRADIANCE_B1:</span><span class='ee-v'>1884.69</span></li><li><span class='ee-k'>SOLAR_IRRADIANCE_B10:</span><span class='ee-v'>367.15</span></li><li><span class='ee-k'>SOLAR_IRRADIANCE_B11:</span><span class='ee-v'>245.59</span></li><li><span class='ee-k'>SOLAR_IRRADIANCE_B12:</span><span class='ee-v'>85.25</span></li><li><span class='ee-k'>SOLAR_IRRADIANCE_B2:</span><span class='ee-v'>1959.66</span></li><li><span class='ee-k'>SOLAR_IRRADIANCE_B3:</span><span class='ee-v'>1823.24</span></li><li><span class='ee-k'>SOLAR_IRRADIANCE_B4:</span><span class='ee-v'>1512.06</span></li><li><span class='ee-k'>SOLAR_IRRADIANCE_B5:</span><span class='ee-v'>1424.64</span></li><li><span class='ee-k'>SOLAR_IRRADIANCE_B6:</span><span class='ee-v'>1287.61</span></li><li><span class='ee-k'>SOLAR_IRRADIANCE_B7:</span><span class='ee-v'>1162.08</span></li><li><span class='ee-k'>SOLAR_IRRADIANCE_B8:</span><span class='ee-v'>1041.63</span></li><li><span class='ee-k'>SOLAR_IRRADIANCE_B8A:</span><span class='ee-v'>955.32</span></li><li><span class='ee-k'>SOLAR_IRRADIANCE_B9:</span><span class='ee-v'>812.92</span></li><li><span class='ee-k'>SPACECRAFT_NAME:</span><span class='ee-v'>Sentinel-2A</span></li><li><span class='ee-k'>THIN_CIRRUS_PERCENTAGE:</span><span class='ee-v'>0</span></li><li><span class='ee-k'>UNCLASSIFIED_PERCENTAGE:</span><span class='ee-v'>3.918384</span></li><li><span class='ee-k'>VEGETATION_PERCENTAGE:</span><span class='ee-v'>72.020692</span></li><li><span class='ee-k'>WATER_PERCENTAGE:</span><span class='ee-v'>0.133208</span></li><li><span class='ee-k'>WATER_VAPOUR_RETRIEVAL_ACCURACY:</span><span class='ee-v'>0</span></li><li><span class='ee-k'>date:</span><span class='ee-v'>2021-10-13T10:38:33</span></li><li><span class='ee-k'>smoothed_evi:</span><span class='ee-v'>1.6253277793194927</span></li><li><span class='ee-k'>system:asset_size:</span><span class='ee-v'>1805011260</span></li><li><label class='ee-shut'>system:footprint: Polygon (5 vertices)<input type='checkbox' class='ee-toggle'></label><ul><li><span class='ee-k'>type:</span><span class='ee-v'>Polygon</span></li><li><label class='ee-shut'>coordinates: List (1 element)<input type='checkbox' class='ee-toggle'></label><ul><li><label class='ee-shut'>0: List (5 elements)<input type='checkbox' class='ee-toggle'></label><ul><li><label class='ee-shut'>0: [-0.3436329956054607, 9.334622294426413]<input type='checkbox' class='ee-toggle'></label><ul><li><span class='ee-k'>0:</span><span class='ee-v'>-0.3436329956054607</span></li><li><span class='ee-k'>1:</span><span class='ee-v'>9.334622294426413</span></li></ul></li><li><label class='ee-shut'>1: [-0.1870778198242107, 9.334622294426413]<input type='checkbox' class='ee-toggle'></label><ul><li><span class='ee-k'>0:</span><span class='ee-v'>-0.1870778198242107</span></li><li><span class='ee-k'>1:</span><span class='ee-v'>9.334622294426413</span></li></ul></li><li><label class='ee-shut'>2: [-0.1870778198242107, 9.480942834852012]<input type='checkbox' class='ee-toggle'></label><ul><li><span class='ee-k'>0:</span><span class='ee-v'>-0.1870778198242107</span></li><li><span class='ee-k'>1:</span><span class='ee-v'>9.480942834852012</span></li></ul></li><li><label class='ee-shut'>3: [-0.3436329956054606, 9.48094283485201]<input type='checkbox' class='ee-toggle'></label><ul><li><span class='ee-k'>0:</span><span class='ee-v'>-0.3436329956054606</span></li><li><span class='ee-k'>1:</span><span class='ee-v'>9.48094283485201</span></li></ul></li><li><label class='ee-shut'>4: [-0.3436329956054607, 9.334622294426413]<input type='checkbox' class='ee-toggle'></label><ul><li><span class='ee-k'>0:</span><span class='ee-v'>-0.3436329956054607</span></li><li><span class='ee-k'>1:</span><span class='ee-v'>9.334622294426413</span></li></ul></li></ul></li></ul></li></ul></li><li><span class='ee-k'>system:index:</span><span class='ee-v'>20211013T101951_20211013T102746_T30PYR</span></li><li><span class='ee-k'>system:time_end:</span><span class='ee-v'>1634121513443</span></li><li><span class='ee-k'>system:time_start:</span><span class='ee-v'>1634121513443</span></li></ul></li></ul></li><li><label class='ee-shut'>4: Image COPERNICUS/S2_SR/20211013T101951_20211013T102746_T30PZR (1 band)<input type='checkbox' class='ee-toggle'></label><ul><li><span class='ee-k'>type:</span><span class='ee-v'>Image</span></li><li><span class='ee-k'>id:</span><span class='ee-v'>COPERNICUS/S2_SR/20211013T101951_20211013T102746_T30PZR</span></li><li><span class='ee-k'>version:</span><span class='ee-v'>1634342198268606</span></li><li><label class='ee-shut'>bands: List (1 element)<input type='checkbox' class='ee-toggle'></label><ul><li><label class='ee-shut'>0: \"smoothed_evi\", double, EPSG:4326<input type='checkbox' class='ee-toggle'></label><ul><li><span class='ee-k'>id:</span><span class='ee-v'>smoothed_evi</span></li><li><span class='ee-k'>crs:</span><span class='ee-v'>EPSG:4326</span></li><li><label class='ee-shut'>crs_transform: [1, 0, 0, 0, 1, 0]<input type='checkbox' class='ee-toggle'></label><ul><li><span class='ee-k'>0:</span><span class='ee-v'>1</span></li><li><span class='ee-k'>1:</span><span class='ee-v'>0</span></li><li><span class='ee-k'>2:</span><span class='ee-v'>0</span></li><li><span class='ee-k'>3:</span><span class='ee-v'>0</span></li><li><span class='ee-k'>4:</span><span class='ee-v'>1</span></li><li><span class='ee-k'>5:</span><span class='ee-v'>0</span></li></ul></li><li><label class='ee-shut'>data_type: double<input type='checkbox' class='ee-toggle'></label><ul><li><span class='ee-k'>type:</span><span class='ee-v'>PixelType</span></li><li><span class='ee-k'>precision:</span><span class='ee-v'>double</span></li></ul></li></ul></li></ul></li><li><label class='ee-shut'>properties: Object (83 properties)<input type='checkbox' class='ee-toggle'></label><ul><li><span class='ee-k'>AOT_RETRIEVAL_ACCURACY:</span><span class='ee-v'>0</span></li><li><span class='ee-k'>CLOUDY_PIXEL_PERCENTAGE:</span><span class='ee-v'>8.320495</span></li><li><span class='ee-k'>CLOUD_COVERAGE_ASSESSMENT:</span><span class='ee-v'>8.320495</span></li><li><span class='ee-k'>CLOUD_SHADOW_PERCENTAGE:</span><span class='ee-v'>1.103501</span></li><li><span class='ee-k'>DARK_FEATURES_PERCENTAGE:</span><span class='ee-v'>0.167062</span></li><li><span class='ee-k'>DATASTRIP_ID:</span><span class='ee-v'>S2A_OPER_MSI_L2A_DS_VGS2_20211013T132717_S20211013T102746_N03.01</span></li><li><span class='ee-k'>DATATAKE_IDENTIFIER:</span><span class='ee-v'>GS2A_20211013T101951_032952_N03.01</span></li><li><span class='ee-k'>DATATAKE_TYPE:</span><span class='ee-v'>INS-NOBS</span></li><li><span class='ee-k'>DEGRADED_MSI_DATA_PERCENTAGE:</span><span class='ee-v'>0</span></li><li><span class='ee-k'>FORMAT_CORRECTNESS:</span><span class='ee-v'>PASSED</span></li><li><span class='ee-k'>GENERAL_QUALITY:</span><span class='ee-v'>PASSED</span></li><li><span class='ee-k'>GENERATION_TIME:</span><span class='ee-v'>1634131637000</span></li><li><span class='ee-k'>GEOMETRIC_QUALITY:</span><span class='ee-v'>PASSED</span></li><li><span class='ee-k'>GRANULE_ID:</span><span class='ee-v'>L2A_T30PZR_A032952_20211013T102746</span></li><li><span class='ee-k'>HIGH_PROBA_CLOUDS_PERCENTAGE:</span><span class='ee-v'>5.989413</span></li><li><span class='ee-k'>MEAN_INCIDENCE_AZIMUTH_ANGLE_B1:</span><span class='ee-v'>283.94042638894</span></li><li><span class='ee-k'>MEAN_INCIDENCE_AZIMUTH_ANGLE_B10:</span><span class='ee-v'>283.783303254698</span></li><li><span class='ee-k'>MEAN_INCIDENCE_AZIMUTH_ANGLE_B11:</span><span class='ee-v'>283.87599434572</span></li><li><span class='ee-k'>MEAN_INCIDENCE_AZIMUTH_ANGLE_B12:</span><span class='ee-v'>283.989421050062</span></li><li><span class='ee-k'>MEAN_INCIDENCE_AZIMUTH_ANGLE_B2:</span><span class='ee-v'>283.767162799725</span></li><li><span class='ee-k'>MEAN_INCIDENCE_AZIMUTH_ANGLE_B3:</span><span class='ee-v'>283.823470686438</span></li><li><span class='ee-k'>MEAN_INCIDENCE_AZIMUTH_ANGLE_B4:</span><span class='ee-v'>283.879511856972</span></li><li><span class='ee-k'>MEAN_INCIDENCE_AZIMUTH_ANGLE_B5:</span><span class='ee-v'>283.899790339146</span></li><li><span class='ee-k'>MEAN_INCIDENCE_AZIMUTH_ANGLE_B6:</span><span class='ee-v'>283.935672954833</span></li><li><span class='ee-k'>MEAN_INCIDENCE_AZIMUTH_ANGLE_B7:</span><span class='ee-v'>283.959111149368</span></li><li><span class='ee-k'>MEAN_INCIDENCE_AZIMUTH_ANGLE_B8:</span><span class='ee-v'>283.795094471176</span></li><li><span class='ee-k'>MEAN_INCIDENCE_AZIMUTH_ANGLE_B8A:</span><span class='ee-v'>283.967796063528</span></li><li><span class='ee-k'>MEAN_INCIDENCE_AZIMUTH_ANGLE_B9:</span><span class='ee-v'>283.972245668421</span></li><li><span class='ee-k'>MEAN_INCIDENCE_ZENITH_ANGLE_B1:</span><span class='ee-v'>7.77044880520331</span></li><li><span class='ee-k'>MEAN_INCIDENCE_ZENITH_ANGLE_B10:</span><span class='ee-v'>7.61944803268427</span></li><li><span class='ee-k'>MEAN_INCIDENCE_ZENITH_ANGLE_B11:</span><span class='ee-v'>7.69131916469915</span></li><li><span class='ee-k'>MEAN_INCIDENCE_ZENITH_ANGLE_B12:</span><span class='ee-v'>7.76266418615306</span></li><li><span class='ee-k'>MEAN_INCIDENCE_ZENITH_ANGLE_B2:</span><span class='ee-v'>7.55272209777209</span></li><li><span class='ee-k'>MEAN_INCIDENCE_ZENITH_ANGLE_B3:</span><span class='ee-v'>7.58240758466275</span></li><li><span class='ee-k'>MEAN_INCIDENCE_ZENITH_ANGLE_B4:</span><span class='ee-v'>7.62087597387526</span></li><li><span class='ee-k'>MEAN_INCIDENCE_ZENITH_ANGLE_B5:</span><span class='ee-v'>7.64535050588382</span></li><li><span class='ee-k'>MEAN_INCIDENCE_ZENITH_ANGLE_B6:</span><span class='ee-v'>7.67671952685432</span></li><li><span class='ee-k'>MEAN_INCIDENCE_ZENITH_ANGLE_B7:</span><span class='ee-v'>7.70682390087654</span></li><li><span class='ee-k'>MEAN_INCIDENCE_ZENITH_ANGLE_B8:</span><span class='ee-v'>7.56608139165611</span></li><li><span class='ee-k'>MEAN_INCIDENCE_ZENITH_ANGLE_B8A:</span><span class='ee-v'>7.74291455522663</span></li><li><span class='ee-k'>MEAN_INCIDENCE_ZENITH_ANGLE_B9:</span><span class='ee-v'>7.80957978049985</span></li><li><span class='ee-k'>MEAN_SOLAR_AZIMUTH_ANGLE:</span><span class='ee-v'>135.743598900617</span></li><li><span class='ee-k'>MEAN_SOLAR_ZENITH_ANGLE:</span><span class='ee-v'>24.0490371007452</span></li><li><span class='ee-k'>MEDIUM_PROBA_CLOUDS_PERCENTAGE:</span><span class='ee-v'>2.082183</span></li><li><span class='ee-k'>MGRS_TILE:</span><span class='ee-v'>30PZR</span></li><li><span class='ee-k'>NODATA_PIXEL_PERCENTAGE:</span><span class='ee-v'>4.996251</span></li><li><span class='ee-k'>NOT_VEGETATED_PERCENTAGE:</span><span class='ee-v'>4.167524</span></li><li><span class='ee-k'>PROCESSING_BASELINE:</span><span class='ee-v'>03.01</span></li><li><span class='ee-k'>PRODUCT_ID:</span><span class='ee-v'>S2A_MSIL2A_20211013T101951_N0301_R065_T30PZR_20211013T132717</span></li><li><span class='ee-k'>RADIATIVE_TRANSFER_ACCURACY:</span><span class='ee-v'>0</span></li><li><span class='ee-k'>RADIOMETRIC_QUALITY:</span><span class='ee-v'>PASSED</span></li><li><span class='ee-k'>REFLECTANCE_CONVERSION_CORRECTION:</span><span class='ee-v'>1.00319681977373</span></li><li><span class='ee-k'>SATURATED_DEFECTIVE_PIXEL_PERCENTAGE:</span><span class='ee-v'>0</span></li><li><span class='ee-k'>SENSING_ORBIT_DIRECTION:</span><span class='ee-v'>DESCENDING</span></li><li><span class='ee-k'>SENSING_ORBIT_NUMBER:</span><span class='ee-v'>65</span></li><li><span class='ee-k'>SENSOR_QUALITY:</span><span class='ee-v'>PASSED</span></li><li><span class='ee-k'>SNOW_ICE_PERCENTAGE:</span><span class='ee-v'>0</span></li><li><span class='ee-k'>SOLAR_IRRADIANCE_B1:</span><span class='ee-v'>1884.69</span></li><li><span class='ee-k'>SOLAR_IRRADIANCE_B10:</span><span class='ee-v'>367.15</span></li><li><span class='ee-k'>SOLAR_IRRADIANCE_B11:</span><span class='ee-v'>245.59</span></li><li><span class='ee-k'>SOLAR_IRRADIANCE_B12:</span><span class='ee-v'>85.25</span></li><li><span class='ee-k'>SOLAR_IRRADIANCE_B2:</span><span class='ee-v'>1959.66</span></li><li><span class='ee-k'>SOLAR_IRRADIANCE_B3:</span><span class='ee-v'>1823.24</span></li><li><span class='ee-k'>SOLAR_IRRADIANCE_B4:</span><span class='ee-v'>1512.06</span></li><li><span class='ee-k'>SOLAR_IRRADIANCE_B5:</span><span class='ee-v'>1424.64</span></li><li><span class='ee-k'>SOLAR_IRRADIANCE_B6:</span><span class='ee-v'>1287.61</span></li><li><span class='ee-k'>SOLAR_IRRADIANCE_B7:</span><span class='ee-v'>1162.08</span></li><li><span class='ee-k'>SOLAR_IRRADIANCE_B8:</span><span class='ee-v'>1041.63</span></li><li><span class='ee-k'>SOLAR_IRRADIANCE_B8A:</span><span class='ee-v'>955.32</span></li><li><span class='ee-k'>SOLAR_IRRADIANCE_B9:</span><span class='ee-v'>812.92</span></li><li><span class='ee-k'>SPACECRAFT_NAME:</span><span class='ee-v'>Sentinel-2A</span></li><li><span class='ee-k'>THIN_CIRRUS_PERCENTAGE:</span><span class='ee-v'>0.248898</span></li><li><span class='ee-k'>UNCLASSIFIED_PERCENTAGE:</span><span class='ee-v'>1.795872</span></li><li><span class='ee-k'>VEGETATION_PERCENTAGE:</span><span class='ee-v'>84.357506</span></li><li><span class='ee-k'>WATER_PERCENTAGE:</span><span class='ee-v'>0.088041</span></li><li><span class='ee-k'>WATER_VAPOUR_RETRIEVAL_ACCURACY:</span><span class='ee-v'>0</span></li><li><span class='ee-k'>date:</span><span class='ee-v'>2021-10-13T10:38:29</span></li><li><span class='ee-k'>smoothed_evi:</span><span class='ee-v'>1.6253277793194927</span></li><li><span class='ee-k'>system:asset_size:</span><span class='ee-v'>1702258133</span></li><li><label class='ee-shut'>system:footprint: Polygon (6 vertices)<input type='checkbox' class='ee-toggle'></label><ul><li><span class='ee-k'>type:</span><span class='ee-v'>Polygon</span></li><li><label class='ee-shut'>coordinates: List (1 element)<input type='checkbox' class='ee-toggle'></label><ul><li><label class='ee-shut'>0: List (6 elements)<input type='checkbox' class='ee-toggle'></label><ul><li><label class='ee-shut'>0: [-0.26814381866412906, 9.480951511322822]<input type='checkbox' class='ee-toggle'></label><ul><li><span class='ee-k'>0:</span><span class='ee-v'>-0.26814381866412906</span></li><li><span class='ee-k'>1:</span><span class='ee-v'>9.480951511322822</span></li></ul></li><li><label class='ee-shut'>1: [-0.26843640767326354, 9.444324152065583]<input type='checkbox' class='ee-toggle'></label><ul><li><span class='ee-k'>0:</span><span class='ee-v'>-0.26843640767326354</span></li><li><span class='ee-k'>1:</span><span class='ee-v'>9.444324152065583</span></li></ul></li><li><label class='ee-shut'>2: [-0.26928977486125355, 9.334630831044018]<input type='checkbox' class='ee-toggle'></label><ul><li><span class='ee-k'>0:</span><span class='ee-v'>-0.26928977486125355</span></li><li><span class='ee-k'>1:</span><span class='ee-v'>9.334630831044018</span></li></ul></li><li><label class='ee-shut'>3: [-0.1870778198242107, 9.334622294426413]<input type='checkbox' class='ee-toggle'></label><ul><li><span class='ee-k'>0:</span><span class='ee-v'>-0.1870778198242107</span></li><li><span class='ee-k'>1:</span><span class='ee-v'>9.334622294426413</span></li></ul></li><li><label class='ee-shut'>4: [-0.1870778198242107, 9.480942834852012]<input type='checkbox' class='ee-toggle'></label><ul><li><span class='ee-k'>0:</span><span class='ee-v'>-0.1870778198242107</span></li><li><span class='ee-k'>1:</span><span class='ee-v'>9.480942834852012</span></li></ul></li><li><label class='ee-shut'>5: [-0.26814381866412906, 9.480951511322822]<input type='checkbox' class='ee-toggle'></label><ul><li><span class='ee-k'>0:</span><span class='ee-v'>-0.26814381866412906</span></li><li><span class='ee-k'>1:</span><span class='ee-v'>9.480951511322822</span></li></ul></li></ul></li></ul></li></ul></li><li><span class='ee-k'>system:index:</span><span class='ee-v'>20211013T101951_20211013T102746_T30PZR</span></li><li><span class='ee-k'>system:time_end:</span><span class='ee-v'>1634121509864</span></li><li><span class='ee-k'>system:time_start:</span><span class='ee-v'>1634121509864</span></li></ul></li></ul></li><li><label class='ee-shut'>5: Image COPERNICUS/S2_SR/20211107T102129_20211107T103438_T30PYR (1 band)<input type='checkbox' class='ee-toggle'></label><ul><li><span class='ee-k'>type:</span><span class='ee-v'>Image</span></li><li><span class='ee-k'>id:</span><span class='ee-v'>COPERNICUS/S2_SR/20211107T102129_20211107T103438_T30PYR</span></li><li><span class='ee-k'>version:</span><span class='ee-v'>1636411754079809</span></li><li><label class='ee-shut'>bands: List (1 element)<input type='checkbox' class='ee-toggle'></label><ul><li><label class='ee-shut'>0: \"smoothed_evi\", double, EPSG:4326<input type='checkbox' class='ee-toggle'></label><ul><li><span class='ee-k'>id:</span><span class='ee-v'>smoothed_evi</span></li><li><span class='ee-k'>crs:</span><span class='ee-v'>EPSG:4326</span></li><li><label class='ee-shut'>crs_transform: [1, 0, 0, 0, 1, 0]<input type='checkbox' class='ee-toggle'></label><ul><li><span class='ee-k'>0:</span><span class='ee-v'>1</span></li><li><span class='ee-k'>1:</span><span class='ee-v'>0</span></li><li><span class='ee-k'>2:</span><span class='ee-v'>0</span></li><li><span class='ee-k'>3:</span><span class='ee-v'>0</span></li><li><span class='ee-k'>4:</span><span class='ee-v'>1</span></li><li><span class='ee-k'>5:</span><span class='ee-v'>0</span></li></ul></li><li><label class='ee-shut'>data_type: double<input type='checkbox' class='ee-toggle'></label><ul><li><span class='ee-k'>type:</span><span class='ee-v'>PixelType</span></li><li><span class='ee-k'>precision:</span><span class='ee-v'>double</span></li></ul></li></ul></li></ul></li><li><label class='ee-shut'>properties: Object (83 properties)<input type='checkbox' class='ee-toggle'></label><ul><li><span class='ee-k'>AOT_RETRIEVAL_ACCURACY:</span><span class='ee-v'>0</span></li><li><span class='ee-k'>CLOUDY_PIXEL_PERCENTAGE:</span><span class='ee-v'>4.015043</span></li><li><span class='ee-k'>CLOUD_COVERAGE_ASSESSMENT:</span><span class='ee-v'>4.015043</span></li><li><span class='ee-k'>CLOUD_SHADOW_PERCENTAGE:</span><span class='ee-v'>1.93721</span></li><li><span class='ee-k'>DARK_FEATURES_PERCENTAGE:</span><span class='ee-v'>0.858746</span></li><li><span class='ee-k'>DATASTRIP_ID:</span><span class='ee-v'>S2B_OPER_MSI_L2A_DS_VGS2_20211107T130201_S20211107T103438_N03.01</span></li><li><span class='ee-k'>DATATAKE_IDENTIFIER:</span><span class='ee-v'>GS2B_20211107T102129_024401_N03.01</span></li><li><span class='ee-k'>DATATAKE_TYPE:</span><span class='ee-v'>INS-NOBS</span></li><li><span class='ee-k'>DEGRADED_MSI_DATA_PERCENTAGE:</span><span class='ee-v'>0</span></li><li><span class='ee-k'>FORMAT_CORRECTNESS:</span><span class='ee-v'>PASSED</span></li><li><span class='ee-k'>GENERAL_QUALITY:</span><span class='ee-v'>PASSED</span></li><li><span class='ee-k'>GENERATION_TIME:</span><span class='ee-v'>1636290121000</span></li><li><span class='ee-k'>GEOMETRIC_QUALITY:</span><span class='ee-v'>PASSED</span></li><li><span class='ee-k'>GRANULE_ID:</span><span class='ee-v'>L2A_T30PYR_A024401_20211107T103438</span></li><li><span class='ee-k'>HIGH_PROBA_CLOUDS_PERCENTAGE:</span><span class='ee-v'>1.84293</span></li><li><span class='ee-k'>MEAN_INCIDENCE_AZIMUTH_ANGLE_B1:</span><span class='ee-v'>175.722896214986</span></li><li><span class='ee-k'>MEAN_INCIDENCE_AZIMUTH_ANGLE_B10:</span><span class='ee-v'>177.029952854985</span></li><li><span class='ee-k'>MEAN_INCIDENCE_AZIMUTH_ANGLE_B11:</span><span class='ee-v'>176.309224875594</span></li><li><span class='ee-k'>MEAN_INCIDENCE_AZIMUTH_ANGLE_B12:</span><span class='ee-v'>175.877898313311</span></li><li><span class='ee-k'>MEAN_INCIDENCE_AZIMUTH_ANGLE_B2:</span><span class='ee-v'>179.7011721084</span></li><li><span class='ee-k'>MEAN_INCIDENCE_AZIMUTH_ANGLE_B3:</span><span class='ee-v'>177.976757508566</span></li><li><span class='ee-k'>MEAN_INCIDENCE_AZIMUTH_ANGLE_B4:</span><span class='ee-v'>176.863937868075</span></li><li><span class='ee-k'>MEAN_INCIDENCE_AZIMUTH_ANGLE_B5:</span><span class='ee-v'>176.465086360665</span></li><li><span class='ee-k'>MEAN_INCIDENCE_AZIMUTH_ANGLE_B6:</span><span class='ee-v'>176.173351813908</span></li><li><span class='ee-k'>MEAN_INCIDENCE_AZIMUTH_ANGLE_B7:</span><span class='ee-v'>176.055471105216</span></li><li><span class='ee-k'>MEAN_INCIDENCE_AZIMUTH_ANGLE_B8:</span><span class='ee-v'>178.86989655377</span></li><li><span class='ee-k'>MEAN_INCIDENCE_AZIMUTH_ANGLE_B8A:</span><span class='ee-v'>175.906419348104</span></li><li><span class='ee-k'>MEAN_INCIDENCE_AZIMUTH_ANGLE_B9:</span><span class='ee-v'>175.665116176238</span></li><li><span class='ee-k'>MEAN_INCIDENCE_ZENITH_ANGLE_B1:</span><span class='ee-v'>3.07271440203091</span></li><li><span class='ee-k'>MEAN_INCIDENCE_ZENITH_ANGLE_B10:</span><span class='ee-v'>2.61681120864466</span></li><li><span class='ee-k'>MEAN_INCIDENCE_ZENITH_ANGLE_B11:</span><span class='ee-v'>2.79734998669488</span></li><li><span class='ee-k'>MEAN_INCIDENCE_ZENITH_ANGLE_B12:</span><span class='ee-v'>2.99958093659593</span></li><li><span class='ee-k'>MEAN_INCIDENCE_ZENITH_ANGLE_B2:</span><span class='ee-v'>2.42776353322372</span></li><li><span class='ee-k'>MEAN_INCIDENCE_ZENITH_ANGLE_B3:</span><span class='ee-v'>2.53672582180991</span></li><li><span class='ee-k'>MEAN_INCIDENCE_ZENITH_ANGLE_B4:</span><span class='ee-v'>2.65899349586475</span></li><li><span class='ee-k'>MEAN_INCIDENCE_ZENITH_ANGLE_B5:</span><span class='ee-v'>2.73299855825849</span></li><li><span class='ee-k'>MEAN_INCIDENCE_ZENITH_ANGLE_B6:</span><span class='ee-v'>2.81163620471577</span></li><li><span class='ee-k'>MEAN_INCIDENCE_ZENITH_ANGLE_B7:</span><span class='ee-v'>2.89213794035787</span></li><li><span class='ee-k'>MEAN_INCIDENCE_ZENITH_ANGLE_B8:</span><span class='ee-v'>2.4787989796939</span></li><li><span class='ee-k'>MEAN_INCIDENCE_ZENITH_ANGLE_B8A:</span><span class='ee-v'>2.9788615298012</span></li><li><span class='ee-k'>MEAN_INCIDENCE_ZENITH_ANGLE_B9:</span><span class='ee-v'>3.16873509541816</span></li><li><span class='ee-k'>MEAN_SOLAR_AZIMUTH_ANGLE:</span><span class='ee-v'>146.869499462578</span></li><li><span class='ee-k'>MEAN_SOLAR_ZENITH_ANGLE:</span><span class='ee-v'>30.8337349034065</span></li><li><span class='ee-k'>MEDIUM_PROBA_CLOUDS_PERCENTAGE:</span><span class='ee-v'>1.460509</span></li><li><span class='ee-k'>MGRS_TILE:</span><span class='ee-v'>30PYR</span></li><li><span class='ee-k'>NODATA_PIXEL_PERCENTAGE:</span><span class='ee-v'>0</span></li><li><span class='ee-k'>NOT_VEGETATED_PERCENTAGE:</span><span class='ee-v'>20.78228</span></li><li><span class='ee-k'>PROCESSING_BASELINE:</span><span class='ee-v'>03.01</span></li><li><span class='ee-k'>PRODUCT_ID:</span><span class='ee-v'>S2B_MSIL2A_20211107T102129_N0301_R065_T30PYR_20211107T130201</span></li><li><span class='ee-k'>RADIATIVE_TRANSFER_ACCURACY:</span><span class='ee-v'>0</span></li><li><span class='ee-k'>RADIOMETRIC_QUALITY:</span><span class='ee-v'>PASSED</span></li><li><span class='ee-k'>REFLECTANCE_CONVERSION_CORRECTION:</span><span class='ee-v'>1.016998086878</span></li><li><span class='ee-k'>SATURATED_DEFECTIVE_PIXEL_PERCENTAGE:</span><span class='ee-v'>0</span></li><li><span class='ee-k'>SENSING_ORBIT_DIRECTION:</span><span class='ee-v'>DESCENDING</span></li><li><span class='ee-k'>SENSING_ORBIT_NUMBER:</span><span class='ee-v'>65</span></li><li><span class='ee-k'>SENSOR_QUALITY:</span><span class='ee-v'>PASSED</span></li><li><span class='ee-k'>SNOW_ICE_PERCENTAGE:</span><span class='ee-v'>0</span></li><li><span class='ee-k'>SOLAR_IRRADIANCE_B1:</span><span class='ee-v'>1874.3</span></li><li><span class='ee-k'>SOLAR_IRRADIANCE_B10:</span><span class='ee-v'>365.41</span></li><li><span class='ee-k'>SOLAR_IRRADIANCE_B11:</span><span class='ee-v'>247.08</span></li><li><span class='ee-k'>SOLAR_IRRADIANCE_B12:</span><span class='ee-v'>87.75</span></li><li><span class='ee-k'>SOLAR_IRRADIANCE_B2:</span><span class='ee-v'>1959.75</span></li><li><span class='ee-k'>SOLAR_IRRADIANCE_B3:</span><span class='ee-v'>1824.93</span></li><li><span class='ee-k'>SOLAR_IRRADIANCE_B4:</span><span class='ee-v'>1512.79</span></li><li><span class='ee-k'>SOLAR_IRRADIANCE_B5:</span><span class='ee-v'>1425.78</span></li><li><span class='ee-k'>SOLAR_IRRADIANCE_B6:</span><span class='ee-v'>1291.13</span></li><li><span class='ee-k'>SOLAR_IRRADIANCE_B7:</span><span class='ee-v'>1175.57</span></li><li><span class='ee-k'>SOLAR_IRRADIANCE_B8:</span><span class='ee-v'>1041.28</span></li><li><span class='ee-k'>SOLAR_IRRADIANCE_B8A:</span><span class='ee-v'>953.93</span></li><li><span class='ee-k'>SOLAR_IRRADIANCE_B9:</span><span class='ee-v'>817.58</span></li><li><span class='ee-k'>SPACECRAFT_NAME:</span><span class='ee-v'>Sentinel-2B</span></li><li><span class='ee-k'>THIN_CIRRUS_PERCENTAGE:</span><span class='ee-v'>0.711603</span></li><li><span class='ee-k'>UNCLASSIFIED_PERCENTAGE:</span><span class='ee-v'>2.274173</span></li><li><span class='ee-k'>VEGETATION_PERCENTAGE:</span><span class='ee-v'>70.002234</span></li><li><span class='ee-k'>WATER_PERCENTAGE:</span><span class='ee-v'>0.130315</span></li><li><span class='ee-k'>WATER_VAPOUR_RETRIEVAL_ACCURACY:</span><span class='ee-v'>0</span></li><li><span class='ee-k'>date:</span><span class='ee-v'>2021-11-07T10:38:28</span></li><li><span class='ee-k'>smoothed_evi:</span><span class='ee-v'>1.2074241721467849</span></li><li><span class='ee-k'>system:asset_size:</span><span class='ee-v'>1781283418</span></li><li><label class='ee-shut'>system:footprint: Polygon (5 vertices)<input type='checkbox' class='ee-toggle'></label><ul><li><span class='ee-k'>type:</span><span class='ee-v'>Polygon</span></li><li><label class='ee-shut'>coordinates: List (1 element)<input type='checkbox' class='ee-toggle'></label><ul><li><label class='ee-shut'>0: List (5 elements)<input type='checkbox' class='ee-toggle'></label><ul><li><label class='ee-shut'>0: [-0.3436329956054607, 9.334622294426413]<input type='checkbox' class='ee-toggle'></label><ul><li><span class='ee-k'>0:</span><span class='ee-v'>-0.3436329956054607</span></li><li><span class='ee-k'>1:</span><span class='ee-v'>9.334622294426413</span></li></ul></li><li><label class='ee-shut'>1: [-0.1870778198242107, 9.334622294426413]<input type='checkbox' class='ee-toggle'></label><ul><li><span class='ee-k'>0:</span><span class='ee-v'>-0.1870778198242107</span></li><li><span class='ee-k'>1:</span><span class='ee-v'>9.334622294426413</span></li></ul></li><li><label class='ee-shut'>2: [-0.1870778198242107, 9.480942834852012]<input type='checkbox' class='ee-toggle'></label><ul><li><span class='ee-k'>0:</span><span class='ee-v'>-0.1870778198242107</span></li><li><span class='ee-k'>1:</span><span class='ee-v'>9.480942834852012</span></li></ul></li><li><label class='ee-shut'>3: [-0.3436329956054606, 9.48094283485201]<input type='checkbox' class='ee-toggle'></label><ul><li><span class='ee-k'>0:</span><span class='ee-v'>-0.3436329956054606</span></li><li><span class='ee-k'>1:</span><span class='ee-v'>9.48094283485201</span></li></ul></li><li><label class='ee-shut'>4: [-0.3436329956054607, 9.334622294426413]<input type='checkbox' class='ee-toggle'></label><ul><li><span class='ee-k'>0:</span><span class='ee-v'>-0.3436329956054607</span></li><li><span class='ee-k'>1:</span><span class='ee-v'>9.334622294426413</span></li></ul></li></ul></li></ul></li></ul></li><li><span class='ee-k'>system:index:</span><span class='ee-v'>20211107T102129_20211107T103438_T30PYR</span></li><li><span class='ee-k'>system:time_end:</span><span class='ee-v'>1636281508372</span></li><li><span class='ee-k'>system:time_start:</span><span class='ee-v'>1636281508372</span></li></ul></li></ul></li><li><label class='ee-shut'>6: Image COPERNICUS/S2_SR/20211107T102129_20211107T103438_T30PZR (1 band)<input type='checkbox' class='ee-toggle'></label><ul><li><span class='ee-k'>type:</span><span class='ee-v'>Image</span></li><li><span class='ee-k'>id:</span><span class='ee-v'>COPERNICUS/S2_SR/20211107T102129_20211107T103438_T30PZR</span></li><li><span class='ee-k'>version:</span><span class='ee-v'>1636414726001266</span></li><li><label class='ee-shut'>bands: List (1 element)<input type='checkbox' class='ee-toggle'></label><ul><li><label class='ee-shut'>0: \"smoothed_evi\", double, EPSG:4326<input type='checkbox' class='ee-toggle'></label><ul><li><span class='ee-k'>id:</span><span class='ee-v'>smoothed_evi</span></li><li><span class='ee-k'>crs:</span><span class='ee-v'>EPSG:4326</span></li><li><label class='ee-shut'>crs_transform: [1, 0, 0, 0, 1, 0]<input type='checkbox' class='ee-toggle'></label><ul><li><span class='ee-k'>0:</span><span class='ee-v'>1</span></li><li><span class='ee-k'>1:</span><span class='ee-v'>0</span></li><li><span class='ee-k'>2:</span><span class='ee-v'>0</span></li><li><span class='ee-k'>3:</span><span class='ee-v'>0</span></li><li><span class='ee-k'>4:</span><span class='ee-v'>1</span></li><li><span class='ee-k'>5:</span><span class='ee-v'>0</span></li></ul></li><li><label class='ee-shut'>data_type: double<input type='checkbox' class='ee-toggle'></label><ul><li><span class='ee-k'>type:</span><span class='ee-v'>PixelType</span></li><li><span class='ee-k'>precision:</span><span class='ee-v'>double</span></li></ul></li></ul></li></ul></li><li><label class='ee-shut'>properties: Object (83 properties)<input type='checkbox' class='ee-toggle'></label><ul><li><span class='ee-k'>AOT_RETRIEVAL_ACCURACY:</span><span class='ee-v'>0</span></li><li><span class='ee-k'>CLOUDY_PIXEL_PERCENTAGE:</span><span class='ee-v'>13.253409</span></li><li><span class='ee-k'>CLOUD_COVERAGE_ASSESSMENT:</span><span class='ee-v'>13.253409</span></li><li><span class='ee-k'>CLOUD_SHADOW_PERCENTAGE:</span><span class='ee-v'>4.630915</span></li><li><span class='ee-k'>DARK_FEATURES_PERCENTAGE:</span><span class='ee-v'>2.155977</span></li><li><span class='ee-k'>DATASTRIP_ID:</span><span class='ee-v'>S2B_OPER_MSI_L2A_DS_VGS2_20211107T130201_S20211107T103438_N03.01</span></li><li><span class='ee-k'>DATATAKE_IDENTIFIER:</span><span class='ee-v'>GS2B_20211107T102129_024401_N03.01</span></li><li><span class='ee-k'>DATATAKE_TYPE:</span><span class='ee-v'>INS-NOBS</span></li><li><span class='ee-k'>DEGRADED_MSI_DATA_PERCENTAGE:</span><span class='ee-v'>0</span></li><li><span class='ee-k'>FORMAT_CORRECTNESS:</span><span class='ee-v'>PASSED</span></li><li><span class='ee-k'>GENERAL_QUALITY:</span><span class='ee-v'>PASSED</span></li><li><span class='ee-k'>GENERATION_TIME:</span><span class='ee-v'>1636290121000</span></li><li><span class='ee-k'>GEOMETRIC_QUALITY:</span><span class='ee-v'>PASSED</span></li><li><span class='ee-k'>GRANULE_ID:</span><span class='ee-v'>L2A_T30PZR_A024401_20211107T103438</span></li><li><span class='ee-k'>HIGH_PROBA_CLOUDS_PERCENTAGE:</span><span class='ee-v'>8.167472</span></li><li><span class='ee-k'>MEAN_INCIDENCE_AZIMUTH_ANGLE_B1:</span><span class='ee-v'>282.999363937525</span></li><li><span class='ee-k'>MEAN_INCIDENCE_AZIMUTH_ANGLE_B10:</span><span class='ee-v'>282.764095666606</span></li><li><span class='ee-k'>MEAN_INCIDENCE_AZIMUTH_ANGLE_B11:</span><span class='ee-v'>282.877983553111</span></li><li><span class='ee-k'>MEAN_INCIDENCE_AZIMUTH_ANGLE_B12:</span><span class='ee-v'>282.934317388528</span></li><li><span class='ee-k'>MEAN_INCIDENCE_AZIMUTH_ANGLE_B2:</span><span class='ee-v'>282.749481801375</span></li><li><span class='ee-k'>MEAN_INCIDENCE_AZIMUTH_ANGLE_B3:</span><span class='ee-v'>282.835044455532</span></li><li><span class='ee-k'>MEAN_INCIDENCE_AZIMUTH_ANGLE_B4:</span><span class='ee-v'>282.91159318246</span></li><li><span class='ee-k'>MEAN_INCIDENCE_AZIMUTH_ANGLE_B5:</span><span class='ee-v'>282.923193222066</span></li><li><span class='ee-k'>MEAN_INCIDENCE_AZIMUTH_ANGLE_B6:</span><span class='ee-v'>282.955516258921</span></li><li><span class='ee-k'>MEAN_INCIDENCE_AZIMUTH_ANGLE_B7:</span><span class='ee-v'>283.005307428558</span></li><li><span class='ee-k'>MEAN_INCIDENCE_AZIMUTH_ANGLE_B8:</span><span class='ee-v'>282.795887804623</span></li><li><span class='ee-k'>MEAN_INCIDENCE_AZIMUTH_ANGLE_B8A:</span><span class='ee-v'>283.010871277373</span></li><li><span class='ee-k'>MEAN_INCIDENCE_AZIMUTH_ANGLE_B9:</span><span class='ee-v'>283.063574464304</span></li><li><span class='ee-k'>MEAN_INCIDENCE_ZENITH_ANGLE_B1:</span><span class='ee-v'>7.77783740883087</span></li><li><span class='ee-k'>MEAN_INCIDENCE_ZENITH_ANGLE_B10:</span><span class='ee-v'>7.61158931336401</span></li><li><span class='ee-k'>MEAN_INCIDENCE_ZENITH_ANGLE_B11:</span><span class='ee-v'>7.67476532230742</span></li><li><span class='ee-k'>MEAN_INCIDENCE_ZENITH_ANGLE_B12:</span><span class='ee-v'>7.74986062024958</span></li><li><span class='ee-k'>MEAN_INCIDENCE_ZENITH_ANGLE_B2:</span><span class='ee-v'>7.55393871532322</span></li><li><span class='ee-k'>MEAN_INCIDENCE_ZENITH_ANGLE_B3:</span><span class='ee-v'>7.58657039828218</span></li><li><span class='ee-k'>MEAN_INCIDENCE_ZENITH_ANGLE_B4:</span><span class='ee-v'>7.62400808035908</span></li><li><span class='ee-k'>MEAN_INCIDENCE_ZENITH_ANGLE_B5:</span><span class='ee-v'>7.65178919624273</span></li><li><span class='ee-k'>MEAN_INCIDENCE_ZENITH_ANGLE_B6:</span><span class='ee-v'>7.67494188847104</span></li><li><span class='ee-k'>MEAN_INCIDENCE_ZENITH_ANGLE_B7:</span><span class='ee-v'>7.71316069051422</span></li><li><span class='ee-k'>MEAN_INCIDENCE_ZENITH_ANGLE_B8:</span><span class='ee-v'>7.57037095792914</span></li><li><span class='ee-k'>MEAN_INCIDENCE_ZENITH_ANGLE_B8A:</span><span class='ee-v'>7.74202133175656</span></li><li><span class='ee-k'>MEAN_INCIDENCE_ZENITH_ANGLE_B9:</span><span class='ee-v'>7.82497334252793</span></li><li><span class='ee-k'>MEAN_SOLAR_AZIMUTH_ANGLE:</span><span class='ee-v'>148.277693436292</span></li><li><span class='ee-k'>MEAN_SOLAR_ZENITH_ANGLE:</span><span class='ee-v'>30.3517808512742</span></li><li><span class='ee-k'>MEDIUM_PROBA_CLOUDS_PERCENTAGE:</span><span class='ee-v'>4.2702</span></li><li><span class='ee-k'>MGRS_TILE:</span><span class='ee-v'>30PZR</span></li><li><span class='ee-k'>NODATA_PIXEL_PERCENTAGE:</span><span class='ee-v'>4.978753</span></li><li><span class='ee-k'>NOT_VEGETATED_PERCENTAGE:</span><span class='ee-v'>14.244491</span></li><li><span class='ee-k'>PROCESSING_BASELINE:</span><span class='ee-v'>03.01</span></li><li><span class='ee-k'>PRODUCT_ID:</span><span class='ee-v'>S2B_MSIL2A_20211107T102129_N0301_R065_T30PZR_20211107T130201</span></li><li><span class='ee-k'>RADIATIVE_TRANSFER_ACCURACY:</span><span class='ee-v'>0</span></li><li><span class='ee-k'>RADIOMETRIC_QUALITY:</span><span class='ee-v'>PASSED</span></li><li><span class='ee-k'>REFLECTANCE_CONVERSION_CORRECTION:</span><span class='ee-v'>1.016998086878</span></li><li><span class='ee-k'>SATURATED_DEFECTIVE_PIXEL_PERCENTAGE:</span><span class='ee-v'>0</span></li><li><span class='ee-k'>SENSING_ORBIT_DIRECTION:</span><span class='ee-v'>DESCENDING</span></li><li><span class='ee-k'>SENSING_ORBIT_NUMBER:</span><span class='ee-v'>65</span></li><li><span class='ee-k'>SENSOR_QUALITY:</span><span class='ee-v'>PASSED</span></li><li><span class='ee-k'>SNOW_ICE_PERCENTAGE:</span><span class='ee-v'>0</span></li><li><span class='ee-k'>SOLAR_IRRADIANCE_B1:</span><span class='ee-v'>1874.3</span></li><li><span class='ee-k'>SOLAR_IRRADIANCE_B10:</span><span class='ee-v'>365.41</span></li><li><span class='ee-k'>SOLAR_IRRADIANCE_B11:</span><span class='ee-v'>247.08</span></li><li><span class='ee-k'>SOLAR_IRRADIANCE_B12:</span><span class='ee-v'>87.75</span></li><li><span class='ee-k'>SOLAR_IRRADIANCE_B2:</span><span class='ee-v'>1959.75</span></li><li><span class='ee-k'>SOLAR_IRRADIANCE_B3:</span><span class='ee-v'>1824.93</span></li><li><span class='ee-k'>SOLAR_IRRADIANCE_B4:</span><span class='ee-v'>1512.79</span></li><li><span class='ee-k'>SOLAR_IRRADIANCE_B5:</span><span class='ee-v'>1425.78</span></li><li><span class='ee-k'>SOLAR_IRRADIANCE_B6:</span><span class='ee-v'>1291.13</span></li><li><span class='ee-k'>SOLAR_IRRADIANCE_B7:</span><span class='ee-v'>1175.57</span></li><li><span class='ee-k'>SOLAR_IRRADIANCE_B8:</span><span class='ee-v'>1041.28</span></li><li><span class='ee-k'>SOLAR_IRRADIANCE_B8A:</span><span class='ee-v'>953.93</span></li><li><span class='ee-k'>SOLAR_IRRADIANCE_B9:</span><span class='ee-v'>817.58</span></li><li><span class='ee-k'>SPACECRAFT_NAME:</span><span class='ee-v'>Sentinel-2B</span></li><li><span class='ee-k'>THIN_CIRRUS_PERCENTAGE:</span><span class='ee-v'>0.815737</span></li><li><span class='ee-k'>UNCLASSIFIED_PERCENTAGE:</span><span class='ee-v'>5.016711</span></li><li><span class='ee-k'>VEGETATION_PERCENTAGE:</span><span class='ee-v'>60.627735</span></li><li><span class='ee-k'>WATER_PERCENTAGE:</span><span class='ee-v'>0.070762</span></li><li><span class='ee-k'>WATER_VAPOUR_RETRIEVAL_ACCURACY:</span><span class='ee-v'>0</span></li><li><span class='ee-k'>date:</span><span class='ee-v'>2021-11-07T10:38:24</span></li><li><span class='ee-k'>smoothed_evi:</span><span class='ee-v'>1.2083126674625573</span></li><li><span class='ee-k'>system:asset_size:</span><span class='ee-v'>1751574574</span></li><li><label class='ee-shut'>system:footprint: Polygon (6 vertices)<input type='checkbox' class='ee-toggle'></label><ul><li><span class='ee-k'>type:</span><span class='ee-v'>Polygon</span></li><li><label class='ee-shut'>coordinates: List (1 element)<input type='checkbox' class='ee-toggle'></label><ul><li><label class='ee-shut'>0: List (6 elements)<input type='checkbox' class='ee-toggle'></label><ul><li><label class='ee-shut'>0: [-0.26814381866412906, 9.480951511322822]<input type='checkbox' class='ee-toggle'></label><ul><li><span class='ee-k'>0:</span><span class='ee-v'>-0.26814381866412906</span></li><li><span class='ee-k'>1:</span><span class='ee-v'>9.480951511322822</span></li></ul></li><li><label class='ee-shut'>1: [-0.26843640767326354, 9.444324152065583]<input type='checkbox' class='ee-toggle'></label><ul><li><span class='ee-k'>0:</span><span class='ee-v'>-0.26843640767326354</span></li><li><span class='ee-k'>1:</span><span class='ee-v'>9.444324152065583</span></li></ul></li><li><label class='ee-shut'>2: [-0.26928977486125355, 9.334630831044018]<input type='checkbox' class='ee-toggle'></label><ul><li><span class='ee-k'>0:</span><span class='ee-v'>-0.26928977486125355</span></li><li><span class='ee-k'>1:</span><span class='ee-v'>9.334630831044018</span></li></ul></li><li><label class='ee-shut'>3: [-0.1870778198242107, 9.334622294426413]<input type='checkbox' class='ee-toggle'></label><ul><li><span class='ee-k'>0:</span><span class='ee-v'>-0.1870778198242107</span></li><li><span class='ee-k'>1:</span><span class='ee-v'>9.334622294426413</span></li></ul></li><li><label class='ee-shut'>4: [-0.1870778198242107, 9.480942834852012]<input type='checkbox' class='ee-toggle'></label><ul><li><span class='ee-k'>0:</span><span class='ee-v'>-0.1870778198242107</span></li><li><span class='ee-k'>1:</span><span class='ee-v'>9.480942834852012</span></li></ul></li><li><label class='ee-shut'>5: [-0.26814381866412906, 9.480951511322822]<input type='checkbox' class='ee-toggle'></label><ul><li><span class='ee-k'>0:</span><span class='ee-v'>-0.26814381866412906</span></li><li><span class='ee-k'>1:</span><span class='ee-v'>9.480951511322822</span></li></ul></li></ul></li></ul></li></ul></li><li><span class='ee-k'>system:index:</span><span class='ee-v'>20211107T102129_20211107T103438_T30PZR</span></li><li><span class='ee-k'>system:time_end:</span><span class='ee-v'>1636281504800</span></li><li><span class='ee-k'>system:time_start:</span><span class='ee-v'>1636281504800</span></li></ul></li></ul></li><li><label class='ee-shut'>7: Image COPERNICUS/S2_SR/20211112T102251_20211112T102742_T30PZR (1 band)<input type='checkbox' class='ee-toggle'></label><ul><li><span class='ee-k'>type:</span><span class='ee-v'>Image</span></li><li><span class='ee-k'>id:</span><span class='ee-v'>COPERNICUS/S2_SR/20211112T102251_20211112T102742_T30PZR</span></li><li><span class='ee-k'>version:</span><span class='ee-v'>1636837436015479</span></li><li><label class='ee-shut'>bands: List (1 element)<input type='checkbox' class='ee-toggle'></label><ul><li><label class='ee-shut'>0: \"smoothed_evi\", double, EPSG:4326<input type='checkbox' class='ee-toggle'></label><ul><li><span class='ee-k'>id:</span><span class='ee-v'>smoothed_evi</span></li><li><span class='ee-k'>crs:</span><span class='ee-v'>EPSG:4326</span></li><li><label class='ee-shut'>crs_transform: [1, 0, 0, 0, 1, 0]<input type='checkbox' class='ee-toggle'></label><ul><li><span class='ee-k'>0:</span><span class='ee-v'>1</span></li><li><span class='ee-k'>1:</span><span class='ee-v'>0</span></li><li><span class='ee-k'>2:</span><span class='ee-v'>0</span></li><li><span class='ee-k'>3:</span><span class='ee-v'>0</span></li><li><span class='ee-k'>4:</span><span class='ee-v'>1</span></li><li><span class='ee-k'>5:</span><span class='ee-v'>0</span></li></ul></li><li><label class='ee-shut'>data_type: double<input type='checkbox' class='ee-toggle'></label><ul><li><span class='ee-k'>type:</span><span class='ee-v'>PixelType</span></li><li><span class='ee-k'>precision:</span><span class='ee-v'>double</span></li></ul></li></ul></li></ul></li><li><label class='ee-shut'>properties: Object (83 properties)<input type='checkbox' class='ee-toggle'></label><ul><li><span class='ee-k'>AOT_RETRIEVAL_ACCURACY:</span><span class='ee-v'>0</span></li><li><span class='ee-k'>CLOUDY_PIXEL_PERCENTAGE:</span><span class='ee-v'>12.990496</span></li><li><span class='ee-k'>CLOUD_COVERAGE_ASSESSMENT:</span><span class='ee-v'>12.990496</span></li><li><span class='ee-k'>CLOUD_SHADOW_PERCENTAGE:</span><span class='ee-v'>0.005572</span></li><li><span class='ee-k'>DARK_FEATURES_PERCENTAGE:</span><span class='ee-v'>0.115669</span></li><li><span class='ee-k'>DATASTRIP_ID:</span><span class='ee-v'>S2A_OPER_MSI_L2A_DS_VGS2_20211112T131901_S20211112T102742_N03.01</span></li><li><span class='ee-k'>DATATAKE_IDENTIFIER:</span><span class='ee-v'>GS2A_20211112T102251_033381_N03.01</span></li><li><span class='ee-k'>DATATAKE_TYPE:</span><span class='ee-v'>INS-NOBS</span></li><li><span class='ee-k'>DEGRADED_MSI_DATA_PERCENTAGE:</span><span class='ee-v'>0</span></li><li><span class='ee-k'>FORMAT_CORRECTNESS:</span><span class='ee-v'>PASSED</span></li><li><span class='ee-k'>GENERAL_QUALITY:</span><span class='ee-v'>PASSED</span></li><li><span class='ee-k'>GENERATION_TIME:</span><span class='ee-v'>1636723141000</span></li><li><span class='ee-k'>GEOMETRIC_QUALITY:</span><span class='ee-v'>PASSED</span></li><li><span class='ee-k'>GRANULE_ID:</span><span class='ee-v'>L2A_T30PZR_A033381_20211112T102742</span></li><li><span class='ee-k'>HIGH_PROBA_CLOUDS_PERCENTAGE:</span><span class='ee-v'>0.620929</span></li><li><span class='ee-k'>MEAN_INCIDENCE_AZIMUTH_ANGLE_B1:</span><span class='ee-v'>284.053626163917</span></li><li><span class='ee-k'>MEAN_INCIDENCE_AZIMUTH_ANGLE_B10:</span><span class='ee-v'>283.884010727034</span></li><li><span class='ee-k'>MEAN_INCIDENCE_AZIMUTH_ANGLE_B11:</span><span class='ee-v'>283.991614028931</span></li><li><span class='ee-k'>MEAN_INCIDENCE_AZIMUTH_ANGLE_B12:</span><span class='ee-v'>284.084440820611</span></li><li><span class='ee-k'>MEAN_INCIDENCE_AZIMUTH_ANGLE_B2:</span><span class='ee-v'>283.805707053766</span></li><li><span class='ee-k'>MEAN_INCIDENCE_AZIMUTH_ANGLE_B3:</span><span class='ee-v'>283.87367283319</span></li><li><span class='ee-k'>MEAN_INCIDENCE_AZIMUTH_ANGLE_B4:</span><span class='ee-v'>283.939033844437</span></li><li><span class='ee-k'>MEAN_INCIDENCE_AZIMUTH_ANGLE_B5:</span><span class='ee-v'>283.963812145052</span></li><li><span class='ee-k'>MEAN_INCIDENCE_AZIMUTH_ANGLE_B6:</span><span class='ee-v'>284.005988488706</span></li><li><span class='ee-k'>MEAN_INCIDENCE_AZIMUTH_ANGLE_B7:</span><span class='ee-v'>284.05356629183</span></li><li><span class='ee-k'>MEAN_INCIDENCE_AZIMUTH_ANGLE_B8:</span><span class='ee-v'>283.839627986393</span></li><li><span class='ee-k'>MEAN_INCIDENCE_AZIMUTH_ANGLE_B8A:</span><span class='ee-v'>284.1361806755</span></li><li><span class='ee-k'>MEAN_INCIDENCE_AZIMUTH_ANGLE_B9:</span><span class='ee-v'>284.156595469326</span></li><li><span class='ee-k'>MEAN_INCIDENCE_ZENITH_ANGLE_B1:</span><span class='ee-v'>7.72849790328998</span></li><li><span class='ee-k'>MEAN_INCIDENCE_ZENITH_ANGLE_B10:</span><span class='ee-v'>7.57306956136688</span></li><li><span class='ee-k'>MEAN_INCIDENCE_ZENITH_ANGLE_B11:</span><span class='ee-v'>7.63836148385418</span></li><li><span class='ee-k'>MEAN_INCIDENCE_ZENITH_ANGLE_B12:</span><span class='ee-v'>7.71412659723737</span></li><li><span class='ee-k'>MEAN_INCIDENCE_ZENITH_ANGLE_B2:</span><span class='ee-v'>7.51625946395681</span></li><li><span class='ee-k'>MEAN_INCIDENCE_ZENITH_ANGLE_B3:</span><span class='ee-v'>7.54620704445894</span></li><li><span class='ee-k'>MEAN_INCIDENCE_ZENITH_ANGLE_B4:</span><span class='ee-v'>7.5851229622722</span></li><li><span class='ee-k'>MEAN_INCIDENCE_ZENITH_ANGLE_B5:</span><span class='ee-v'>7.60980583425191</span></li><li><span class='ee-k'>MEAN_INCIDENCE_ZENITH_ANGLE_B6:</span><span class='ee-v'>7.63735730839635</span></li><li><span class='ee-k'>MEAN_INCIDENCE_ZENITH_ANGLE_B7:</span><span class='ee-v'>7.66837291516018</span></li><li><span class='ee-k'>MEAN_INCIDENCE_ZENITH_ANGLE_B8:</span><span class='ee-v'>7.52973677752835</span></li><li><span class='ee-k'>MEAN_INCIDENCE_ZENITH_ANGLE_B8A:</span><span class='ee-v'>7.69893525113203</span></li><li><span class='ee-k'>MEAN_INCIDENCE_ZENITH_ANGLE_B9:</span><span class='ee-v'>7.77261322796776</span></li><li><span class='ee-k'>MEAN_SOLAR_AZIMUTH_ANGLE:</span><span class='ee-v'>149.556185384717</span></li><li><span class='ee-k'>MEAN_SOLAR_ZENITH_ANGLE:</span><span class='ee-v'>31.598519612686</span></li><li><span class='ee-k'>MEDIUM_PROBA_CLOUDS_PERCENTAGE:</span><span class='ee-v'>3.980324</span></li><li><span class='ee-k'>MGRS_TILE:</span><span class='ee-v'>30PZR</span></li><li><span class='ee-k'>NODATA_PIXEL_PERCENTAGE:</span><span class='ee-v'>4.379236</span></li><li><span class='ee-k'>NOT_VEGETATED_PERCENTAGE:</span><span class='ee-v'>11.849174</span></li><li><span class='ee-k'>PROCESSING_BASELINE:</span><span class='ee-v'>03.01</span></li><li><span class='ee-k'>PRODUCT_ID:</span><span class='ee-v'>S2A_MSIL2A_20211112T102251_N0301_R065_T30PZR_20211112T131901</span></li><li><span class='ee-k'>RADIATIVE_TRANSFER_ACCURACY:</span><span class='ee-v'>0</span></li><li><span class='ee-k'>RADIOMETRIC_QUALITY:</span><span class='ee-v'>PASSED</span></li><li><span class='ee-k'>REFLECTANCE_CONVERSION_CORRECTION:</span><span class='ee-v'>1.01948942117114</span></li><li><span class='ee-k'>SATURATED_DEFECTIVE_PIXEL_PERCENTAGE:</span><span class='ee-v'>0</span></li><li><span class='ee-k'>SENSING_ORBIT_DIRECTION:</span><span class='ee-v'>DESCENDING</span></li><li><span class='ee-k'>SENSING_ORBIT_NUMBER:</span><span class='ee-v'>65</span></li><li><span class='ee-k'>SENSOR_QUALITY:</span><span class='ee-v'>PASSED</span></li><li><span class='ee-k'>SNOW_ICE_PERCENTAGE:</span><span class='ee-v'>0</span></li><li><span class='ee-k'>SOLAR_IRRADIANCE_B1:</span><span class='ee-v'>1884.69</span></li><li><span class='ee-k'>SOLAR_IRRADIANCE_B10:</span><span class='ee-v'>367.15</span></li><li><span class='ee-k'>SOLAR_IRRADIANCE_B11:</span><span class='ee-v'>245.59</span></li><li><span class='ee-k'>SOLAR_IRRADIANCE_B12:</span><span class='ee-v'>85.25</span></li><li><span class='ee-k'>SOLAR_IRRADIANCE_B2:</span><span class='ee-v'>1959.66</span></li><li><span class='ee-k'>SOLAR_IRRADIANCE_B3:</span><span class='ee-v'>1823.24</span></li><li><span class='ee-k'>SOLAR_IRRADIANCE_B4:</span><span class='ee-v'>1512.06</span></li><li><span class='ee-k'>SOLAR_IRRADIANCE_B5:</span><span class='ee-v'>1424.64</span></li><li><span class='ee-k'>SOLAR_IRRADIANCE_B6:</span><span class='ee-v'>1287.61</span></li><li><span class='ee-k'>SOLAR_IRRADIANCE_B7:</span><span class='ee-v'>1162.08</span></li><li><span class='ee-k'>SOLAR_IRRADIANCE_B8:</span><span class='ee-v'>1041.63</span></li><li><span class='ee-k'>SOLAR_IRRADIANCE_B8A:</span><span class='ee-v'>955.32</span></li><li><span class='ee-k'>SOLAR_IRRADIANCE_B9:</span><span class='ee-v'>812.92</span></li><li><span class='ee-k'>SPACECRAFT_NAME:</span><span class='ee-v'>Sentinel-2A</span></li><li><span class='ee-k'>THIN_CIRRUS_PERCENTAGE:</span><span class='ee-v'>8.389243</span></li><li><span class='ee-k'>UNCLASSIFIED_PERCENTAGE:</span><span class='ee-v'>0.407371</span></li><li><span class='ee-k'>VEGETATION_PERCENTAGE:</span><span class='ee-v'>74.50366</span></li><li><span class='ee-k'>WATER_PERCENTAGE:</span><span class='ee-v'>0.128056</span></li><li><span class='ee-k'>WATER_VAPOUR_RETRIEVAL_ACCURACY:</span><span class='ee-v'>0</span></li><li><span class='ee-k'>date:</span><span class='ee-v'>2021-11-12T10:38:26</span></li><li><span class='ee-k'>smoothed_evi:</span><span class='ee-v'>1.2242152604802554</span></li><li><span class='ee-k'>system:asset_size:</span><span class='ee-v'>1620718875</span></li><li><label class='ee-shut'>system:footprint: Polygon (6 vertices)<input type='checkbox' class='ee-toggle'></label><ul><li><span class='ee-k'>type:</span><span class='ee-v'>Polygon</span></li><li><label class='ee-shut'>coordinates: List (1 element)<input type='checkbox' class='ee-toggle'></label><ul><li><label class='ee-shut'>0: List (6 elements)<input type='checkbox' class='ee-toggle'></label><ul><li><label class='ee-shut'>0: [-0.26814381866412906, 9.480951511322822]<input type='checkbox' class='ee-toggle'></label><ul><li><span class='ee-k'>0:</span><span class='ee-v'>-0.26814381866412906</span></li><li><span class='ee-k'>1:</span><span class='ee-v'>9.480951511322822</span></li></ul></li><li><label class='ee-shut'>1: [-0.26843640767326354, 9.444324152065583]<input type='checkbox' class='ee-toggle'></label><ul><li><span class='ee-k'>0:</span><span class='ee-v'>-0.26843640767326354</span></li><li><span class='ee-k'>1:</span><span class='ee-v'>9.444324152065583</span></li></ul></li><li><label class='ee-shut'>2: [-0.26928977486125355, 9.334630831044018]<input type='checkbox' class='ee-toggle'></label><ul><li><span class='ee-k'>0:</span><span class='ee-v'>-0.26928977486125355</span></li><li><span class='ee-k'>1:</span><span class='ee-v'>9.334630831044018</span></li></ul></li><li><label class='ee-shut'>3: [-0.1870778198242107, 9.334622294426413]<input type='checkbox' class='ee-toggle'></label><ul><li><span class='ee-k'>0:</span><span class='ee-v'>-0.1870778198242107</span></li><li><span class='ee-k'>1:</span><span class='ee-v'>9.334622294426413</span></li></ul></li><li><label class='ee-shut'>4: [-0.1870778198242107, 9.480942834852012]<input type='checkbox' class='ee-toggle'></label><ul><li><span class='ee-k'>0:</span><span class='ee-v'>-0.1870778198242107</span></li><li><span class='ee-k'>1:</span><span class='ee-v'>9.480942834852012</span></li></ul></li><li><label class='ee-shut'>5: [-0.26814381866412906, 9.480951511322822]<input type='checkbox' class='ee-toggle'></label><ul><li><span class='ee-k'>0:</span><span class='ee-v'>-0.26814381866412906</span></li><li><span class='ee-k'>1:</span><span class='ee-v'>9.480951511322822</span></li></ul></li></ul></li></ul></li></ul></li><li><span class='ee-k'>system:index:</span><span class='ee-v'>20211112T102251_20211112T102742_T30PZR</span></li><li><span class='ee-k'>system:time_end:</span><span class='ee-v'>1636713506405</span></li><li><span class='ee-k'>system:time_start:</span><span class='ee-v'>1636713506405</span></li></ul></li></ul></li><li><label class='ee-shut'>8: Image COPERNICUS/S2_SR/20211122T102331_20211122T102739_T30PYR (1 band)<input type='checkbox' class='ee-toggle'></label><ul><li><span class='ee-k'>type:</span><span class='ee-v'>Image</span></li><li><span class='ee-k'>id:</span><span class='ee-v'>COPERNICUS/S2_SR/20211122T102331_20211122T102739_T30PYR</span></li><li><span class='ee-k'>version:</span><span class='ee-v'>1637718680136939</span></li><li><label class='ee-shut'>bands: List (1 element)<input type='checkbox' class='ee-toggle'></label><ul><li><label class='ee-shut'>0: \"smoothed_evi\", double, EPSG:4326<input type='checkbox' class='ee-toggle'></label><ul><li><span class='ee-k'>id:</span><span class='ee-v'>smoothed_evi</span></li><li><span class='ee-k'>crs:</span><span class='ee-v'>EPSG:4326</span></li><li><label class='ee-shut'>crs_transform: [1, 0, 0, 0, 1, 0]<input type='checkbox' class='ee-toggle'></label><ul><li><span class='ee-k'>0:</span><span class='ee-v'>1</span></li><li><span class='ee-k'>1:</span><span class='ee-v'>0</span></li><li><span class='ee-k'>2:</span><span class='ee-v'>0</span></li><li><span class='ee-k'>3:</span><span class='ee-v'>0</span></li><li><span class='ee-k'>4:</span><span class='ee-v'>1</span></li><li><span class='ee-k'>5:</span><span class='ee-v'>0</span></li></ul></li><li><label class='ee-shut'>data_type: double<input type='checkbox' class='ee-toggle'></label><ul><li><span class='ee-k'>type:</span><span class='ee-v'>PixelType</span></li><li><span class='ee-k'>precision:</span><span class='ee-v'>double</span></li></ul></li></ul></li></ul></li><li><label class='ee-shut'>properties: Object (83 properties)<input type='checkbox' class='ee-toggle'></label><ul><li><span class='ee-k'>AOT_RETRIEVAL_ACCURACY:</span><span class='ee-v'>0</span></li><li><span class='ee-k'>CLOUDY_PIXEL_PERCENTAGE:</span><span class='ee-v'>2.989058</span></li><li><span class='ee-k'>CLOUD_COVERAGE_ASSESSMENT:</span><span class='ee-v'>2.989058</span></li><li><span class='ee-k'>CLOUD_SHADOW_PERCENTAGE:</span><span class='ee-v'>2.144472</span></li><li><span class='ee-k'>DARK_FEATURES_PERCENTAGE:</span><span class='ee-v'>0.991997</span></li><li><span class='ee-k'>DATASTRIP_ID:</span><span class='ee-v'>S2A_OPER_MSI_L2A_DS_VGS2_20211122T131554_S20211122T102739_N03.01</span></li><li><span class='ee-k'>DATATAKE_IDENTIFIER:</span><span class='ee-v'>GS2A_20211122T102331_033524_N03.01</span></li><li><span class='ee-k'>DATATAKE_TYPE:</span><span class='ee-v'>INS-NOBS</span></li><li><span class='ee-k'>DEGRADED_MSI_DATA_PERCENTAGE:</span><span class='ee-v'>0</span></li><li><span class='ee-k'>FORMAT_CORRECTNESS:</span><span class='ee-v'>PASSED</span></li><li><span class='ee-k'>GENERAL_QUALITY:</span><span class='ee-v'>PASSED</span></li><li><span class='ee-k'>GENERATION_TIME:</span><span class='ee-v'>1637586954000</span></li><li><span class='ee-k'>GEOMETRIC_QUALITY:</span><span class='ee-v'>PASSED</span></li><li><span class='ee-k'>GRANULE_ID:</span><span class='ee-v'>L2A_T30PYR_A033524_20211122T102739</span></li><li><span class='ee-k'>HIGH_PROBA_CLOUDS_PERCENTAGE:</span><span class='ee-v'>1.851948</span></li><li><span class='ee-k'>MEAN_INCIDENCE_AZIMUTH_ANGLE_B1:</span><span class='ee-v'>173.694819140273</span></li><li><span class='ee-k'>MEAN_INCIDENCE_AZIMUTH_ANGLE_B10:</span><span class='ee-v'>174.033215327463</span></li><li><span class='ee-k'>MEAN_INCIDENCE_AZIMUTH_ANGLE_B11:</span><span class='ee-v'>172.878712597026</span></li><li><span class='ee-k'>MEAN_INCIDENCE_AZIMUTH_ANGLE_B12:</span><span class='ee-v'>172.673754733751</span></li><li><span class='ee-k'>MEAN_INCIDENCE_AZIMUTH_ANGLE_B2:</span><span class='ee-v'>177.834147921739</span></li><li><span class='ee-k'>MEAN_INCIDENCE_AZIMUTH_ANGLE_B3:</span><span class='ee-v'>175.798295535898</span></li><li><span class='ee-k'>MEAN_INCIDENCE_AZIMUTH_ANGLE_B4:</span><span class='ee-v'>174.84759240626</span></li><li><span class='ee-k'>MEAN_INCIDENCE_AZIMUTH_ANGLE_B5:</span><span class='ee-v'>174.449594026787</span></li><li><span class='ee-k'>MEAN_INCIDENCE_AZIMUTH_ANGLE_B6:</span><span class='ee-v'>174.157936693019</span></li><li><span class='ee-k'>MEAN_INCIDENCE_AZIMUTH_ANGLE_B7:</span><span class='ee-v'>173.942436084934</span></li><li><span class='ee-k'>MEAN_INCIDENCE_AZIMUTH_ANGLE_B8:</span><span class='ee-v'>176.678838765533</span></li><li><span class='ee-k'>MEAN_INCIDENCE_AZIMUTH_ANGLE_B8A:</span><span class='ee-v'>173.7956571195</span></li><li><span class='ee-k'>MEAN_INCIDENCE_AZIMUTH_ANGLE_B9:</span><span class='ee-v'>173.631573330706</span></li><li><span class='ee-k'>MEAN_INCIDENCE_ZENITH_ANGLE_B1:</span><span class='ee-v'>3.07788834671008</span></li><li><span class='ee-k'>MEAN_INCIDENCE_ZENITH_ANGLE_B10:</span><span class='ee-v'>2.62232829172426</span></li><li><span class='ee-k'>MEAN_INCIDENCE_ZENITH_ANGLE_B11:</span><span class='ee-v'>2.79667974827857</span></li><li><span class='ee-k'>MEAN_INCIDENCE_ZENITH_ANGLE_B12:</span><span class='ee-v'>3.00186187727945</span></li><li><span class='ee-k'>MEAN_INCIDENCE_ZENITH_ANGLE_B2:</span><span class='ee-v'>2.43556762961119</span></li><li><span class='ee-k'>MEAN_INCIDENCE_ZENITH_ANGLE_B3:</span><span class='ee-v'>2.54442982119398</span></li><li><span class='ee-k'>MEAN_INCIDENCE_ZENITH_ANGLE_B4:</span><span class='ee-v'>2.66439582865783</span></li><li><span class='ee-k'>MEAN_INCIDENCE_ZENITH_ANGLE_B5:</span><span class='ee-v'>2.73848454859088</span></li><li><span class='ee-k'>MEAN_INCIDENCE_ZENITH_ANGLE_B6:</span><span class='ee-v'>2.81705572591991</span></li><li><span class='ee-k'>MEAN_INCIDENCE_ZENITH_ANGLE_B7:</span><span class='ee-v'>2.90012117042047</span></li><li><span class='ee-k'>MEAN_INCIDENCE_ZENITH_ANGLE_B8:</span><span class='ee-v'>2.48649685518474</span></li><li><span class='ee-k'>MEAN_INCIDENCE_ZENITH_ANGLE_B8A:</span><span class='ee-v'>2.98672250280987</span></li><li><span class='ee-k'>MEAN_INCIDENCE_ZENITH_ANGLE_B9:</span><span class='ee-v'>3.17362754197722</span></li><li><span class='ee-k'>MEAN_SOLAR_AZIMUTH_ANGLE:</span><span class='ee-v'>149.820352226869</span></li><li><span class='ee-k'>MEAN_SOLAR_ZENITH_ANGLE:</span><span class='ee-v'>34.3528023308731</span></li><li><span class='ee-k'>MEDIUM_PROBA_CLOUDS_PERCENTAGE:</span><span class='ee-v'>1.13711</span></li><li><span class='ee-k'>MGRS_TILE:</span><span class='ee-v'>30PYR</span></li><li><span class='ee-k'>NODATA_PIXEL_PERCENTAGE:</span><span class='ee-v'>3e-06</span></li><li><span class='ee-k'>NOT_VEGETATED_PERCENTAGE:</span><span class='ee-v'>43.091902</span></li><li><span class='ee-k'>PROCESSING_BASELINE:</span><span class='ee-v'>03.01</span></li><li><span class='ee-k'>PRODUCT_ID:</span><span class='ee-v'>S2A_MSIL2A_20211122T102331_N0301_R065_T30PYR_20211122T131554</span></li><li><span class='ee-k'>RADIATIVE_TRANSFER_ACCURACY:</span><span class='ee-v'>0</span></li><li><span class='ee-k'>RADIOMETRIC_QUALITY:</span><span class='ee-v'>PASSED</span></li><li><span class='ee-k'>REFLECTANCE_CONVERSION_CORRECTION:</span><span class='ee-v'>1.02403981236647</span></li><li><span class='ee-k'>SATURATED_DEFECTIVE_PIXEL_PERCENTAGE:</span><span class='ee-v'>0</span></li><li><span class='ee-k'>SENSING_ORBIT_DIRECTION:</span><span class='ee-v'>DESCENDING</span></li><li><span class='ee-k'>SENSING_ORBIT_NUMBER:</span><span class='ee-v'>65</span></li><li><span class='ee-k'>SENSOR_QUALITY:</span><span class='ee-v'>PASSED</span></li><li><span class='ee-k'>SNOW_ICE_PERCENTAGE:</span><span class='ee-v'>0</span></li><li><span class='ee-k'>SOLAR_IRRADIANCE_B1:</span><span class='ee-v'>1884.69</span></li><li><span class='ee-k'>SOLAR_IRRADIANCE_B10:</span><span class='ee-v'>367.15</span></li><li><span class='ee-k'>SOLAR_IRRADIANCE_B11:</span><span class='ee-v'>245.59</span></li><li><span class='ee-k'>SOLAR_IRRADIANCE_B12:</span><span class='ee-v'>85.25</span></li><li><span class='ee-k'>SOLAR_IRRADIANCE_B2:</span><span class='ee-v'>1959.66</span></li><li><span class='ee-k'>SOLAR_IRRADIANCE_B3:</span><span class='ee-v'>1823.24</span></li><li><span class='ee-k'>SOLAR_IRRADIANCE_B4:</span><span class='ee-v'>1512.06</span></li><li><span class='ee-k'>SOLAR_IRRADIANCE_B5:</span><span class='ee-v'>1424.64</span></li><li><span class='ee-k'>SOLAR_IRRADIANCE_B6:</span><span class='ee-v'>1287.61</span></li><li><span class='ee-k'>SOLAR_IRRADIANCE_B7:</span><span class='ee-v'>1162.08</span></li><li><span class='ee-k'>SOLAR_IRRADIANCE_B8:</span><span class='ee-v'>1041.63</span></li><li><span class='ee-k'>SOLAR_IRRADIANCE_B8A:</span><span class='ee-v'>955.32</span></li><li><span class='ee-k'>SOLAR_IRRADIANCE_B9:</span><span class='ee-v'>812.92</span></li><li><span class='ee-k'>SPACECRAFT_NAME:</span><span class='ee-v'>Sentinel-2A</span></li><li><span class='ee-k'>THIN_CIRRUS_PERCENTAGE:</span><span class='ee-v'>0</span></li><li><span class='ee-k'>UNCLASSIFIED_PERCENTAGE:</span><span class='ee-v'>1.549437</span></li><li><span class='ee-k'>VEGETATION_PERCENTAGE:</span><span class='ee-v'>49.081829</span></li><li><span class='ee-k'>WATER_PERCENTAGE:</span><span class='ee-v'>0.151303</span></li><li><span class='ee-k'>WATER_VAPOUR_RETRIEVAL_ACCURACY:</span><span class='ee-v'>0</span></li><li><span class='ee-k'>date:</span><span class='ee-v'>2021-11-22T10:38:28</span></li><li><span class='ee-k'>smoothed_evi:</span><span class='ee-v'>0.9533717303405245</span></li><li><span class='ee-k'>system:asset_size:</span><span class='ee-v'>1751609419</span></li><li><label class='ee-shut'>system:footprint: Polygon (5 vertices)<input type='checkbox' class='ee-toggle'></label><ul><li><span class='ee-k'>type:</span><span class='ee-v'>Polygon</span></li><li><label class='ee-shut'>coordinates: List (1 element)<input type='checkbox' class='ee-toggle'></label><ul><li><label class='ee-shut'>0: List (5 elements)<input type='checkbox' class='ee-toggle'></label><ul><li><label class='ee-shut'>0: [-0.3436329956054607, 9.334622294426413]<input type='checkbox' class='ee-toggle'></label><ul><li><span class='ee-k'>0:</span><span class='ee-v'>-0.3436329956054607</span></li><li><span class='ee-k'>1:</span><span class='ee-v'>9.334622294426413</span></li></ul></li><li><label class='ee-shut'>1: [-0.1870778198242107, 9.334622294426413]<input type='checkbox' class='ee-toggle'></label><ul><li><span class='ee-k'>0:</span><span class='ee-v'>-0.1870778198242107</span></li><li><span class='ee-k'>1:</span><span class='ee-v'>9.334622294426413</span></li></ul></li><li><label class='ee-shut'>2: [-0.1870778198242107, 9.480942834852012]<input type='checkbox' class='ee-toggle'></label><ul><li><span class='ee-k'>0:</span><span class='ee-v'>-0.1870778198242107</span></li><li><span class='ee-k'>1:</span><span class='ee-v'>9.480942834852012</span></li></ul></li><li><label class='ee-shut'>3: [-0.3436329956054606, 9.48094283485201]<input type='checkbox' class='ee-toggle'></label><ul><li><span class='ee-k'>0:</span><span class='ee-v'>-0.3436329956054606</span></li><li><span class='ee-k'>1:</span><span class='ee-v'>9.48094283485201</span></li></ul></li><li><label class='ee-shut'>4: [-0.3436329956054607, 9.334622294426413]<input type='checkbox' class='ee-toggle'></label><ul><li><span class='ee-k'>0:</span><span class='ee-v'>-0.3436329956054607</span></li><li><span class='ee-k'>1:</span><span class='ee-v'>9.334622294426413</span></li></ul></li></ul></li></ul></li></ul></li><li><span class='ee-k'>system:index:</span><span class='ee-v'>20211122T102331_20211122T102739_T30PYR</span></li><li><span class='ee-k'>system:time_end:</span><span class='ee-v'>1637577508142</span></li><li><span class='ee-k'>system:time_start:</span><span class='ee-v'>1637577508142</span></li></ul></li></ul></li><li><label class='ee-shut'>9: Image COPERNICUS/S2_SR/20211122T102331_20211122T102739_T30PZR (1 band)<input type='checkbox' class='ee-toggle'></label><ul><li><span class='ee-k'>type:</span><span class='ee-v'>Image</span></li><li><span class='ee-k'>id:</span><span class='ee-v'>COPERNICUS/S2_SR/20211122T102331_20211122T102739_T30PZR</span></li><li><span class='ee-k'>version:</span><span class='ee-v'>1637792109882582</span></li><li><label class='ee-shut'>bands: List (1 element)<input type='checkbox' class='ee-toggle'></label><ul><li><label class='ee-shut'>0: \"smoothed_evi\", double, EPSG:4326<input type='checkbox' class='ee-toggle'></label><ul><li><span class='ee-k'>id:</span><span class='ee-v'>smoothed_evi</span></li><li><span class='ee-k'>crs:</span><span class='ee-v'>EPSG:4326</span></li><li><label class='ee-shut'>crs_transform: [1, 0, 0, 0, 1, 0]<input type='checkbox' class='ee-toggle'></label><ul><li><span class='ee-k'>0:</span><span class='ee-v'>1</span></li><li><span class='ee-k'>1:</span><span class='ee-v'>0</span></li><li><span class='ee-k'>2:</span><span class='ee-v'>0</span></li><li><span class='ee-k'>3:</span><span class='ee-v'>0</span></li><li><span class='ee-k'>4:</span><span class='ee-v'>1</span></li><li><span class='ee-k'>5:</span><span class='ee-v'>0</span></li></ul></li><li><label class='ee-shut'>data_type: double<input type='checkbox' class='ee-toggle'></label><ul><li><span class='ee-k'>type:</span><span class='ee-v'>PixelType</span></li><li><span class='ee-k'>precision:</span><span class='ee-v'>double</span></li></ul></li></ul></li></ul></li><li><label class='ee-shut'>properties: Object (83 properties)<input type='checkbox' class='ee-toggle'></label><ul><li><span class='ee-k'>AOT_RETRIEVAL_ACCURACY:</span><span class='ee-v'>0</span></li><li><span class='ee-k'>CLOUDY_PIXEL_PERCENTAGE:</span><span class='ee-v'>12.232939</span></li><li><span class='ee-k'>CLOUD_COVERAGE_ASSESSMENT:</span><span class='ee-v'>12.232939</span></li><li><span class='ee-k'>CLOUD_SHADOW_PERCENTAGE:</span><span class='ee-v'>5.565292</span></li><li><span class='ee-k'>DARK_FEATURES_PERCENTAGE:</span><span class='ee-v'>2.847865</span></li><li><span class='ee-k'>DATASTRIP_ID:</span><span class='ee-v'>S2A_OPER_MSI_L2A_DS_VGS2_20211122T131554_S20211122T102739_N03.01</span></li><li><span class='ee-k'>DATATAKE_IDENTIFIER:</span><span class='ee-v'>GS2A_20211122T102331_033524_N03.01</span></li><li><span class='ee-k'>DATATAKE_TYPE:</span><span class='ee-v'>INS-NOBS</span></li><li><span class='ee-k'>DEGRADED_MSI_DATA_PERCENTAGE:</span><span class='ee-v'>0</span></li><li><span class='ee-k'>FORMAT_CORRECTNESS:</span><span class='ee-v'>PASSED</span></li><li><span class='ee-k'>GENERAL_QUALITY:</span><span class='ee-v'>PASSED</span></li><li><span class='ee-k'>GENERATION_TIME:</span><span class='ee-v'>1637586954000</span></li><li><span class='ee-k'>GEOMETRIC_QUALITY:</span><span class='ee-v'>PASSED</span></li><li><span class='ee-k'>GRANULE_ID:</span><span class='ee-v'>L2A_T30PZR_A033524_20211122T102739</span></li><li><span class='ee-k'>HIGH_PROBA_CLOUDS_PERCENTAGE:</span><span class='ee-v'>7.547901</span></li><li><span class='ee-k'>MEAN_INCIDENCE_AZIMUTH_ANGLE_B1:</span><span class='ee-v'>284.133511638386</span></li><li><span class='ee-k'>MEAN_INCIDENCE_AZIMUTH_ANGLE_B10:</span><span class='ee-v'>283.861246442974</span></li><li><span class='ee-k'>MEAN_INCIDENCE_AZIMUTH_ANGLE_B11:</span><span class='ee-v'>284.037512023897</span></li><li><span class='ee-k'>MEAN_INCIDENCE_AZIMUTH_ANGLE_B12:</span><span class='ee-v'>284.101541180758</span></li><li><span class='ee-k'>MEAN_INCIDENCE_AZIMUTH_ANGLE_B2:</span><span class='ee-v'>283.803668002225</span></li><li><span class='ee-k'>MEAN_INCIDENCE_AZIMUTH_ANGLE_B3:</span><span class='ee-v'>283.901027731829</span></li><li><span class='ee-k'>MEAN_INCIDENCE_AZIMUTH_ANGLE_B4:</span><span class='ee-v'>283.975516572437</span></li><li><span class='ee-k'>MEAN_INCIDENCE_AZIMUTH_ANGLE_B5:</span><span class='ee-v'>283.99964750255</span></li><li><span class='ee-k'>MEAN_INCIDENCE_AZIMUTH_ANGLE_B6:</span><span class='ee-v'>284.049694094255</span></li><li><span class='ee-k'>MEAN_INCIDENCE_AZIMUTH_ANGLE_B7:</span><span class='ee-v'>284.068087784177</span></li><li><span class='ee-k'>MEAN_INCIDENCE_AZIMUTH_ANGLE_B8:</span><span class='ee-v'>283.846761090249</span></li><li><span class='ee-k'>MEAN_INCIDENCE_AZIMUTH_ANGLE_B8A:</span><span class='ee-v'>284.147345038963</span></li><li><span class='ee-k'>MEAN_INCIDENCE_AZIMUTH_ANGLE_B9:</span><span class='ee-v'>284.178674622992</span></li><li><span class='ee-k'>MEAN_INCIDENCE_ZENITH_ANGLE_B1:</span><span class='ee-v'>7.72021279759476</span></li><li><span class='ee-k'>MEAN_INCIDENCE_ZENITH_ANGLE_B10:</span><span class='ee-v'>7.56042458716887</span></li><li><span class='ee-k'>MEAN_INCIDENCE_ZENITH_ANGLE_B11:</span><span class='ee-v'>7.61484223683216</span></li><li><span class='ee-k'>MEAN_INCIDENCE_ZENITH_ANGLE_B12:</span><span class='ee-v'>7.689753039063</span></li><li><span class='ee-k'>MEAN_INCIDENCE_ZENITH_ANGLE_B2:</span><span class='ee-v'>7.49318471696259</span></li><li><span class='ee-k'>MEAN_INCIDENCE_ZENITH_ANGLE_B3:</span><span class='ee-v'>7.52391879173888</span></li><li><span class='ee-k'>MEAN_INCIDENCE_ZENITH_ANGLE_B4:</span><span class='ee-v'>7.55776674819901</span></li><li><span class='ee-k'>MEAN_INCIDENCE_ZENITH_ANGLE_B5:</span><span class='ee-v'>7.5939398136185</span></li><li><span class='ee-k'>MEAN_INCIDENCE_ZENITH_ANGLE_B6:</span><span class='ee-v'>7.62157390632288</span></li><li><span class='ee-k'>MEAN_INCIDENCE_ZENITH_ANGLE_B7:</span><span class='ee-v'>7.64784878717147</span></li><li><span class='ee-k'>MEAN_INCIDENCE_ZENITH_ANGLE_B8:</span><span class='ee-v'>7.5066993758602</span></li><li><span class='ee-k'>MEAN_INCIDENCE_ZENITH_ANGLE_B8A:</span><span class='ee-v'>7.68407933105153</span></li><li><span class='ee-k'>MEAN_INCIDENCE_ZENITH_ANGLE_B9:</span><span class='ee-v'>7.75974497092672</span></li><li><span class='ee-k'>MEAN_SOLAR_AZIMUTH_ANGLE:</span><span class='ee-v'>151.101922293599</span></li><li><span class='ee-k'>MEAN_SOLAR_ZENITH_ANGLE:</span><span class='ee-v'>33.9089937105379</span></li><li><span class='ee-k'>MEDIUM_PROBA_CLOUDS_PERCENTAGE:</span><span class='ee-v'>2.946475</span></li><li><span class='ee-k'>MGRS_TILE:</span><span class='ee-v'>30PZR</span></li><li><span class='ee-k'>NODATA_PIXEL_PERCENTAGE:</span><span class='ee-v'>4.082515</span></li><li><span class='ee-k'>NOT_VEGETATED_PERCENTAGE:</span><span class='ee-v'>31.86115</span></li><li><span class='ee-k'>PROCESSING_BASELINE:</span><span class='ee-v'>03.01</span></li><li><span class='ee-k'>PRODUCT_ID:</span><span class='ee-v'>S2A_MSIL2A_20211122T102331_N0301_R065_T30PZR_20211122T131554</span></li><li><span class='ee-k'>RADIATIVE_TRANSFER_ACCURACY:</span><span class='ee-v'>0</span></li><li><span class='ee-k'>RADIOMETRIC_QUALITY:</span><span class='ee-v'>PASSED</span></li><li><span class='ee-k'>REFLECTANCE_CONVERSION_CORRECTION:</span><span class='ee-v'>1.02403981236647</span></li><li><span class='ee-k'>SATURATED_DEFECTIVE_PIXEL_PERCENTAGE:</span><span class='ee-v'>0</span></li><li><span class='ee-k'>SENSING_ORBIT_DIRECTION:</span><span class='ee-v'>DESCENDING</span></li><li><span class='ee-k'>SENSING_ORBIT_NUMBER:</span><span class='ee-v'>65</span></li><li><span class='ee-k'>SENSOR_QUALITY:</span><span class='ee-v'>PASSED</span></li><li><span class='ee-k'>SNOW_ICE_PERCENTAGE:</span><span class='ee-v'>0</span></li><li><span class='ee-k'>SOLAR_IRRADIANCE_B1:</span><span class='ee-v'>1884.69</span></li><li><span class='ee-k'>SOLAR_IRRADIANCE_B10:</span><span class='ee-v'>367.15</span></li><li><span class='ee-k'>SOLAR_IRRADIANCE_B11:</span><span class='ee-v'>245.59</span></li><li><span class='ee-k'>SOLAR_IRRADIANCE_B12:</span><span class='ee-v'>85.25</span></li><li><span class='ee-k'>SOLAR_IRRADIANCE_B2:</span><span class='ee-v'>1959.66</span></li><li><span class='ee-k'>SOLAR_IRRADIANCE_B3:</span><span class='ee-v'>1823.24</span></li><li><span class='ee-k'>SOLAR_IRRADIANCE_B4:</span><span class='ee-v'>1512.06</span></li><li><span class='ee-k'>SOLAR_IRRADIANCE_B5:</span><span class='ee-v'>1424.64</span></li><li><span class='ee-k'>SOLAR_IRRADIANCE_B6:</span><span class='ee-v'>1287.61</span></li><li><span class='ee-k'>SOLAR_IRRADIANCE_B7:</span><span class='ee-v'>1162.08</span></li><li><span class='ee-k'>SOLAR_IRRADIANCE_B8:</span><span class='ee-v'>1041.63</span></li><li><span class='ee-k'>SOLAR_IRRADIANCE_B8A:</span><span class='ee-v'>955.32</span></li><li><span class='ee-k'>SOLAR_IRRADIANCE_B9:</span><span class='ee-v'>812.92</span></li><li><span class='ee-k'>SPACECRAFT_NAME:</span><span class='ee-v'>Sentinel-2A</span></li><li><span class='ee-k'>THIN_CIRRUS_PERCENTAGE:</span><span class='ee-v'>1.738563</span></li><li><span class='ee-k'>UNCLASSIFIED_PERCENTAGE:</span><span class='ee-v'>4.41087</span></li><li><span class='ee-k'>VEGETATION_PERCENTAGE:</span><span class='ee-v'>42.998841</span></li><li><span class='ee-k'>WATER_PERCENTAGE:</span><span class='ee-v'>0.083045</span></li><li><span class='ee-k'>WATER_VAPOUR_RETRIEVAL_ACCURACY:</span><span class='ee-v'>0</span></li><li><span class='ee-k'>date:</span><span class='ee-v'>2021-11-22T10:38:24</span></li><li><span class='ee-k'>smoothed_evi:</span><span class='ee-v'>0.9533717303405245</span></li><li><span class='ee-k'>system:asset_size:</span><span class='ee-v'>1760041519</span></li><li><label class='ee-shut'>system:footprint: Polygon (6 vertices)<input type='checkbox' class='ee-toggle'></label><ul><li><span class='ee-k'>type:</span><span class='ee-v'>Polygon</span></li><li><label class='ee-shut'>coordinates: List (1 element)<input type='checkbox' class='ee-toggle'></label><ul><li><label class='ee-shut'>0: List (6 elements)<input type='checkbox' class='ee-toggle'></label><ul><li><label class='ee-shut'>0: [-0.26814381866412906, 9.480951511322822]<input type='checkbox' class='ee-toggle'></label><ul><li><span class='ee-k'>0:</span><span class='ee-v'>-0.26814381866412906</span></li><li><span class='ee-k'>1:</span><span class='ee-v'>9.480951511322822</span></li></ul></li><li><label class='ee-shut'>1: [-0.26843640767326354, 9.444324152065583]<input type='checkbox' class='ee-toggle'></label><ul><li><span class='ee-k'>0:</span><span class='ee-v'>-0.26843640767326354</span></li><li><span class='ee-k'>1:</span><span class='ee-v'>9.444324152065583</span></li></ul></li><li><label class='ee-shut'>2: [-0.26928977486125355, 9.334630831044018]<input type='checkbox' class='ee-toggle'></label><ul><li><span class='ee-k'>0:</span><span class='ee-v'>-0.26928977486125355</span></li><li><span class='ee-k'>1:</span><span class='ee-v'>9.334630831044018</span></li></ul></li><li><label class='ee-shut'>3: [-0.1870778198242107, 9.334622294426413]<input type='checkbox' class='ee-toggle'></label><ul><li><span class='ee-k'>0:</span><span class='ee-v'>-0.1870778198242107</span></li><li><span class='ee-k'>1:</span><span class='ee-v'>9.334622294426413</span></li></ul></li><li><label class='ee-shut'>4: [-0.1870778198242107, 9.480942834852012]<input type='checkbox' class='ee-toggle'></label><ul><li><span class='ee-k'>0:</span><span class='ee-v'>-0.1870778198242107</span></li><li><span class='ee-k'>1:</span><span class='ee-v'>9.480942834852012</span></li></ul></li><li><label class='ee-shut'>5: [-0.26814381866412906, 9.480951511322822]<input type='checkbox' class='ee-toggle'></label><ul><li><span class='ee-k'>0:</span><span class='ee-v'>-0.26814381866412906</span></li><li><span class='ee-k'>1:</span><span class='ee-v'>9.480951511322822</span></li></ul></li></ul></li></ul></li></ul></li><li><span class='ee-k'>system:index:</span><span class='ee-v'>20211122T102331_20211122T102739_T30PZR</span></li><li><span class='ee-k'>system:time_end:</span><span class='ee-v'>1637577504593</span></li><li><span class='ee-k'>system:time_start:</span><span class='ee-v'>1637577504593</span></li></ul></li></ul></li><li><label class='ee-shut'>10: Image COPERNICUS/S2_SR/20211127T102259_20211127T103600_T30PYR (1 band)<input type='checkbox' class='ee-toggle'></label><ul><li><span class='ee-k'>type:</span><span class='ee-v'>Image</span></li><li><span class='ee-k'>id:</span><span class='ee-v'>COPERNICUS/S2_SR/20211127T102259_20211127T103600_T30PYR</span></li><li><span class='ee-k'>version:</span><span class='ee-v'>1638474113401581</span></li><li><label class='ee-shut'>bands: List (1 element)<input type='checkbox' class='ee-toggle'></label><ul><li><label class='ee-shut'>0: \"smoothed_evi\", double, EPSG:4326<input type='checkbox' class='ee-toggle'></label><ul><li><span class='ee-k'>id:</span><span class='ee-v'>smoothed_evi</span></li><li><span class='ee-k'>crs:</span><span class='ee-v'>EPSG:4326</span></li><li><label class='ee-shut'>crs_transform: [1, 0, 0, 0, 1, 0]<input type='checkbox' class='ee-toggle'></label><ul><li><span class='ee-k'>0:</span><span class='ee-v'>1</span></li><li><span class='ee-k'>1:</span><span class='ee-v'>0</span></li><li><span class='ee-k'>2:</span><span class='ee-v'>0</span></li><li><span class='ee-k'>3:</span><span class='ee-v'>0</span></li><li><span class='ee-k'>4:</span><span class='ee-v'>1</span></li><li><span class='ee-k'>5:</span><span class='ee-v'>0</span></li></ul></li><li><label class='ee-shut'>data_type: double<input type='checkbox' class='ee-toggle'></label><ul><li><span class='ee-k'>type:</span><span class='ee-v'>PixelType</span></li><li><span class='ee-k'>precision:</span><span class='ee-v'>double</span></li></ul></li></ul></li></ul></li><li><label class='ee-shut'>properties: Object (83 properties)<input type='checkbox' class='ee-toggle'></label><ul><li><span class='ee-k'>AOT_RETRIEVAL_ACCURACY:</span><span class='ee-v'>0</span></li><li><span class='ee-k'>CLOUDY_PIXEL_PERCENTAGE:</span><span class='ee-v'>5.002644</span></li><li><span class='ee-k'>CLOUD_COVERAGE_ASSESSMENT:</span><span class='ee-v'>5.002644</span></li><li><span class='ee-k'>CLOUD_SHADOW_PERCENTAGE:</span><span class='ee-v'>0.029084</span></li><li><span class='ee-k'>DARK_FEATURES_PERCENTAGE:</span><span class='ee-v'>0.270444</span></li><li><span class='ee-k'>DATASTRIP_ID:</span><span class='ee-v'>S2B_OPER_MSI_L2A_DS_VGS2_20211127T125825_S20211127T103600_N03.01</span></li><li><span class='ee-k'>DATATAKE_IDENTIFIER:</span><span class='ee-v'>GS2B_20211127T102259_024687_N03.01</span></li><li><span class='ee-k'>DATATAKE_TYPE:</span><span class='ee-v'>INS-NOBS</span></li><li><span class='ee-k'>DEGRADED_MSI_DATA_PERCENTAGE:</span><span class='ee-v'>0</span></li><li><span class='ee-k'>FORMAT_CORRECTNESS:</span><span class='ee-v'>PASSED</span></li><li><span class='ee-k'>GENERAL_QUALITY:</span><span class='ee-v'>PASSED</span></li><li><span class='ee-k'>GENERATION_TIME:</span><span class='ee-v'>1638017905000</span></li><li><span class='ee-k'>GEOMETRIC_QUALITY:</span><span class='ee-v'>PASSED</span></li><li><span class='ee-k'>GRANULE_ID:</span><span class='ee-v'>L2A_T30PYR_A024687_20211127T103600</span></li><li><span class='ee-k'>HIGH_PROBA_CLOUDS_PERCENTAGE:</span><span class='ee-v'>0.003583</span></li><li><span class='ee-k'>MEAN_INCIDENCE_AZIMUTH_ANGLE_B1:</span><span class='ee-v'>173.574879847811</span></li><li><span class='ee-k'>MEAN_INCIDENCE_AZIMUTH_ANGLE_B10:</span><span class='ee-v'>174.762226556394</span></li><li><span class='ee-k'>MEAN_INCIDENCE_AZIMUTH_ANGLE_B11:</span><span class='ee-v'>173.893705680551</span></li><li><span class='ee-k'>MEAN_INCIDENCE_AZIMUTH_ANGLE_B12:</span><span class='ee-v'>173.667935903836</span></li><li><span class='ee-k'>MEAN_INCIDENCE_AZIMUTH_ANGLE_B2:</span><span class='ee-v'>177.80339803529</span></li><li><span class='ee-k'>MEAN_INCIDENCE_AZIMUTH_ANGLE_B3:</span><span class='ee-v'>175.708832650751</span></li><li><span class='ee-k'>MEAN_INCIDENCE_AZIMUTH_ANGLE_B4:</span><span class='ee-v'>174.569238412064</span></li><li><span class='ee-k'>MEAN_INCIDENCE_AZIMUTH_ANGLE_B5:</span><span class='ee-v'>174.155732743614</span></li><li><span class='ee-k'>MEAN_INCIDENCE_AZIMUTH_ANGLE_B6:</span><span class='ee-v'>173.848709328606</span></li><li><span class='ee-k'>MEAN_INCIDENCE_AZIMUTH_ANGLE_B7:</span><span class='ee-v'>173.624237384699</span></li><li><span class='ee-k'>MEAN_INCIDENCE_AZIMUTH_ANGLE_B8:</span><span class='ee-v'>176.615237059049</span></li><li><span class='ee-k'>MEAN_INCIDENCE_AZIMUTH_ANGLE_B8A:</span><span class='ee-v'>173.463740928513</span></li><li><span class='ee-k'>MEAN_INCIDENCE_AZIMUTH_ANGLE_B9:</span><span class='ee-v'>173.502199659273</span></li><li><span class='ee-k'>MEAN_INCIDENCE_ZENITH_ANGLE_B1:</span><span class='ee-v'>3.07356902159151</span></li><li><span class='ee-k'>MEAN_INCIDENCE_ZENITH_ANGLE_B10:</span><span class='ee-v'>2.62261336381966</span></li><li><span class='ee-k'>MEAN_INCIDENCE_ZENITH_ANGLE_B11:</span><span class='ee-v'>2.7966713372081</span></li><li><span class='ee-k'>MEAN_INCIDENCE_ZENITH_ANGLE_B12:</span><span class='ee-v'>3.00116449957152</span></li><li><span class='ee-k'>MEAN_INCIDENCE_ZENITH_ANGLE_B2:</span><span class='ee-v'>2.42430885596013</span></li><li><span class='ee-k'>MEAN_INCIDENCE_ZENITH_ANGLE_B3:</span><span class='ee-v'>2.53326896044304</span></li><li><span class='ee-k'>MEAN_INCIDENCE_ZENITH_ANGLE_B4:</span><span class='ee-v'>2.6557002973291</span></li><li><span class='ee-k'>MEAN_INCIDENCE_ZENITH_ANGLE_B5:</span><span class='ee-v'>2.72978774557607</span></li><li><span class='ee-k'>MEAN_INCIDENCE_ZENITH_ANGLE_B6:</span><span class='ee-v'>2.80850899478651</span></li><li><span class='ee-k'>MEAN_INCIDENCE_ZENITH_ANGLE_B7:</span><span class='ee-v'>2.89149990820214</span></li><li><span class='ee-k'>MEAN_INCIDENCE_ZENITH_ANGLE_B8:</span><span class='ee-v'>2.47524473014805</span></li><li><span class='ee-k'>MEAN_INCIDENCE_ZENITH_ANGLE_B8A:</span><span class='ee-v'>2.9782466916055</span></li><li><span class='ee-k'>MEAN_INCIDENCE_ZENITH_ANGLE_B9:</span><span class='ee-v'>3.16955731254243</span></li><li><span class='ee-k'>MEAN_SOLAR_AZIMUTH_ANGLE:</span><span class='ee-v'>150.177647405001</span></li><li><span class='ee-k'>MEAN_SOLAR_ZENITH_ANGLE:</span><span class='ee-v'>35.3792349574347</span></li><li><span class='ee-k'>MEDIUM_PROBA_CLOUDS_PERCENTAGE:</span><span class='ee-v'>0.082369</span></li><li><span class='ee-k'>MGRS_TILE:</span><span class='ee-v'>30PYR</span></li><li><span class='ee-k'>NODATA_PIXEL_PERCENTAGE:</span><span class='ee-v'>3e-06</span></li><li><span class='ee-k'>NOT_VEGETATED_PERCENTAGE:</span><span class='ee-v'>52.273172</span></li><li><span class='ee-k'>PROCESSING_BASELINE:</span><span class='ee-v'>03.01</span></li><li><span class='ee-k'>PRODUCT_ID:</span><span class='ee-v'>S2B_MSIL2A_20211127T102259_N0301_R065_T30PYR_20211127T125825</span></li><li><span class='ee-k'>RADIATIVE_TRANSFER_ACCURACY:</span><span class='ee-v'>0</span></li><li><span class='ee-k'>RADIOMETRIC_QUALITY:</span><span class='ee-v'>PASSED</span></li><li><span class='ee-k'>REFLECTANCE_CONVERSION_CORRECTION:</span><span class='ee-v'>1.02606216578418</span></li><li><span class='ee-k'>SATURATED_DEFECTIVE_PIXEL_PERCENTAGE:</span><span class='ee-v'>0</span></li><li><span class='ee-k'>SENSING_ORBIT_DIRECTION:</span><span class='ee-v'>DESCENDING</span></li><li><span class='ee-k'>SENSING_ORBIT_NUMBER:</span><span class='ee-v'>65</span></li><li><span class='ee-k'>SENSOR_QUALITY:</span><span class='ee-v'>PASSED</span></li><li><span class='ee-k'>SNOW_ICE_PERCENTAGE:</span><span class='ee-v'>0</span></li><li><span class='ee-k'>SOLAR_IRRADIANCE_B1:</span><span class='ee-v'>1874.3</span></li><li><span class='ee-k'>SOLAR_IRRADIANCE_B10:</span><span class='ee-v'>365.41</span></li><li><span class='ee-k'>SOLAR_IRRADIANCE_B11:</span><span class='ee-v'>247.08</span></li><li><span class='ee-k'>SOLAR_IRRADIANCE_B12:</span><span class='ee-v'>87.75</span></li><li><span class='ee-k'>SOLAR_IRRADIANCE_B2:</span><span class='ee-v'>1959.75</span></li><li><span class='ee-k'>SOLAR_IRRADIANCE_B3:</span><span class='ee-v'>1824.93</span></li><li><span class='ee-k'>SOLAR_IRRADIANCE_B4:</span><span class='ee-v'>1512.79</span></li><li><span class='ee-k'>SOLAR_IRRADIANCE_B5:</span><span class='ee-v'>1425.78</span></li><li><span class='ee-k'>SOLAR_IRRADIANCE_B6:</span><span class='ee-v'>1291.13</span></li><li><span class='ee-k'>SOLAR_IRRADIANCE_B7:</span><span class='ee-v'>1175.57</span></li><li><span class='ee-k'>SOLAR_IRRADIANCE_B8:</span><span class='ee-v'>1041.28</span></li><li><span class='ee-k'>SOLAR_IRRADIANCE_B8A:</span><span class='ee-v'>953.93</span></li><li><span class='ee-k'>SOLAR_IRRADIANCE_B9:</span><span class='ee-v'>817.58</span></li><li><span class='ee-k'>SPACECRAFT_NAME:</span><span class='ee-v'>Sentinel-2B</span></li><li><span class='ee-k'>THIN_CIRRUS_PERCENTAGE:</span><span class='ee-v'>4.916693</span></li><li><span class='ee-k'>UNCLASSIFIED_PERCENTAGE:</span><span class='ee-v'>0.120806</span></li><li><span class='ee-k'>VEGETATION_PERCENTAGE:</span><span class='ee-v'>42.14212</span></li><li><span class='ee-k'>WATER_PERCENTAGE:</span><span class='ee-v'>0.161728</span></li><li><span class='ee-k'>WATER_VAPOUR_RETRIEVAL_ACCURACY:</span><span class='ee-v'>0</span></li><li><span class='ee-k'>date:</span><span class='ee-v'>2021-11-27T10:38:23</span></li><li><span class='ee-k'>smoothed_evi:</span><span class='ee-v'>0.9533717303405245</span></li><li><span class='ee-k'>system:asset_size:</span><span class='ee-v'>1687712249</span></li><li><label class='ee-shut'>system:footprint: Polygon (5 vertices)<input type='checkbox' class='ee-toggle'></label><ul><li><span class='ee-k'>type:</span><span class='ee-v'>Polygon</span></li><li><label class='ee-shut'>coordinates: List (1 element)<input type='checkbox' class='ee-toggle'></label><ul><li><label class='ee-shut'>0: List (5 elements)<input type='checkbox' class='ee-toggle'></label><ul><li><label class='ee-shut'>0: [-0.3436329956054607, 9.334622294426413]<input type='checkbox' class='ee-toggle'></label><ul><li><span class='ee-k'>0:</span><span class='ee-v'>-0.3436329956054607</span></li><li><span class='ee-k'>1:</span><span class='ee-v'>9.334622294426413</span></li></ul></li><li><label class='ee-shut'>1: [-0.1870778198242107, 9.334622294426413]<input type='checkbox' class='ee-toggle'></label><ul><li><span class='ee-k'>0:</span><span class='ee-v'>-0.1870778198242107</span></li><li><span class='ee-k'>1:</span><span class='ee-v'>9.334622294426413</span></li></ul></li><li><label class='ee-shut'>2: [-0.1870778198242107, 9.480942834852012]<input type='checkbox' class='ee-toggle'></label><ul><li><span class='ee-k'>0:</span><span class='ee-v'>-0.1870778198242107</span></li><li><span class='ee-k'>1:</span><span class='ee-v'>9.480942834852012</span></li></ul></li><li><label class='ee-shut'>3: [-0.3436329956054606, 9.48094283485201]<input type='checkbox' class='ee-toggle'></label><ul><li><span class='ee-k'>0:</span><span class='ee-v'>-0.3436329956054606</span></li><li><span class='ee-k'>1:</span><span class='ee-v'>9.48094283485201</span></li></ul></li><li><label class='ee-shut'>4: [-0.3436329956054607, 9.334622294426413]<input type='checkbox' class='ee-toggle'></label><ul><li><span class='ee-k'>0:</span><span class='ee-v'>-0.3436329956054607</span></li><li><span class='ee-k'>1:</span><span class='ee-v'>9.334622294426413</span></li></ul></li></ul></li></ul></li></ul></li><li><span class='ee-k'>system:index:</span><span class='ee-v'>20211127T102259_20211127T103600_T30PYR</span></li><li><span class='ee-k'>system:time_end:</span><span class='ee-v'>1638009503631</span></li><li><span class='ee-k'>system:time_start:</span><span class='ee-v'>1638009503631</span></li></ul></li></ul></li><li><label class='ee-shut'>11: Image COPERNICUS/S2_SR/20211202T102401_20211202T103714_T30PYR (1 band)<input type='checkbox' class='ee-toggle'></label><ul><li><span class='ee-k'>type:</span><span class='ee-v'>Image</span></li><li><span class='ee-k'>id:</span><span class='ee-v'>COPERNICUS/S2_SR/20211202T102401_20211202T103714_T30PYR</span></li><li><span class='ee-k'>version:</span><span class='ee-v'>1638566799104121</span></li><li><label class='ee-shut'>bands: List (1 element)<input type='checkbox' class='ee-toggle'></label><ul><li><label class='ee-shut'>0: \"smoothed_evi\", double, EPSG:4326<input type='checkbox' class='ee-toggle'></label><ul><li><span class='ee-k'>id:</span><span class='ee-v'>smoothed_evi</span></li><li><span class='ee-k'>crs:</span><span class='ee-v'>EPSG:4326</span></li><li><label class='ee-shut'>crs_transform: [1, 0, 0, 0, 1, 0]<input type='checkbox' class='ee-toggle'></label><ul><li><span class='ee-k'>0:</span><span class='ee-v'>1</span></li><li><span class='ee-k'>1:</span><span class='ee-v'>0</span></li><li><span class='ee-k'>2:</span><span class='ee-v'>0</span></li><li><span class='ee-k'>3:</span><span class='ee-v'>0</span></li><li><span class='ee-k'>4:</span><span class='ee-v'>1</span></li><li><span class='ee-k'>5:</span><span class='ee-v'>0</span></li></ul></li><li><label class='ee-shut'>data_type: double<input type='checkbox' class='ee-toggle'></label><ul><li><span class='ee-k'>type:</span><span class='ee-v'>PixelType</span></li><li><span class='ee-k'>precision:</span><span class='ee-v'>double</span></li></ul></li></ul></li></ul></li><li><label class='ee-shut'>properties: Object (83 properties)<input type='checkbox' class='ee-toggle'></label><ul><li><span class='ee-k'>AOT_RETRIEVAL_ACCURACY:</span><span class='ee-v'>0</span></li><li><span class='ee-k'>CLOUDY_PIXEL_PERCENTAGE:</span><span class='ee-v'>1.70943</span></li><li><span class='ee-k'>CLOUD_COVERAGE_ASSESSMENT:</span><span class='ee-v'>1.70943</span></li><li><span class='ee-k'>CLOUD_SHADOW_PERCENTAGE:</span><span class='ee-v'>0.001792</span></li><li><span class='ee-k'>DARK_FEATURES_PERCENTAGE:</span><span class='ee-v'>0.435045</span></li><li><span class='ee-k'>DATASTRIP_ID:</span><span class='ee-v'>S2A_OPER_MSI_L2A_DS_VGS2_20211202T142915_S20211202T103714_N03.01</span></li><li><span class='ee-k'>DATATAKE_IDENTIFIER:</span><span class='ee-v'>GS2A_20211202T102401_033667_N03.01</span></li><li><span class='ee-k'>DATATAKE_TYPE:</span><span class='ee-v'>INS-NOBS</span></li><li><span class='ee-k'>DEGRADED_MSI_DATA_PERCENTAGE:</span><span class='ee-v'>0</span></li><li><span class='ee-k'>FORMAT_CORRECTNESS:</span><span class='ee-v'>PASSED</span></li><li><span class='ee-k'>GENERAL_QUALITY:</span><span class='ee-v'>PASSED</span></li><li><span class='ee-k'>GENERATION_TIME:</span><span class='ee-v'>1638455355000</span></li><li><span class='ee-k'>GEOMETRIC_QUALITY:</span><span class='ee-v'>PASSED</span></li><li><span class='ee-k'>GRANULE_ID:</span><span class='ee-v'>L2A_T30PYR_A033667_20211202T103714</span></li><li><span class='ee-k'>HIGH_PROBA_CLOUDS_PERCENTAGE:</span><span class='ee-v'>0.000328</span></li><li><span class='ee-k'>MEAN_INCIDENCE_AZIMUTH_ANGLE_B1:</span><span class='ee-v'>174.184604565964</span></li><li><span class='ee-k'>MEAN_INCIDENCE_AZIMUTH_ANGLE_B10:</span><span class='ee-v'>175.137253872452</span></li><li><span class='ee-k'>MEAN_INCIDENCE_AZIMUTH_ANGLE_B11:</span><span class='ee-v'>174.224721550469</span></li><li><span class='ee-k'>MEAN_INCIDENCE_AZIMUTH_ANGLE_B12:</span><span class='ee-v'>173.799755836062</span></li><li><span class='ee-k'>MEAN_INCIDENCE_AZIMUTH_ANGLE_B2:</span><span class='ee-v'>178.290930778782</span></li><li><span class='ee-k'>MEAN_INCIDENCE_AZIMUTH_ANGLE_B3:</span><span class='ee-v'>176.251761308252</span></li><li><span class='ee-k'>MEAN_INCIDENCE_AZIMUTH_ANGLE_B4:</span><span class='ee-v'>175.297268395047</span></li><li><span class='ee-k'>MEAN_INCIDENCE_AZIMUTH_ANGLE_B5:</span><span class='ee-v'>174.89641386735</span></li><li><span class='ee-k'>MEAN_INCIDENCE_AZIMUTH_ANGLE_B6:</span><span class='ee-v'>174.60196122443</span></li><li><span class='ee-k'>MEAN_INCIDENCE_AZIMUTH_ANGLE_B7:</span><span class='ee-v'>174.383515782516</span></li><li><span class='ee-k'>MEAN_INCIDENCE_AZIMUTH_ANGLE_B8:</span><span class='ee-v'>177.134359818813</span></li><li><span class='ee-k'>MEAN_INCIDENCE_AZIMUTH_ANGLE_B8A:</span><span class='ee-v'>174.233961598089</span></li><li><span class='ee-k'>MEAN_INCIDENCE_AZIMUTH_ANGLE_B9:</span><span class='ee-v'>174.125416201709</span></li><li><span class='ee-k'>MEAN_INCIDENCE_ZENITH_ANGLE_B1:</span><span class='ee-v'>3.07118047294967</span></li><li><span class='ee-k'>MEAN_INCIDENCE_ZENITH_ANGLE_B10:</span><span class='ee-v'>2.62328175194709</span></li><li><span class='ee-k'>MEAN_INCIDENCE_ZENITH_ANGLE_B11:</span><span class='ee-v'>2.80160441461125</span></li><li><span class='ee-k'>MEAN_INCIDENCE_ZENITH_ANGLE_B12:</span><span class='ee-v'>3.00404642388585</span></li><li><span class='ee-k'>MEAN_INCIDENCE_ZENITH_ANGLE_B2:</span><span class='ee-v'>2.42880248550847</span></li><li><span class='ee-k'>MEAN_INCIDENCE_ZENITH_ANGLE_B3:</span><span class='ee-v'>2.5380455719887</span></li><li><span class='ee-k'>MEAN_INCIDENCE_ZENITH_ANGLE_B4:</span><span class='ee-v'>2.6583192109094</span></li><li><span class='ee-k'>MEAN_INCIDENCE_ZENITH_ANGLE_B5:</span><span class='ee-v'>2.73257340537126</span></li><li><span class='ee-k'>MEAN_INCIDENCE_ZENITH_ANGLE_B6:</span><span class='ee-v'>2.81129635606799</span></li><li><span class='ee-k'>MEAN_INCIDENCE_ZENITH_ANGLE_B7:</span><span class='ee-v'>2.89451092737836</span></li><li><span class='ee-k'>MEAN_INCIDENCE_ZENITH_ANGLE_B8:</span><span class='ee-v'>2.47992584649618</span></li><li><span class='ee-k'>MEAN_INCIDENCE_ZENITH_ANGLE_B8A:</span><span class='ee-v'>2.98124839186453</span></li><li><span class='ee-k'>MEAN_INCIDENCE_ZENITH_ANGLE_B9:</span><span class='ee-v'>3.1670987759903</span></li><li><span class='ee-k'>MEAN_SOLAR_AZIMUTH_ANGLE:</span><span class='ee-v'>150.32392777706</span></li><li><span class='ee-k'>MEAN_SOLAR_ZENITH_ANGLE:</span><span class='ee-v'>36.2837358045472</span></li><li><span class='ee-k'>MEDIUM_PROBA_CLOUDS_PERCENTAGE:</span><span class='ee-v'>0.038477</span></li><li><span class='ee-k'>MGRS_TILE:</span><span class='ee-v'>30PYR</span></li><li><span class='ee-k'>NODATA_PIXEL_PERCENTAGE:</span><span class='ee-v'>0</span></li><li><span class='ee-k'>NOT_VEGETATED_PERCENTAGE:</span><span class='ee-v'>66.702062</span></li><li><span class='ee-k'>PROCESSING_BASELINE:</span><span class='ee-v'>03.01</span></li><li><span class='ee-k'>PRODUCT_ID:</span><span class='ee-v'>S2A_MSIL2A_20211202T102401_N0301_R065_T30PYR_20211202T142915</span></li><li><span class='ee-k'>RADIATIVE_TRANSFER_ACCURACY:</span><span class='ee-v'>0</span></li><li><span class='ee-k'>RADIOMETRIC_QUALITY:</span><span class='ee-v'>PASSED</span></li><li><span class='ee-k'>REFLECTANCE_CONVERSION_CORRECTION:</span><span class='ee-v'>1.02789398122732</span></li><li><span class='ee-k'>SATURATED_DEFECTIVE_PIXEL_PERCENTAGE:</span><span class='ee-v'>0</span></li><li><span class='ee-k'>SENSING_ORBIT_DIRECTION:</span><span class='ee-v'>DESCENDING</span></li><li><span class='ee-k'>SENSING_ORBIT_NUMBER:</span><span class='ee-v'>65</span></li><li><span class='ee-k'>SENSOR_QUALITY:</span><span class='ee-v'>PASSED</span></li><li><span class='ee-k'>SNOW_ICE_PERCENTAGE:</span><span class='ee-v'>0</span></li><li><span class='ee-k'>SOLAR_IRRADIANCE_B1:</span><span class='ee-v'>1884.69</span></li><li><span class='ee-k'>SOLAR_IRRADIANCE_B10:</span><span class='ee-v'>367.15</span></li><li><span class='ee-k'>SOLAR_IRRADIANCE_B11:</span><span class='ee-v'>245.59</span></li><li><span class='ee-k'>SOLAR_IRRADIANCE_B12:</span><span class='ee-v'>85.25</span></li><li><span class='ee-k'>SOLAR_IRRADIANCE_B2:</span><span class='ee-v'>1959.66</span></li><li><span class='ee-k'>SOLAR_IRRADIANCE_B3:</span><span class='ee-v'>1823.24</span></li><li><span class='ee-k'>SOLAR_IRRADIANCE_B4:</span><span class='ee-v'>1512.06</span></li><li><span class='ee-k'>SOLAR_IRRADIANCE_B5:</span><span class='ee-v'>1424.64</span></li><li><span class='ee-k'>SOLAR_IRRADIANCE_B6:</span><span class='ee-v'>1287.61</span></li><li><span class='ee-k'>SOLAR_IRRADIANCE_B7:</span><span class='ee-v'>1162.08</span></li><li><span class='ee-k'>SOLAR_IRRADIANCE_B8:</span><span class='ee-v'>1041.63</span></li><li><span class='ee-k'>SOLAR_IRRADIANCE_B8A:</span><span class='ee-v'>955.32</span></li><li><span class='ee-k'>SOLAR_IRRADIANCE_B9:</span><span class='ee-v'>812.92</span></li><li><span class='ee-k'>SPACECRAFT_NAME:</span><span class='ee-v'>Sentinel-2A</span></li><li><span class='ee-k'>THIN_CIRRUS_PERCENTAGE:</span><span class='ee-v'>1.670625</span></li><li><span class='ee-k'>UNCLASSIFIED_PERCENTAGE:</span><span class='ee-v'>0.166128</span></li><li><span class='ee-k'>VEGETATION_PERCENTAGE:</span><span class='ee-v'>30.850053</span></li><li><span class='ee-k'>WATER_PERCENTAGE:</span><span class='ee-v'>0.135491</span></li><li><span class='ee-k'>WATER_VAPOUR_RETRIEVAL_ACCURACY:</span><span class='ee-v'>0</span></li><li><span class='ee-k'>date:</span><span class='ee-v'>2021-12-02T10:38:27</span></li><li><span class='ee-k'>smoothed_evi:</span><span class='ee-v'>0.8029104973759462</span></li><li><span class='ee-k'>system:asset_size:</span><span class='ee-v'>1672600128</span></li><li><label class='ee-shut'>system:footprint: Polygon (5 vertices)<input type='checkbox' class='ee-toggle'></label><ul><li><span class='ee-k'>type:</span><span class='ee-v'>Polygon</span></li><li><label class='ee-shut'>coordinates: List (1 element)<input type='checkbox' class='ee-toggle'></label><ul><li><label class='ee-shut'>0: List (5 elements)<input type='checkbox' class='ee-toggle'></label><ul><li><label class='ee-shut'>0: [-0.3436329956054607, 9.334622294426413]<input type='checkbox' class='ee-toggle'></label><ul><li><span class='ee-k'>0:</span><span class='ee-v'>-0.3436329956054607</span></li><li><span class='ee-k'>1:</span><span class='ee-v'>9.334622294426413</span></li></ul></li><li><label class='ee-shut'>1: [-0.1870778198242107, 9.334622294426413]<input type='checkbox' class='ee-toggle'></label><ul><li><span class='ee-k'>0:</span><span class='ee-v'>-0.1870778198242107</span></li><li><span class='ee-k'>1:</span><span class='ee-v'>9.334622294426413</span></li></ul></li><li><label class='ee-shut'>2: [-0.1870778198242107, 9.480942834852012]<input type='checkbox' class='ee-toggle'></label><ul><li><span class='ee-k'>0:</span><span class='ee-v'>-0.1870778198242107</span></li><li><span class='ee-k'>1:</span><span class='ee-v'>9.480942834852012</span></li></ul></li><li><label class='ee-shut'>3: [-0.3436329956054606, 9.48094283485201]<input type='checkbox' class='ee-toggle'></label><ul><li><span class='ee-k'>0:</span><span class='ee-v'>-0.3436329956054606</span></li><li><span class='ee-k'>1:</span><span class='ee-v'>9.48094283485201</span></li></ul></li><li><label class='ee-shut'>4: [-0.3436329956054607, 9.334622294426413]<input type='checkbox' class='ee-toggle'></label><ul><li><span class='ee-k'>0:</span><span class='ee-v'>-0.3436329956054607</span></li><li><span class='ee-k'>1:</span><span class='ee-v'>9.334622294426413</span></li></ul></li></ul></li></ul></li></ul></li><li><span class='ee-k'>system:index:</span><span class='ee-v'>20211202T102401_20211202T103714_T30PYR</span></li><li><span class='ee-k'>system:time_end:</span><span class='ee-v'>1638441507612</span></li><li><span class='ee-k'>system:time_start:</span><span class='ee-v'>1638441507612</span></li></ul></li></ul></li><li><label class='ee-shut'>12: Image COPERNICUS/S2_SR/20211202T102401_20211202T103714_T30PZR (1 band)<input type='checkbox' class='ee-toggle'></label><ul><li><span class='ee-k'>type:</span><span class='ee-v'>Image</span></li><li><span class='ee-k'>id:</span><span class='ee-v'>COPERNICUS/S2_SR/20211202T102401_20211202T103714_T30PZR</span></li><li><span class='ee-k'>version:</span><span class='ee-v'>1638563143508113</span></li><li><label class='ee-shut'>bands: List (1 element)<input type='checkbox' class='ee-toggle'></label><ul><li><label class='ee-shut'>0: \"smoothed_evi\", double, EPSG:4326<input type='checkbox' class='ee-toggle'></label><ul><li><span class='ee-k'>id:</span><span class='ee-v'>smoothed_evi</span></li><li><span class='ee-k'>crs:</span><span class='ee-v'>EPSG:4326</span></li><li><label class='ee-shut'>crs_transform: [1, 0, 0, 0, 1, 0]<input type='checkbox' class='ee-toggle'></label><ul><li><span class='ee-k'>0:</span><span class='ee-v'>1</span></li><li><span class='ee-k'>1:</span><span class='ee-v'>0</span></li><li><span class='ee-k'>2:</span><span class='ee-v'>0</span></li><li><span class='ee-k'>3:</span><span class='ee-v'>0</span></li><li><span class='ee-k'>4:</span><span class='ee-v'>1</span></li><li><span class='ee-k'>5:</span><span class='ee-v'>0</span></li></ul></li><li><label class='ee-shut'>data_type: double<input type='checkbox' class='ee-toggle'></label><ul><li><span class='ee-k'>type:</span><span class='ee-v'>PixelType</span></li><li><span class='ee-k'>precision:</span><span class='ee-v'>double</span></li></ul></li></ul></li></ul></li><li><label class='ee-shut'>properties: Object (83 properties)<input type='checkbox' class='ee-toggle'></label><ul><li><span class='ee-k'>AOT_RETRIEVAL_ACCURACY:</span><span class='ee-v'>0</span></li><li><span class='ee-k'>CLOUDY_PIXEL_PERCENTAGE:</span><span class='ee-v'>1.972101</span></li><li><span class='ee-k'>CLOUD_COVERAGE_ASSESSMENT:</span><span class='ee-v'>1.972101</span></li><li><span class='ee-k'>CLOUD_SHADOW_PERCENTAGE:</span><span class='ee-v'>0.029794</span></li><li><span class='ee-k'>DARK_FEATURES_PERCENTAGE:</span><span class='ee-v'>0.216304</span></li><li><span class='ee-k'>DATASTRIP_ID:</span><span class='ee-v'>S2A_OPER_MSI_L2A_DS_VGS2_20211202T142915_S20211202T103714_N03.01</span></li><li><span class='ee-k'>DATATAKE_IDENTIFIER:</span><span class='ee-v'>GS2A_20211202T102401_033667_N03.01</span></li><li><span class='ee-k'>DATATAKE_TYPE:</span><span class='ee-v'>INS-NOBS</span></li><li><span class='ee-k'>DEGRADED_MSI_DATA_PERCENTAGE:</span><span class='ee-v'>0</span></li><li><span class='ee-k'>FORMAT_CORRECTNESS:</span><span class='ee-v'>PASSED</span></li><li><span class='ee-k'>GENERAL_QUALITY:</span><span class='ee-v'>PASSED</span></li><li><span class='ee-k'>GENERATION_TIME:</span><span class='ee-v'>1638455355000</span></li><li><span class='ee-k'>GEOMETRIC_QUALITY:</span><span class='ee-v'>PASSED</span></li><li><span class='ee-k'>GRANULE_ID:</span><span class='ee-v'>L2A_T30PZR_A033667_20211202T103714</span></li><li><span class='ee-k'>HIGH_PROBA_CLOUDS_PERCENTAGE:</span><span class='ee-v'>0.005384</span></li><li><span class='ee-k'>MEAN_INCIDENCE_AZIMUTH_ANGLE_B1:</span><span class='ee-v'>284.11256981117</span></li><li><span class='ee-k'>MEAN_INCIDENCE_AZIMUTH_ANGLE_B10:</span><span class='ee-v'>283.854999194116</span></li><li><span class='ee-k'>MEAN_INCIDENCE_AZIMUTH_ANGLE_B11:</span><span class='ee-v'>284.018683845112</span></li><li><span class='ee-k'>MEAN_INCIDENCE_AZIMUTH_ANGLE_B12:</span><span class='ee-v'>284.10157201289</span></li><li><span class='ee-k'>MEAN_INCIDENCE_AZIMUTH_ANGLE_B2:</span><span class='ee-v'>283.763415150223</span></li><li><span class='ee-k'>MEAN_INCIDENCE_AZIMUTH_ANGLE_B3:</span><span class='ee-v'>283.846860943033</span></li><li><span class='ee-k'>MEAN_INCIDENCE_AZIMUTH_ANGLE_B4:</span><span class='ee-v'>283.933024343495</span></li><li><span class='ee-k'>MEAN_INCIDENCE_AZIMUTH_ANGLE_B5:</span><span class='ee-v'>283.987829277715</span></li><li><span class='ee-k'>MEAN_INCIDENCE_AZIMUTH_ANGLE_B6:</span><span class='ee-v'>284.03895967043</span></li><li><span class='ee-k'>MEAN_INCIDENCE_AZIMUTH_ANGLE_B7:</span><span class='ee-v'>284.075223759367</span></li><li><span class='ee-k'>MEAN_INCIDENCE_AZIMUTH_ANGLE_B8:</span><span class='ee-v'>283.807991752507</span></li><li><span class='ee-k'>MEAN_INCIDENCE_AZIMUTH_ANGLE_B8A:</span><span class='ee-v'>284.125880673142</span></li><li><span class='ee-k'>MEAN_INCIDENCE_AZIMUTH_ANGLE_B9:</span><span class='ee-v'>284.158274745478</span></li><li><span class='ee-k'>MEAN_INCIDENCE_ZENITH_ANGLE_B1:</span><span class='ee-v'>7.73065221661278</span></li><li><span class='ee-k'>MEAN_INCIDENCE_ZENITH_ANGLE_B10:</span><span class='ee-v'>7.5781964997133</span></li><li><span class='ee-k'>MEAN_INCIDENCE_ZENITH_ANGLE_B11:</span><span class='ee-v'>7.64063135806245</span></li><li><span class='ee-k'>MEAN_INCIDENCE_ZENITH_ANGLE_B12:</span><span class='ee-v'>7.71951496747492</span></li><li><span class='ee-k'>MEAN_INCIDENCE_ZENITH_ANGLE_B2:</span><span class='ee-v'>7.49986019259581</span></li><li><span class='ee-k'>MEAN_INCIDENCE_ZENITH_ANGLE_B3:</span><span class='ee-v'>7.53803493546381</span></li><li><span class='ee-k'>MEAN_INCIDENCE_ZENITH_ANGLE_B4:</span><span class='ee-v'>7.57569578281642</span></li><li><span class='ee-k'>MEAN_INCIDENCE_ZENITH_ANGLE_B5:</span><span class='ee-v'>7.60350594929394</span></li><li><span class='ee-k'>MEAN_INCIDENCE_ZENITH_ANGLE_B6:</span><span class='ee-v'>7.63109318546809</span></li><li><span class='ee-k'>MEAN_INCIDENCE_ZENITH_ANGLE_B7:</span><span class='ee-v'>7.66148862152115</span></li><li><span class='ee-k'>MEAN_INCIDENCE_ZENITH_ANGLE_B8:</span><span class='ee-v'>7.52156898074855</span></li><li><span class='ee-k'>MEAN_INCIDENCE_ZENITH_ANGLE_B8A:</span><span class='ee-v'>7.69458715501138</span></li><li><span class='ee-k'>MEAN_INCIDENCE_ZENITH_ANGLE_B9:</span><span class='ee-v'>7.77010917011328</span></li><li><span class='ee-k'>MEAN_SOLAR_AZIMUTH_ANGLE:</span><span class='ee-v'>151.531890387033</span></li><li><span class='ee-k'>MEAN_SOLAR_ZENITH_ANGLE:</span><span class='ee-v'>35.8462052005531</span></li><li><span class='ee-k'>MEDIUM_PROBA_CLOUDS_PERCENTAGE:</span><span class='ee-v'>0.069938</span></li><li><span class='ee-k'>MGRS_TILE:</span><span class='ee-v'>30PZR</span></li><li><span class='ee-k'>NODATA_PIXEL_PERCENTAGE:</span><span class='ee-v'>4.243174</span></li><li><span class='ee-k'>NOT_VEGETATED_PERCENTAGE:</span><span class='ee-v'>61.552829</span></li><li><span class='ee-k'>PROCESSING_BASELINE:</span><span class='ee-v'>03.01</span></li><li><span class='ee-k'>PRODUCT_ID:</span><span class='ee-v'>S2A_MSIL2A_20211202T102401_N0301_R065_T30PZR_20211202T142915</span></li><li><span class='ee-k'>RADIATIVE_TRANSFER_ACCURACY:</span><span class='ee-v'>0</span></li><li><span class='ee-k'>RADIOMETRIC_QUALITY:</span><span class='ee-v'>PASSED</span></li><li><span class='ee-k'>REFLECTANCE_CONVERSION_CORRECTION:</span><span class='ee-v'>1.02789398122732</span></li><li><span class='ee-k'>SATURATED_DEFECTIVE_PIXEL_PERCENTAGE:</span><span class='ee-v'>0</span></li><li><span class='ee-k'>SENSING_ORBIT_DIRECTION:</span><span class='ee-v'>DESCENDING</span></li><li><span class='ee-k'>SENSING_ORBIT_NUMBER:</span><span class='ee-v'>65</span></li><li><span class='ee-k'>SENSOR_QUALITY:</span><span class='ee-v'>PASSED</span></li><li><span class='ee-k'>SNOW_ICE_PERCENTAGE:</span><span class='ee-v'>0</span></li><li><span class='ee-k'>SOLAR_IRRADIANCE_B1:</span><span class='ee-v'>1884.69</span></li><li><span class='ee-k'>SOLAR_IRRADIANCE_B10:</span><span class='ee-v'>367.15</span></li><li><span class='ee-k'>SOLAR_IRRADIANCE_B11:</span><span class='ee-v'>245.59</span></li><li><span class='ee-k'>SOLAR_IRRADIANCE_B12:</span><span class='ee-v'>85.25</span></li><li><span class='ee-k'>SOLAR_IRRADIANCE_B2:</span><span class='ee-v'>1959.66</span></li><li><span class='ee-k'>SOLAR_IRRADIANCE_B3:</span><span class='ee-v'>1823.24</span></li><li><span class='ee-k'>SOLAR_IRRADIANCE_B4:</span><span class='ee-v'>1512.06</span></li><li><span class='ee-k'>SOLAR_IRRADIANCE_B5:</span><span class='ee-v'>1424.64</span></li><li><span class='ee-k'>SOLAR_IRRADIANCE_B6:</span><span class='ee-v'>1287.61</span></li><li><span class='ee-k'>SOLAR_IRRADIANCE_B7:</span><span class='ee-v'>1162.08</span></li><li><span class='ee-k'>SOLAR_IRRADIANCE_B8:</span><span class='ee-v'>1041.63</span></li><li><span class='ee-k'>SOLAR_IRRADIANCE_B8A:</span><span class='ee-v'>955.32</span></li><li><span class='ee-k'>SOLAR_IRRADIANCE_B9:</span><span class='ee-v'>812.92</span></li><li><span class='ee-k'>SPACECRAFT_NAME:</span><span class='ee-v'>Sentinel-2A</span></li><li><span class='ee-k'>THIN_CIRRUS_PERCENTAGE:</span><span class='ee-v'>1.896778</span></li><li><span class='ee-k'>UNCLASSIFIED_PERCENTAGE:</span><span class='ee-v'>0.186721</span></li><li><span class='ee-k'>VEGETATION_PERCENTAGE:</span><span class='ee-v'>35.971934</span></li><li><span class='ee-k'>WATER_PERCENTAGE:</span><span class='ee-v'>0.070309</span></li><li><span class='ee-k'>WATER_VAPOUR_RETRIEVAL_ACCURACY:</span><span class='ee-v'>0</span></li><li><span class='ee-k'>date:</span><span class='ee-v'>2021-12-02T10:38:24</span></li><li><span class='ee-k'>smoothed_evi:</span><span class='ee-v'>0.8029104973759462</span></li><li><span class='ee-k'>system:asset_size:</span><span class='ee-v'>1632411664</span></li><li><label class='ee-shut'>system:footprint: Polygon (6 vertices)<input type='checkbox' class='ee-toggle'></label><ul><li><span class='ee-k'>type:</span><span class='ee-v'>Polygon</span></li><li><label class='ee-shut'>coordinates: List (1 element)<input type='checkbox' class='ee-toggle'></label><ul><li><label class='ee-shut'>0: List (6 elements)<input type='checkbox' class='ee-toggle'></label><ul><li><label class='ee-shut'>0: [-0.26814381866412906, 9.480951511322822]<input type='checkbox' class='ee-toggle'></label><ul><li><span class='ee-k'>0:</span><span class='ee-v'>-0.26814381866412906</span></li><li><span class='ee-k'>1:</span><span class='ee-v'>9.480951511322822</span></li></ul></li><li><label class='ee-shut'>1: [-0.26843640767326354, 9.444324152065583]<input type='checkbox' class='ee-toggle'></label><ul><li><span class='ee-k'>0:</span><span class='ee-v'>-0.26843640767326354</span></li><li><span class='ee-k'>1:</span><span class='ee-v'>9.444324152065583</span></li></ul></li><li><label class='ee-shut'>2: [-0.26928977486125355, 9.334630831044018]<input type='checkbox' class='ee-toggle'></label><ul><li><span class='ee-k'>0:</span><span class='ee-v'>-0.26928977486125355</span></li><li><span class='ee-k'>1:</span><span class='ee-v'>9.334630831044018</span></li></ul></li><li><label class='ee-shut'>3: [-0.1870778198242107, 9.334622294426413]<input type='checkbox' class='ee-toggle'></label><ul><li><span class='ee-k'>0:</span><span class='ee-v'>-0.1870778198242107</span></li><li><span class='ee-k'>1:</span><span class='ee-v'>9.334622294426413</span></li></ul></li><li><label class='ee-shut'>4: [-0.1870778198242107, 9.480942834852012]<input type='checkbox' class='ee-toggle'></label><ul><li><span class='ee-k'>0:</span><span class='ee-v'>-0.1870778198242107</span></li><li><span class='ee-k'>1:</span><span class='ee-v'>9.480942834852012</span></li></ul></li><li><label class='ee-shut'>5: [-0.26814381866412906, 9.480951511322822]<input type='checkbox' class='ee-toggle'></label><ul><li><span class='ee-k'>0:</span><span class='ee-v'>-0.26814381866412906</span></li><li><span class='ee-k'>1:</span><span class='ee-v'>9.480951511322822</span></li></ul></li></ul></li></ul></li></ul></li><li><span class='ee-k'>system:index:</span><span class='ee-v'>20211202T102401_20211202T103714_T30PZR</span></li><li><span class='ee-k'>system:time_end:</span><span class='ee-v'>1638441504057</span></li><li><span class='ee-k'>system:time_start:</span><span class='ee-v'>1638441504057</span></li></ul></li></ul></li><li><label class='ee-shut'>13: Image COPERNICUS/S2_SR/20211207T102319_20211207T103625_T30PYR (1 band)<input type='checkbox' class='ee-toggle'></label><ul><li><span class='ee-k'>type:</span><span class='ee-v'>Image</span></li><li><span class='ee-k'>id:</span><span class='ee-v'>COPERNICUS/S2_SR/20211207T102319_20211207T103625_T30PYR</span></li><li><span class='ee-k'>version:</span><span class='ee-v'>1639095925514211</span></li><li><label class='ee-shut'>bands: List (1 element)<input type='checkbox' class='ee-toggle'></label><ul><li><label class='ee-shut'>0: \"smoothed_evi\", double, EPSG:4326<input type='checkbox' class='ee-toggle'></label><ul><li><span class='ee-k'>id:</span><span class='ee-v'>smoothed_evi</span></li><li><span class='ee-k'>crs:</span><span class='ee-v'>EPSG:4326</span></li><li><label class='ee-shut'>crs_transform: [1, 0, 0, 0, 1, 0]<input type='checkbox' class='ee-toggle'></label><ul><li><span class='ee-k'>0:</span><span class='ee-v'>1</span></li><li><span class='ee-k'>1:</span><span class='ee-v'>0</span></li><li><span class='ee-k'>2:</span><span class='ee-v'>0</span></li><li><span class='ee-k'>3:</span><span class='ee-v'>0</span></li><li><span class='ee-k'>4:</span><span class='ee-v'>1</span></li><li><span class='ee-k'>5:</span><span class='ee-v'>0</span></li></ul></li><li><label class='ee-shut'>data_type: double<input type='checkbox' class='ee-toggle'></label><ul><li><span class='ee-k'>type:</span><span class='ee-v'>PixelType</span></li><li><span class='ee-k'>precision:</span><span class='ee-v'>double</span></li></ul></li></ul></li></ul></li><li><label class='ee-shut'>properties: Object (83 properties)<input type='checkbox' class='ee-toggle'></label><ul><li><span class='ee-k'>AOT_RETRIEVAL_ACCURACY:</span><span class='ee-v'>0</span></li><li><span class='ee-k'>CLOUDY_PIXEL_PERCENTAGE:</span><span class='ee-v'>10.214661</span></li><li><span class='ee-k'>CLOUD_COVERAGE_ASSESSMENT:</span><span class='ee-v'>10.214661</span></li><li><span class='ee-k'>CLOUD_SHADOW_PERCENTAGE:</span><span class='ee-v'>0.000269</span></li><li><span class='ee-k'>DARK_FEATURES_PERCENTAGE:</span><span class='ee-v'>0.427918</span></li><li><span class='ee-k'>DATASTRIP_ID:</span><span class='ee-v'>S2B_OPER_MSI_L2A_DS_VGS2_20211207T125931_S20211207T103625_N03.01</span></li><li><span class='ee-k'>DATATAKE_IDENTIFIER:</span><span class='ee-v'>GS2B_20211207T102319_024830_N03.01</span></li><li><span class='ee-k'>DATATAKE_TYPE:</span><span class='ee-v'>INS-NOBS</span></li><li><span class='ee-k'>DEGRADED_MSI_DATA_PERCENTAGE:</span><span class='ee-v'>0</span></li><li><span class='ee-k'>FORMAT_CORRECTNESS:</span><span class='ee-v'>PASSED</span></li><li><span class='ee-k'>GENERAL_QUALITY:</span><span class='ee-v'>PASSED</span></li><li><span class='ee-k'>GENERATION_TIME:</span><span class='ee-v'>1638881971000</span></li><li><span class='ee-k'>GEOMETRIC_QUALITY:</span><span class='ee-v'>PASSED</span></li><li><span class='ee-k'>GRANULE_ID:</span><span class='ee-v'>L2A_T30PYR_A024830_20211207T103625</span></li><li><span class='ee-k'>HIGH_PROBA_CLOUDS_PERCENTAGE:</span><span class='ee-v'>0.002707</span></li><li><span class='ee-k'>MEAN_INCIDENCE_AZIMUTH_ANGLE_B1:</span><span class='ee-v'>174.060576189657</span></li><li><span class='ee-k'>MEAN_INCIDENCE_AZIMUTH_ANGLE_B10:</span><span class='ee-v'>175.527541348435</span></li><li><span class='ee-k'>MEAN_INCIDENCE_AZIMUTH_ANGLE_B11:</span><span class='ee-v'>174.238346466017</span></li><li><span class='ee-k'>MEAN_INCIDENCE_AZIMUTH_ANGLE_B12:</span><span class='ee-v'>174.029640112778</span></li><li><span class='ee-k'>MEAN_INCIDENCE_AZIMUTH_ANGLE_B2:</span><span class='ee-v'>178.109018892209</span></li><li><span class='ee-k'>MEAN_INCIDENCE_AZIMUTH_ANGLE_B3:</span><span class='ee-v'>176.027360816995</span></li><li><span class='ee-k'>MEAN_INCIDENCE_AZIMUTH_ANGLE_B4:</span><span class='ee-v'>174.900831693244</span></li><li><span class='ee-k'>MEAN_INCIDENCE_AZIMUTH_ANGLE_B5:</span><span class='ee-v'>174.494532673812</span></li><li><span class='ee-k'>MEAN_INCIDENCE_AZIMUTH_ANGLE_B6:</span><span class='ee-v'>174.194773872765</span></li><li><span class='ee-k'>MEAN_INCIDENCE_AZIMUTH_ANGLE_B7:</span><span class='ee-v'>173.977399195722</span></li><li><span class='ee-k'>MEAN_INCIDENCE_AZIMUTH_ANGLE_B8:</span><span class='ee-v'>176.927083982415</span></li><li><span class='ee-k'>MEAN_INCIDENCE_AZIMUTH_ANGLE_B8A:</span><span class='ee-v'>173.82396187822</span></li><li><span class='ee-k'>MEAN_INCIDENCE_AZIMUTH_ANGLE_B9:</span><span class='ee-v'>173.99115946125</span></li><li><span class='ee-k'>MEAN_INCIDENCE_ZENITH_ANGLE_B1:</span><span class='ee-v'>3.07075929702287</span></li><li><span class='ee-k'>MEAN_INCIDENCE_ZENITH_ANGLE_B10:</span><span class='ee-v'>2.62259007789028</span></li><li><span class='ee-k'>MEAN_INCIDENCE_ZENITH_ANGLE_B11:</span><span class='ee-v'>2.79429622601187</span></li><li><span class='ee-k'>MEAN_INCIDENCE_ZENITH_ANGLE_B12:</span><span class='ee-v'>2.99892175573595</span></li><li><span class='ee-k'>MEAN_INCIDENCE_ZENITH_ANGLE_B2:</span><span class='ee-v'>2.42157236608575</span></li><li><span class='ee-k'>MEAN_INCIDENCE_ZENITH_ANGLE_B3:</span><span class='ee-v'>2.53066611213544</span></li><li><span class='ee-k'>MEAN_INCIDENCE_ZENITH_ANGLE_B4:</span><span class='ee-v'>2.65321389294448</span></li><li><span class='ee-k'>MEAN_INCIDENCE_ZENITH_ANGLE_B5:</span><span class='ee-v'>2.727362018561</span></li><li><span class='ee-k'>MEAN_INCIDENCE_ZENITH_ANGLE_B6:</span><span class='ee-v'>2.80613775933474</span></li><li><span class='ee-k'>MEAN_INCIDENCE_ZENITH_ANGLE_B7:</span><span class='ee-v'>2.889180965389</span></li><li><span class='ee-k'>MEAN_INCIDENCE_ZENITH_ANGLE_B8:</span><span class='ee-v'>2.47257518963724</span></li><li><span class='ee-k'>MEAN_INCIDENCE_ZENITH_ANGLE_B8A:</span><span class='ee-v'>2.97597497404559</span></li><li><span class='ee-k'>MEAN_INCIDENCE_ZENITH_ANGLE_B9:</span><span class='ee-v'>3.16679778518336</span></li><li><span class='ee-k'>MEAN_SOLAR_AZIMUTH_ANGLE:</span><span class='ee-v'>150.186531988758</span></li><li><span class='ee-k'>MEAN_SOLAR_ZENITH_ANGLE:</span><span class='ee-v'>37.0865921022334</span></li><li><span class='ee-k'>MEDIUM_PROBA_CLOUDS_PERCENTAGE:</span><span class='ee-v'>0.378008</span></li><li><span class='ee-k'>MGRS_TILE:</span><span class='ee-v'>30PYR</span></li><li><span class='ee-k'>NODATA_PIXEL_PERCENTAGE:</span><span class='ee-v'>0</span></li><li><span class='ee-k'>NOT_VEGETATED_PERCENTAGE:</span><span class='ee-v'>80.287373</span></li><li><span class='ee-k'>PROCESSING_BASELINE:</span><span class='ee-v'>03.01</span></li><li><span class='ee-k'>PRODUCT_ID:</span><span class='ee-v'>S2B_MSIL2A_20211207T102319_N0301_R065_T30PYR_20211207T125931</span></li><li><span class='ee-k'>RADIATIVE_TRANSFER_ACCURACY:</span><span class='ee-v'>0</span></li><li><span class='ee-k'>RADIOMETRIC_QUALITY:</span><span class='ee-v'>PASSED</span></li><li><span class='ee-k'>REFLECTANCE_CONVERSION_CORRECTION:</span><span class='ee-v'>1.02951927844219</span></li><li><span class='ee-k'>SATURATED_DEFECTIVE_PIXEL_PERCENTAGE:</span><span class='ee-v'>0</span></li><li><span class='ee-k'>SENSING_ORBIT_DIRECTION:</span><span class='ee-v'>DESCENDING</span></li><li><span class='ee-k'>SENSING_ORBIT_NUMBER:</span><span class='ee-v'>65</span></li><li><span class='ee-k'>SENSOR_QUALITY:</span><span class='ee-v'>PASSED</span></li><li><span class='ee-k'>SNOW_ICE_PERCENTAGE:</span><span class='ee-v'>0</span></li><li><span class='ee-k'>SOLAR_IRRADIANCE_B1:</span><span class='ee-v'>1874.3</span></li><li><span class='ee-k'>SOLAR_IRRADIANCE_B10:</span><span class='ee-v'>365.41</span></li><li><span class='ee-k'>SOLAR_IRRADIANCE_B11:</span><span class='ee-v'>247.08</span></li><li><span class='ee-k'>SOLAR_IRRADIANCE_B12:</span><span class='ee-v'>87.75</span></li><li><span class='ee-k'>SOLAR_IRRADIANCE_B2:</span><span class='ee-v'>1959.75</span></li><li><span class='ee-k'>SOLAR_IRRADIANCE_B3:</span><span class='ee-v'>1824.93</span></li><li><span class='ee-k'>SOLAR_IRRADIANCE_B4:</span><span class='ee-v'>1512.79</span></li><li><span class='ee-k'>SOLAR_IRRADIANCE_B5:</span><span class='ee-v'>1425.78</span></li><li><span class='ee-k'>SOLAR_IRRADIANCE_B6:</span><span class='ee-v'>1291.13</span></li><li><span class='ee-k'>SOLAR_IRRADIANCE_B7:</span><span class='ee-v'>1175.57</span></li><li><span class='ee-k'>SOLAR_IRRADIANCE_B8:</span><span class='ee-v'>1041.28</span></li><li><span class='ee-k'>SOLAR_IRRADIANCE_B8A:</span><span class='ee-v'>953.93</span></li><li><span class='ee-k'>SOLAR_IRRADIANCE_B9:</span><span class='ee-v'>817.58</span></li><li><span class='ee-k'>SPACECRAFT_NAME:</span><span class='ee-v'>Sentinel-2B</span></li><li><span class='ee-k'>THIN_CIRRUS_PERCENTAGE:</span><span class='ee-v'>9.833945</span></li><li><span class='ee-k'>UNCLASSIFIED_PERCENTAGE:</span><span class='ee-v'>1.123324</span></li><li><span class='ee-k'>VEGETATION_PERCENTAGE:</span><span class='ee-v'>7.863089</span></li><li><span class='ee-k'>WATER_PERCENTAGE:</span><span class='ee-v'>0.083367</span></li><li><span class='ee-k'>WATER_VAPOUR_RETRIEVAL_ACCURACY:</span><span class='ee-v'>0</span></li><li><span class='ee-k'>date:</span><span class='ee-v'>2021-12-07T10:38:23</span></li><li><span class='ee-k'>smoothed_evi:</span><span class='ee-v'>0.8029104973759462</span></li><li><span class='ee-k'>system:asset_size:</span><span class='ee-v'>1591259963</span></li><li><label class='ee-shut'>system:footprint: Polygon (5 vertices)<input type='checkbox' class='ee-toggle'></label><ul><li><span class='ee-k'>type:</span><span class='ee-v'>Polygon</span></li><li><label class='ee-shut'>coordinates: List (1 element)<input type='checkbox' class='ee-toggle'></label><ul><li><label class='ee-shut'>0: List (5 elements)<input type='checkbox' class='ee-toggle'></label><ul><li><label class='ee-shut'>0: [-0.3436329956054607, 9.334622294426413]<input type='checkbox' class='ee-toggle'></label><ul><li><span class='ee-k'>0:</span><span class='ee-v'>-0.3436329956054607</span></li><li><span class='ee-k'>1:</span><span class='ee-v'>9.334622294426413</span></li></ul></li><li><label class='ee-shut'>1: [-0.1870778198242107, 9.334622294426413]<input type='checkbox' class='ee-toggle'></label><ul><li><span class='ee-k'>0:</span><span class='ee-v'>-0.1870778198242107</span></li><li><span class='ee-k'>1:</span><span class='ee-v'>9.334622294426413</span></li></ul></li><li><label class='ee-shut'>2: [-0.1870778198242107, 9.480942834852012]<input type='checkbox' class='ee-toggle'></label><ul><li><span class='ee-k'>0:</span><span class='ee-v'>-0.1870778198242107</span></li><li><span class='ee-k'>1:</span><span class='ee-v'>9.480942834852012</span></li></ul></li><li><label class='ee-shut'>3: [-0.3436329956054606, 9.48094283485201]<input type='checkbox' class='ee-toggle'></label><ul><li><span class='ee-k'>0:</span><span class='ee-v'>-0.3436329956054606</span></li><li><span class='ee-k'>1:</span><span class='ee-v'>9.48094283485201</span></li></ul></li><li><label class='ee-shut'>4: [-0.3436329956054607, 9.334622294426413]<input type='checkbox' class='ee-toggle'></label><ul><li><span class='ee-k'>0:</span><span class='ee-v'>-0.3436329956054607</span></li><li><span class='ee-k'>1:</span><span class='ee-v'>9.334622294426413</span></li></ul></li></ul></li></ul></li></ul></li><li><span class='ee-k'>system:index:</span><span class='ee-v'>20211207T102319_20211207T103625_T30PYR</span></li><li><span class='ee-k'>system:time_end:</span><span class='ee-v'>1638873503031</span></li><li><span class='ee-k'>system:time_start:</span><span class='ee-v'>1638873503031</span></li></ul></li></ul></li><li><label class='ee-shut'>14: Image COPERNICUS/S2_SR/20211207T102319_20211207T103625_T30PZR (1 band)<input type='checkbox' class='ee-toggle'></label><ul><li><span class='ee-k'>type:</span><span class='ee-v'>Image</span></li><li><span class='ee-k'>id:</span><span class='ee-v'>COPERNICUS/S2_SR/20211207T102319_20211207T103625_T30PZR</span></li><li><span class='ee-k'>version:</span><span class='ee-v'>1638996743225350.0</span></li><li><label class='ee-shut'>bands: List (1 element)<input type='checkbox' class='ee-toggle'></label><ul><li><label class='ee-shut'>0: \"smoothed_evi\", double, EPSG:4326<input type='checkbox' class='ee-toggle'></label><ul><li><span class='ee-k'>id:</span><span class='ee-v'>smoothed_evi</span></li><li><span class='ee-k'>crs:</span><span class='ee-v'>EPSG:4326</span></li><li><label class='ee-shut'>crs_transform: [1, 0, 0, 0, 1, 0]<input type='checkbox' class='ee-toggle'></label><ul><li><span class='ee-k'>0:</span><span class='ee-v'>1</span></li><li><span class='ee-k'>1:</span><span class='ee-v'>0</span></li><li><span class='ee-k'>2:</span><span class='ee-v'>0</span></li><li><span class='ee-k'>3:</span><span class='ee-v'>0</span></li><li><span class='ee-k'>4:</span><span class='ee-v'>1</span></li><li><span class='ee-k'>5:</span><span class='ee-v'>0</span></li></ul></li><li><label class='ee-shut'>data_type: double<input type='checkbox' class='ee-toggle'></label><ul><li><span class='ee-k'>type:</span><span class='ee-v'>PixelType</span></li><li><span class='ee-k'>precision:</span><span class='ee-v'>double</span></li></ul></li></ul></li></ul></li><li><label class='ee-shut'>properties: Object (83 properties)<input type='checkbox' class='ee-toggle'></label><ul><li><span class='ee-k'>AOT_RETRIEVAL_ACCURACY:</span><span class='ee-v'>0</span></li><li><span class='ee-k'>CLOUDY_PIXEL_PERCENTAGE:</span><span class='ee-v'>10.142638</span></li><li><span class='ee-k'>CLOUD_COVERAGE_ASSESSMENT:</span><span class='ee-v'>10.142638</span></li><li><span class='ee-k'>CLOUD_SHADOW_PERCENTAGE:</span><span class='ee-v'>0.014299</span></li><li><span class='ee-k'>DARK_FEATURES_PERCENTAGE:</span><span class='ee-v'>0.395183</span></li><li><span class='ee-k'>DATASTRIP_ID:</span><span class='ee-v'>S2B_OPER_MSI_L2A_DS_VGS2_20211207T125931_S20211207T103625_N03.01</span></li><li><span class='ee-k'>DATATAKE_IDENTIFIER:</span><span class='ee-v'>GS2B_20211207T102319_024830_N03.01</span></li><li><span class='ee-k'>DATATAKE_TYPE:</span><span class='ee-v'>INS-NOBS</span></li><li><span class='ee-k'>DEGRADED_MSI_DATA_PERCENTAGE:</span><span class='ee-v'>0</span></li><li><span class='ee-k'>FORMAT_CORRECTNESS:</span><span class='ee-v'>PASSED</span></li><li><span class='ee-k'>GENERAL_QUALITY:</span><span class='ee-v'>PASSED</span></li><li><span class='ee-k'>GENERATION_TIME:</span><span class='ee-v'>1638881971000</span></li><li><span class='ee-k'>GEOMETRIC_QUALITY:</span><span class='ee-v'>PASSED</span></li><li><span class='ee-k'>GRANULE_ID:</span><span class='ee-v'>L2A_T30PZR_A024830_20211207T103625</span></li><li><span class='ee-k'>HIGH_PROBA_CLOUDS_PERCENTAGE:</span><span class='ee-v'>0.160475</span></li><li><span class='ee-k'>MEAN_INCIDENCE_AZIMUTH_ANGLE_B1:</span><span class='ee-v'>283.174213237417</span></li><li><span class='ee-k'>MEAN_INCIDENCE_AZIMUTH_ANGLE_B10:</span><span class='ee-v'>282.813382757541</span></li><li><span class='ee-k'>MEAN_INCIDENCE_AZIMUTH_ANGLE_B11:</span><span class='ee-v'>283.000883357645</span></li><li><span class='ee-k'>MEAN_INCIDENCE_AZIMUTH_ANGLE_B12:</span><span class='ee-v'>283.09997340154</span></li><li><span class='ee-k'>MEAN_INCIDENCE_AZIMUTH_ANGLE_B2:</span><span class='ee-v'>282.789008426954</span></li><li><span class='ee-k'>MEAN_INCIDENCE_AZIMUTH_ANGLE_B3:</span><span class='ee-v'>282.883320192586</span></li><li><span class='ee-k'>MEAN_INCIDENCE_AZIMUTH_ANGLE_B4:</span><span class='ee-v'>282.977089694284</span></li><li><span class='ee-k'>MEAN_INCIDENCE_AZIMUTH_ANGLE_B5:</span><span class='ee-v'>283.035783632004</span></li><li><span class='ee-k'>MEAN_INCIDENCE_AZIMUTH_ANGLE_B6:</span><span class='ee-v'>283.096990475934</span></li><li><span class='ee-k'>MEAN_INCIDENCE_AZIMUTH_ANGLE_B7:</span><span class='ee-v'>283.142810125779</span></li><li><span class='ee-k'>MEAN_INCIDENCE_AZIMUTH_ANGLE_B8:</span><span class='ee-v'>282.834361310337</span></li><li><span class='ee-k'>MEAN_INCIDENCE_AZIMUTH_ANGLE_B8A:</span><span class='ee-v'>283.202903601144</span></li><li><span class='ee-k'>MEAN_INCIDENCE_AZIMUTH_ANGLE_B9:</span><span class='ee-v'>283.231403297743</span></li><li><span class='ee-k'>MEAN_INCIDENCE_ZENITH_ANGLE_B1:</span><span class='ee-v'>7.7305347415496</span></li><li><span class='ee-k'>MEAN_INCIDENCE_ZENITH_ANGLE_B10:</span><span class='ee-v'>7.57448177724425</span></li><li><span class='ee-k'>MEAN_INCIDENCE_ZENITH_ANGLE_B11:</span><span class='ee-v'>7.62803387519073</span></li><li><span class='ee-k'>MEAN_INCIDENCE_ZENITH_ANGLE_B12:</span><span class='ee-v'>7.71067653015217</span></li><li><span class='ee-k'>MEAN_INCIDENCE_ZENITH_ANGLE_B2:</span><span class='ee-v'>7.51234629135565</span></li><li><span class='ee-k'>MEAN_INCIDENCE_ZENITH_ANGLE_B3:</span><span class='ee-v'>7.54199967102027</span></li><li><span class='ee-k'>MEAN_INCIDENCE_ZENITH_ANGLE_B4:</span><span class='ee-v'>7.57969828192177</span></li><li><span class='ee-k'>MEAN_INCIDENCE_ZENITH_ANGLE_B5:</span><span class='ee-v'>7.60491127469134</span></li><li><span class='ee-k'>MEAN_INCIDENCE_ZENITH_ANGLE_B6:</span><span class='ee-v'>7.6323597412901</span></li><li><span class='ee-k'>MEAN_INCIDENCE_ZENITH_ANGLE_B7:</span><span class='ee-v'>7.66664539110661</span></li><li><span class='ee-k'>MEAN_INCIDENCE_ZENITH_ANGLE_B8:</span><span class='ee-v'>7.52569421544888</span></li><li><span class='ee-k'>MEAN_INCIDENCE_ZENITH_ANGLE_B8A:</span><span class='ee-v'>7.69955695963081</span></li><li><span class='ee-k'>MEAN_INCIDENCE_ZENITH_ANGLE_B9:</span><span class='ee-v'>7.76991085156689</span></li><li><span class='ee-k'>MEAN_SOLAR_AZIMUTH_ANGLE:</span><span class='ee-v'>151.362303642599</span></li><li><span class='ee-k'>MEAN_SOLAR_ZENITH_ANGLE:</span><span class='ee-v'>36.6470055694323</span></li><li><span class='ee-k'>MEDIUM_PROBA_CLOUDS_PERCENTAGE:</span><span class='ee-v'>1.281095</span></li><li><span class='ee-k'>MGRS_TILE:</span><span class='ee-v'>30PZR</span></li><li><span class='ee-k'>NODATA_PIXEL_PERCENTAGE:</span><span class='ee-v'>4.356956</span></li><li><span class='ee-k'>NOT_VEGETATED_PERCENTAGE:</span><span class='ee-v'>79.175955</span></li><li><span class='ee-k'>PROCESSING_BASELINE:</span><span class='ee-v'>03.01</span></li><li><span class='ee-k'>PRODUCT_ID:</span><span class='ee-v'>S2B_MSIL2A_20211207T102319_N0301_R065_T30PZR_20211207T125931</span></li><li><span class='ee-k'>RADIATIVE_TRANSFER_ACCURACY:</span><span class='ee-v'>0</span></li><li><span class='ee-k'>RADIOMETRIC_QUALITY:</span><span class='ee-v'>PASSED</span></li><li><span class='ee-k'>REFLECTANCE_CONVERSION_CORRECTION:</span><span class='ee-v'>1.02951927844219</span></li><li><span class='ee-k'>SATURATED_DEFECTIVE_PIXEL_PERCENTAGE:</span><span class='ee-v'>0</span></li><li><span class='ee-k'>SENSING_ORBIT_DIRECTION:</span><span class='ee-v'>DESCENDING</span></li><li><span class='ee-k'>SENSING_ORBIT_NUMBER:</span><span class='ee-v'>65</span></li><li><span class='ee-k'>SENSOR_QUALITY:</span><span class='ee-v'>PASSED</span></li><li><span class='ee-k'>SNOW_ICE_PERCENTAGE:</span><span class='ee-v'>0</span></li><li><span class='ee-k'>SOLAR_IRRADIANCE_B1:</span><span class='ee-v'>1874.3</span></li><li><span class='ee-k'>SOLAR_IRRADIANCE_B10:</span><span class='ee-v'>365.41</span></li><li><span class='ee-k'>SOLAR_IRRADIANCE_B11:</span><span class='ee-v'>247.08</span></li><li><span class='ee-k'>SOLAR_IRRADIANCE_B12:</span><span class='ee-v'>87.75</span></li><li><span class='ee-k'>SOLAR_IRRADIANCE_B2:</span><span class='ee-v'>1959.75</span></li><li><span class='ee-k'>SOLAR_IRRADIANCE_B3:</span><span class='ee-v'>1824.93</span></li><li><span class='ee-k'>SOLAR_IRRADIANCE_B4:</span><span class='ee-v'>1512.79</span></li><li><span class='ee-k'>SOLAR_IRRADIANCE_B5:</span><span class='ee-v'>1425.78</span></li><li><span class='ee-k'>SOLAR_IRRADIANCE_B6:</span><span class='ee-v'>1291.13</span></li><li><span class='ee-k'>SOLAR_IRRADIANCE_B7:</span><span class='ee-v'>1175.57</span></li><li><span class='ee-k'>SOLAR_IRRADIANCE_B8:</span><span class='ee-v'>1041.28</span></li><li><span class='ee-k'>SOLAR_IRRADIANCE_B8A:</span><span class='ee-v'>953.93</span></li><li><span class='ee-k'>SOLAR_IRRADIANCE_B9:</span><span class='ee-v'>817.58</span></li><li><span class='ee-k'>SPACECRAFT_NAME:</span><span class='ee-v'>Sentinel-2B</span></li><li><span class='ee-k'>THIN_CIRRUS_PERCENTAGE:</span><span class='ee-v'>8.701068</span></li><li><span class='ee-k'>UNCLASSIFIED_PERCENTAGE:</span><span class='ee-v'>1.283242</span></li><li><span class='ee-k'>VEGETATION_PERCENTAGE:</span><span class='ee-v'>8.95743</span></li><li><span class='ee-k'>WATER_PERCENTAGE:</span><span class='ee-v'>0.031256</span></li><li><span class='ee-k'>WATER_VAPOUR_RETRIEVAL_ACCURACY:</span><span class='ee-v'>0</span></li><li><span class='ee-k'>date:</span><span class='ee-v'>2021-12-07T10:38:19</span></li><li><span class='ee-k'>smoothed_evi:</span><span class='ee-v'>0.8029104973759462</span></li><li><span class='ee-k'>system:asset_size:</span><span class='ee-v'>1544640151</span></li><li><label class='ee-shut'>system:footprint: Polygon (6 vertices)<input type='checkbox' class='ee-toggle'></label><ul><li><span class='ee-k'>type:</span><span class='ee-v'>Polygon</span></li><li><label class='ee-shut'>coordinates: List (1 element)<input type='checkbox' class='ee-toggle'></label><ul><li><label class='ee-shut'>0: List (6 elements)<input type='checkbox' class='ee-toggle'></label><ul><li><label class='ee-shut'>0: [-0.26814381866412906, 9.480951511322822]<input type='checkbox' class='ee-toggle'></label><ul><li><span class='ee-k'>0:</span><span class='ee-v'>-0.26814381866412906</span></li><li><span class='ee-k'>1:</span><span class='ee-v'>9.480951511322822</span></li></ul></li><li><label class='ee-shut'>1: [-0.26843640767326354, 9.444324152065583]<input type='checkbox' class='ee-toggle'></label><ul><li><span class='ee-k'>0:</span><span class='ee-v'>-0.26843640767326354</span></li><li><span class='ee-k'>1:</span><span class='ee-v'>9.444324152065583</span></li></ul></li><li><label class='ee-shut'>2: [-0.26928977486125355, 9.334630831044018]<input type='checkbox' class='ee-toggle'></label><ul><li><span class='ee-k'>0:</span><span class='ee-v'>-0.26928977486125355</span></li><li><span class='ee-k'>1:</span><span class='ee-v'>9.334630831044018</span></li></ul></li><li><label class='ee-shut'>3: [-0.1870778198242107, 9.334622294426413]<input type='checkbox' class='ee-toggle'></label><ul><li><span class='ee-k'>0:</span><span class='ee-v'>-0.1870778198242107</span></li><li><span class='ee-k'>1:</span><span class='ee-v'>9.334622294426413</span></li></ul></li><li><label class='ee-shut'>4: [-0.1870778198242107, 9.480942834852012]<input type='checkbox' class='ee-toggle'></label><ul><li><span class='ee-k'>0:</span><span class='ee-v'>-0.1870778198242107</span></li><li><span class='ee-k'>1:</span><span class='ee-v'>9.480942834852012</span></li></ul></li><li><label class='ee-shut'>5: [-0.26814381866412906, 9.480951511322822]<input type='checkbox' class='ee-toggle'></label><ul><li><span class='ee-k'>0:</span><span class='ee-v'>-0.26814381866412906</span></li><li><span class='ee-k'>1:</span><span class='ee-v'>9.480951511322822</span></li></ul></li></ul></li></ul></li></ul></li><li><span class='ee-k'>system:index:</span><span class='ee-v'>20211207T102319_20211207T103625_T30PZR</span></li><li><span class='ee-k'>system:time_end:</span><span class='ee-v'>1638873499477</span></li><li><span class='ee-k'>system:time_start:</span><span class='ee-v'>1638873499477</span></li></ul></li></ul></li><li><label class='ee-shut'>15: Image COPERNICUS/S2_SR/20211212T102431_20211212T102745_T30PYR (1 band)<input type='checkbox' class='ee-toggle'></label><ul><li><span class='ee-k'>type:</span><span class='ee-v'>Image</span></li><li><span class='ee-k'>id:</span><span class='ee-v'>COPERNICUS/S2_SR/20211212T102431_20211212T102745_T30PYR</span></li><li><span class='ee-k'>version:</span><span class='ee-v'>1639420726444978</span></li><li><label class='ee-shut'>bands: List (1 element)<input type='checkbox' class='ee-toggle'></label><ul><li><label class='ee-shut'>0: \"smoothed_evi\", double, EPSG:4326<input type='checkbox' class='ee-toggle'></label><ul><li><span class='ee-k'>id:</span><span class='ee-v'>smoothed_evi</span></li><li><span class='ee-k'>crs:</span><span class='ee-v'>EPSG:4326</span></li><li><label class='ee-shut'>crs_transform: [1, 0, 0, 0, 1, 0]<input type='checkbox' class='ee-toggle'></label><ul><li><span class='ee-k'>0:</span><span class='ee-v'>1</span></li><li><span class='ee-k'>1:</span><span class='ee-v'>0</span></li><li><span class='ee-k'>2:</span><span class='ee-v'>0</span></li><li><span class='ee-k'>3:</span><span class='ee-v'>0</span></li><li><span class='ee-k'>4:</span><span class='ee-v'>1</span></li><li><span class='ee-k'>5:</span><span class='ee-v'>0</span></li></ul></li><li><label class='ee-shut'>data_type: double<input type='checkbox' class='ee-toggle'></label><ul><li><span class='ee-k'>type:</span><span class='ee-v'>PixelType</span></li><li><span class='ee-k'>precision:</span><span class='ee-v'>double</span></li></ul></li></ul></li></ul></li><li><label class='ee-shut'>properties: Object (83 properties)<input type='checkbox' class='ee-toggle'></label><ul><li><span class='ee-k'>AOT_RETRIEVAL_ACCURACY:</span><span class='ee-v'>0</span></li><li><span class='ee-k'>CLOUDY_PIXEL_PERCENTAGE:</span><span class='ee-v'>4.069502</span></li><li><span class='ee-k'>CLOUD_COVERAGE_ASSESSMENT:</span><span class='ee-v'>4.069502</span></li><li><span class='ee-k'>CLOUD_SHADOW_PERCENTAGE:</span><span class='ee-v'>0</span></li><li><span class='ee-k'>DARK_FEATURES_PERCENTAGE:</span><span class='ee-v'>0</span></li><li><span class='ee-k'>DATASTRIP_ID:</span><span class='ee-v'>S2A_OPER_MSI_L2A_DS_VGS2_20211212T131717_S20211212T102745_N03.01</span></li><li><span class='ee-k'>DATATAKE_IDENTIFIER:</span><span class='ee-v'>GS2A_20211212T102431_033810_N03.01</span></li><li><span class='ee-k'>DATATAKE_TYPE:</span><span class='ee-v'>INS-NOBS</span></li><li><span class='ee-k'>DEGRADED_MSI_DATA_PERCENTAGE:</span><span class='ee-v'>0</span></li><li><span class='ee-k'>FORMAT_CORRECTNESS:</span><span class='ee-v'>PASSED</span></li><li><span class='ee-k'>GENERAL_QUALITY:</span><span class='ee-v'>PASSED</span></li><li><span class='ee-k'>GENERATION_TIME:</span><span class='ee-v'>1639315037000</span></li><li><span class='ee-k'>GEOMETRIC_QUALITY:</span><span class='ee-v'>PASSED</span></li><li><span class='ee-k'>GRANULE_ID:</span><span class='ee-v'>L2A_T30PYR_A033810_20211212T102745</span></li><li><span class='ee-k'>HIGH_PROBA_CLOUDS_PERCENTAGE:</span><span class='ee-v'>0</span></li><li><span class='ee-k'>MEAN_INCIDENCE_AZIMUTH_ANGLE_B1:</span><span class='ee-v'>173.668324211015</span></li><li><span class='ee-k'>MEAN_INCIDENCE_AZIMUTH_ANGLE_B10:</span><span class='ee-v'>175.006715458258</span></li><li><span class='ee-k'>MEAN_INCIDENCE_AZIMUTH_ANGLE_B11:</span><span class='ee-v'>174.138586889593</span></li><li><span class='ee-k'>MEAN_INCIDENCE_AZIMUTH_ANGLE_B12:</span><span class='ee-v'>173.695294071542</span></li><li><span class='ee-k'>MEAN_INCIDENCE_AZIMUTH_ANGLE_B2:</span><span class='ee-v'>177.957994799597</span></li><li><span class='ee-k'>MEAN_INCIDENCE_AZIMUTH_ANGLE_B3:</span><span class='ee-v'>175.925042002538</span></li><li><span class='ee-k'>MEAN_INCIDENCE_AZIMUTH_ANGLE_B4:</span><span class='ee-v'>175.041450456883</span></li><li><span class='ee-k'>MEAN_INCIDENCE_AZIMUTH_ANGLE_B5:</span><span class='ee-v'>174.647376219925</span></li><li><span class='ee-k'>MEAN_INCIDENCE_AZIMUTH_ANGLE_B6:</span><span class='ee-v'>174.359601536025</span></li><li><span class='ee-k'>MEAN_INCIDENCE_AZIMUTH_ANGLE_B7:</span><span class='ee-v'>174.147732924243</span></li><li><span class='ee-k'>MEAN_INCIDENCE_AZIMUTH_ANGLE_B8:</span><span class='ee-v'>176.803988456728</span></li><li><span class='ee-k'>MEAN_INCIDENCE_AZIMUTH_ANGLE_B8A:</span><span class='ee-v'>174.004515355457</span></li><li><span class='ee-k'>MEAN_INCIDENCE_AZIMUTH_ANGLE_B9:</span><span class='ee-v'>173.60519914118</span></li><li><span class='ee-k'>MEAN_INCIDENCE_ZENITH_ANGLE_B1:</span><span class='ee-v'>3.07155837992044</span></li><li><span class='ee-k'>MEAN_INCIDENCE_ZENITH_ANGLE_B10:</span><span class='ee-v'>2.62189062055209</span></li><li><span class='ee-k'>MEAN_INCIDENCE_ZENITH_ANGLE_B11:</span><span class='ee-v'>2.79907366815272</span></li><li><span class='ee-k'>MEAN_INCIDENCE_ZENITH_ANGLE_B12:</span><span class='ee-v'>3.00196782073306</span></li><li><span class='ee-k'>MEAN_INCIDENCE_ZENITH_ANGLE_B2:</span><span class='ee-v'>2.42366902812363</span></li><li><span class='ee-k'>MEAN_INCIDENCE_ZENITH_ANGLE_B3:</span><span class='ee-v'>2.53332535570443</span></li><li><span class='ee-k'>MEAN_INCIDENCE_ZENITH_ANGLE_B4:</span><span class='ee-v'>2.65893769160243</span></li><li><span class='ee-k'>MEAN_INCIDENCE_ZENITH_ANGLE_B5:</span><span class='ee-v'>2.73331470104127</span></li><li><span class='ee-k'>MEAN_INCIDENCE_ZENITH_ANGLE_B6:</span><span class='ee-v'>2.81216328771646</span></li><li><span class='ee-k'>MEAN_INCIDENCE_ZENITH_ANGLE_B7:</span><span class='ee-v'>2.89550580996629</span></li><li><span class='ee-k'>MEAN_INCIDENCE_ZENITH_ANGLE_B8:</span><span class='ee-v'>2.4749910570939</span></li><li><span class='ee-k'>MEAN_INCIDENCE_ZENITH_ANGLE_B8A:</span><span class='ee-v'>2.98237223860628</span></li><li><span class='ee-k'>MEAN_INCIDENCE_ZENITH_ANGLE_B9:</span><span class='ee-v'>3.16761336778673</span></li><li><span class='ee-k'>MEAN_SOLAR_AZIMUTH_ANGLE:</span><span class='ee-v'>149.884225018884</span></li><li><span class='ee-k'>MEAN_SOLAR_ZENITH_ANGLE:</span><span class='ee-v'>37.7387235174101</span></li><li><span class='ee-k'>MEDIUM_PROBA_CLOUDS_PERCENTAGE:</span><span class='ee-v'>2.618744</span></li><li><span class='ee-k'>MGRS_TILE:</span><span class='ee-v'>30PYR</span></li><li><span class='ee-k'>NODATA_PIXEL_PERCENTAGE:</span><span class='ee-v'>0</span></li><li><span class='ee-k'>NOT_VEGETATED_PERCENTAGE:</span><span class='ee-v'>73.379546</span></li><li><span class='ee-k'>PROCESSING_BASELINE:</span><span class='ee-v'>03.01</span></li><li><span class='ee-k'>PRODUCT_ID:</span><span class='ee-v'>S2A_MSIL2A_20211212T102431_N0301_R065_T30PYR_20211212T131717</span></li><li><span class='ee-k'>RADIATIVE_TRANSFER_ACCURACY:</span><span class='ee-v'>0</span></li><li><span class='ee-k'>RADIOMETRIC_QUALITY:</span><span class='ee-v'>PASSED</span></li><li><span class='ee-k'>REFLECTANCE_CONVERSION_CORRECTION:</span><span class='ee-v'>1.03092532755284</span></li><li><span class='ee-k'>SATURATED_DEFECTIVE_PIXEL_PERCENTAGE:</span><span class='ee-v'>0</span></li><li><span class='ee-k'>SENSING_ORBIT_DIRECTION:</span><span class='ee-v'>DESCENDING</span></li><li><span class='ee-k'>SENSING_ORBIT_NUMBER:</span><span class='ee-v'>65</span></li><li><span class='ee-k'>SENSOR_QUALITY:</span><span class='ee-v'>PASSED</span></li><li><span class='ee-k'>SNOW_ICE_PERCENTAGE:</span><span class='ee-v'>0</span></li><li><span class='ee-k'>SOLAR_IRRADIANCE_B1:</span><span class='ee-v'>1884.69</span></li><li><span class='ee-k'>SOLAR_IRRADIANCE_B10:</span><span class='ee-v'>367.15</span></li><li><span class='ee-k'>SOLAR_IRRADIANCE_B11:</span><span class='ee-v'>245.59</span></li><li><span class='ee-k'>SOLAR_IRRADIANCE_B12:</span><span class='ee-v'>85.25</span></li><li><span class='ee-k'>SOLAR_IRRADIANCE_B2:</span><span class='ee-v'>1959.66</span></li><li><span class='ee-k'>SOLAR_IRRADIANCE_B3:</span><span class='ee-v'>1823.24</span></li><li><span class='ee-k'>SOLAR_IRRADIANCE_B4:</span><span class='ee-v'>1512.06</span></li><li><span class='ee-k'>SOLAR_IRRADIANCE_B5:</span><span class='ee-v'>1424.64</span></li><li><span class='ee-k'>SOLAR_IRRADIANCE_B6:</span><span class='ee-v'>1287.61</span></li><li><span class='ee-k'>SOLAR_IRRADIANCE_B7:</span><span class='ee-v'>1162.08</span></li><li><span class='ee-k'>SOLAR_IRRADIANCE_B8:</span><span class='ee-v'>1041.63</span></li><li><span class='ee-k'>SOLAR_IRRADIANCE_B8A:</span><span class='ee-v'>955.32</span></li><li><span class='ee-k'>SOLAR_IRRADIANCE_B9:</span><span class='ee-v'>812.92</span></li><li><span class='ee-k'>SPACECRAFT_NAME:</span><span class='ee-v'>Sentinel-2A</span></li><li><span class='ee-k'>THIN_CIRRUS_PERCENTAGE:</span><span class='ee-v'>1.450758</span></li><li><span class='ee-k'>UNCLASSIFIED_PERCENTAGE:</span><span class='ee-v'>22.49307</span></li><li><span class='ee-k'>VEGETATION_PERCENTAGE:</span><span class='ee-v'>0</span></li><li><span class='ee-k'>WATER_PERCENTAGE:</span><span class='ee-v'>0.057886</span></li><li><span class='ee-k'>WATER_VAPOUR_RETRIEVAL_ACCURACY:</span><span class='ee-v'>0</span></li><li><span class='ee-k'>date:</span><span class='ee-v'>2021-12-12T10:38:27</span></li><li><span class='ee-k'>smoothed_evi:</span><span class='ee-v'>0.7193225017909385</span></li><li><span class='ee-k'>system:asset_size:</span><span class='ee-v'>1359746434</span></li><li><label class='ee-shut'>system:footprint: Polygon (5 vertices)<input type='checkbox' class='ee-toggle'></label><ul><li><span class='ee-k'>type:</span><span class='ee-v'>Polygon</span></li><li><label class='ee-shut'>coordinates: List (1 element)<input type='checkbox' class='ee-toggle'></label><ul><li><label class='ee-shut'>0: List (5 elements)<input type='checkbox' class='ee-toggle'></label><ul><li><label class='ee-shut'>0: [-0.3436329956054607, 9.334622294426413]<input type='checkbox' class='ee-toggle'></label><ul><li><span class='ee-k'>0:</span><span class='ee-v'>-0.3436329956054607</span></li><li><span class='ee-k'>1:</span><span class='ee-v'>9.334622294426413</span></li></ul></li><li><label class='ee-shut'>1: [-0.1870778198242107, 9.334622294426413]<input type='checkbox' class='ee-toggle'></label><ul><li><span class='ee-k'>0:</span><span class='ee-v'>-0.1870778198242107</span></li><li><span class='ee-k'>1:</span><span class='ee-v'>9.334622294426413</span></li></ul></li><li><label class='ee-shut'>2: [-0.1870778198242107, 9.480942834852012]<input type='checkbox' class='ee-toggle'></label><ul><li><span class='ee-k'>0:</span><span class='ee-v'>-0.1870778198242107</span></li><li><span class='ee-k'>1:</span><span class='ee-v'>9.480942834852012</span></li></ul></li><li><label class='ee-shut'>3: [-0.3436329956054606, 9.48094283485201]<input type='checkbox' class='ee-toggle'></label><ul><li><span class='ee-k'>0:</span><span class='ee-v'>-0.3436329956054606</span></li><li><span class='ee-k'>1:</span><span class='ee-v'>9.48094283485201</span></li></ul></li><li><label class='ee-shut'>4: [-0.3436329956054607, 9.334622294426413]<input type='checkbox' class='ee-toggle'></label><ul><li><span class='ee-k'>0:</span><span class='ee-v'>-0.3436329956054607</span></li><li><span class='ee-k'>1:</span><span class='ee-v'>9.334622294426413</span></li></ul></li></ul></li></ul></li></ul></li><li><span class='ee-k'>system:index:</span><span class='ee-v'>20211212T102431_20211212T102745_T30PYR</span></li><li><span class='ee-k'>system:time_end:</span><span class='ee-v'>1639305507286</span></li><li><span class='ee-k'>system:time_start:</span><span class='ee-v'>1639305507286</span></li></ul></li></ul></li><li><label class='ee-shut'>16: Image COPERNICUS/S2_SR/20211222T102441_20211222T102744_T30PYR (1 band)<input type='checkbox' class='ee-toggle'></label><ul><li><span class='ee-k'>type:</span><span class='ee-v'>Image</span></li><li><span class='ee-k'>id:</span><span class='ee-v'>COPERNICUS/S2_SR/20211222T102441_20211222T102744_T30PYR</span></li><li><span class='ee-k'>version:</span><span class='ee-v'>1640281831413197</span></li><li><label class='ee-shut'>bands: List (1 element)<input type='checkbox' class='ee-toggle'></label><ul><li><label class='ee-shut'>0: \"smoothed_evi\", double, EPSG:4326<input type='checkbox' class='ee-toggle'></label><ul><li><span class='ee-k'>id:</span><span class='ee-v'>smoothed_evi</span></li><li><span class='ee-k'>crs:</span><span class='ee-v'>EPSG:4326</span></li><li><label class='ee-shut'>crs_transform: [1, 0, 0, 0, 1, 0]<input type='checkbox' class='ee-toggle'></label><ul><li><span class='ee-k'>0:</span><span class='ee-v'>1</span></li><li><span class='ee-k'>1:</span><span class='ee-v'>0</span></li><li><span class='ee-k'>2:</span><span class='ee-v'>0</span></li><li><span class='ee-k'>3:</span><span class='ee-v'>0</span></li><li><span class='ee-k'>4:</span><span class='ee-v'>1</span></li><li><span class='ee-k'>5:</span><span class='ee-v'>0</span></li></ul></li><li><label class='ee-shut'>data_type: double<input type='checkbox' class='ee-toggle'></label><ul><li><span class='ee-k'>type:</span><span class='ee-v'>PixelType</span></li><li><span class='ee-k'>precision:</span><span class='ee-v'>double</span></li></ul></li></ul></li></ul></li><li><label class='ee-shut'>properties: Object (83 properties)<input type='checkbox' class='ee-toggle'></label><ul><li><span class='ee-k'>AOT_RETRIEVAL_ACCURACY:</span><span class='ee-v'>0</span></li><li><span class='ee-k'>CLOUDY_PIXEL_PERCENTAGE:</span><span class='ee-v'>4.943769</span></li><li><span class='ee-k'>CLOUD_COVERAGE_ASSESSMENT:</span><span class='ee-v'>4.943769</span></li><li><span class='ee-k'>CLOUD_SHADOW_PERCENTAGE:</span><span class='ee-v'>0.001092</span></li><li><span class='ee-k'>DARK_FEATURES_PERCENTAGE:</span><span class='ee-v'>0.479152</span></li><li><span class='ee-k'>DATASTRIP_ID:</span><span class='ee-v'>S2A_OPER_MSI_L2A_DS_VGS2_20211222T131613_S20211222T102744_N03.01</span></li><li><span class='ee-k'>DATATAKE_IDENTIFIER:</span><span class='ee-v'>GS2A_20211222T102441_033953_N03.01</span></li><li><span class='ee-k'>DATATAKE_TYPE:</span><span class='ee-v'>INS-NOBS</span></li><li><span class='ee-k'>DEGRADED_MSI_DATA_PERCENTAGE:</span><span class='ee-v'>0</span></li><li><span class='ee-k'>FORMAT_CORRECTNESS:</span><span class='ee-v'>PASSED</span></li><li><span class='ee-k'>GENERAL_QUALITY:</span><span class='ee-v'>FAILED</span></li><li><span class='ee-k'>GENERATION_TIME:</span><span class='ee-v'>1640178973000</span></li><li><span class='ee-k'>GEOMETRIC_QUALITY:</span><span class='ee-v'>PASSED</span></li><li><span class='ee-k'>GRANULE_ID:</span><span class='ee-v'>L2A_T30PYR_A033953_20211222T102744</span></li><li><span class='ee-k'>HIGH_PROBA_CLOUDS_PERCENTAGE:</span><span class='ee-v'>0.566166</span></li><li><span class='ee-k'>MEAN_INCIDENCE_AZIMUTH_ANGLE_B1:</span><span class='ee-v'>174.534036421313</span></li><li><span class='ee-k'>MEAN_INCIDENCE_AZIMUTH_ANGLE_B10:</span><span class='ee-v'>176.012429257029</span></li><li><span class='ee-k'>MEAN_INCIDENCE_AZIMUTH_ANGLE_B11:</span><span class='ee-v'>175.000460302185</span></li><li><span class='ee-k'>MEAN_INCIDENCE_AZIMUTH_ANGLE_B12:</span><span class='ee-v'>174.824591870227</span></li><li><span class='ee-k'>MEAN_INCIDENCE_AZIMUTH_ANGLE_B2:</span><span class='ee-v'>178.772321593517</span></li><li><span class='ee-k'>MEAN_INCIDENCE_AZIMUTH_ANGLE_B3:</span><span class='ee-v'>177.035876838634</span></li><li><span class='ee-k'>MEAN_INCIDENCE_AZIMUTH_ANGLE_B4:</span><span class='ee-v'>175.384758495791</span></li><li><span class='ee-k'>MEAN_INCIDENCE_AZIMUTH_ANGLE_B5:</span><span class='ee-v'>175.27000144243</span></li><li><span class='ee-k'>MEAN_INCIDENCE_AZIMUTH_ANGLE_B6:</span><span class='ee-v'>174.968268091904</span></li><li><span class='ee-k'>MEAN_INCIDENCE_AZIMUTH_ANGLE_B7:</span><span class='ee-v'>174.682823625434</span></li><li><span class='ee-k'>MEAN_INCIDENCE_AZIMUTH_ANGLE_B8:</span><span class='ee-v'>177.91881453151</span></li><li><span class='ee-k'>MEAN_INCIDENCE_AZIMUTH_ANGLE_B8A:</span><span class='ee-v'>174.532063933987</span></li><li><span class='ee-k'>MEAN_INCIDENCE_AZIMUTH_ANGLE_B9:</span><span class='ee-v'>174.469909932226</span></li><li><span class='ee-k'>MEAN_INCIDENCE_ZENITH_ANGLE_B1:</span><span class='ee-v'>3.06915547057766</span></li><li><span class='ee-k'>MEAN_INCIDENCE_ZENITH_ANGLE_B10:</span><span class='ee-v'>2.61590142908158</span></li><li><span class='ee-k'>MEAN_INCIDENCE_ZENITH_ANGLE_B11:</span><span class='ee-v'>2.79792384406231</span></li><li><span class='ee-k'>MEAN_INCIDENCE_ZENITH_ANGLE_B12:</span><span class='ee-v'>2.9999838182724</span></li><li><span class='ee-k'>MEAN_INCIDENCE_ZENITH_ANGLE_B2:</span><span class='ee-v'>2.41896504295001</span></li><li><span class='ee-k'>MEAN_INCIDENCE_ZENITH_ANGLE_B3:</span><span class='ee-v'>2.53181989995368</span></li><li><span class='ee-k'>MEAN_INCIDENCE_ZENITH_ANGLE_B4:</span><span class='ee-v'>2.65288154853414</span></li><li><span class='ee-k'>MEAN_INCIDENCE_ZENITH_ANGLE_B5:</span><span class='ee-v'>2.73003935515453</span></li><li><span class='ee-k'>MEAN_INCIDENCE_ZENITH_ANGLE_B6:</span><span class='ee-v'>2.80888143064811</span></li><li><span class='ee-k'>MEAN_INCIDENCE_ZENITH_ANGLE_B7:</span><span class='ee-v'>2.8913672784273</span></li><li><span class='ee-k'>MEAN_INCIDENCE_ZENITH_ANGLE_B8:</span><span class='ee-v'>2.47354617555168</span></li><li><span class='ee-k'>MEAN_INCIDENCE_ZENITH_ANGLE_B8A:</span><span class='ee-v'>2.97822716288448</span></li><li><span class='ee-k'>MEAN_INCIDENCE_ZENITH_ANGLE_B9:</span><span class='ee-v'>3.16519771551439</span></li><li><span class='ee-k'>MEAN_SOLAR_AZIMUTH_ANGLE:</span><span class='ee-v'>148.676241724174</span></li><li><span class='ee-k'>MEAN_SOLAR_ZENITH_ANGLE:</span><span class='ee-v'>38.6217568918799</span></li><li><span class='ee-k'>MEDIUM_PROBA_CLOUDS_PERCENTAGE:</span><span class='ee-v'>1.437046</span></li><li><span class='ee-k'>MGRS_TILE:</span><span class='ee-v'>30PYR</span></li><li><span class='ee-k'>NODATA_PIXEL_PERCENTAGE:</span><span class='ee-v'>0</span></li><li><span class='ee-k'>NOT_VEGETATED_PERCENTAGE:</span><span class='ee-v'>90.860534</span></li><li><span class='ee-k'>PROCESSING_BASELINE:</span><span class='ee-v'>03.01</span></li><li><span class='ee-k'>PRODUCT_ID:</span><span class='ee-v'>S2A_MSIL2A_20211222T102441_N0301_R065_T30PYR_20211222T131613</span></li><li><span class='ee-k'>RADIATIVE_TRANSFER_ACCURACY:</span><span class='ee-v'>0</span></li><li><span class='ee-k'>RADIOMETRIC_QUALITY:</span><span class='ee-v'>PASSED</span></li><li><span class='ee-k'>REFLECTANCE_CONVERSION_CORRECTION:</span><span class='ee-v'>1.03303279742362</span></li><li><span class='ee-k'>SATURATED_DEFECTIVE_PIXEL_PERCENTAGE:</span><span class='ee-v'>0</span></li><li><span class='ee-k'>SENSING_ORBIT_DIRECTION:</span><span class='ee-v'>DESCENDING</span></li><li><span class='ee-k'>SENSING_ORBIT_NUMBER:</span><span class='ee-v'>65</span></li><li><span class='ee-k'>SENSOR_QUALITY:</span><span class='ee-v'>PASSED</span></li><li><span class='ee-k'>SNOW_ICE_PERCENTAGE:</span><span class='ee-v'>0</span></li><li><span class='ee-k'>SOLAR_IRRADIANCE_B1:</span><span class='ee-v'>1884.69</span></li><li><span class='ee-k'>SOLAR_IRRADIANCE_B10:</span><span class='ee-v'>367.15</span></li><li><span class='ee-k'>SOLAR_IRRADIANCE_B11:</span><span class='ee-v'>245.59</span></li><li><span class='ee-k'>SOLAR_IRRADIANCE_B12:</span><span class='ee-v'>85.25</span></li><li><span class='ee-k'>SOLAR_IRRADIANCE_B2:</span><span class='ee-v'>1959.66</span></li><li><span class='ee-k'>SOLAR_IRRADIANCE_B3:</span><span class='ee-v'>1823.24</span></li><li><span class='ee-k'>SOLAR_IRRADIANCE_B4:</span><span class='ee-v'>1512.06</span></li><li><span class='ee-k'>SOLAR_IRRADIANCE_B5:</span><span class='ee-v'>1424.64</span></li><li><span class='ee-k'>SOLAR_IRRADIANCE_B6:</span><span class='ee-v'>1287.61</span></li><li><span class='ee-k'>SOLAR_IRRADIANCE_B7:</span><span class='ee-v'>1162.08</span></li><li><span class='ee-k'>SOLAR_IRRADIANCE_B8:</span><span class='ee-v'>1041.63</span></li><li><span class='ee-k'>SOLAR_IRRADIANCE_B8A:</span><span class='ee-v'>955.32</span></li><li><span class='ee-k'>SOLAR_IRRADIANCE_B9:</span><span class='ee-v'>812.92</span></li><li><span class='ee-k'>SPACECRAFT_NAME:</span><span class='ee-v'>Sentinel-2A</span></li><li><span class='ee-k'>THIN_CIRRUS_PERCENTAGE:</span><span class='ee-v'>2.940558</span></li><li><span class='ee-k'>UNCLASSIFIED_PERCENTAGE:</span><span class='ee-v'>3.342985</span></li><li><span class='ee-k'>VEGETATION_PERCENTAGE:</span><span class='ee-v'>0.286572</span></li><li><span class='ee-k'>WATER_PERCENTAGE:</span><span class='ee-v'>0.085896</span></li><li><span class='ee-k'>WATER_VAPOUR_RETRIEVAL_ACCURACY:</span><span class='ee-v'>0</span></li><li><span class='ee-k'>date:</span><span class='ee-v'>2021-12-22T10:38:29</span></li><li><span class='ee-k'>smoothed_evi:</span><span class='ee-v'>0.5966678287727303</span></li><li><span class='ee-k'>system:asset_size:</span><span class='ee-v'>1613305575</span></li><li><label class='ee-shut'>system:footprint: Polygon (5 vertices)<input type='checkbox' class='ee-toggle'></label><ul><li><span class='ee-k'>type:</span><span class='ee-v'>Polygon</span></li><li><label class='ee-shut'>coordinates: List (1 element)<input type='checkbox' class='ee-toggle'></label><ul><li><label class='ee-shut'>0: List (5 elements)<input type='checkbox' class='ee-toggle'></label><ul><li><label class='ee-shut'>0: [-0.3436329956054607, 9.334622294426413]<input type='checkbox' class='ee-toggle'></label><ul><li><span class='ee-k'>0:</span><span class='ee-v'>-0.3436329956054607</span></li><li><span class='ee-k'>1:</span><span class='ee-v'>9.334622294426413</span></li></ul></li><li><label class='ee-shut'>1: [-0.1870778198242107, 9.334622294426413]<input type='checkbox' class='ee-toggle'></label><ul><li><span class='ee-k'>0:</span><span class='ee-v'>-0.1870778198242107</span></li><li><span class='ee-k'>1:</span><span class='ee-v'>9.334622294426413</span></li></ul></li><li><label class='ee-shut'>2: [-0.1870778198242107, 9.480942834852012]<input type='checkbox' class='ee-toggle'></label><ul><li><span class='ee-k'>0:</span><span class='ee-v'>-0.1870778198242107</span></li><li><span class='ee-k'>1:</span><span class='ee-v'>9.480942834852012</span></li></ul></li><li><label class='ee-shut'>3: [-0.3436329956054606, 9.48094283485201]<input type='checkbox' class='ee-toggle'></label><ul><li><span class='ee-k'>0:</span><span class='ee-v'>-0.3436329956054606</span></li><li><span class='ee-k'>1:</span><span class='ee-v'>9.48094283485201</span></li></ul></li><li><label class='ee-shut'>4: [-0.3436329956054607, 9.334622294426413]<input type='checkbox' class='ee-toggle'></label><ul><li><span class='ee-k'>0:</span><span class='ee-v'>-0.3436329956054607</span></li><li><span class='ee-k'>1:</span><span class='ee-v'>9.334622294426413</span></li></ul></li></ul></li></ul></li></ul></li><li><span class='ee-k'>system:index:</span><span class='ee-v'>20211222T102441_20211222T102744_T30PYR</span></li><li><span class='ee-k'>system:time_end:</span><span class='ee-v'>1640169509181</span></li><li><span class='ee-k'>system:time_start:</span><span class='ee-v'>1640169509181</span></li></ul></li></ul></li><li><label class='ee-shut'>17: Image COPERNICUS/S2_SR/20211222T102441_20211222T102744_T30PZR (1 band)<input type='checkbox' class='ee-toggle'></label><ul><li><span class='ee-k'>type:</span><span class='ee-v'>Image</span></li><li><span class='ee-k'>id:</span><span class='ee-v'>COPERNICUS/S2_SR/20211222T102441_20211222T102744_T30PZR</span></li><li><span class='ee-k'>version:</span><span class='ee-v'>1640292881976925</span></li><li><label class='ee-shut'>bands: List (1 element)<input type='checkbox' class='ee-toggle'></label><ul><li><label class='ee-shut'>0: \"smoothed_evi\", double, EPSG:4326<input type='checkbox' class='ee-toggle'></label><ul><li><span class='ee-k'>id:</span><span class='ee-v'>smoothed_evi</span></li><li><span class='ee-k'>crs:</span><span class='ee-v'>EPSG:4326</span></li><li><label class='ee-shut'>crs_transform: [1, 0, 0, 0, 1, 0]<input type='checkbox' class='ee-toggle'></label><ul><li><span class='ee-k'>0:</span><span class='ee-v'>1</span></li><li><span class='ee-k'>1:</span><span class='ee-v'>0</span></li><li><span class='ee-k'>2:</span><span class='ee-v'>0</span></li><li><span class='ee-k'>3:</span><span class='ee-v'>0</span></li><li><span class='ee-k'>4:</span><span class='ee-v'>1</span></li><li><span class='ee-k'>5:</span><span class='ee-v'>0</span></li></ul></li><li><label class='ee-shut'>data_type: double<input type='checkbox' class='ee-toggle'></label><ul><li><span class='ee-k'>type:</span><span class='ee-v'>PixelType</span></li><li><span class='ee-k'>precision:</span><span class='ee-v'>double</span></li></ul></li></ul></li></ul></li><li><label class='ee-shut'>properties: Object (83 properties)<input type='checkbox' class='ee-toggle'></label><ul><li><span class='ee-k'>AOT_RETRIEVAL_ACCURACY:</span><span class='ee-v'>0</span></li><li><span class='ee-k'>CLOUDY_PIXEL_PERCENTAGE:</span><span class='ee-v'>1.053411</span></li><li><span class='ee-k'>CLOUD_COVERAGE_ASSESSMENT:</span><span class='ee-v'>1.053411</span></li><li><span class='ee-k'>CLOUD_SHADOW_PERCENTAGE:</span><span class='ee-v'>0</span></li><li><span class='ee-k'>DARK_FEATURES_PERCENTAGE:</span><span class='ee-v'>0.030323</span></li><li><span class='ee-k'>DATASTRIP_ID:</span><span class='ee-v'>S2A_OPER_MSI_L2A_DS_VGS2_20211222T131613_S20211222T102744_N03.01</span></li><li><span class='ee-k'>DATATAKE_IDENTIFIER:</span><span class='ee-v'>GS2A_20211222T102441_033953_N03.01</span></li><li><span class='ee-k'>DATATAKE_TYPE:</span><span class='ee-v'>INS-NOBS</span></li><li><span class='ee-k'>DEGRADED_MSI_DATA_PERCENTAGE:</span><span class='ee-v'>0</span></li><li><span class='ee-k'>FORMAT_CORRECTNESS:</span><span class='ee-v'>PASSED</span></li><li><span class='ee-k'>GENERAL_QUALITY:</span><span class='ee-v'>FAILED</span></li><li><span class='ee-k'>GENERATION_TIME:</span><span class='ee-v'>1640178973000</span></li><li><span class='ee-k'>GEOMETRIC_QUALITY:</span><span class='ee-v'>PASSED</span></li><li><span class='ee-k'>GRANULE_ID:</span><span class='ee-v'>L2A_T30PZR_A033953_20211222T102744</span></li><li><span class='ee-k'>HIGH_PROBA_CLOUDS_PERCENTAGE:</span><span class='ee-v'>1.4e-05</span></li><li><span class='ee-k'>MEAN_INCIDENCE_AZIMUTH_ANGLE_B1:</span><span class='ee-v'>284.037114220332</span></li><li><span class='ee-k'>MEAN_INCIDENCE_AZIMUTH_ANGLE_B10:</span><span class='ee-v'>283.821185472611</span></li><li><span class='ee-k'>MEAN_INCIDENCE_AZIMUTH_ANGLE_B11:</span><span class='ee-v'>283.897236338191</span></li><li><span class='ee-k'>MEAN_INCIDENCE_AZIMUTH_ANGLE_B12:</span><span class='ee-v'>284.012202429406</span></li><li><span class='ee-k'>MEAN_INCIDENCE_AZIMUTH_ANGLE_B2:</span><span class='ee-v'>283.790251159833</span></li><li><span class='ee-k'>MEAN_INCIDENCE_AZIMUTH_ANGLE_B3:</span><span class='ee-v'>283.853832553439</span></li><li><span class='ee-k'>MEAN_INCIDENCE_AZIMUTH_ANGLE_B4:</span><span class='ee-v'>283.916904509238</span></li><li><span class='ee-k'>MEAN_INCIDENCE_AZIMUTH_ANGLE_B5:</span><span class='ee-v'>283.95664750501</span></li><li><span class='ee-k'>MEAN_INCIDENCE_AZIMUTH_ANGLE_B6:</span><span class='ee-v'>283.999221977019</span></li><li><span class='ee-k'>MEAN_INCIDENCE_AZIMUTH_ANGLE_B7:</span><span class='ee-v'>284.027192353715</span></li><li><span class='ee-k'>MEAN_INCIDENCE_AZIMUTH_ANGLE_B8:</span><span class='ee-v'>283.821910489076</span></li><li><span class='ee-k'>MEAN_INCIDENCE_AZIMUTH_ANGLE_B8A:</span><span class='ee-v'>284.069732887924</span></li><li><span class='ee-k'>MEAN_INCIDENCE_AZIMUTH_ANGLE_B9:</span><span class='ee-v'>284.052642467408</span></li><li><span class='ee-k'>MEAN_INCIDENCE_ZENITH_ANGLE_B1:</span><span class='ee-v'>7.74551769755447</span></li><li><span class='ee-k'>MEAN_INCIDENCE_ZENITH_ANGLE_B10:</span><span class='ee-v'>7.57835559758979</span></li><li><span class='ee-k'>MEAN_INCIDENCE_ZENITH_ANGLE_B11:</span><span class='ee-v'>7.64770635223573</span></li><li><span class='ee-k'>MEAN_INCIDENCE_ZENITH_ANGLE_B12:</span><span class='ee-v'>7.7196775105253</span></li><li><span class='ee-k'>MEAN_INCIDENCE_ZENITH_ANGLE_B2:</span><span class='ee-v'>7.527030617322</span></li><li><span class='ee-k'>MEAN_INCIDENCE_ZENITH_ANGLE_B3:</span><span class='ee-v'>7.55684503229413</span></li><li><span class='ee-k'>MEAN_INCIDENCE_ZENITH_ANGLE_B4:</span><span class='ee-v'>7.59461652571866</span></li><li><span class='ee-k'>MEAN_INCIDENCE_ZENITH_ANGLE_B5:</span><span class='ee-v'>7.61985720045292</span></li><li><span class='ee-k'>MEAN_INCIDENCE_ZENITH_ANGLE_B6:</span><span class='ee-v'>7.64731283537606</span></li><li><span class='ee-k'>MEAN_INCIDENCE_ZENITH_ANGLE_B7:</span><span class='ee-v'>7.67756810498298</span></li><li><span class='ee-k'>MEAN_INCIDENCE_ZENITH_ANGLE_B8:</span><span class='ee-v'>7.54044674381274</span></li><li><span class='ee-k'>MEAN_INCIDENCE_ZENITH_ANGLE_B8A:</span><span class='ee-v'>7.71051533204415</span></li><li><span class='ee-k'>MEAN_INCIDENCE_ZENITH_ANGLE_B9:</span><span class='ee-v'>7.78069487226369</span></li><li><span class='ee-k'>MEAN_SOLAR_AZIMUTH_ANGLE:</span><span class='ee-v'>149.781630753747</span></li><li><span class='ee-k'>MEAN_SOLAR_ZENITH_ANGLE:</span><span class='ee-v'>38.161539611981</span></li><li><span class='ee-k'>MEDIUM_PROBA_CLOUDS_PERCENTAGE:</span><span class='ee-v'>0.167759</span></li><li><span class='ee-k'>MGRS_TILE:</span><span class='ee-v'>30PZR</span></li><li><span class='ee-k'>NODATA_PIXEL_PERCENTAGE:</span><span class='ee-v'>4.589968</span></li><li><span class='ee-k'>NOT_VEGETATED_PERCENTAGE:</span><span class='ee-v'>91.532832</span></li><li><span class='ee-k'>PROCESSING_BASELINE:</span><span class='ee-v'>03.01</span></li><li><span class='ee-k'>PRODUCT_ID:</span><span class='ee-v'>S2A_MSIL2A_20211222T102441_N0301_R065_T30PZR_20211222T131613</span></li><li><span class='ee-k'>RADIATIVE_TRANSFER_ACCURACY:</span><span class='ee-v'>0</span></li><li><span class='ee-k'>RADIOMETRIC_QUALITY:</span><span class='ee-v'>PASSED</span></li><li><span class='ee-k'>REFLECTANCE_CONVERSION_CORRECTION:</span><span class='ee-v'>1.03303279742362</span></li><li><span class='ee-k'>SATURATED_DEFECTIVE_PIXEL_PERCENTAGE:</span><span class='ee-v'>0</span></li><li><span class='ee-k'>SENSING_ORBIT_DIRECTION:</span><span class='ee-v'>DESCENDING</span></li><li><span class='ee-k'>SENSING_ORBIT_NUMBER:</span><span class='ee-v'>65</span></li><li><span class='ee-k'>SENSOR_QUALITY:</span><span class='ee-v'>PASSED</span></li><li><span class='ee-k'>SNOW_ICE_PERCENTAGE:</span><span class='ee-v'>0</span></li><li><span class='ee-k'>SOLAR_IRRADIANCE_B1:</span><span class='ee-v'>1884.69</span></li><li><span class='ee-k'>SOLAR_IRRADIANCE_B10:</span><span class='ee-v'>367.15</span></li><li><span class='ee-k'>SOLAR_IRRADIANCE_B11:</span><span class='ee-v'>245.59</span></li><li><span class='ee-k'>SOLAR_IRRADIANCE_B12:</span><span class='ee-v'>85.25</span></li><li><span class='ee-k'>SOLAR_IRRADIANCE_B2:</span><span class='ee-v'>1959.66</span></li><li><span class='ee-k'>SOLAR_IRRADIANCE_B3:</span><span class='ee-v'>1823.24</span></li><li><span class='ee-k'>SOLAR_IRRADIANCE_B4:</span><span class='ee-v'>1512.06</span></li><li><span class='ee-k'>SOLAR_IRRADIANCE_B5:</span><span class='ee-v'>1424.64</span></li><li><span class='ee-k'>SOLAR_IRRADIANCE_B6:</span><span class='ee-v'>1287.61</span></li><li><span class='ee-k'>SOLAR_IRRADIANCE_B7:</span><span class='ee-v'>1162.08</span></li><li><span class='ee-k'>SOLAR_IRRADIANCE_B8:</span><span class='ee-v'>1041.63</span></li><li><span class='ee-k'>SOLAR_IRRADIANCE_B8A:</span><span class='ee-v'>955.32</span></li><li><span class='ee-k'>SOLAR_IRRADIANCE_B9:</span><span class='ee-v'>812.92</span></li><li><span class='ee-k'>SPACECRAFT_NAME:</span><span class='ee-v'>Sentinel-2A</span></li><li><span class='ee-k'>THIN_CIRRUS_PERCENTAGE:</span><span class='ee-v'>0.885638</span></li><li><span class='ee-k'>UNCLASSIFIED_PERCENTAGE:</span><span class='ee-v'>7.242849</span></li><li><span class='ee-k'>VEGETATION_PERCENTAGE:</span><span class='ee-v'>0.106132</span></li><li><span class='ee-k'>WATER_PERCENTAGE:</span><span class='ee-v'>0.034448</span></li><li><span class='ee-k'>WATER_VAPOUR_RETRIEVAL_ACCURACY:</span><span class='ee-v'>0</span></li><li><span class='ee-k'>date:</span><span class='ee-v'>2021-12-22T10:38:25</span></li><li><span class='ee-k'>smoothed_evi:</span><span class='ee-v'>0.5966678287727303</span></li><li><span class='ee-k'>system:asset_size:</span><span class='ee-v'>1459852030</span></li><li><label class='ee-shut'>system:footprint: Polygon (6 vertices)<input type='checkbox' class='ee-toggle'></label><ul><li><span class='ee-k'>type:</span><span class='ee-v'>Polygon</span></li><li><label class='ee-shut'>coordinates: List (1 element)<input type='checkbox' class='ee-toggle'></label><ul><li><label class='ee-shut'>0: List (6 elements)<input type='checkbox' class='ee-toggle'></label><ul><li><label class='ee-shut'>0: [-0.26814381866412906, 9.480951511322822]<input type='checkbox' class='ee-toggle'></label><ul><li><span class='ee-k'>0:</span><span class='ee-v'>-0.26814381866412906</span></li><li><span class='ee-k'>1:</span><span class='ee-v'>9.480951511322822</span></li></ul></li><li><label class='ee-shut'>1: [-0.26843640767326354, 9.444324152065583]<input type='checkbox' class='ee-toggle'></label><ul><li><span class='ee-k'>0:</span><span class='ee-v'>-0.26843640767326354</span></li><li><span class='ee-k'>1:</span><span class='ee-v'>9.444324152065583</span></li></ul></li><li><label class='ee-shut'>2: [-0.26928977486125355, 9.334630831044018]<input type='checkbox' class='ee-toggle'></label><ul><li><span class='ee-k'>0:</span><span class='ee-v'>-0.26928977486125355</span></li><li><span class='ee-k'>1:</span><span class='ee-v'>9.334630831044018</span></li></ul></li><li><label class='ee-shut'>3: [-0.1870778198242107, 9.334622294426413]<input type='checkbox' class='ee-toggle'></label><ul><li><span class='ee-k'>0:</span><span class='ee-v'>-0.1870778198242107</span></li><li><span class='ee-k'>1:</span><span class='ee-v'>9.334622294426413</span></li></ul></li><li><label class='ee-shut'>4: [-0.1870778198242107, 9.480942834852012]<input type='checkbox' class='ee-toggle'></label><ul><li><span class='ee-k'>0:</span><span class='ee-v'>-0.1870778198242107</span></li><li><span class='ee-k'>1:</span><span class='ee-v'>9.480942834852012</span></li></ul></li><li><label class='ee-shut'>5: [-0.26814381866412906, 9.480951511322822]<input type='checkbox' class='ee-toggle'></label><ul><li><span class='ee-k'>0:</span><span class='ee-v'>-0.26814381866412906</span></li><li><span class='ee-k'>1:</span><span class='ee-v'>9.480951511322822</span></li></ul></li></ul></li></ul></li></ul></li><li><span class='ee-k'>system:index:</span><span class='ee-v'>20211222T102441_20211222T102744_T30PZR</span></li><li><span class='ee-k'>system:time_end:</span><span class='ee-v'>1640169505614</span></li><li><span class='ee-k'>system:time_start:</span><span class='ee-v'>1640169505614</span></li></ul></li></ul></li><li><label class='ee-shut'>18: Image COPERNICUS/S2_SR/20211227T102339_20211227T103640_T30PYR (1 band)<input type='checkbox' class='ee-toggle'></label><ul><li><span class='ee-k'>type:</span><span class='ee-v'>Image</span></li><li><span class='ee-k'>id:</span><span class='ee-v'>COPERNICUS/S2_SR/20211227T102339_20211227T103640_T30PYR</span></li><li><span class='ee-k'>version:</span><span class='ee-v'>1640885163731813</span></li><li><label class='ee-shut'>bands: List (1 element)<input type='checkbox' class='ee-toggle'></label><ul><li><label class='ee-shut'>0: \"smoothed_evi\", double, EPSG:4326<input type='checkbox' class='ee-toggle'></label><ul><li><span class='ee-k'>id:</span><span class='ee-v'>smoothed_evi</span></li><li><span class='ee-k'>crs:</span><span class='ee-v'>EPSG:4326</span></li><li><label class='ee-shut'>crs_transform: [1, 0, 0, 0, 1, 0]<input type='checkbox' class='ee-toggle'></label><ul><li><span class='ee-k'>0:</span><span class='ee-v'>1</span></li><li><span class='ee-k'>1:</span><span class='ee-v'>0</span></li><li><span class='ee-k'>2:</span><span class='ee-v'>0</span></li><li><span class='ee-k'>3:</span><span class='ee-v'>0</span></li><li><span class='ee-k'>4:</span><span class='ee-v'>1</span></li><li><span class='ee-k'>5:</span><span class='ee-v'>0</span></li></ul></li><li><label class='ee-shut'>data_type: double<input type='checkbox' class='ee-toggle'></label><ul><li><span class='ee-k'>type:</span><span class='ee-v'>PixelType</span></li><li><span class='ee-k'>precision:</span><span class='ee-v'>double</span></li></ul></li></ul></li></ul></li><li><label class='ee-shut'>properties: Object (83 properties)<input type='checkbox' class='ee-toggle'></label><ul><li><span class='ee-k'>AOT_RETRIEVAL_ACCURACY:</span><span class='ee-v'>0</span></li><li><span class='ee-k'>CLOUDY_PIXEL_PERCENTAGE:</span><span class='ee-v'>0.073414</span></li><li><span class='ee-k'>CLOUD_COVERAGE_ASSESSMENT:</span><span class='ee-v'>0.073414</span></li><li><span class='ee-k'>CLOUD_SHADOW_PERCENTAGE:</span><span class='ee-v'>0.002163</span></li><li><span class='ee-k'>DARK_FEATURES_PERCENTAGE:</span><span class='ee-v'>1.363864</span></li><li><span class='ee-k'>DATASTRIP_ID:</span><span class='ee-v'>S2B_OPER_MSI_L2A_DS_VGS2_20211227T125259_S20211227T103640_N03.01</span></li><li><span class='ee-k'>DATATAKE_IDENTIFIER:</span><span class='ee-v'>GS2B_20211227T102339_025116_N03.01</span></li><li><span class='ee-k'>DATATAKE_TYPE:</span><span class='ee-v'>INS-NOBS</span></li><li><span class='ee-k'>DEGRADED_MSI_DATA_PERCENTAGE:</span><span class='ee-v'>0</span></li><li><span class='ee-k'>FORMAT_CORRECTNESS:</span><span class='ee-v'>PASSED</span></li><li><span class='ee-k'>GENERAL_QUALITY:</span><span class='ee-v'>PASSED</span></li><li><span class='ee-k'>GENERATION_TIME:</span><span class='ee-v'>1640609579000</span></li><li><span class='ee-k'>GEOMETRIC_QUALITY:</span><span class='ee-v'>PASSED</span></li><li><span class='ee-k'>GRANULE_ID:</span><span class='ee-v'>L2A_T30PYR_A025116_20211227T103640</span></li><li><span class='ee-k'>HIGH_PROBA_CLOUDS_PERCENTAGE:</span><span class='ee-v'>0.000279</span></li><li><span class='ee-k'>MEAN_INCIDENCE_AZIMUTH_ANGLE_B1:</span><span class='ee-v'>174.654966078609</span></li><li><span class='ee-k'>MEAN_INCIDENCE_AZIMUTH_ANGLE_B10:</span><span class='ee-v'>176.112694138482</span></li><li><span class='ee-k'>MEAN_INCIDENCE_AZIMUTH_ANGLE_B11:</span><span class='ee-v'>175.169253181078</span></li><li><span class='ee-k'>MEAN_INCIDENCE_AZIMUTH_ANGLE_B12:</span><span class='ee-v'>174.728176356835</span></li><li><span class='ee-k'>MEAN_INCIDENCE_AZIMUTH_ANGLE_B2:</span><span class='ee-v'>178.784287841353</span></li><li><span class='ee-k'>MEAN_INCIDENCE_AZIMUTH_ANGLE_B3:</span><span class='ee-v'>176.85363187047</span></li><li><span class='ee-k'>MEAN_INCIDENCE_AZIMUTH_ANGLE_B4:</span><span class='ee-v'>175.732657975444</span></li><li><span class='ee-k'>MEAN_INCIDENCE_AZIMUTH_ANGLE_B5:</span><span class='ee-v'>175.329673729995</span></li><li><span class='ee-k'>MEAN_INCIDENCE_AZIMUTH_ANGLE_B6:</span><span class='ee-v'>175.033507424859</span></li><li><span class='ee-k'>MEAN_INCIDENCE_AZIMUTH_ANGLE_B7:</span><span class='ee-v'>174.819626955572</span></li><li><span class='ee-k'>MEAN_INCIDENCE_AZIMUTH_ANGLE_B8:</span><span class='ee-v'>177.751218697009</span></li><li><span class='ee-k'>MEAN_INCIDENCE_AZIMUTH_ANGLE_B8A:</span><span class='ee-v'>174.756199896282</span></li><li><span class='ee-k'>MEAN_INCIDENCE_AZIMUTH_ANGLE_B9:</span><span class='ee-v'>174.590181123951</span></li><li><span class='ee-k'>MEAN_INCIDENCE_ZENITH_ANGLE_B1:</span><span class='ee-v'>3.06984499831518</span></li><li><span class='ee-k'>MEAN_INCIDENCE_ZENITH_ANGLE_B10:</span><span class='ee-v'>2.61847414377946</span></li><li><span class='ee-k'>MEAN_INCIDENCE_ZENITH_ANGLE_B11:</span><span class='ee-v'>2.79658760662616</span></li><li><span class='ee-k'>MEAN_INCIDENCE_ZENITH_ANGLE_B12:</span><span class='ee-v'>2.99895655543323</span></li><li><span class='ee-k'>MEAN_INCIDENCE_ZENITH_ANGLE_B2:</span><span class='ee-v'>2.42951502479953</span></li><li><span class='ee-k'>MEAN_INCIDENCE_ZENITH_ANGLE_B3:</span><span class='ee-v'>2.5358032368114</span></li><li><span class='ee-k'>MEAN_INCIDENCE_ZENITH_ANGLE_B4:</span><span class='ee-v'>2.65814444289665</span></li><li><span class='ee-k'>MEAN_INCIDENCE_ZENITH_ANGLE_B5:</span><span class='ee-v'>2.73219832374972</span></li><li><span class='ee-k'>MEAN_INCIDENCE_ZENITH_ANGLE_B6:</span><span class='ee-v'>2.81088920664087</span></li><li><span class='ee-k'>MEAN_INCIDENCE_ZENITH_ANGLE_B7:</span><span class='ee-v'>2.89385930543884</span></li><li><span class='ee-k'>MEAN_INCIDENCE_ZENITH_ANGLE_B8:</span><span class='ee-v'>2.47784369706216</span></li><li><span class='ee-k'>MEAN_INCIDENCE_ZENITH_ANGLE_B8A:</span><span class='ee-v'>2.97823354215563</span></li><li><span class='ee-k'>MEAN_INCIDENCE_ZENITH_ANGLE_B9:</span><span class='ee-v'>3.16599115129075</span></li><li><span class='ee-k'>MEAN_SOLAR_AZIMUTH_ANGLE:</span><span class='ee-v'>147.783671531051</span></li><li><span class='ee-k'>MEAN_SOLAR_ZENITH_ANGLE:</span><span class='ee-v'>38.8490306306184</span></li><li><span class='ee-k'>MEDIUM_PROBA_CLOUDS_PERCENTAGE:</span><span class='ee-v'>0.072259</span></li><li><span class='ee-k'>MGRS_TILE:</span><span class='ee-v'>30PYR</span></li><li><span class='ee-k'>NODATA_PIXEL_PERCENTAGE:</span><span class='ee-v'>0</span></li><li><span class='ee-k'>NOT_VEGETATED_PERCENTAGE:</span><span class='ee-v'>96.984011</span></li><li><span class='ee-k'>PROCESSING_BASELINE:</span><span class='ee-v'>03.01</span></li><li><span class='ee-k'>PRODUCT_ID:</span><span class='ee-v'>S2B_MSIL2A_20211227T102339_N0301_R065_T30PYR_20211227T125259</span></li><li><span class='ee-k'>RADIATIVE_TRANSFER_ACCURACY:</span><span class='ee-v'>0</span></li><li><span class='ee-k'>RADIOMETRIC_QUALITY:</span><span class='ee-v'>PASSED</span></li><li><span class='ee-k'>REFLECTANCE_CONVERSION_CORRECTION:</span><span class='ee-v'>1.03371657830315</span></li><li><span class='ee-k'>SATURATED_DEFECTIVE_PIXEL_PERCENTAGE:</span><span class='ee-v'>0</span></li><li><span class='ee-k'>SENSING_ORBIT_DIRECTION:</span><span class='ee-v'>DESCENDING</span></li><li><span class='ee-k'>SENSING_ORBIT_NUMBER:</span><span class='ee-v'>65</span></li><li><span class='ee-k'>SENSOR_QUALITY:</span><span class='ee-v'>PASSED</span></li><li><span class='ee-k'>SNOW_ICE_PERCENTAGE:</span><span class='ee-v'>0</span></li><li><span class='ee-k'>SOLAR_IRRADIANCE_B1:</span><span class='ee-v'>1874.3</span></li><li><span class='ee-k'>SOLAR_IRRADIANCE_B10:</span><span class='ee-v'>365.41</span></li><li><span class='ee-k'>SOLAR_IRRADIANCE_B11:</span><span class='ee-v'>247.08</span></li><li><span class='ee-k'>SOLAR_IRRADIANCE_B12:</span><span class='ee-v'>87.75</span></li><li><span class='ee-k'>SOLAR_IRRADIANCE_B2:</span><span class='ee-v'>1959.75</span></li><li><span class='ee-k'>SOLAR_IRRADIANCE_B3:</span><span class='ee-v'>1824.93</span></li><li><span class='ee-k'>SOLAR_IRRADIANCE_B4:</span><span class='ee-v'>1512.79</span></li><li><span class='ee-k'>SOLAR_IRRADIANCE_B5:</span><span class='ee-v'>1425.78</span></li><li><span class='ee-k'>SOLAR_IRRADIANCE_B6:</span><span class='ee-v'>1291.13</span></li><li><span class='ee-k'>SOLAR_IRRADIANCE_B7:</span><span class='ee-v'>1175.57</span></li><li><span class='ee-k'>SOLAR_IRRADIANCE_B8:</span><span class='ee-v'>1041.28</span></li><li><span class='ee-k'>SOLAR_IRRADIANCE_B8A:</span><span class='ee-v'>953.93</span></li><li><span class='ee-k'>SOLAR_IRRADIANCE_B9:</span><span class='ee-v'>817.58</span></li><li><span class='ee-k'>SPACECRAFT_NAME:</span><span class='ee-v'>Sentinel-2B</span></li><li><span class='ee-k'>THIN_CIRRUS_PERCENTAGE:</span><span class='ee-v'>0.000876</span></li><li><span class='ee-k'>UNCLASSIFIED_PERCENTAGE:</span><span class='ee-v'>0.92012</span></li><li><span class='ee-k'>VEGETATION_PERCENTAGE:</span><span class='ee-v'>0.556956</span></li><li><span class='ee-k'>WATER_PERCENTAGE:</span><span class='ee-v'>0.099472</span></li><li><span class='ee-k'>WATER_VAPOUR_RETRIEVAL_ACCURACY:</span><span class='ee-v'>0</span></li><li><span class='ee-k'>date:</span><span class='ee-v'>2021-12-27T10:38:23</span></li><li><span class='ee-k'>smoothed_evi:</span><span class='ee-v'>0.5966678287727303</span></li><li><span class='ee-k'>system:asset_size:</span><span class='ee-v'>1672488145</span></li><li><label class='ee-shut'>system:footprint: Polygon (5 vertices)<input type='checkbox' class='ee-toggle'></label><ul><li><span class='ee-k'>type:</span><span class='ee-v'>Polygon</span></li><li><label class='ee-shut'>coordinates: List (1 element)<input type='checkbox' class='ee-toggle'></label><ul><li><label class='ee-shut'>0: List (5 elements)<input type='checkbox' class='ee-toggle'></label><ul><li><label class='ee-shut'>0: [-0.3436329956054607, 9.334622294426413]<input type='checkbox' class='ee-toggle'></label><ul><li><span class='ee-k'>0:</span><span class='ee-v'>-0.3436329956054607</span></li><li><span class='ee-k'>1:</span><span class='ee-v'>9.334622294426413</span></li></ul></li><li><label class='ee-shut'>1: [-0.1870778198242107, 9.334622294426413]<input type='checkbox' class='ee-toggle'></label><ul><li><span class='ee-k'>0:</span><span class='ee-v'>-0.1870778198242107</span></li><li><span class='ee-k'>1:</span><span class='ee-v'>9.334622294426413</span></li></ul></li><li><label class='ee-shut'>2: [-0.1870778198242107, 9.480942834852012]<input type='checkbox' class='ee-toggle'></label><ul><li><span class='ee-k'>0:</span><span class='ee-v'>-0.1870778198242107</span></li><li><span class='ee-k'>1:</span><span class='ee-v'>9.480942834852012</span></li></ul></li><li><label class='ee-shut'>3: [-0.3436329956054606, 9.48094283485201]<input type='checkbox' class='ee-toggle'></label><ul><li><span class='ee-k'>0:</span><span class='ee-v'>-0.3436329956054606</span></li><li><span class='ee-k'>1:</span><span class='ee-v'>9.48094283485201</span></li></ul></li><li><label class='ee-shut'>4: [-0.3436329956054607, 9.334622294426413]<input type='checkbox' class='ee-toggle'></label><ul><li><span class='ee-k'>0:</span><span class='ee-v'>-0.3436329956054607</span></li><li><span class='ee-k'>1:</span><span class='ee-v'>9.334622294426413</span></li></ul></li></ul></li></ul></li></ul></li><li><span class='ee-k'>system:index:</span><span class='ee-v'>20211227T102339_20211227T103640_T30PYR</span></li><li><span class='ee-k'>system:time_end:</span><span class='ee-v'>1640601503604</span></li><li><span class='ee-k'>system:time_start:</span><span class='ee-v'>1640601503604</span></li></ul></li></ul></li><li><label class='ee-shut'>19: Image COPERNICUS/S2_SR/20211227T102339_20211227T103640_T30PZR (1 band)<input type='checkbox' class='ee-toggle'></label><ul><li><span class='ee-k'>type:</span><span class='ee-v'>Image</span></li><li><span class='ee-k'>id:</span><span class='ee-v'>COPERNICUS/S2_SR/20211227T102339_20211227T103640_T30PZR</span></li><li><span class='ee-k'>version:</span><span class='ee-v'>1640798772464487</span></li><li><label class='ee-shut'>bands: List (1 element)<input type='checkbox' class='ee-toggle'></label><ul><li><label class='ee-shut'>0: \"smoothed_evi\", double, EPSG:4326<input type='checkbox' class='ee-toggle'></label><ul><li><span class='ee-k'>id:</span><span class='ee-v'>smoothed_evi</span></li><li><span class='ee-k'>crs:</span><span class='ee-v'>EPSG:4326</span></li><li><label class='ee-shut'>crs_transform: [1, 0, 0, 0, 1, 0]<input type='checkbox' class='ee-toggle'></label><ul><li><span class='ee-k'>0:</span><span class='ee-v'>1</span></li><li><span class='ee-k'>1:</span><span class='ee-v'>0</span></li><li><span class='ee-k'>2:</span><span class='ee-v'>0</span></li><li><span class='ee-k'>3:</span><span class='ee-v'>0</span></li><li><span class='ee-k'>4:</span><span class='ee-v'>1</span></li><li><span class='ee-k'>5:</span><span class='ee-v'>0</span></li></ul></li><li><label class='ee-shut'>data_type: double<input type='checkbox' class='ee-toggle'></label><ul><li><span class='ee-k'>type:</span><span class='ee-v'>PixelType</span></li><li><span class='ee-k'>precision:</span><span class='ee-v'>double</span></li></ul></li></ul></li></ul></li><li><label class='ee-shut'>properties: Object (83 properties)<input type='checkbox' class='ee-toggle'></label><ul><li><span class='ee-k'>AOT_RETRIEVAL_ACCURACY:</span><span class='ee-v'>0</span></li><li><span class='ee-k'>CLOUDY_PIXEL_PERCENTAGE:</span><span class='ee-v'>0.088862</span></li><li><span class='ee-k'>CLOUD_COVERAGE_ASSESSMENT:</span><span class='ee-v'>0.088862</span></li><li><span class='ee-k'>CLOUD_SHADOW_PERCENTAGE:</span><span class='ee-v'>0.00058</span></li><li><span class='ee-k'>DARK_FEATURES_PERCENTAGE:</span><span class='ee-v'>0.880663</span></li><li><span class='ee-k'>DATASTRIP_ID:</span><span class='ee-v'>S2B_OPER_MSI_L2A_DS_VGS2_20211227T125259_S20211227T103640_N03.01</span></li><li><span class='ee-k'>DATATAKE_IDENTIFIER:</span><span class='ee-v'>GS2B_20211227T102339_025116_N03.01</span></li><li><span class='ee-k'>DATATAKE_TYPE:</span><span class='ee-v'>INS-NOBS</span></li><li><span class='ee-k'>DEGRADED_MSI_DATA_PERCENTAGE:</span><span class='ee-v'>0</span></li><li><span class='ee-k'>FORMAT_CORRECTNESS:</span><span class='ee-v'>PASSED</span></li><li><span class='ee-k'>GENERAL_QUALITY:</span><span class='ee-v'>PASSED</span></li><li><span class='ee-k'>GENERATION_TIME:</span><span class='ee-v'>1640609579000</span></li><li><span class='ee-k'>GEOMETRIC_QUALITY:</span><span class='ee-v'>PASSED</span></li><li><span class='ee-k'>GRANULE_ID:</span><span class='ee-v'>L2A_T30PZR_A025116_20211227T103640</span></li><li><span class='ee-k'>HIGH_PROBA_CLOUDS_PERCENTAGE:</span><span class='ee-v'>7e-06</span></li><li><span class='ee-k'>MEAN_INCIDENCE_AZIMUTH_ANGLE_B1:</span><span class='ee-v'>283.133666120578</span></li><li><span class='ee-k'>MEAN_INCIDENCE_AZIMUTH_ANGLE_B10:</span><span class='ee-v'>282.83539959168</span></li><li><span class='ee-k'>MEAN_INCIDENCE_AZIMUTH_ANGLE_B11:</span><span class='ee-v'>282.934108469305</span></li><li><span class='ee-k'>MEAN_INCIDENCE_AZIMUTH_ANGLE_B12:</span><span class='ee-v'>283.062186612914</span></li><li><span class='ee-k'>MEAN_INCIDENCE_AZIMUTH_ANGLE_B2:</span><span class='ee-v'>282.79432034221</span></li><li><span class='ee-k'>MEAN_INCIDENCE_AZIMUTH_ANGLE_B3:</span><span class='ee-v'>282.86798555476</span></li><li><span class='ee-k'>MEAN_INCIDENCE_AZIMUTH_ANGLE_B4:</span><span class='ee-v'>282.972895517943</span></li><li><span class='ee-k'>MEAN_INCIDENCE_AZIMUTH_ANGLE_B5:</span><span class='ee-v'>282.997904328945</span></li><li><span class='ee-k'>MEAN_INCIDENCE_AZIMUTH_ANGLE_B6:</span><span class='ee-v'>283.042950140358</span></li><li><span class='ee-k'>MEAN_INCIDENCE_AZIMUTH_ANGLE_B7:</span><span class='ee-v'>283.083844996533</span></li><li><span class='ee-k'>MEAN_INCIDENCE_AZIMUTH_ANGLE_B8:</span><span class='ee-v'>282.824650621418</span></li><li><span class='ee-k'>MEAN_INCIDENCE_AZIMUTH_ANGLE_B8A:</span><span class='ee-v'>283.137266037335</span></li><li><span class='ee-k'>MEAN_INCIDENCE_AZIMUTH_ANGLE_B9:</span><span class='ee-v'>283.186611054579</span></li><li><span class='ee-k'>MEAN_INCIDENCE_ZENITH_ANGLE_B1:</span><span class='ee-v'>7.7460387927112</span></li><li><span class='ee-k'>MEAN_INCIDENCE_ZENITH_ANGLE_B10:</span><span class='ee-v'>7.57550418595192</span></li><li><span class='ee-k'>MEAN_INCIDENCE_ZENITH_ANGLE_B11:</span><span class='ee-v'>7.63430280845205</span></li><li><span class='ee-k'>MEAN_INCIDENCE_ZENITH_ANGLE_B12:</span><span class='ee-v'>7.71786898088576</span></li><li><span class='ee-k'>MEAN_INCIDENCE_ZENITH_ANGLE_B2:</span><span class='ee-v'>7.51368329064666</span></li><li><span class='ee-k'>MEAN_INCIDENCE_ZENITH_ANGLE_B3:</span><span class='ee-v'>7.54666895595723</span></li><li><span class='ee-k'>MEAN_INCIDENCE_ZENITH_ANGLE_B4:</span><span class='ee-v'>7.5874494586477</span></li><li><span class='ee-k'>MEAN_INCIDENCE_ZENITH_ANGLE_B5:</span><span class='ee-v'>7.60785717019314</span></li><li><span class='ee-k'>MEAN_INCIDENCE_ZENITH_ANGLE_B6:</span><span class='ee-v'>7.64681984628272</span></li><li><span class='ee-k'>MEAN_INCIDENCE_ZENITH_ANGLE_B7:</span><span class='ee-v'>7.67708669842245</span></li><li><span class='ee-k'>MEAN_INCIDENCE_ZENITH_ANGLE_B8:</span><span class='ee-v'>7.53034996219179</span></li><li><span class='ee-k'>MEAN_INCIDENCE_ZENITH_ANGLE_B8A:</span><span class='ee-v'>7.70999450568</span></li><li><span class='ee-k'>MEAN_INCIDENCE_ZENITH_ANGLE_B9:</span><span class='ee-v'>7.78537110713201</span></li><li><span class='ee-k'>MEAN_SOLAR_AZIMUTH_ANGLE:</span><span class='ee-v'>148.872295040436</span></li><li><span class='ee-k'>MEAN_SOLAR_ZENITH_ANGLE:</span><span class='ee-v'>38.3769491676929</span></li><li><span class='ee-k'>MEDIUM_PROBA_CLOUDS_PERCENTAGE:</span><span class='ee-v'>0.084836</span></li><li><span class='ee-k'>MGRS_TILE:</span><span class='ee-v'>30PZR</span></li><li><span class='ee-k'>NODATA_PIXEL_PERCENTAGE:</span><span class='ee-v'>4.499706</span></li><li><span class='ee-k'>NOT_VEGETATED_PERCENTAGE:</span><span class='ee-v'>96.47761</span></li><li><span class='ee-k'>PROCESSING_BASELINE:</span><span class='ee-v'>03.01</span></li><li><span class='ee-k'>PRODUCT_ID:</span><span class='ee-v'>S2B_MSIL2A_20211227T102339_N0301_R065_T30PZR_20211227T125259</span></li><li><span class='ee-k'>RADIATIVE_TRANSFER_ACCURACY:</span><span class='ee-v'>0</span></li><li><span class='ee-k'>RADIOMETRIC_QUALITY:</span><span class='ee-v'>PASSED</span></li><li><span class='ee-k'>REFLECTANCE_CONVERSION_CORRECTION:</span><span class='ee-v'>1.03371657830315</span></li><li><span class='ee-k'>SATURATED_DEFECTIVE_PIXEL_PERCENTAGE:</span><span class='ee-v'>0</span></li><li><span class='ee-k'>SENSING_ORBIT_DIRECTION:</span><span class='ee-v'>DESCENDING</span></li><li><span class='ee-k'>SENSING_ORBIT_NUMBER:</span><span class='ee-v'>65</span></li><li><span class='ee-k'>SENSOR_QUALITY:</span><span class='ee-v'>PASSED</span></li><li><span class='ee-k'>SNOW_ICE_PERCENTAGE:</span><span class='ee-v'>0</span></li><li><span class='ee-k'>SOLAR_IRRADIANCE_B1:</span><span class='ee-v'>1874.3</span></li><li><span class='ee-k'>SOLAR_IRRADIANCE_B10:</span><span class='ee-v'>365.41</span></li><li><span class='ee-k'>SOLAR_IRRADIANCE_B11:</span><span class='ee-v'>247.08</span></li><li><span class='ee-k'>SOLAR_IRRADIANCE_B12:</span><span class='ee-v'>87.75</span></li><li><span class='ee-k'>SOLAR_IRRADIANCE_B2:</span><span class='ee-v'>1959.75</span></li><li><span class='ee-k'>SOLAR_IRRADIANCE_B3:</span><span class='ee-v'>1824.93</span></li><li><span class='ee-k'>SOLAR_IRRADIANCE_B4:</span><span class='ee-v'>1512.79</span></li><li><span class='ee-k'>SOLAR_IRRADIANCE_B5:</span><span class='ee-v'>1425.78</span></li><li><span class='ee-k'>SOLAR_IRRADIANCE_B6:</span><span class='ee-v'>1291.13</span></li><li><span class='ee-k'>SOLAR_IRRADIANCE_B7:</span><span class='ee-v'>1175.57</span></li><li><span class='ee-k'>SOLAR_IRRADIANCE_B8:</span><span class='ee-v'>1041.28</span></li><li><span class='ee-k'>SOLAR_IRRADIANCE_B8A:</span><span class='ee-v'>953.93</span></li><li><span class='ee-k'>SOLAR_IRRADIANCE_B9:</span><span class='ee-v'>817.58</span></li><li><span class='ee-k'>SPACECRAFT_NAME:</span><span class='ee-v'>Sentinel-2B</span></li><li><span class='ee-k'>THIN_CIRRUS_PERCENTAGE:</span><span class='ee-v'>0.00402</span></li><li><span class='ee-k'>UNCLASSIFIED_PERCENTAGE:</span><span class='ee-v'>1.507003</span></li><li><span class='ee-k'>VEGETATION_PERCENTAGE:</span><span class='ee-v'>1.01766</span></li><li><span class='ee-k'>WATER_PERCENTAGE:</span><span class='ee-v'>0.027616</span></li><li><span class='ee-k'>WATER_VAPOUR_RETRIEVAL_ACCURACY:</span><span class='ee-v'>0</span></li><li><span class='ee-k'>date:</span><span class='ee-v'>2021-12-27T10:38:20</span></li><li><span class='ee-k'>smoothed_evi:</span><span class='ee-v'>0.5966678287727303</span></li><li><span class='ee-k'>system:asset_size:</span><span class='ee-v'>1567435089</span></li><li><label class='ee-shut'>system:footprint: Polygon (6 vertices)<input type='checkbox' class='ee-toggle'></label><ul><li><span class='ee-k'>type:</span><span class='ee-v'>Polygon</span></li><li><label class='ee-shut'>coordinates: List (1 element)<input type='checkbox' class='ee-toggle'></label><ul><li><label class='ee-shut'>0: List (6 elements)<input type='checkbox' class='ee-toggle'></label><ul><li><label class='ee-shut'>0: [-0.26814381866412906, 9.480951511322822]<input type='checkbox' class='ee-toggle'></label><ul><li><span class='ee-k'>0:</span><span class='ee-v'>-0.26814381866412906</span></li><li><span class='ee-k'>1:</span><span class='ee-v'>9.480951511322822</span></li></ul></li><li><label class='ee-shut'>1: [-0.26843640767326354, 9.444324152065583]<input type='checkbox' class='ee-toggle'></label><ul><li><span class='ee-k'>0:</span><span class='ee-v'>-0.26843640767326354</span></li><li><span class='ee-k'>1:</span><span class='ee-v'>9.444324152065583</span></li></ul></li><li><label class='ee-shut'>2: [-0.26928977486125355, 9.334630831044018]<input type='checkbox' class='ee-toggle'></label><ul><li><span class='ee-k'>0:</span><span class='ee-v'>-0.26928977486125355</span></li><li><span class='ee-k'>1:</span><span class='ee-v'>9.334630831044018</span></li></ul></li><li><label class='ee-shut'>3: [-0.1870778198242107, 9.334622294426413]<input type='checkbox' class='ee-toggle'></label><ul><li><span class='ee-k'>0:</span><span class='ee-v'>-0.1870778198242107</span></li><li><span class='ee-k'>1:</span><span class='ee-v'>9.334622294426413</span></li></ul></li><li><label class='ee-shut'>4: [-0.1870778198242107, 9.480942834852012]<input type='checkbox' class='ee-toggle'></label><ul><li><span class='ee-k'>0:</span><span class='ee-v'>-0.1870778198242107</span></li><li><span class='ee-k'>1:</span><span class='ee-v'>9.480942834852012</span></li></ul></li><li><label class='ee-shut'>5: [-0.26814381866412906, 9.480951511322822]<input type='checkbox' class='ee-toggle'></label><ul><li><span class='ee-k'>0:</span><span class='ee-v'>-0.26814381866412906</span></li><li><span class='ee-k'>1:</span><span class='ee-v'>9.480951511322822</span></li></ul></li></ul></li></ul></li></ul></li><li><span class='ee-k'>system:index:</span><span class='ee-v'>20211227T102339_20211227T103640_T30PZR</span></li><li><span class='ee-k'>system:time_end:</span><span class='ee-v'>1640601500042</span></li><li><span class='ee-k'>system:time_start:</span><span class='ee-v'>1640601500042</span></li></ul></li></ul></li></ul></li></ul></li></ul></div><script>function toggleHeader() {\n",
              "    const parent = this.parentElement;\n",
              "    parent.className = parent.className === \"ee-open\" ? \"ee-shut\" : \"ee-open\";\n",
              "}\n",
              "\n",
              "for (let c of document.getElementsByClassName(\"ee-toggle\")) {\n",
              "    c.onclick = toggleHeader;\n",
              "}</script></div>"
            ]
          },
          "metadata": {},
          "execution_count": 11
        }
      ]
    },
    {
      "cell_type": "code",
      "source": [
        "# extract date, evi, fitted ad smoothed_evi values to lists\n",
        "harmonic_list_UNSMOOTH = fH_UNSMOOTH_pt.select(['date', 'EVI', 'fitted'])\\\n",
        "    .reduceColumns(ee.Reducer.toList(3), ['date','EVI', 'fitted'])\\\n",
        "    .values().get(0)\n",
        "harmonic_list_SMOOTH = fH_SMOOTH_pt.select(['date', 'smoothed_evi'])\\\n",
        "    .reduceColumns(ee.Reducer.toList(2), ['date','smoothed_evi'])\\\n",
        "    .values().get(0)\n",
        "\n",
        "harmonic_list_SMOOTH"
      ],
      "metadata": {
        "colab": {
          "base_uri": "https://localhost:8080/",
          "height": 67
        },
        "id": "mza2zDS74_CO",
        "outputId": "5b3cb12f-de87-478b-ec86-709b9d5b0d05"
      },
      "execution_count": 15,
      "outputs": [
        {
          "output_type": "display_data",
          "data": {
            "text/plain": [
              "<IPython.core.display.HTML object>"
            ],
            "text/html": [
              "\n",
              "            <style>\n",
              "                .geemap-dark {\n",
              "                    --jp-widgets-color: white;\n",
              "                    --jp-widgets-label-color: white;\n",
              "                    --jp-ui-font-color1: white;\n",
              "                    --jp-layout-color2: #454545;\n",
              "                    background-color: #383838;\n",
              "                }\n",
              "\n",
              "                .geemap-dark .jupyter-button {\n",
              "                    --jp-layout-color3: #383838;\n",
              "                }\n",
              "\n",
              "                .geemap-colab {\n",
              "                    background-color: var(--colab-primary-surface-color, white);\n",
              "                }\n",
              "\n",
              "                .geemap-colab .jupyter-button {\n",
              "                    --jp-layout-color3: var(--colab-primary-surface-color, white);\n",
              "                }\n",
              "            </style>\n",
              "            "
            ]
          },
          "metadata": {}
        },
        {
          "output_type": "execute_result",
          "data": {
            "text/plain": [
              "<ee.computedobject.ComputedObject at 0x7d74840b26b0>"
            ],
            "text/html": [
              "<div><style>:root {\n",
              "  --font-color-primary: var(--jp-content-font-color0, rgba(0, 0, 0, 1));\n",
              "  --font-color-secondary: var(--jp-content-font-color2, rgba(0, 0, 0, 0.6));\n",
              "  --font-color-accent: rgba(123, 31, 162, 1);\n",
              "  --border-color: var(--jp-border-color2, #e0e0e0);\n",
              "  --background-color: var(--jp-layout-color0, white);\n",
              "  --background-color-row-even: var(--jp-layout-color1, white);\n",
              "  --background-color-row-odd: var(--jp-layout-color2, #eeeeee);\n",
              "}\n",
              "\n",
              "html[theme=\"dark\"],\n",
              "body[data-theme=\"dark\"],\n",
              "body.vscode-dark {\n",
              "  --font-color-primary: rgba(255, 255, 255, 1);\n",
              "  --font-color-secondary: rgba(255, 255, 255, 0.6);\n",
              "  --font-color-accent: rgb(173, 132, 190);\n",
              "  --border-color: #2e2e2e;\n",
              "  --background-color: #111111;\n",
              "  --background-color-row-even: #111111;\n",
              "  --background-color-row-odd: #313131;\n",
              "}\n",
              "\n",
              ".ee {\n",
              "  padding: 1em;\n",
              "  line-height: 1.5em;\n",
              "  min-width: 300px;\n",
              "  max-width: 1200px;\n",
              "  overflow-y: scroll;\n",
              "  max-height: 600px;\n",
              "  border: 1px solid var(--border-color);\n",
              "  font-family: monospace;\n",
              "}\n",
              "\n",
              ".ee li {\n",
              "  list-style-type: none;\n",
              "}\n",
              "\n",
              ".ee ul {\n",
              "  padding-left: 1.5em !important;\n",
              "  margin: 0;\n",
              "}\n",
              "\n",
              ".ee > ul {\n",
              "  padding-left: 0 !important;\n",
              "}\n",
              "\n",
              ".ee-open,\n",
              ".ee-shut {\n",
              "  color: var(--font-color-secondary);\n",
              "  cursor: pointer;\n",
              "  margin: 0;\n",
              "}\n",
              "\n",
              ".ee-open:hover,\n",
              ".ee-shut:hover {\n",
              "  color: var(--font-color-primary);\n",
              "}\n",
              "\n",
              ".ee-k {\n",
              "  color: var(--font-color-accent);\n",
              "  margin-right: 6px;\n",
              "}\n",
              "\n",
              ".ee-v {\n",
              "  color: var(--font-color-primary);\n",
              "}\n",
              "\n",
              ".ee-toggle {\n",
              "  display: none;\n",
              "}\n",
              "\n",
              ".ee-shut + ul {\n",
              "  display: none;\n",
              "}\n",
              "\n",
              ".ee-open + ul {\n",
              "  display: block;\n",
              "}\n",
              "\n",
              ".ee-shut::before {\n",
              "  display: inline-block;\n",
              "  content: \"▼\";\n",
              "  margin-right: 6px;\n",
              "  transform: rotate(-90deg);\n",
              "  transition: transform 0.2s;\n",
              "}\n",
              "\n",
              ".ee-open::before {\n",
              "  transform: rotate(0deg);\n",
              "  display: inline-block;\n",
              "  content: \"▼\";\n",
              "  margin-right: 6px;\n",
              "  transition: transform 0.2s;\n",
              "}\n",
              "</style><div class='ee'><ul><li><label class='ee-shut'>List (20 elements)<input type='checkbox' class='ee-toggle'></label><ul><li><label class='ee-shut'>0: ['2021-09-18T10:38:24', 1.6967004685611595]<input type='checkbox' class='ee-toggle'></label><ul><li><span class='ee-k'>0:</span><span class='ee-v'>2021-09-18T10:38:24</span></li><li><span class='ee-k'>1:</span><span class='ee-v'>1.6967004685611595</span></li></ul></li><li><label class='ee-shut'>1: ['2021-09-18T10:38:20', 1.6967004685611595]<input type='checkbox' class='ee-toggle'></label><ul><li><span class='ee-k'>0:</span><span class='ee-v'>2021-09-18T10:38:20</span></li><li><span class='ee-k'>1:</span><span class='ee-v'>1.6967004685611595</span></li></ul></li><li><label class='ee-shut'>2: ['2021-10-03T10:38:29', 1.7214559987048141]<input type='checkbox' class='ee-toggle'></label><ul><li><span class='ee-k'>0:</span><span class='ee-v'>2021-10-03T10:38:29</span></li><li><span class='ee-k'>1:</span><span class='ee-v'>1.7214559987048141</span></li></ul></li><li><label class='ee-shut'>3: ['2021-10-13T10:38:33', 1.6253277793194927]<input type='checkbox' class='ee-toggle'></label><ul><li><span class='ee-k'>0:</span><span class='ee-v'>2021-10-13T10:38:33</span></li><li><span class='ee-k'>1:</span><span class='ee-v'>1.6253277793194927</span></li></ul></li><li><label class='ee-shut'>4: ['2021-10-13T10:38:29', 1.6253277793194927]<input type='checkbox' class='ee-toggle'></label><ul><li><span class='ee-k'>0:</span><span class='ee-v'>2021-10-13T10:38:29</span></li><li><span class='ee-k'>1:</span><span class='ee-v'>1.6253277793194927</span></li></ul></li><li><label class='ee-shut'>5: ['2021-11-07T10:38:28', 1.2074241721467849]<input type='checkbox' class='ee-toggle'></label><ul><li><span class='ee-k'>0:</span><span class='ee-v'>2021-11-07T10:38:28</span></li><li><span class='ee-k'>1:</span><span class='ee-v'>1.2074241721467849</span></li></ul></li><li><label class='ee-shut'>6: ['2021-11-07T10:38:24', 1.2083126674625573]<input type='checkbox' class='ee-toggle'></label><ul><li><span class='ee-k'>0:</span><span class='ee-v'>2021-11-07T10:38:24</span></li><li><span class='ee-k'>1:</span><span class='ee-v'>1.2083126674625573</span></li></ul></li><li><label class='ee-shut'>7: ['2021-11-12T10:38:26', 1.2242152604802554]<input type='checkbox' class='ee-toggle'></label><ul><li><span class='ee-k'>0:</span><span class='ee-v'>2021-11-12T10:38:26</span></li><li><span class='ee-k'>1:</span><span class='ee-v'>1.2242152604802554</span></li></ul></li><li><label class='ee-shut'>8: ['2021-11-22T10:38:28', 0.9533717303405245]<input type='checkbox' class='ee-toggle'></label><ul><li><span class='ee-k'>0:</span><span class='ee-v'>2021-11-22T10:38:28</span></li><li><span class='ee-k'>1:</span><span class='ee-v'>0.9533717303405245</span></li></ul></li><li><label class='ee-shut'>9: ['2021-11-22T10:38:24', 0.9533717303405245]<input type='checkbox' class='ee-toggle'></label><ul><li><span class='ee-k'>0:</span><span class='ee-v'>2021-11-22T10:38:24</span></li><li><span class='ee-k'>1:</span><span class='ee-v'>0.9533717303405245</span></li></ul></li><li><label class='ee-shut'>10: ['2021-11-27T10:38:23', 0.9533717303405245]<input type='checkbox' class='ee-toggle'></label><ul><li><span class='ee-k'>0:</span><span class='ee-v'>2021-11-27T10:38:23</span></li><li><span class='ee-k'>1:</span><span class='ee-v'>0.9533717303405245</span></li></ul></li><li><label class='ee-shut'>11: ['2021-12-02T10:38:27', 0.8029104973759462]<input type='checkbox' class='ee-toggle'></label><ul><li><span class='ee-k'>0:</span><span class='ee-v'>2021-12-02T10:38:27</span></li><li><span class='ee-k'>1:</span><span class='ee-v'>0.8029104973759462</span></li></ul></li><li><label class='ee-shut'>12: ['2021-12-02T10:38:24', 0.8029104973759462]<input type='checkbox' class='ee-toggle'></label><ul><li><span class='ee-k'>0:</span><span class='ee-v'>2021-12-02T10:38:24</span></li><li><span class='ee-k'>1:</span><span class='ee-v'>0.8029104973759462</span></li></ul></li><li><label class='ee-shut'>13: ['2021-12-07T10:38:23', 0.8029104973759462]<input type='checkbox' class='ee-toggle'></label><ul><li><span class='ee-k'>0:</span><span class='ee-v'>2021-12-07T10:38:23</span></li><li><span class='ee-k'>1:</span><span class='ee-v'>0.8029104973759462</span></li></ul></li><li><label class='ee-shut'>14: ['2021-12-07T10:38:19', 0.8029104973759462]<input type='checkbox' class='ee-toggle'></label><ul><li><span class='ee-k'>0:</span><span class='ee-v'>2021-12-07T10:38:19</span></li><li><span class='ee-k'>1:</span><span class='ee-v'>0.8029104973759462</span></li></ul></li><li><label class='ee-shut'>15: ['2021-12-12T10:38:27', 0.7193225017909385]<input type='checkbox' class='ee-toggle'></label><ul><li><span class='ee-k'>0:</span><span class='ee-v'>2021-12-12T10:38:27</span></li><li><span class='ee-k'>1:</span><span class='ee-v'>0.7193225017909385</span></li></ul></li><li><label class='ee-shut'>16: ['2021-12-22T10:38:29', 0.5966678287727303]<input type='checkbox' class='ee-toggle'></label><ul><li><span class='ee-k'>0:</span><span class='ee-v'>2021-12-22T10:38:29</span></li><li><span class='ee-k'>1:</span><span class='ee-v'>0.5966678287727303</span></li></ul></li><li><label class='ee-shut'>17: ['2021-12-22T10:38:25', 0.5966678287727303]<input type='checkbox' class='ee-toggle'></label><ul><li><span class='ee-k'>0:</span><span class='ee-v'>2021-12-22T10:38:25</span></li><li><span class='ee-k'>1:</span><span class='ee-v'>0.5966678287727303</span></li></ul></li><li><label class='ee-shut'>18: ['2021-12-27T10:38:23', 0.5966678287727303]<input type='checkbox' class='ee-toggle'></label><ul><li><span class='ee-k'>0:</span><span class='ee-v'>2021-12-27T10:38:23</span></li><li><span class='ee-k'>1:</span><span class='ee-v'>0.5966678287727303</span></li></ul></li><li><label class='ee-shut'>19: ['2021-12-27T10:38:20', 0.5966678287727303]<input type='checkbox' class='ee-toggle'></label><ul><li><span class='ee-k'>0:</span><span class='ee-v'>2021-12-27T10:38:20</span></li><li><span class='ee-k'>1:</span><span class='ee-v'>0.5966678287727303</span></li></ul></li></ul></li></ul></div><script>function toggleHeader() {\n",
              "    const parent = this.parentElement;\n",
              "    parent.className = parent.className === \"ee-open\" ? \"ee-shut\" : \"ee-open\";\n",
              "}\n",
              "\n",
              "for (let c of document.getElementsByClassName(\"ee-toggle\")) {\n",
              "    c.onclick = toggleHeader;\n",
              "}</script></div>"
            ]
          },
          "metadata": {},
          "execution_count": 15
        }
      ]
    },
    {
      "cell_type": "code",
      "source": [
        "# Harmonic values to dataframes\n",
        "harmonic_UNSMOOTH_df = pd.DataFrame(\n",
        "    harmonic_list_UNSMOOTH.getInfo(), columns=['date', 'EVI', 'fitted'])\\\n",
        "    .sort_values(by=\"date\", ignore_index=True)\n",
        "\n",
        "harmonic_SMOOTH_df = pd.DataFrame(\n",
        "    harmonic_list_SMOOTH.getInfo(), columns=['date', 'smoothed_evi'])\\\n",
        "    .sort_values(by=\"date\", ignore_index=True)\n",
        "\n",
        "harmonic_UNSMOOTH_df[\"date\"] = pd.to_datetime(harmonic_UNSMOOTH_df[\"date\"])\\\n",
        "  .dt.strftime(\"%Y-%m-%d\")\n",
        "\n",
        "harmonic_SMOOTH_df[\"date\"] = pd.to_datetime(harmonic_SMOOTH_df[\"date\"])\\\n",
        "  .dt.strftime(\"%Y-%m-%d\")\n",
        "\n",
        "harmonic_UNSMOOTH_df = harmonic_UNSMOOTH_df.groupby([\"date\"]).mean().reset_index()\n",
        "\n",
        "harmonic_SMOOTH_df = harmonic_SMOOTH_df.groupby([\"date\"]).mean().reset_index()"
      ],
      "metadata": {
        "id": "81HfgeoNiE8K",
        "colab": {
          "base_uri": "https://localhost:8080/",
          "height": 17
        },
        "outputId": "8a0c65ad-ca16-4dbd-e303-881700705ec6"
      },
      "execution_count": 16,
      "outputs": [
        {
          "output_type": "display_data",
          "data": {
            "text/plain": [
              "<IPython.core.display.HTML object>"
            ],
            "text/html": [
              "\n",
              "            <style>\n",
              "                .geemap-dark {\n",
              "                    --jp-widgets-color: white;\n",
              "                    --jp-widgets-label-color: white;\n",
              "                    --jp-ui-font-color1: white;\n",
              "                    --jp-layout-color2: #454545;\n",
              "                    background-color: #383838;\n",
              "                }\n",
              "\n",
              "                .geemap-dark .jupyter-button {\n",
              "                    --jp-layout-color3: #383838;\n",
              "                }\n",
              "\n",
              "                .geemap-colab {\n",
              "                    background-color: var(--colab-primary-surface-color, white);\n",
              "                }\n",
              "\n",
              "                .geemap-colab .jupyter-button {\n",
              "                    --jp-layout-color3: var(--colab-primary-surface-color, white);\n",
              "                }\n",
              "            </style>\n",
              "            "
            ]
          },
          "metadata": {}
        }
      ]
    },
    {
      "cell_type": "markdown",
      "source": [
        "## plot"
      ],
      "metadata": {
        "id": "3MKd86GOiKbe"
      }
    },
    {
      "cell_type": "code",
      "source": [
        "# plot the two line on the same axes, us an instance for for the matplotlin.axes\n",
        "\n",
        "ax = harmonic_UNSMOOTH_df.plot(x='date', y=['EVI','fitted'], kind='line', figsize=(8,4), rot=40, color=['#0000FF','#FF00FF'])\n",
        "ax = harmonic_SMOOTH_df.plot(x='date', y='smoothed_evi', kind='line', figsize=(8,4), rot=40, color='#800020',ax=ax)\n",
        "\n",
        "# setting labels for the axes\n",
        "ax.set_xlabel('Date')\n",
        "ax.set_ylabel('EVI')\n",
        "\n",
        "# legend\n",
        "ax.legend(['Sentinel 2 EVI', 'Smoothed EVI', 'Fitted Harmonic'], loc='upper right')\n",
        "\n",
        "# display plot and title\n",
        "plt.title('Harmonic Time Series for Sentinel-2 EVI, Smoothed EVI and Fitted Harmonic')\n",
        "plt.show()\n",
        "None"
      ],
      "metadata": {
        "id": "BBAsInwoiEjn",
        "colab": {
          "base_uri": "https://localhost:8080/",
          "height": 458
        },
        "outputId": "d1020f35-dd56-4b7e-c695-6c5f6c69777c"
      },
      "execution_count": null,
      "outputs": [
        {
          "output_type": "display_data",
          "data": {
            "text/plain": [
              "<IPython.core.display.HTML object>"
            ],
            "text/html": [
              "\n",
              "            <style>\n",
              "                .geemap-dark {\n",
              "                    --jp-widgets-color: white;\n",
              "                    --jp-widgets-label-color: white;\n",
              "                    --jp-ui-font-color1: white;\n",
              "                    --jp-layout-color2: #454545;\n",
              "                    background-color: #383838;\n",
              "                }\n",
              "\n",
              "                .geemap-dark .jupyter-button {\n",
              "                    --jp-layout-color3: #383838;\n",
              "                }\n",
              "\n",
              "                .geemap-colab {\n",
              "                    background-color: var(--colab-primary-surface-color, white);\n",
              "                }\n",
              "\n",
              "                .geemap-colab .jupyter-button {\n",
              "                    --jp-layout-color3: var(--colab-primary-surface-color, white);\n",
              "                }\n",
              "            </style>\n",
              "            "
            ]
          },
          "metadata": {}
        },
        {
          "output_type": "display_data",
          "data": {
            "text/plain": [
              "<Figure size 800x400 with 1 Axes>"
            ],
            "image/png": "[encoded data removed]"
          },
          "metadata": {}
        }
      ]
    },
    {
      "cell_type": "markdown",
      "source": [
        "### Display images\n",
        "- Display 10th images By index (9)\n",
        "- display median sentinel 2 evi and smoothed median sentinel 2 evi"
      ],
      "metadata": {
        "id": "f2FZtoVJu_fr"
      }
    },
    {
      "cell_type": "code",
      "source": [
        "# visualization parameters false color, evi and seasonality\n",
        "false_params ={'bands': ['B8', 'B4', 'B3'], 'min': 0, 'max': 3000}\n",
        "evi_params = {\"bands\": ['EVI'], \"min\": -0.5, \"max\": 1}\n",
        "\n",
        "map = geemap.Map()\n",
        "#map.setCenter(-0.2, 9.2, 9.5)\n",
        "map.centerObject(myaoi, 11)\n",
        "\n",
        "display_image(s2_masked, 9, false_params, '10th Sentinel 2 image', map)\n",
        "map.addLayer(s2_EVI_median.select('EVI'), evi_params, 'Sentinel-2 Median EVI')\n",
        "map.addLayer(seasonality, {}, 'Seasonality')\n",
        "map.addLayer(myaoi,{}, 'My Area of interest')\n",
        "map"
      ],
      "metadata": {
        "id": "cQkd9CMkt-Dn",
        "colab": {
          "base_uri": "https://localhost:8080/",
          "height": 621,
          "referenced_widgets": [
            "5f8e530f9c70453f8bda9615fae8ace9",
            "7c341dd1de2f4e9e8a72b9ddb4f641a8",
            "e535945e1c764e049eb43f4dd300af5a",
            "a0fdb6157ab84437b13f056d071b2663",
            "ec79d2334fc04b20af5912d4a8338bbe",
            "6e683c4057f94be69cccd049fb479f1a",
            "dd1b6a93df2544349af995241bdd1118",
            "cfa0552287714a4db598fc78e9ae4715",
            "a9d7418274854effa68480faecbdeeaa",
            "9a7d2473341b4c318f221ab3decdfc7d",
            "d0e7d39a609a489698c5f388b5029ffd",
            "a2d57030ccae4d8dbb48de7ba363fcfa",
            "7482a61f3f0140e78ec38b71f23f251c",
            "77d199e50ab843a68987d288ffe1b9eb",
            "0ab9fd7e8b3f48f9b85366647d4386fa",
            "53aacc6263d249a9b6729f718d81959f",
            "8bff5c230f9e41a09c9f689eb269a105",
            "c8883585f9c448909079313c349e967f",
            "3afd44edc0e947cbadf33d3be3a8aa23",
            "93d1a827829f44c49638c2c507452354",
            "06b5b35c900e43418792356055190875",
            "22d4862e928a41428b2cab77942caa1e",
            "8cc0d4538aad415da255f8deb093ca1e",
            "a4ed84cc8dea43e1b5c30797c2d07eb0",
            "a11c1d75b5ac40099fa133697d842952",
            "6715f257de6f4172a3e425addd4793e8",
            "b21c0f8eccff42728e47389b03a2ab91",
            "8fb6d0a9ed9d4329af16bda802d1d0b5"
          ]
        },
        "outputId": "e0086f83-2f5c-4859-d124-4a5f377d2827"
      },
      "execution_count": 17,
      "outputs": [
        {
          "output_type": "display_data",
          "data": {
            "text/plain": [
              "<IPython.core.display.HTML object>"
            ],
            "text/html": [
              "\n",
              "            <style>\n",
              "                .geemap-dark {\n",
              "                    --jp-widgets-color: white;\n",
              "                    --jp-widgets-label-color: white;\n",
              "                    --jp-ui-font-color1: white;\n",
              "                    --jp-layout-color2: #454545;\n",
              "                    background-color: #383838;\n",
              "                }\n",
              "\n",
              "                .geemap-dark .jupyter-button {\n",
              "                    --jp-layout-color3: #383838;\n",
              "                }\n",
              "\n",
              "                .geemap-colab {\n",
              "                    background-color: var(--colab-primary-surface-color, white);\n",
              "                }\n",
              "\n",
              "                .geemap-colab .jupyter-button {\n",
              "                    --jp-layout-color3: var(--colab-primary-surface-color, white);\n",
              "                }\n",
              "            </style>\n",
              "            "
            ]
          },
          "metadata": {}
        },
        {
          "output_type": "display_data",
          "data": {
            "text/plain": [
              "Map(center=[9.407786028104447, -0.26535540771279714], controls=(WidgetControl(options=['position', 'transparen…"
            ],
            "application/vnd.jupyter.widget-view+json": {
              "version_major": 2,
              "version_minor": 0,
              "model_id": "5f8e530f9c70453f8bda9615fae8ace9"
            }
          },
          "metadata": {
            "application/vnd.jupyter.widget-view+json": {
              "colab": {
                "custom_widget_manager": {
                  "url": "https://ssl.gstatic.com/colaboratory-static/widgets/colab-cdn-widget-manager/2b70e893a8ba7c0f/manager.min.js"
                }
              }
            }
          }
        }
      ]
    }
  ]
}